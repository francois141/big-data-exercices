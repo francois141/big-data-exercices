{
 "cells": [
  {
   "cell_type": "markdown",
   "metadata": {
    "id": "Zo6cemRekqqm"
   },
   "source": [
    "# Big Data for Engineers – Exercises \n",
    "\n",
    "# Spring 2023 -  Week 11 - Rumble\n",
    "\n"
   ]
  },
  {
   "cell_type": "markdown",
   "metadata": {},
   "source": [
    "# 0. RumbleSandbox\n",
    "\n",
    "To play with simple JSONiq queries without installing RumbleDB, you can use the [RumbleDB sandbox](https://colab.research.google.com/github/RumbleDB/rumble/blob/master/RumbleSandbox.ipynb#scrollTo=u38jSNpB--QW).\\\n",
    "The sandbox uses a small public backend, so please install Rumble on your local machine for the rest of the exercise."
   ]
  },
  {
   "cell_type": "markdown",
   "metadata": {
    "id": "FgAZKWlwkvrk"
   },
   "source": [
    "# 1. Install Java and Download Rumble\n",
    "You might have noticed that the process is the same as in section 5 of Exercise06. BUT, a newer version of RumbleDB has been released since then :) Please download the latest RumbleDB 1.21.0 for this exercise."
   ]
  },
  {
   "cell_type": "markdown",
   "metadata": {
    "id": "qE1xkwu8k_IA"
   },
   "source": [
    "## Option 1: Locally\n",
    "\n",
    "To install the latest version of RumbleDB locally, you can follow the steps given on the official rumbledb website: \n",
    "https://rumble.readthedocs.io/en/latest/Getting%20started/\n",
    "\n",
    "Please follow very carefully the instructions of \"Method 1: with the large, standalone, RumbleDB jar (experimental)\". In particular,\n",
    "1. Download and install Java 8 or 11. Make sure that the Java version is correct by running `java -version` in the terminal.\n",
    "2. Download the rumbledb-1.21.0-standalone.jar. You can put the jar file in the working directory of this exercise.\n",
    "\n",
    "You also need to correctly set the `JAVA_HOME` environment variable. Please do this everytime you open a new terminal if you don't change the Bash initialization file. You can verify by running `echo $JAVA_HOME`. \n",
    "\n",
    "For example, on MacOS, for Java 11, (1) you can `export JAVA_HOME=$(/usr/libexec/java_home -v 11)`; or (2) `export JAVA_HOME=/Library/Java/JavaVirtualMachines/jdk-11.0.1.jdk/Contents/Home/` or a similar path that exists on your machine. \\\n",
    "On Linux/Windows OS there are similar methods to set `JAVA_HOME`.\\\n",
    "\n",
    "\n",
    "## Option 2: Github codespaces\n",
    "If the local installation does not work for you, please use this option. See this [tutorial](https://cloud.inf.ethz.ch/s/KHLnq9HsQHfLHHQ/download) for running RumbleDB on Github codespaces."
   ]
  },
  {
   "cell_type": "markdown",
   "metadata": {},
   "source": [
    "## JSONiq shell\n",
    "To launch a JSONiq shell, run:\n",
    "\n",
    "`java -jar rumbledb-1.21.0-standalone.jar repl`\n",
    "\n",
    "This gives access to the RumbleDB shell where you can try commands. Note that to run each command, you should press 'Enter' twice, and you can quit with 'exit'."
   ]
  },
  {
   "cell_type": "markdown",
   "metadata": {},
   "source": [
    "Feel free to try the many functions available, here is a link with the exhaustive list: https://rumble.readthedocs.io/en/latest/Function%20library/."
   ]
  },
  {
   "cell_type": "markdown",
   "metadata": {
    "id": "UTrxum891_XB"
   },
   "source": [
    "# 2. Setup Rumble in Jupyter Notebook\n",
    "\n"
   ]
  },
  {
   "cell_type": "markdown",
   "metadata": {
    "id": "UfXWkkngcbnH"
   },
   "source": [
    "### Install Jupyter Notebook\n",
    "\n"
   ]
  },
  {
   "cell_type": "markdown",
   "metadata": {
    "id": "imeJuXbn20R5"
   },
   "source": [
    "In order to execute the queries in this notebook, you need to [install](https://jupyter.org/install) jupyter notebook on your **own machine**, and then download this notebook and [run](https://jupyter.readthedocs.io/en/latest/running.html#running) it locally rather than rely on the colab."
   ]
  },
  {
   "cell_type": "markdown",
   "metadata": {},
   "source": [
    "From now on, we want to run the code on this notebook instead of the shell, hence you can close the shell (Ctrl+C or type 'exit') and execute your own Rumble server by running:\n",
    "\n",
    "`java -jar rumbledb-1.21.0-standalone.jar --server yes --port 9090`\n",
    "\n",
    "The mount allows RumbleDB to directly read the files from your local disk, in this case your exercise folder of this week.\n",
    "\n",
    "It is recommended to use the port 9090 which normally does not get occupied by other applications.\n",
    "\n",
    "To verify that the RumbleDB is up and running, you can go to http://localhost:9090/public.html in a web browser and you can type queries there."
   ]
  },
  {
   "cell_type": "markdown",
   "metadata": {
    "id": "cTFVusbo1uT_"
   },
   "source": [
    "Then, you need to execute the cell below to activate the jsoniq magic (you do not need to understand what it does, this is just initialization Python code)."
   ]
  },
  {
   "cell_type": "code",
   "execution_count": null,
   "metadata": {},
   "outputs": [],
   "source": [
    "!pip install rumbledb\n",
    "%load_ext rumbledb\n",
    "%env RUMBLEDB_SERVER=http://localhost:9090/jsoniq"
   ]
  },
  {
   "cell_type": "markdown",
   "metadata": {
    "id": "C6lJq6kJ2HoB"
   },
   "source": [
    "Now we are all set! You can now start reading and executing the JSONiq queries in this notebook as you go, and you can even edit them!"
   ]
  },
  {
   "cell_type": "markdown",
   "metadata": {
    "id": "F892l0gs5bmV"
   },
   "source": [
    "# 3. JSONiq"
   ]
  },
  {
   "cell_type": "markdown",
   "metadata": {
    "id": "5_NuBtRy4gIp"
   },
   "source": [
    "## JSON\n",
    "\n",
    "As explained on the [official JSON Web site](http://www.json.org/), JSON is a lightweight data-interchange format designed for humans as well as for computers. It supports as values:\n",
    "- objects (string-to-value maps)\n",
    "- arrays (ordered sequences of values)\n",
    "- strings\n",
    "- numbers\n",
    "- booleans (true, false)\n",
    "- null\n",
    "\n",
    "JSONiq provides declarative querying and updating capabilities on JSON data.\n",
    "\n",
    "## Elevator Pitch\n",
    "\n",
    "JSONiq is based on XQuery, which is a W3C standard (like XML and HTML). XQuery is a very powerful declarative language that originally manipulates XML data, but it turns out that it is also a very good fit for manipulating JSON natively.\n",
    "JSONiq, since it extends XQuery, is a very powerful general-purpose declarative programming language. Our experience is that, for the same task, you will probably write about 80% less code compared to imperative languages like JavaScript, Python or Ruby. Additionally, you get the benefits of strong type checking without actually having to write type declarations.\n",
    "Here is an appetizer before we start the tutorial from scratch.\n"
   ]
  },
  {
   "cell_type": "code",
   "execution_count": null,
   "metadata": {
    "colab": {
     "base_uri": "https://localhost:8080/"
    },
    "id": "mx4djkAV3zom",
    "outputId": "3a2cad17-fb4c-4f8a-c9e1-3eedfb15c2ed"
   },
   "outputs": [],
   "source": [
    "%%jsoniq\n",
    "\n",
    "let $stores :=\n",
    "[\n",
    "  { \"store number\" : 1, \"state\" : \"MA\" },\n",
    "  { \"store number\" : 2, \"state\" : \"MA\" },\n",
    "  { \"store number\" : 3, \"state\" : \"CA\" },\n",
    "  { \"store number\" : 4, \"state\" : \"CA\" }\n",
    "]\n",
    "let $sales := [\n",
    "   { \"product\" : \"broiler\", \"store number\" : 1, \"quantity\" : 20  },\n",
    "   { \"product\" : \"toaster\", \"store number\" : 2, \"quantity\" : 100 },\n",
    "   { \"product\" : \"toaster\", \"store number\" : 2, \"quantity\" : 50 },\n",
    "   { \"product\" : \"toaster\", \"store number\" : 3, \"quantity\" : 50 },\n",
    "   { \"product\" : \"blender\", \"store number\" : 3, \"quantity\" : 100 },\n",
    "   { \"product\" : \"blender\", \"store number\" : 3, \"quantity\" : 150 },\n",
    "   { \"product\" : \"socks\", \"store number\" : 1, \"quantity\" : 500 },\n",
    "   { \"product\" : \"socks\", \"store number\" : 2, \"quantity\" : 10 },\n",
    "   { \"product\" : \"shirt\", \"store number\" : 3, \"quantity\" : 10 }\n",
    "]\n",
    "let $join :=\n",
    "  for $store in $stores[], $sale in $sales[]\n",
    "  where $store.\"store number\" = $sale.\"store number\"\n",
    "  return {\n",
    "    \"nb\" : $store.\"store number\",\n",
    "    \"state\" : $store.state,\n",
    "    \"sold\" : $sale.product\n",
    "  }\n",
    "return [$join]"
   ]
  },
  {
   "cell_type": "markdown",
   "metadata": {
    "id": "_L-2AVNj4xu9"
   },
   "source": [
    "## And here you go\n",
    "\n",
    "### Actually, you already knew some JSONiq\n",
    "\n",
    "The first thing you need to know is that a well-formed JSON document is a JSONiq expression as well.\n",
    "This means that you can copy-and-paste any JSON document into a query. The following are JSONiq queries that are \"idempotent\" (they just output themselves):"
   ]
  },
  {
   "cell_type": "code",
   "execution_count": null,
   "metadata": {
    "colab": {
     "base_uri": "https://localhost:8080/"
    },
    "id": "CHCFKAio30Ri",
    "outputId": "fb0cea84-4649-43a9-8354-434115363038"
   },
   "outputs": [],
   "source": [
    "%%jsoniq\n",
    "{ \"pi\" : 3.14, \"sq2\" : 1.4 }"
   ]
  },
  {
   "cell_type": "code",
   "execution_count": null,
   "metadata": {
    "colab": {
     "base_uri": "https://localhost:8080/"
    },
    "id": "_JmeeMZl45Ns",
    "outputId": "d191845d-3a72-4312-ffc5-d1349efdcdd1"
   },
   "outputs": [],
   "source": [
    "%%jsoniq\n",
    "[ 2, 3, 5, 7, 11, 13 ]"
   ]
  },
  {
   "cell_type": "code",
   "execution_count": null,
   "metadata": {
    "colab": {
     "base_uri": "https://localhost:8080/"
    },
    "id": "HkvoBs9M46NF",
    "outputId": "516b8c65-c0d2-4119-ed0d-c0c45f861391"
   },
   "outputs": [],
   "source": [
    "%%jsoniq\n",
    "{\n",
    "      \"operations\" : [\n",
    "        { \"binary\" : [ \"and\", \"or\"] },\n",
    "        { \"unary\" : [\"not\"] }\n",
    "      ],\n",
    "      \"bits\" : [\n",
    "        0, 1\n",
    "      ]\n",
    "    }"
   ]
  },
  {
   "cell_type": "code",
   "execution_count": null,
   "metadata": {
    "colab": {
     "base_uri": "https://localhost:8080/"
    },
    "id": "AHtMILv349g5",
    "outputId": "d1a7f9da-573d-4838-b130-b4d3fc88d9d1"
   },
   "outputs": [],
   "source": [
    "%%jsoniq\n",
    "[ { \"Question\" : \"Ultimate\" }, [\"Life\", \"the universe\", \"and everything\"] ]"
   ]
  },
  {
   "cell_type": "markdown",
   "metadata": {
    "id": "TsX2S4IG5CZ-"
   },
   "source": [
    "\n",
    "This works with objects, arrays (even nested), strings, numbers, booleans, null.\n",
    "\n",
    "It also works the other way round: if your query outputs an object or an array, you can use it as a JSON document. JSONiq is a declarative language. This means that you only need to say what you want - the compiler will take care of the how.\n",
    "\n",
    "In the above queries, you are basically saying: I want to output this JSON content, and here it is."
   ]
  },
  {
   "cell_type": "markdown",
   "metadata": {
    "id": "YyaQW8HIhrKW"
   },
   "source": [
    "## JSONiq basics\n",
    "\n",
    "### The real JSONiq Hello, World!\n",
    "\n",
    "Wondering what a hello world program looks like in JSONiq? Here it is:"
   ]
  },
  {
   "cell_type": "code",
   "execution_count": null,
   "metadata": {
    "colab": {
     "base_uri": "https://localhost:8080/"
    },
    "id": "m2-VyECPhrKW",
    "outputId": "8240399c-f4e2-4093-9bab-730483682202"
   },
   "outputs": [],
   "source": [
    "%%jsoniq\n",
    "\"Hello, World!\""
   ]
  },
  {
   "cell_type": "markdown",
   "metadata": {
    "id": "Uy48JTprhrKW"
   },
   "source": [
    "Not surprisingly, it outputs the string \"Hello, World!\".\n",
    "\n",
    "### Numbers and arithmetic operations\n",
    "\n",
    "Okay, so, now, you might be thinking: \"What is the use of this language if it just outputs what I put in?\" Of course, JSONiq can more than that. And still in a declarative way. Here is how it works with numbers:"
   ]
  },
  {
   "cell_type": "code",
   "execution_count": null,
   "metadata": {
    "colab": {
     "base_uri": "https://localhost:8080/"
    },
    "id": "3wBwni49hrKW",
    "outputId": "701bc69a-df71-4d98-ad24-58846f19d1e7"
   },
   "outputs": [],
   "source": [
    "%%jsoniq\n",
    "2 + 2"
   ]
  },
  {
   "cell_type": "code",
   "execution_count": null,
   "metadata": {
    "colab": {
     "base_uri": "https://localhost:8080/"
    },
    "id": "CWOO__4khrKW",
    "outputId": "eb96f30a-13aa-4bd7-aad6-aa26bef5d563"
   },
   "outputs": [],
   "source": [
    "%%jsoniq\n",
    " (38 + 2) div 2 + 11 * 2\n"
   ]
  },
  {
   "cell_type": "markdown",
   "metadata": {
    "id": "5FZceBJWhrKW"
   },
   "source": [
    "(mind the division operator which is the \"div\" keyword. The slash operator has different semantics).\n",
    "\n",
    "Like JSON, JSONiq works with decimals and doubles:"
   ]
  },
  {
   "cell_type": "code",
   "execution_count": null,
   "metadata": {
    "colab": {
     "base_uri": "https://localhost:8080/"
    },
    "id": "KlAPfbwbhrKW",
    "outputId": "1fc65cbe-66a4-4e18-9753-23b8c064c98e"
   },
   "outputs": [],
   "source": [
    "%%jsoniq\n",
    " 6.022e23 * 42"
   ]
  },
  {
   "cell_type": "markdown",
   "metadata": {
    "id": "MmFfvP9lhrKW"
   },
   "source": [
    "### Logical operations\n",
    "\n",
    "JSONiq supports boolean operations."
   ]
  },
  {
   "cell_type": "code",
   "execution_count": null,
   "metadata": {
    "colab": {
     "base_uri": "https://localhost:8080/"
    },
    "id": "yClsI5LehrKW",
    "outputId": "a0c08cb6-460b-42a7-bbea-d1f607c9e851"
   },
   "outputs": [],
   "source": [
    "%%jsoniq\n",
    "true and false"
   ]
  },
  {
   "cell_type": "code",
   "execution_count": null,
   "metadata": {
    "colab": {
     "base_uri": "https://localhost:8080/"
    },
    "id": "KVQgXpgzhrKW",
    "outputId": "2e86627f-fa71-4558-c8d8-e35dfa21a310"
   },
   "outputs": [],
   "source": [
    "%%jsoniq\n",
    "(true or false) and (false or true)"
   ]
  },
  {
   "cell_type": "markdown",
   "metadata": {
    "id": "VDIvgk5khrKW"
   },
   "source": [
    "The unary not is also available:"
   ]
  },
  {
   "cell_type": "code",
   "execution_count": null,
   "metadata": {
    "cell_status": {
     "execute_time": {
      "duration": 243.537109375,
      "end_time": 1557235032261.665
     }
    },
    "colab": {
     "base_uri": "https://localhost:8080/"
    },
    "id": "djGZSV0MhrKW",
    "outputId": "a3ce0220-eacc-4ef5-fc6e-14c68ba15081"
   },
   "outputs": [],
   "source": [
    "%%jsoniq\n",
    "not true"
   ]
  },
  {
   "cell_type": "markdown",
   "metadata": {
    "id": "eELMD0pqhrKW"
   },
   "source": [
    "### Strings\n",
    "\n",
    "JSONiq is capable of manipulating strings as well, using functions:\n"
   ]
  },
  {
   "cell_type": "code",
   "execution_count": null,
   "metadata": {
    "cell_status": {
     "execute_time": {
      "duration": 21398.401123046875,
      "end_time": 1557212587338.105
     }
    },
    "colab": {
     "base_uri": "https://localhost:8080/"
    },
    "id": "6YwugMo5hrKW",
    "outputId": "0a9324ee-459a-40bf-f124-7bbf1c672f66"
   },
   "outputs": [],
   "source": [
    "%%jsoniq\n",
    "concat(\"Hello \", \"Captain \", \"Kirk\")"
   ]
  },
  {
   "cell_type": "code",
   "execution_count": null,
   "metadata": {
    "cell_status": {
     "execute_time": {
      "duration": 752.509033203125,
      "end_time": 1557234001018.501
     }
    },
    "colab": {
     "base_uri": "https://localhost:8080/"
    },
    "id": "lGrKFlHVhrKW",
    "outputId": "d87b2eb5-cacb-4dc4-bc0f-8248f8a0d590"
   },
   "outputs": [],
   "source": [
    "%%jsoniq\n",
    "substring(\"Mister Spock\", 8, 5)"
   ]
  },
  {
   "cell_type": "markdown",
   "metadata": {
    "id": "ZBusMnoShrKW"
   },
   "source": [
    "JSONiq comes up with a rich string function library out of the box, inherited from its base language. These functions are listed [here](https://www.w3.org/TR/xpath-functions-30/) (actually, you will find many more for numbers, dates, etc).\n"
   ]
  },
  {
   "cell_type": "markdown",
   "metadata": {
    "cell_status": {
     "execute_time": {
      "duration": 17337.39599609375,
      "end_time": 1557230774662.657
     }
    },
    "id": "FIA6t1cbhrKW"
   },
   "source": [
    "\n",
    "### Sequences\n",
    "\n",
    "Until now, we have only been working with single values (an object, an array, a number, a string, a boolean). JSONiq supports sequences of values. You can build a sequence using commas:\n"
   ]
  },
  {
   "cell_type": "code",
   "execution_count": null,
   "metadata": {
    "colab": {
     "base_uri": "https://localhost:8080/"
    },
    "id": "30E1G-s5hrKW",
    "outputId": "6dfb54e8-6dcd-4e2e-f96d-1af10b3c2e70"
   },
   "outputs": [],
   "source": [
    "%%jsoniq\n",
    " (1, 2, 3, 4, 5, 6, 7, 8, 9, 10)"
   ]
  },
  {
   "cell_type": "code",
   "execution_count": null,
   "metadata": {
    "cell_status": {
     "execute_time": {
      "duration": 222241.63500976562,
      "end_time": 1557387411306.792
     }
    },
    "colab": {
     "base_uri": "https://localhost:8080/"
    },
    "id": "FzbtJmhKhrKW",
    "outputId": "4aed1541-ca55-44d1-d82a-b4018abf842f"
   },
   "outputs": [],
   "source": [
    "%%jsoniq\n",
    "1, true, 4.2e1, \"Life\""
   ]
  },
  {
   "cell_type": "markdown",
   "metadata": {
    "id": "X_rMosG5hrKW"
   },
   "source": [
    "The \"to\" operator is very convenient, too:"
   ]
  },
  {
   "cell_type": "code",
   "execution_count": null,
   "metadata": {
    "cell_status": {
     "execute_time": {
      "duration": 39579.559814453125,
      "end_time": 1557387951481.842
     }
    },
    "colab": {
     "base_uri": "https://localhost:8080/"
    },
    "id": "IoBx9SdShrKW",
    "outputId": "2bc9365b-9eec-4d2e-ef87-028b462858ee"
   },
   "outputs": [],
   "source": [
    "%%jsoniq\n",
    " (1 to 100)"
   ]
  },
  {
   "cell_type": "markdown",
   "metadata": {
    "id": "v0cwsmaMhrKW"
   },
   "source": [
    "Some functions even work on sequences:"
   ]
  },
  {
   "cell_type": "code",
   "execution_count": null,
   "metadata": {
    "cell_status": {
     "execute_time": {
      "duration": 27601.31787109375,
      "end_time": 1557171455208.987
     }
    },
    "colab": {
     "base_uri": "https://localhost:8080/"
    },
    "id": "GRY2tHEQhrKX",
    "outputId": "5f311e43-149a-475f-ab75-d0ab1bda141e"
   },
   "outputs": [],
   "source": [
    "%%jsoniq\n",
    "sum(1 to 100)"
   ]
  },
  {
   "cell_type": "code",
   "execution_count": null,
   "metadata": {
    "cell_status": {
     "execute_time": {
      "duration": 55527.44091796875,
      "end_time": 1557229508578.007
     }
    },
    "colab": {
     "base_uri": "https://localhost:8080/"
    },
    "id": "khUaAhjjhrKX",
    "outputId": "e11a688a-0289-4258-dff7-f7bf6581af0e"
   },
   "outputs": [],
   "source": [
    "%%jsoniq\n",
    "string-join((\"These\", \"are\", \"some\", \"words\"), \"-\")"
   ]
  },
  {
   "cell_type": "code",
   "execution_count": null,
   "metadata": {
    "cell_status": {
     "execute_time": {
      "duration": 13343.739013671875,
      "end_time": 1557224627704.526
     }
    },
    "colab": {
     "base_uri": "https://localhost:8080/"
    },
    "id": "93Jz2DaFhrKX",
    "outputId": "12524661-04f4-4024-9a39-ee46952e55ea"
   },
   "outputs": [],
   "source": [
    "%%jsoniq\n",
    "count(10 to 20)"
   ]
  },
  {
   "cell_type": "code",
   "execution_count": null,
   "metadata": {
    "cell_status": {
     "execute_time": {
      "duration": 19340.81201171875,
      "end_time": 1557220260002.04
     }
    },
    "colab": {
     "base_uri": "https://localhost:8080/"
    },
    "id": "3FDtCtVChrKX",
    "outputId": "00a87695-4616-4754-f039-957e9d6abed2"
   },
   "outputs": [],
   "source": [
    "%%jsoniq\n",
    "avg(1 to 100)"
   ]
  },
  {
   "cell_type": "markdown",
   "metadata": {
    "id": "hG7zwtfWhrKX"
   },
   "source": [
    "Unlike arrays, sequences are flat. The sequence (3) is identical to the integer 3, and (1, (2, 3)) is identical to (1, 2, 3)."
   ]
  },
  {
   "cell_type": "markdown",
   "metadata": {
    "cell_status": {
     "execute_time": {
      "duration": 433204.9020996094,
      "end_time": 1557221766692.589
     }
    },
    "id": "t1Y_5iuBhrKX",
    "scrolled": false
   },
   "source": [
    "## A bit more in depth\n",
    "\n",
    "### Variables\n",
    "\n",
    "You can bind a sequence of values to a (dollar-prefixed) variable, like so:"
   ]
  },
  {
   "cell_type": "code",
   "execution_count": null,
   "metadata": {
    "colab": {
     "base_uri": "https://localhost:8080/"
    },
    "id": "IQZBFJlMhrKX",
    "outputId": "48e0fae3-e6dc-470f-9994-ebd1935413d5"
   },
   "outputs": [],
   "source": [
    "%%jsoniq\n",
    "let $x := \"Bearing 3 1 4 Mark 5. \"\n",
    "return concat($x, \"Engage!\")"
   ]
  },
  {
   "cell_type": "code",
   "execution_count": null,
   "metadata": {
    "colab": {
     "base_uri": "https://localhost:8080/"
    },
    "id": "-Zh0x645hrKX",
    "outputId": "4c28f554-c9ca-4340-c349-05a10b1b85c8"
   },
   "outputs": [],
   "source": [
    "%%jsoniq\n",
    "let $x := (\"Kirk\", \"Picard\", \"Sisko\")\n",
    "return string-join($x, \" and \")"
   ]
  },
  {
   "cell_type": "markdown",
   "metadata": {
    "id": "8zkA2HFAhrKX"
   },
   "source": [
    "You can bind as many variables as you want:"
   ]
  },
  {
   "cell_type": "code",
   "execution_count": null,
   "metadata": {
    "colab": {
     "base_uri": "https://localhost:8080/"
    },
    "id": "RQifv3ezhrKX",
    "outputId": "5fba50d8-5bf1-43ac-ce33-eab339ddbf01"
   },
   "outputs": [],
   "source": [
    "%%jsoniq\n",
    "let $x := 1\n",
    "let $y := $x * 2\n",
    "let $z := $y + $x\n",
    "return ($x, $y, $z)"
   ]
  },
  {
   "cell_type": "markdown",
   "metadata": {
    "id": "OLuNB3rbhrKX"
   },
   "source": [
    "and even reuse the same name to hide formerly declared variables:"
   ]
  },
  {
   "cell_type": "code",
   "execution_count": null,
   "metadata": {
    "colab": {
     "base_uri": "https://localhost:8080/"
    },
    "id": "itMBTXAGhrKX",
    "outputId": "a25d9255-5b1a-4b2c-d687-c63ab6fc9375"
   },
   "outputs": [],
   "source": [
    "%%jsoniq\n",
    "let $x := 1\n",
    "let $x := $x + 2\n",
    "let $x := $x + 3\n",
    "return $x"
   ]
  },
  {
   "cell_type": "markdown",
   "metadata": {
    "id": "U13Yla0ghrKX"
   },
   "source": [
    "### Iteration\n",
    "\n",
    "In a way very similar to let, you can iterate over a sequence of values with the \"for\" keyword. Instead of binding the entire sequence of the variable, it will bind each value of the sequence in turn to this variable."
   ]
  },
  {
   "cell_type": "code",
   "execution_count": null,
   "metadata": {
    "colab": {
     "base_uri": "https://localhost:8080/"
    },
    "id": "6p-sWqTbhrKX",
    "outputId": "f25f6777-06a9-4f92-d36d-259828410813"
   },
   "outputs": [],
   "source": [
    "%%jsoniq\n",
    "for $i in 1 to 10\n",
    "return $i * 2"
   ]
  },
  {
   "cell_type": "markdown",
   "metadata": {
    "id": "NlEgcpIGhrKX"
   },
   "source": [
    "More interestingly, you can combine fors and lets like so:"
   ]
  },
  {
   "cell_type": "code",
   "execution_count": null,
   "metadata": {
    "colab": {
     "base_uri": "https://localhost:8080/"
    },
    "id": "Ml_bcBOQhrKX",
    "outputId": "6f5cdb95-da52-4c21-d533-061471947ddd"
   },
   "outputs": [],
   "source": [
    "%%jsoniq\n",
    "let $sequence := 1 to 10\n",
    "for $value in $sequence\n",
    "let $square := $value * 2\n",
    "return $square"
   ]
  },
  {
   "cell_type": "markdown",
   "metadata": {
    "id": "wP-22ufxhrKX"
   },
   "source": [
    "and even filter out some values:"
   ]
  },
  {
   "cell_type": "code",
   "execution_count": null,
   "metadata": {
    "colab": {
     "base_uri": "https://localhost:8080/"
    },
    "id": "ERlSrAa7hrKX",
    "outputId": "de0fa418-52ac-4e66-d14d-06d2dc1fc764"
   },
   "outputs": [],
   "source": [
    "%%jsoniq\n",
    "let $sequence := 1 to 10\n",
    "for $value in $sequence\n",
    "let $square := $value * 2\n",
    "where $square < 10\n",
    "return $square"
   ]
  },
  {
   "cell_type": "markdown",
   "metadata": {
    "id": "SmCGI8DkhrKX"
   },
   "source": [
    "Note that you can only iterate over sequences, not arrays. To iterate over an array, you can obtain the sequence of its values with the [] operator, like so:\n"
   ]
  },
  {
   "cell_type": "code",
   "execution_count": null,
   "metadata": {
    "colab": {
     "base_uri": "https://localhost:8080/"
    },
    "id": "ntMrbesIhrKX",
    "outputId": "43de2799-bea4-4fc0-d12a-a1307142f327"
   },
   "outputs": [],
   "source": [
    "%%jsoniq\n",
    "[1, 2, 3][]"
   ]
  },
  {
   "cell_type": "markdown",
   "metadata": {
    "id": "kEJLBHoghrKX"
   },
   "source": [
    "### Conditions\n",
    "\n",
    "You can make the output depend on a condition with an if-then-else construct:"
   ]
  },
  {
   "cell_type": "code",
   "execution_count": null,
   "metadata": {
    "colab": {
     "base_uri": "https://localhost:8080/"
    },
    "id": "gwq7TT5bhrKX",
    "outputId": "5f7f6c0e-f8c5-4c5e-8318-364c8a5d99c6"
   },
   "outputs": [],
   "source": [
    "%%jsoniq\n",
    "for $x in 1 to 10\n",
    "return if ($x < 5) then $x\n",
    "                   else -$x"
   ]
  },
  {
   "cell_type": "markdown",
   "metadata": {
    "id": "gItSAnHAhrKX"
   },
   "source": [
    "Note that the else clause is required - however, it can be the empty sequence () which is often when you need if only the then clause is relevant to you."
   ]
  },
  {
   "cell_type": "markdown",
   "metadata": {
    "id": "bkJkimFphrKX"
   },
   "source": [
    "### Composability of Expressions\n",
    "\n",
    "Now that you know of a couple of elementary JSONiq expressions, you can combine them in more elaborate expressions. For example, you can put any sequence of values in an array:"
   ]
  },
  {
   "cell_type": "code",
   "execution_count": null,
   "metadata": {
    "colab": {
     "base_uri": "https://localhost:8080/"
    },
    "id": "-j-CBM7OhrKX",
    "outputId": "fea11cf0-d137-43f9-ccac-ccf9b6f85591"
   },
   "outputs": [],
   "source": [
    "%%jsoniq\n",
    "[ 1 to 10 ]"
   ]
  },
  {
   "cell_type": "markdown",
   "metadata": {
    "id": "bItRSk5mhrKY"
   },
   "source": [
    "Or you can dynamically compute the value of object pairs (or their key):"
   ]
  },
  {
   "cell_type": "code",
   "execution_count": null,
   "metadata": {
    "colab": {
     "base_uri": "https://localhost:8080/"
    },
    "id": "dh4HMny2hrKY",
    "outputId": "0c49c543-727a-4bea-bf68-efda10523f2c"
   },
   "outputs": [],
   "source": [
    "%%jsoniq\n",
    "{\n",
    "      \"Greeting\" : (let $d := \"Mister Spock\"\n",
    "                    return concat(\"Hello, \", $d)),\n",
    "      \"Farewell\" : string-join((\"Live\", \"long\", \"and\", \"prosper\"),\n",
    "                               \" \")\n",
    "}"
   ]
  },
  {
   "cell_type": "markdown",
   "metadata": {
    "id": "TWReZYhohrKY"
   },
   "source": [
    "You can dynamically generate object singletons (with a single pair):\n"
   ]
  },
  {
   "cell_type": "code",
   "execution_count": null,
   "metadata": {
    "colab": {
     "base_uri": "https://localhost:8080/"
    },
    "id": "QHDNi1QjhrKY",
    "outputId": "610be9b1-602c-4f2e-f7c3-9e2fb3661656"
   },
   "outputs": [],
   "source": [
    "%%jsoniq\n",
    "{ concat(\"Integer \", 2) : 2 * 2 }"
   ]
  },
  {
   "cell_type": "markdown",
   "metadata": {
    "id": "sPptIS_4hrKY"
   },
   "source": [
    "and then merge lots of them into a new object with the {| |} notation:"
   ]
  },
  {
   "cell_type": "code",
   "execution_count": null,
   "metadata": {
    "colab": {
     "base_uri": "https://localhost:8080/"
    },
    "id": "KEw2x-1jhrKY",
    "outputId": "a904a920-a640-4ca8-9210-b6ed363de203"
   },
   "outputs": [],
   "source": [
    "%%jsoniq\n",
    "{|\n",
    "    for $i in 1 to 10\n",
    "    return { concat(\"Square of \", $i) : $i * $i }\n",
    "|}"
   ]
  },
  {
   "cell_type": "markdown",
   "metadata": {
    "id": "Zj9AgqsBhrKY"
   },
   "source": [
    "## JSON Navigation\n",
    "\n",
    "Up to now, you have learnt how to compose expressions so as to do some computations and to build objects and arrays. It also works the other way round: if you have some JSON data, you can access it and navigate.\n",
    "All you need to know is: JSONiq views\n",
    "an array as an ordered list of values,\n",
    "an object as a set of name/value pairs\n"
   ]
  },
  {
   "cell_type": "markdown",
   "metadata": {
    "id": "4NMMWdnShrKY"
   },
   "source": [
    "### Objects\n",
    "\n",
    "You can use the dot operator to retrieve the value associated with a key. Quotes are optional, except if the key has special characters such as spaces. It will return the value associated thereto:"
   ]
  },
  {
   "cell_type": "code",
   "execution_count": null,
   "metadata": {
    "colab": {
     "base_uri": "https://localhost:8080/"
    },
    "id": "VFfwP0nfhrKY",
    "outputId": "a9ce97bf-b2a8-48dc-9a95-ead2621e6e65"
   },
   "outputs": [],
   "source": [
    "%%jsoniq\n",
    "let $person := {\n",
    "    \"first name\" : \"Sarah\",\n",
    "    \"age\" : 13,\n",
    "    \"gender\" : \"female\",\n",
    "    \"friends\" : [ \"Jim\", \"Mary\", \"Jennifer\"]\n",
    "}\n",
    "return $person.\"first name\""
   ]
  },
  {
   "cell_type": "markdown",
   "metadata": {
    "id": "PkxiFID7hrKY"
   },
   "source": [
    "You can also ask for all keys in an object:"
   ]
  },
  {
   "cell_type": "code",
   "execution_count": null,
   "metadata": {
    "colab": {
     "base_uri": "https://localhost:8080/"
    },
    "id": "8T2OCFUghrKY",
    "outputId": "b8ea74a3-7bde-4267-a5be-a50cdf60a0cf"
   },
   "outputs": [],
   "source": [
    "%%jsoniq\n",
    "let $person := {\n",
    "    \"name\" : \"Sarah\",\n",
    "    \"age\" : 13,\n",
    "    \"gender\" : \"female\",\n",
    "    \"friends\" : [ \"Jim\", \"Mary\", \"Jennifer\"]\n",
    "}\n",
    "return { \"keys\" : [ keys($person)] }"
   ]
  },
  {
   "cell_type": "markdown",
   "metadata": {
    "id": "oim6bAQyhrKY"
   },
   "source": [
    "### Arrays\n",
    "\n",
    "The [[]] operator retrieves the entry at the given position:"
   ]
  },
  {
   "cell_type": "code",
   "execution_count": null,
   "metadata": {
    "colab": {
     "base_uri": "https://localhost:8080/"
    },
    "id": "P14wlsn2hrKY",
    "outputId": "25e256e0-44b7-40c1-e58f-cd052957bad7"
   },
   "outputs": [],
   "source": [
    "%%jsoniq\n",
    "let $friends := [ \"Jim\", \"Mary\", \"Jennifer\"]\n",
    "return $friends[[1+1]]"
   ]
  },
  {
   "cell_type": "markdown",
   "metadata": {
    "id": "drILINuehrKY"
   },
   "source": [
    "It is also possible to get the size of an array:"
   ]
  },
  {
   "cell_type": "code",
   "execution_count": null,
   "metadata": {
    "colab": {
     "base_uri": "https://localhost:8080/"
    },
    "id": "GPTzsEWuhrKY",
    "outputId": "a388685f-2c52-474a-d1d3-54e21b56da7a"
   },
   "outputs": [],
   "source": [
    "%%jsoniq\n",
    "let $person := {\n",
    "    \"name\" : \"Sarah\",\n",
    "    \"age\" : 13,\n",
    "    \"gender\" : \"female\",\n",
    "    \"friends\" : [ \"Jim\", \"Mary\", \"Jennifer\"]\n",
    "}\n",
    "return { \"how many friends\" : size($person.friends) }"
   ]
  },
  {
   "cell_type": "markdown",
   "metadata": {
    "id": "HnVfQuPYhrKY"
   },
   "source": [
    "Finally, the [] operator returns all elements in an array, as a sequence:"
   ]
  },
  {
   "cell_type": "code",
   "execution_count": null,
   "metadata": {
    "colab": {
     "base_uri": "https://localhost:8080/"
    },
    "id": "cnr5WXjohrKY",
    "outputId": "b6ac5240-9c48-44e6-9114-6274931ff5f7"
   },
   "outputs": [],
   "source": [
    "%%jsoniq\n",
    "let $person := {\n",
    "    \"name\" : \"Sarah\",\n",
    "    \"age\" : 13,\n",
    "    \"gender\" : \"female\",\n",
    "    \"friends\" : [ \"Jim\", \"Mary\", \"Jennifer\"]\n",
    "}\n",
    "return $person.friends[]"
   ]
  },
  {
   "cell_type": "markdown",
   "metadata": {
    "id": "kyzBECFMhrKY"
   },
   "source": [
    "### Relational Algebra\n",
    "\n",
    "Do you remember SQL's SELECT FROM WHERE statements? JSONiq inherits selection, projection and join capability from XQuery, too."
   ]
  },
  {
   "cell_type": "code",
   "execution_count": null,
   "metadata": {
    "colab": {
     "base_uri": "https://localhost:8080/"
    },
    "id": "nqHxqtoYhrKY",
    "outputId": "6546f3ee-fd42-428f-91b4-c2619c79c8ee"
   },
   "outputs": [],
   "source": [
    "%%jsoniq\n",
    "let $stores :=\n",
    "[\n",
    "    { \"store number\" : 1, \"state\" : \"MA\" },\n",
    "    { \"store number\" : 2, \"state\" : \"MA\" },\n",
    "    { \"store number\" : 3, \"state\" : \"CA\" },\n",
    "    { \"store number\" : 4, \"state\" : \"CA\" }\n",
    "]\n",
    "let $sales := [\n",
    "    { \"product\" : \"broiler\", \"store number\" : 1, \"quantity\" : 20  },\n",
    "    { \"product\" : \"toaster\", \"store number\" : 2, \"quantity\" : 100 },\n",
    "    { \"product\" : \"toaster\", \"store number\" : 2, \"quantity\" : 50 },\n",
    "    { \"product\" : \"toaster\", \"store number\" : 3, \"quantity\" : 50 },\n",
    "    { \"product\" : \"blender\", \"store number\" : 3, \"quantity\" : 100 },\n",
    "    { \"product\" : \"blender\", \"store number\" : 3, \"quantity\" : 150 },\n",
    "    { \"product\" : \"socks\", \"store number\" : 1, \"quantity\" : 500 },\n",
    "    { \"product\" : \"socks\", \"store number\" : 2, \"quantity\" : 10 },\n",
    "    { \"product\" : \"shirt\", \"store number\" : 3, \"quantity\" : 10 }\n",
    "]\n",
    "let $join :=\n",
    "    for $store in $stores[], $sale in $sales[]\n",
    "    where $store.\"store number\" = $sale.\"store number\"\n",
    "    return {\n",
    "        \"nb\" : $store.\"store number\",\n",
    "        \"state\" : $store.state,\n",
    "        \"sold\" : $sale.product\n",
    "    }\n",
    "return [$join]"
   ]
  },
  {
   "cell_type": "markdown",
   "metadata": {
    "id": "Bj5MkqjYhrKY"
   },
   "source": [
    "### Access datasets\n",
    "\n",
    "Rumble can read input from many file systems and many file formats. If you are using our backend, you can only use json-doc() with any URI pointing to a JSON file and navigate it as you see fit. "
   ]
  },
  {
   "cell_type": "code",
   "execution_count": null,
   "metadata": {
    "colab": {
     "base_uri": "https://localhost:8080/"
    },
    "id": "IvKabTMohrKY",
    "outputId": "97c9b90b-80ce-4377-fef3-44f28247d79b"
   },
   "outputs": [],
   "source": [
    "%%jsoniq\n",
    "json-doc(\"Put any HTTP URL pointing to a JSON document here!\").foo[[1]].bar.foobar[]"
   ]
  },
  {
   "cell_type": "markdown",
   "metadata": {
    "id": "4ryDS6RGhrKY"
   },
   "source": [
    "If you are using your own Rumble server on your cluster, you can also use any other function and scheme."
   ]
  },
  {
   "cell_type": "code",
   "execution_count": null,
   "metadata": {
    "colab": {
     "base_uri": "https://localhost:8080/"
    },
    "id": "P100xHh4hrKY",
    "outputId": "fb2a4098-fe35-44ae-b763-fe3fcd8f3746"
   },
   "outputs": [],
   "source": [
    "%%jsoniq\n",
    "json-file(\"put the path to a JSON lines file here. This will only work against your own Rumble backend and Spark cluster, though.\")"
   ]
  },
  {
   "cell_type": "markdown",
   "metadata": {
    "cell_status": {
     "execute_time": {
      "duration": 44.55712890625,
      "end_time": 1557044256642.663
     }
    },
    "collapsed": true,
    "id": "YzHCdZ2Ld-kt"
   },
   "source": [
    "# 4. The Great Language Game\n",
    "\n",
    "This week you will be using again the [language confusion dataset](https://quietlyamused.org/blog/2014/03/12/language-confusion/). You will write queries with Rumble.\n",
    "\n",
    "Download and decompress the dataset in the same folder as `rumbledb-1.21.0.jar` with the following:\n",
    "```\n",
    "wget https://cloud.inf.ethz.ch/s/a8FoHew6dHKGYKK/download/confusion20140302.tbz2\n",
    "tar -jxvf confusion20140302.tbz2\n",
    "```\n",
    "or, if `wget` is not found,\n",
    "```\n",
    "curl -O https://cloud.inf.ethz.ch/s/a8FoHew6dHKGYKK/download/confusion20140302.tbz2\n",
    "tar -jxvf confusion20140302.tbz2\n",
    "```"
   ]
  },
  {
   "cell_type": "markdown",
   "metadata": {
    "id": "rUS6Y9IqDS4Y"
   },
   "source": [
    "Now, you should have a folder with a (large) json file inside."
   ]
  },
  {
   "cell_type": "markdown",
   "metadata": {},
   "source": [
    "## 4.0 Check the data"
   ]
  },
  {
   "cell_type": "markdown",
   "metadata": {
    "id": "er5XQjCVd-kt"
   },
   "source": [
    "We provide you with two datasets, you can already check that you get the correct number of records. The full dataset should contain 16511224 records. We also provided you with a second small dataset to test your queries faster, it contains 100000 records."
   ]
  },
  {
   "cell_type": "code",
   "execution_count": null,
   "metadata": {},
   "outputs": [],
   "source": [
    "%%jsoniq\n",
    "count(for $i in json-file(\"confusion-2014-03-02/confusion-2014-03-02.json\")\n",
    "return $i)"
   ]
  },
  {
   "cell_type": "code",
   "execution_count": null,
   "metadata": {},
   "outputs": [],
   "source": [
    "%%jsoniq\n",
    "count(for $i in json-file(\"confusion-100000.json\")\n",
    "return $i)"
   ]
  },
  {
   "cell_type": "markdown",
   "metadata": {},
   "source": [
    "Print one record"
   ]
  },
  {
   "cell_type": "code",
   "execution_count": null,
   "metadata": {},
   "outputs": [],
   "source": [
    "%%jsoniq\n",
    "json-file(\"confusion-100000.json\")[1]"
   ]
  },
  {
   "cell_type": "markdown",
   "metadata": {},
   "source": [
    "List the keys"
   ]
  },
  {
   "cell_type": "code",
   "execution_count": null,
   "metadata": {},
   "outputs": [],
   "source": [
    "%%jsoniq\n",
    "keys(json-file(\"confusion-100000.json\"))"
   ]
  },
  {
   "cell_type": "markdown",
   "metadata": {
    "id": "3Pcf7FL7Aetl"
   },
   "source": [
    "## 4.1 Query the data"
   ]
  },
  {
   "cell_type": "markdown",
   "metadata": {
    "id": "er5XQjCVd-kt"
   },
   "source": [
    "You can read data from a json file with `json-file`. For example, the following query will read and print the entries in the confusion dataset:\n",
    "\n",
    "\n"
   ]
  },
  {
   "cell_type": "code",
   "execution_count": null,
   "metadata": {
    "colab": {
     "base_uri": "https://localhost:8080/"
    },
    "id": "nPHu0ODR9vAE",
    "outputId": "155b6dae-f100-4551-b1c7-0101b86c69b0"
   },
   "outputs": [],
   "source": [
    "%%jsoniq\n",
    "for $i in json-file(\"confusion-100000.json\")\n",
    "return $i"
   ]
  },
  {
   "cell_type": "markdown",
   "metadata": {
    "id": "a1ovg4Ga9xVp"
   },
   "source": [
    "After the results of your query are printed, Rumble will report the execution runtime in milliseconds:\n",
    "```\n",
    "Took: 62.02618598937988 ms\n",
    "```\n",
    "\n",
    "In the `json-file` method you can optionally specify the number of partitions, which may allow your query to be parallelized and executed faster. This offers great advantage on cluster, but is not much faster locally. For example:\n"
   ]
  },
  {
   "cell_type": "code",
   "execution_count": null,
   "metadata": {
    "colab": {
     "base_uri": "https://localhost:8080/"
    },
    "id": "8G7eI0UE93BH",
    "outputId": "ae02d63f-9909-47e7-e5a9-de54ea7fac1f"
   },
   "outputs": [],
   "source": [
    "%%jsoniq\n",
    "for $i in json-file(\"confusion-100000.json\", 10)\n",
    "return $i"
   ]
  },
  {
   "cell_type": "markdown",
   "metadata": {
    "id": "oDF2EAwwAwTM"
   },
   "source": [
    "## 4.2 SQL to Rumble"
   ]
  },
  {
   "cell_type": "markdown",
   "metadata": {
    "id": "W2ppgHl4d-kt"
   },
   "source": [
    "The following examples, show how SQL queries can be converted to JSONiq queries. Assume that the dataset is accessible with SQL through the table \"entries\".\n",
    "\n",
    "\n",
    "\n"
   ]
  },
  {
   "cell_type": "markdown",
   "metadata": {
    "id": "P8q9Rwq8IzPn"
   },
   "source": [
    "### 4.2.1 Get all games played from Switzerland\n",
    "\n",
    "\n",
    "```sql\n",
    "SELECT *\n",
    "FROM entries\n",
    "WHERE country == \"CH\"\n",
    "```\n"
   ]
  },
  {
   "cell_type": "code",
   "execution_count": null,
   "metadata": {
    "id": "A3ZQK0gVHkoI"
   },
   "outputs": [],
   "source": [
    "%%jsoniq\n",
    "for $i in json-file(\"confusion-100000.json\", 10)\n",
    "where $i.country eq \"CH\"\n",
    "return $i"
   ]
  },
  {
   "cell_type": "markdown",
   "metadata": {
    "id": "OG0xJS2KHEF3"
   },
   "source": [
    "### 4.2.2 Get all games played from Switzerland, where the correct answer (target) was \"German\"\n",
    "```sql\n",
    "SELECT *\n",
    "FROM entries\n",
    "WHERE country == \"CH\" AND target == \"German\"\n",
    "```\n",
    "\n",
    "\n"
   ]
  },
  {
   "cell_type": "code",
   "execution_count": null,
   "metadata": {
    "id": "EuN0WVltHrXl"
   },
   "outputs": [],
   "source": [
    "%%jsoniq\n",
    "for $i in json-file(\"confusion-100000.json\", 10)\n",
    "where $i.country eq \"CH\" and $i.target eq \"German\"\n",
    "return $i"
   ]
  },
  {
   "cell_type": "markdown",
   "metadata": {
    "id": "jQycXJuCHHJW"
   },
   "source": [
    "### 4.2.3 Get the top 5 games played from Switzerland, where the correct answer (target) was \"German\"\n",
    "```sql\n",
    "SELECT *\n",
    "FROM entries\n",
    "WHERE country == \"CH\" AND target == \"German\"\n",
    "LIMIT 5\n",
    "```\n",
    "\n",
    "\n"
   ]
  },
  {
   "cell_type": "code",
   "execution_count": null,
   "metadata": {
    "colab": {
     "base_uri": "https://localhost:8080/"
    },
    "id": "6Brsgs6fHwET",
    "outputId": "5bcdfea1-46c3-4147-c603-844d6e465060"
   },
   "outputs": [],
   "source": [
    "%%jsoniq\n",
    "let $ch-de_data := for $i in json-file(\"confusion-100000.json\", 10)\n",
    "    where $i.country eq \"CH\" and $i.target eq \"German\"\n",
    "    return $i\n",
    "for $j in $ch-de_data\n",
    "count $c\n",
    "where $c <= 5\n",
    "return $j"
   ]
  },
  {
   "cell_type": "markdown",
   "metadata": {
    "id": "3ivTnfw5HMZz"
   },
   "source": [
    "### 4.2.4 Get all games played from Switzerland, where the correct answer (target) was \"German\", order them by date (ascending), and return the top 5 rows.\n",
    "```sql\n",
    "SELECT *\n",
    "FROM entries\n",
    "WHERE country == \"CH\" AND target == \"German\"\n",
    "ORDER BY date ASC\n",
    "LIMIT 5\n",
    "```\n",
    "\n",
    "\n"
   ]
  },
  {
   "cell_type": "code",
   "execution_count": null,
   "metadata": {
    "id": "YbI3HF2QH-2x",
    "scrolled": true
   },
   "outputs": [],
   "source": [
    "%%jsoniq\n",
    "let $ch-de_data := for $i in json-file(\"confusion-100000.json\", 10)\n",
    "    order by $i.date ascending\n",
    "    return $i\n",
    "for $j in $ch-de_data\n",
    "count $c\n",
    "where $c <= 5\n",
    "return $j"
   ]
  },
  {
   "cell_type": "markdown",
   "metadata": {
    "id": "sKmgYw_jHPZ3"
   },
   "source": [
    "### 4.2.5 Get all games played from Switzerland, where the correct answer (target) was \"German\", group them by date, and return for each different date the number of games played.\n",
    "\n",
    "```sql\n",
    "SELECT date, COUNT(*) AS num_games\n",
    "FROM entries\n",
    "WHERE country == \"CH\" AND target == \"German\"\n",
    "GROUP BY date\n",
    "```\n"
   ]
  },
  {
   "cell_type": "code",
   "execution_count": null,
   "metadata": {
    "id": "19hMluehIDVR"
   },
   "outputs": [],
   "source": [
    "%%jsoniq\n",
    "for $i in json-file(\"confusion-100000.json\", 10)\n",
    "where $i.country eq \"CH\" and $i.target eq \"German\"\n",
    "group by $d := $i.date\n",
    "return {\"date\": $d, \"num_games\": count($i)}"
   ]
  },
  {
   "cell_type": "markdown",
   "metadata": {
    "id": "qKzNKYFNHSGW"
   },
   "source": [
    "### 4.2.6 Get all games played from Switzerland, group them by date and target, and return for each different date and target the number of games played.\n",
    "\n",
    "\n",
    "NOTE: Rumble has some reserved keywords, for example `date`. If you try to create a variable `$date`, you may get an error, such as `no viable alternative at input 'date'`.\n",
    "\n",
    "```sql\n",
    "SELECT date, target, COUNT(*) AS num_games\n",
    "FROM entries\n",
    "WHERE country == \"CH\"\n",
    "GROUP BY date, target\n",
    "```\n",
    "\n",
    "\n"
   ]
  },
  {
   "cell_type": "code",
   "execution_count": null,
   "metadata": {
    "id": "oO8wXP9TIGw1"
   },
   "outputs": [],
   "source": [
    "%%jsoniq\n",
    "for $i in json-file(\"confusion-100000.json\", 10)\n",
    "where $i.country eq \"CH\"\n",
    "group by $d := $i.date, $target := $i.target\n",
    "return {\"date\": $d, \"target\": $target, \"num_games\": count($i)}\n"
   ]
  },
  {
   "cell_type": "markdown",
   "metadata": {
    "id": "IAjnh_H2HUa1"
   },
   "source": [
    "### 4.2.7 For all games played from Switzerland, return the distinct targets of those games.\n",
    "\n",
    "```sql\n",
    "SELECT DISTINCT(target)\n",
    "FROM entries\n",
    "WHERE country == \"CH\"\n",
    "```\n",
    "\n",
    "\n"
   ]
  },
  {
   "cell_type": "code",
   "execution_count": null,
   "metadata": {
    "id": "qfS7prkYIMCN"
   },
   "outputs": [],
   "source": [
    "%%jsoniq\n",
    "let $targets := for $i in json-file(\"confusion-100000.json\", 10)\n",
    "  where $i.country eq \"CH\"\n",
    "  return $i.target\n",
    "return distinct-values($targets)"
   ]
  },
  {
   "cell_type": "markdown",
   "metadata": {
    "id": "yVvQBpVxHWuz"
   },
   "source": [
    "### 4.2.8 For all games played from Switzerland, get the distinct targets of those games, and return the index of \"German\" in the list of distinct targets.\n",
    "\n",
    "\n"
   ]
  },
  {
   "cell_type": "code",
   "execution_count": null,
   "metadata": {
    "id": "C9zQLBnwISRB"
   },
   "outputs": [],
   "source": [
    "%%jsoniq\n",
    "let $targets := for $i in json-file(\"confusion-100000.json\", 10)\n",
    "    where $i.country eq \"CH\"\n",
    "    return $i.target\n",
    "return index-of(distinct-values($targets), \"German\")\n"
   ]
  },
  {
   "cell_type": "markdown",
   "metadata": {
    "id": "XW8fQM8WHYt7"
   },
   "source": [
    "### 4.2.9 Count the number of games played from Switzerland (without any grouping).\n",
    "\n",
    "\n",
    "NOTE: `distinct-values` and `index-of` work on \"sequences\". The method `json-file` returns a sequence. If you have an array on which you want to apply `distinct-values` and `index-of`, you must first convert it to a sequence. This can be done with `[]`. For example, if you have an array called `arr`, you can find its distinct values with `distinct-values(arr[])`\n",
    "\n",
    "```sql\n",
    "SELECT COUNT(*) AS count\n",
    "FROM entries\n",
    "WHERE country == \"CH\"\n",
    "```\n"
   ]
  },
  {
   "cell_type": "code",
   "execution_count": null,
   "metadata": {
    "colab": {
     "base_uri": "https://localhost:8080/"
    },
    "id": "0wXZLNPLIayV",
    "outputId": "4c65ffe5-0bac-4efa-bb42-5abefce423c0"
   },
   "outputs": [],
   "source": [
    "%%jsoniq\n",
    "count(for $i in json-file(\"confusion-100000.json\", 10)\n",
    "    where $i.country eq \"CH\"\n",
    "    return $i\n",
    ")"
   ]
  },
  {
   "cell_type": "markdown",
   "metadata": {
    "id": "s2ljO3Wyd-kt"
   },
   "source": [
    "If in your query you want to join 2 (or more) sequences (results of `json-file` or subqueries), you can do it in the following way:\n",
    "```\n",
    "let $seq1 := ...\n",
    "let $seq2 := ...\n",
    "for $i in $seq1, $j in $seq2\n",
    "where $i.attr1 eq $j.attr2\n",
    "...\n",
    "```"
   ]
  },
  {
   "cell_type": "markdown",
   "metadata": {
    "id": "PE_9pQzhAOyo"
   },
   "source": [
    "## 4.3 More queries"
   ]
  },
  {
   "cell_type": "markdown",
   "metadata": {
    "id": "FxrwoBIxd-kt"
   },
   "source": [
    "Try writing a few more queries:\n",
    "- List all chosen answers to games where the guessed language is correct (=target)."
   ]
  },
  {
   "cell_type": "code",
   "execution_count": null,
   "metadata": {
    "colab": {
     "base_uri": "https://localhost:8080/"
    },
    "id": "2pFtHHOed-kt",
    "outputId": "0a7e0be5-bef7-4236-a204-7bc222ea096b"
   },
   "outputs": [],
   "source": [
    "%%jsoniq"
   ]
  },
  {
   "cell_type": "markdown",
   "metadata": {
    "id": "n4XpGln4d-ku"
   },
   "source": [
    "- Count the games where the index of the correct answer in the choices array is 2 (as returned by the index-of method)."
   ]
  },
  {
   "cell_type": "code",
   "execution_count": null,
   "metadata": {
    "colab": {
     "base_uri": "https://localhost:8080/"
    },
    "id": "Ubmh2smkd-ku",
    "outputId": "00388bda-819c-4f50-b5b5-4d560f4ccc2b"
   },
   "outputs": [],
   "source": [
    "%%jsoniq"
   ]
  },
  {
   "cell_type": "markdown",
   "metadata": {
    "id": "X_-pBCWtd-ku"
   },
   "source": [
    "- Return all games played on September 1st 2013."
   ]
  },
  {
   "cell_type": "code",
   "execution_count": null,
   "metadata": {
    "colab": {
     "base_uri": "https://localhost:8080/"
    },
    "id": "DX82UVhid-ku",
    "outputId": "bdf21450-5ed4-41a9-af1f-bfd5683f5fff"
   },
   "outputs": [],
   "source": [
    "%%jsoniq"
   ]
  },
  {
   "cell_type": "markdown",
   "metadata": {
    "id": "krkZtmzIFVdZ"
   },
   "source": [
    "# 5. More nestedness\n",
    "## 5.1 Create Nestedness\n",
    "You may remember in the exercise of Spark Dataframes & Spark SQL, we mentioned two methods <font face=\"courier\">collect_set/collect_list</font> for creating arrays. In JSONiq, this kind of things become even simpler because JSONiq natively supports JSON, so we can directly create arrays via adding square brackets (<font face=\"courier\">[]</font>) and even without any group by operations. \n",
    "\n",
    "For example, if we want to know the list of date at which \"Fijian\" was used as the target, we can write a simple JSONiq query:"
   ]
  },
  {
   "cell_type": "code",
   "execution_count": null,
   "metadata": {
    "id": "xiRw7YmmspKH"
   },
   "outputs": [],
   "source": [
    "%%jsoniq\n",
    "let $dateSeq := for $i in json-file(\"confusion-100000.json\", 10)\n",
    "    where $i.target eq \"Fijian\"\n",
    "    return $i.date\n",
    "return [subsequence($dateSeq, 0, 10)]"
   ]
  },
  {
   "cell_type": "markdown",
   "metadata": {
    "id": "osB2WIpFtiQY"
   },
   "source": [
    "The above query is basically a counterpart of a Spark Dataframe query with <font face=\"courier\">collect_list</font>. If we want to imitate the behavior of <font face=\"courier\">collect_set</font>, which means we want the result array to be de-duplicated, we can just resort to <font face=\"courier\">distinct-values</font>:"
   ]
  },
  {
   "cell_type": "code",
   "execution_count": null,
   "metadata": {
    "id": "Vkan5XiAvK24"
   },
   "outputs": [],
   "source": [
    "%%jsoniq\n",
    "let $dateSeq := for $i in json-file(\"confusion-100000.json\", 10)\n",
    "where $i.target eq \"Fijian\"\n",
    "return $i.date\n",
    "return [distinct-values($dateSeq)]"
   ]
  },
  {
   "cell_type": "markdown",
   "metadata": {
    "id": "5Qc0PoMEvckO"
   },
   "source": [
    "Now what if we want to know for each different language, the de-duplicated list of date at which it was used as a target? We may need group by again. Try to come up with the query on your own. What might be the difference in the query with and without group by?\n",
    "\n",
    "**Note:** Do not hesitate to only use the small provided dataset because the query on the original dataset might take very long and consume a humongous amount of memory. The most important thing is not about the answer, but to come up with proper queries."
   ]
  },
  {
   "cell_type": "code",
   "execution_count": null,
   "metadata": {
    "id": "2k2OOOFjwLah"
   },
   "outputs": [],
   "source": [
    "%%jsoniq\n",
    "for $i in json-file(\"confusion-100000.json\", 10) \n",
    "group by $j := $i.target\n",
    "return {\"language\":$j, \"dates\":[distinct-values($i.date)]}"
   ]
  },
  {
   "cell_type": "markdown",
   "metadata": {
    "id": "2CqJOpf2wnHL"
   },
   "source": [
    "The difference is, if there's group by in a query, after group by, the loop variable (\\$i in the above query) will no longer be a single entry, but instead bound to the **sequence** corresponding to each group, which means we can directly apply functions like distinct-values to \\$i.\n",
    "In the query above without group by, \\$i always corresponds to one entry, so there's no point to do things like distinct-values(\\$i.date). This is why we need to get the intermediate result $dataSeq, and then create arrays and apply distinct-values on this whole sequence."
   ]
  },
  {
   "cell_type": "markdown",
   "metadata": {
    "id": "z93zj9pax-5t"
   },
   "source": [
    "Obviously, unlike <font face=\"courier\">collect_set/collect_list</font> which only accept one column and create arrays on that very column, JSONiq can create arrays on arbitrary things. For example, if we want to highlight the information of date, we can create a new dataset that shows the game info for each date:"
   ]
  },
  {
   "cell_type": "code",
   "execution_count": null,
   "metadata": {
    "id": "msN8hw19ytF9"
   },
   "outputs": [],
   "source": [
    "%%jsoniq\n",
    "let $newDataset := for $i in json-file(\"confusion-100000.json\", 10) \n",
    "  group by $d := $i.date\n",
    "  return {\"date\": $d, \"info\": [$i]}\n",
    "return $newDataset"
   ]
  },
  {
   "cell_type": "markdown",
   "metadata": {
    "id": "Z7NB5Euvy6G-"
   },
   "source": [
    "Now we have a more nested dataset! We can try to redo some of the exercises above with this new dataset. For example, get all games played in Switzerland:"
   ]
  },
  {
   "cell_type": "code",
   "execution_count": null,
   "metadata": {
    "id": "kA1p9b7szvz1"
   },
   "outputs": [],
   "source": [
    "%%jsoniq\n"
   ]
  },
  {
   "cell_type": "markdown",
   "metadata": {
    "id": "ycJZrdkO5pyO"
   },
   "source": [
    "Try another one: get the count of games played in Switzerland:"
   ]
  },
  {
   "cell_type": "code",
   "execution_count": null,
   "metadata": {
    "id": "qIAT1Yat5z_D"
   },
   "outputs": [],
   "source": [
    "%%jsoniq\n"
   ]
  },
  {
   "cell_type": "markdown",
   "metadata": {
    "id": "R_kRoeKA6Bja"
   },
   "source": [
    "Feel free to try out more questions on your own!"
   ]
  },
  {
   "cell_type": "markdown",
   "metadata": {
    "id": "hPc8di4W6ICv"
   },
   "source": [
    "## 5.2 Git-archive dataset\n",
    "Now let's get into the mess of the real world. We are going to explore the git-archive dataset to handle some properly messy data, which is very challenging if you use Spark. \n",
    "\n",
    "For getting the dataset, just run:\n",
    "```\n",
    "wget https://polybox.ethz.ch/index.php/s/HVWlvJAXVkQ05cw/download -O git-archive.json\n",
    "```\n",
    "or use curl as done for the great game language dataset.\n",
    "\n",
    "Have a look at what the dataset looks like:"
   ]
  },
  {
   "cell_type": "code",
   "execution_count": null,
   "metadata": {
    "id": "Y2AvFbjR7FAR"
   },
   "outputs": [],
   "source": [
    "%%jsoniq\n",
    "for $i in json-file(\"git-archive.json\", 10)\n",
    "count $c\n",
    "where $c <= 1\n",
    "return $i"
   ]
  },
  {
   "cell_type": "markdown",
   "metadata": {
    "id": "pAePhGBk7WFT"
   },
   "source": [
    "What a mess, isn't it? Anyway, let's try to write some challenging queries, since you've already mastered those easy ones with the language game dataset...\n",
    "\n",
    "1. What is the number of distinct author names that are part of a push event (i.e., an event with the type PushEvent)?"
   ]
  },
  {
   "cell_type": "code",
   "execution_count": null,
   "metadata": {
    "id": "SkpuLT5GnxG4"
   },
   "outputs": [],
   "source": [
    "%%jsoniq\n"
   ]
  },
  {
   "cell_type": "markdown",
   "metadata": {
    "id": "WtxTZtFNn9qQ"
   },
   "source": [
    "2. What is the name of the repository with the highest number of push events (i.e., events with the type PushEvent), and how many of these push events occurred in this repository?"
   ]
  },
  {
   "cell_type": "code",
   "execution_count": null,
   "metadata": {
    "id": "WPZIL-XwoQvO"
   },
   "outputs": [],
   "source": [
    "%%jsoniq\n"
   ]
  },
  {
   "cell_type": "markdown",
   "metadata": {},
   "source": [
    "## BONUS: Machine Learning in Rumble"
   ]
  },
  {
   "cell_type": "markdown",
   "metadata": {},
   "source": [
    "Not only RumbleDB allows to build the entire data pipeline by querying large messy datasets and clean, structure, normoalize and validate them but now also supports feeding the data into machine learning models to build an all-in-one solution. RumbleDB uses Spark to distribute computations accross a cluster, and for ML it is also based on the SparkML library (https://spark.apache.org/docs/latest/ml-guide.html). Here is a simple example to clusterize data points based on a KMeans model.\n",
    "\n",
    "In the following example we declare a user defined type col-1-2 with an id and two decimal columns. We then write our data in a variable local-data, which we validate against our defined type and then forward the data to a transformer. Finally, we instantiate a K-means estimator to train our data on it."
   ]
  },
  {
   "cell_type": "code",
   "execution_count": null,
   "metadata": {},
   "outputs": [],
   "source": [
    "%%jsoniq\n",
    "declare type local:col-1-2 as {\n",
    "  \"id\": \"integer\",\n",
    "  \"col1\": \"decimal\",\n",
    "  \"col2\": \"decimal\"\n",
    "};\n",
    "\n",
    "let $vector-assembler := get-transformer(\"VectorAssembler\")(\n",
    "  ?,\n",
    "  { \"inputCols\" : [ \"col1\", \"col2\" ], \"outputCol\" : \"features\" }\n",
    ")\n",
    "\n",
    "let $local-data := (\n",
    "    {\"id\": 0, \"col1\": 0.0, \"col2\": 3.0},\n",
    "    {\"id\": 1, \"col1\": 2.1, \"col2\": 0.1},\n",
    "    {\"id\": 2, \"col1\": 0.2, \"col2\": 0.2},\n",
    "    {\"id\": 3, \"col1\": 6.0, \"col2\": 9.0},\n",
    "    {\"id\": 4, \"col1\": 5.1, \"col2\": 9.1},\n",
    "    {\"id\": 5, \"col1\": 9.2, \"col2\": 9.2}\n",
    ")\n",
    "let $df-data := validate type local:col-1-2* {$local-data }\n",
    "let $df-data := $vector-assembler($df-data)\n",
    "\n",
    "let $est := get-estimator(\"KMeans\")\n",
    "let $tra := $est(\n",
    "    $df-data,\n",
    "    {\"featuresCol\": \"features\"}\n",
    ")\n",
    "\n",
    "for $i in $tra(\n",
    "    $df-data,\n",
    "    {\"featuresCol\": \"features\"}\n",
    ")\n",
    "return $i"
   ]
  },
  {
   "cell_type": "markdown",
   "metadata": {},
   "source": [
    "### Visualize the output"
   ]
  },
  {
   "cell_type": "markdown",
   "metadata": {},
   "source": [
    "Install `pandas` and `matplotlib` if you haven't:\n",
    "`pip install pandas matplotlib`"
   ]
  },
  {
   "cell_type": "code",
   "execution_count": null,
   "metadata": {},
   "outputs": [],
   "source": [
    "import pandas as pd\n",
    "\n",
    "d = [{\"id\": 0, \"col1\": 0.0, \"col2\": 3.0, \"prediction\": 0},\n",
    "    {\"id\": 1, \"col1\": 2.1, \"col2\": 0.1, \"prediction\": 0},\n",
    "    {\"id\": 2, \"col1\": 0.2, \"col2\": 0.2, \"prediction\": 0},\n",
    "    {\"id\": 3, \"col1\": 6.0, \"col2\": 9.0, \"prediction\": 1},\n",
    "    {\"id\": 4, \"col1\": 5.1, \"col2\": 9.1, \"prediction\": 1},\n",
    "    {\"id\": 5, \"col1\": 9.2, \"col2\": 9.2, \"prediction\": 1}]\n",
    "\n",
    "df = pd.DataFrame(d)\n",
    "print (df)\n",
    "\n",
    "ax1 = df.plot.scatter(x='col1',\n",
    "                      y='col2',\n",
    "                      c='prediction', cmap='winter')"
   ]
  },
  {
   "cell_type": "code",
   "execution_count": null,
   "metadata": {},
   "outputs": [],
   "source": []
  }
 ],
 "metadata": {
  "colab": {
   "collapsed_sections": [
    "Uy48JTprhrKW",
    "eELMD0pqhrKW",
    "3Pcf7FL7Aetl",
    "OG0xJS2KHEF3",
    "jQycXJuCHHJW",
    "3ivTnfw5HMZz",
    "sKmgYw_jHPZ3",
    "IAjnh_H2HUa1",
    "yVvQBpVxHWuz",
    "XW8fQM8WHYt7",
    "PE_9pQzhAOyo"
   ],
   "name": "Exercise12_Rumble_Solutions.ipynb",
   "provenance": [],
   "toc_visible": true
  },
  "kernelspec": {
   "display_name": "Python 3",
   "language": "python",
   "name": "python3"
  },
  "language_info": {
   "codemirror_mode": {
    "name": "ipython",
    "version": 3
   },
   "file_extension": ".py",
   "mimetype": "text/x-python",
   "name": "python",
   "nbconvert_exporter": "python",
   "pygments_lexer": "ipython3",
   "version": "3.8.8"
  },
  "toc": {
   "base_numbering": 1,
   "nav_menu": {},
   "number_sections": true,
   "sideBar": true,
   "skip_h1_title": false,
   "title_cell": "Table of Contents",
   "title_sidebar": "Contents",
   "toc_cell": false,
   "toc_position": {},
   "toc_section_display": true,
   "toc_window_display": false
  }
 },
 "nbformat": 4,
 "nbformat_minor": 1
}
