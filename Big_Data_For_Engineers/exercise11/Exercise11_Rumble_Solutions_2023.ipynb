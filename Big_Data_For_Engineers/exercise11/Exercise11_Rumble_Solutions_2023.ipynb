{
 "cells": [
  {
   "cell_type": "markdown",
   "metadata": {
    "id": "Zo6cemRekqqm"
   },
   "source": [
    "# Big Data for Engineers – Exercises - Solutions\n",
    "\n",
    "# Spring 2023 -  Week 11 - Rumble\n",
    "\n"
   ]
  },
  {
   "cell_type": "markdown",
   "metadata": {},
   "source": [
    "# 0. RumbleSandbox\n",
    "\n",
    "To play with simple JSONiq queries without installing RumbleDB, you can use the [RumbleDB sandbox](https://colab.research.google.com/github/RumbleDB/rumble/blob/master/RumbleSandbox.ipynb#scrollTo=u38jSNpB--QW).\\\n",
    "The sandbox uses a small public backend, so please install Rumble on your local machine for the rest of the exercise."
   ]
  },
  {
   "cell_type": "markdown",
   "metadata": {
    "id": "FgAZKWlwkvrk"
   },
   "source": [
    "# 1. Install Java and Download Rumble\n",
    "You might have noticed that the process is the same as in section 5 of Exercise06. BUT, a newer version of RumbleDB has been released since then :) Please download the latest RumbleDB 1.21.0 for this exercise."
   ]
  },
  {
   "cell_type": "markdown",
   "metadata": {
    "id": "qE1xkwu8k_IA"
   },
   "source": [
    "## Option 1: Locally\n",
    "\n",
    "To install the latest version of RumbleDB locally, you can follow the steps given on the official rumbledb website: \n",
    "https://rumble.readthedocs.io/en/latest/Getting%20started/\n",
    "\n",
    "Please follow very carefully the instructions of \"Method 1: with the large, standalone, RumbleDB jar (experimental)\". In particular,\n",
    "1. Download and install Java 8 or 11. Make sure that the Java version is correct by running `java -version` in the terminal.\n",
    "2. Download the rumbledb-1.21.0-standalone.jar. You can put the jar file in the working directory of this exercise.\n",
    "\n",
    "You also need to correctly set the `JAVA_HOME` environment variable. Please do this everytime you open a new terminal if you don't change the Bash initialization file. You can verify by running `echo $JAVA_HOME`. \n",
    "\n",
    "For example, on MacOS, for Java 11, (1) you can `export JAVA_HOME=$(/usr/libexec/java_home -v 11)`; or (2) `export JAVA_HOME=/Library/Java/JavaVirtualMachines/jdk-11.0.1.jdk/Contents/Home/` or a similar path that exists on your machine. \\\n",
    "On Linux/Windows OS there are similar methods to set `JAVA_HOME`.\\\n",
    "\n",
    "\n",
    "## Option 2: Github codespaces\n",
    "If the local installation does not work for you, please use this option. See this [tutorial](https://cloud.inf.ethz.ch/s/KHLnq9HsQHfLHHQ/download) for running RumbleDB on Github codespaces."
   ]
  },
  {
   "cell_type": "markdown",
   "metadata": {},
   "source": [
    "## JSONiq shell\n",
    "To launch a JSONiq shell, run:\n",
    "\n",
    "`java -jar rumbledb-1.21.0-standalone.jar repl`\n",
    "\n",
    "This gives access to the RumbleDB shell where you can try commands. Note that to run each command, you should press 'Enter' twice, and you can quit with 'exit'."
   ]
  },
  {
   "cell_type": "markdown",
   "metadata": {},
   "source": [
    "Feel free to try the many functions available, here is a link with the exhaustive list: https://rumble.readthedocs.io/en/latest/Function%20library/."
   ]
  },
  {
   "cell_type": "markdown",
   "metadata": {
    "id": "UTrxum891_XB"
   },
   "source": [
    "# 2. Setup Rumble in Jupyter Notebook\n",
    "\n"
   ]
  },
  {
   "cell_type": "markdown",
   "metadata": {
    "id": "UfXWkkngcbnH"
   },
   "source": [
    "### Install Jupyter Notebook\n",
    "\n"
   ]
  },
  {
   "cell_type": "markdown",
   "metadata": {
    "id": "imeJuXbn20R5"
   },
   "source": [
    "In order to execute the queries in this notebook, you need to [install](https://jupyter.org/install) jupyter notebook on your **own machine**, and then download this notebook and [run](https://jupyter.readthedocs.io/en/latest/running.html#running) it locally rather than rely on the colab."
   ]
  },
  {
   "cell_type": "markdown",
   "metadata": {},
   "source": [
    "From now on, we want to run the code on this notebook instead of the shell, hence you can close the shell (Ctrl+C or type 'exit') and execute your own Rumble server by running:\n",
    "\n",
    "`java -jar rumbledb-1.21.0-standalone.jar --server yes --port 9090`\n",
    "\n",
    "The mount allows RumbleDB to directly read the files from your local disk, in this case your exercise folder of this week.\n",
    "\n",
    "It is recommended to use the port 9090 which normally does not get occupied by other applications.\n",
    "\n",
    "To verify that the RumbleDB is up and running, you can go to http://localhost:9090/public.html in a web browser and you can type queries there."
   ]
  },
  {
   "cell_type": "markdown",
   "metadata": {
    "id": "cTFVusbo1uT_"
   },
   "source": [
    "Then, you need to execute the cell below to activate the jsoniq magic (you do not need to understand what it does, this is just initialization Python code)."
   ]
  },
  {
   "cell_type": "code",
   "execution_count": 1,
   "metadata": {},
   "outputs": [
    {
     "name": "stdout",
     "output_type": "stream",
     "text": [
      "Requirement already satisfied: rumbledb in /opt/anaconda3/lib/python3.8/site-packages (1.17.3)\n",
      "Requirement already satisfied: jupyter in /opt/anaconda3/lib/python3.8/site-packages (from rumbledb) (1.0.0)\n",
      "Requirement already satisfied: requests in /opt/anaconda3/lib/python3.8/site-packages (from rumbledb) (2.25.1)\n",
      "Requirement already satisfied: notebook in /opt/anaconda3/lib/python3.8/site-packages (from jupyter->rumbledb) (6.3.0)\n",
      "Requirement already satisfied: jupyter-console in /opt/anaconda3/lib/python3.8/site-packages (from jupyter->rumbledb) (6.4.0)\n",
      "Requirement already satisfied: nbconvert in /opt/anaconda3/lib/python3.8/site-packages (from jupyter->rumbledb) (6.0.7)\n",
      "Requirement already satisfied: ipykernel in /opt/anaconda3/lib/python3.8/site-packages (from jupyter->rumbledb) (5.3.4)\n",
      "Requirement already satisfied: ipywidgets in /opt/anaconda3/lib/python3.8/site-packages (from jupyter->rumbledb) (7.6.3)\n",
      "Requirement already satisfied: qtconsole in /opt/anaconda3/lib/python3.8/site-packages (from jupyter->rumbledb) (5.0.3)\n",
      "Requirement already satisfied: tornado>=4.2 in /opt/anaconda3/lib/python3.8/site-packages (from ipykernel->jupyter->rumbledb) (6.1)\n",
      "Requirement already satisfied: appnope in /opt/anaconda3/lib/python3.8/site-packages (from ipykernel->jupyter->rumbledb) (0.1.2)\n",
      "Requirement already satisfied: traitlets>=4.1.0 in /opt/anaconda3/lib/python3.8/site-packages (from ipykernel->jupyter->rumbledb) (5.0.5)\n",
      "Requirement already satisfied: ipython>=5.0.0 in /opt/anaconda3/lib/python3.8/site-packages (from ipykernel->jupyter->rumbledb) (7.22.0)\n",
      "Requirement already satisfied: jupyter-client in /opt/anaconda3/lib/python3.8/site-packages (from ipykernel->jupyter->rumbledb) (6.1.12)\n",
      "Requirement already satisfied: prompt-toolkit!=3.0.0,!=3.0.1,<3.1.0,>=2.0.0 in /opt/anaconda3/lib/python3.8/site-packages (from ipython>=5.0.0->ipykernel->jupyter->rumbledb) (3.0.17)\n",
      "Requirement already satisfied: backcall in /opt/anaconda3/lib/python3.8/site-packages (from ipython>=5.0.0->ipykernel->jupyter->rumbledb) (0.2.0)\n",
      "Requirement already satisfied: jedi>=0.16 in /opt/anaconda3/lib/python3.8/site-packages (from ipython>=5.0.0->ipykernel->jupyter->rumbledb) (0.17.2)\n",
      "Requirement already satisfied: pygments in /opt/anaconda3/lib/python3.8/site-packages (from ipython>=5.0.0->ipykernel->jupyter->rumbledb) (2.8.1)\n",
      "Requirement already satisfied: pickleshare in /opt/anaconda3/lib/python3.8/site-packages (from ipython>=5.0.0->ipykernel->jupyter->rumbledb) (0.7.5)\n",
      "Requirement already satisfied: pexpect>4.3 in /opt/anaconda3/lib/python3.8/site-packages (from ipython>=5.0.0->ipykernel->jupyter->rumbledb) (4.8.0)\n",
      "Requirement already satisfied: setuptools>=18.5 in /opt/anaconda3/lib/python3.8/site-packages (from ipython>=5.0.0->ipykernel->jupyter->rumbledb) (52.0.0.post20210125)\n",
      "Requirement already satisfied: decorator in /opt/anaconda3/lib/python3.8/site-packages (from ipython>=5.0.0->ipykernel->jupyter->rumbledb) (5.0.6)\n",
      "Requirement already satisfied: parso<0.8.0,>=0.7.0 in /opt/anaconda3/lib/python3.8/site-packages (from jedi>=0.16->ipython>=5.0.0->ipykernel->jupyter->rumbledb) (0.7.0)\n",
      "Requirement already satisfied: ptyprocess>=0.5 in /opt/anaconda3/lib/python3.8/site-packages (from pexpect>4.3->ipython>=5.0.0->ipykernel->jupyter->rumbledb) (0.7.0)\n",
      "Requirement already satisfied: wcwidth in /opt/anaconda3/lib/python3.8/site-packages (from prompt-toolkit!=3.0.0,!=3.0.1,<3.1.0,>=2.0.0->ipython>=5.0.0->ipykernel->jupyter->rumbledb) (0.2.5)\n",
      "Requirement already satisfied: ipython-genutils in /opt/anaconda3/lib/python3.8/site-packages (from traitlets>=4.1.0->ipykernel->jupyter->rumbledb) (0.2.0)\n",
      "Requirement already satisfied: jupyterlab-widgets>=1.0.0 in /opt/anaconda3/lib/python3.8/site-packages (from ipywidgets->jupyter->rumbledb) (1.0.0)\n",
      "Requirement already satisfied: widgetsnbextension~=3.5.0 in /opt/anaconda3/lib/python3.8/site-packages (from ipywidgets->jupyter->rumbledb) (3.5.1)\n",
      "Requirement already satisfied: nbformat>=4.2.0 in /opt/anaconda3/lib/python3.8/site-packages (from ipywidgets->jupyter->rumbledb) (5.1.3)\n",
      "Requirement already satisfied: jupyter-core in /opt/anaconda3/lib/python3.8/site-packages (from nbformat>=4.2.0->ipywidgets->jupyter->rumbledb) (4.7.1)\n",
      "Requirement already satisfied: jsonschema!=2.5.0,>=2.4 in /opt/anaconda3/lib/python3.8/site-packages (from nbformat>=4.2.0->ipywidgets->jupyter->rumbledb) (3.2.0)\n",
      "Requirement already satisfied: attrs>=17.4.0 in /opt/anaconda3/lib/python3.8/site-packages (from jsonschema!=2.5.0,>=2.4->nbformat>=4.2.0->ipywidgets->jupyter->rumbledb) (20.3.0)\n",
      "Requirement already satisfied: six>=1.11.0 in /opt/anaconda3/lib/python3.8/site-packages (from jsonschema!=2.5.0,>=2.4->nbformat>=4.2.0->ipywidgets->jupyter->rumbledb) (1.15.0)\n",
      "Requirement already satisfied: pyrsistent>=0.14.0 in /opt/anaconda3/lib/python3.8/site-packages (from jsonschema!=2.5.0,>=2.4->nbformat>=4.2.0->ipywidgets->jupyter->rumbledb) (0.17.3)\n",
      "Requirement already satisfied: argon2-cffi in /opt/anaconda3/lib/python3.8/site-packages (from notebook->jupyter->rumbledb) (20.1.0)\n",
      "Requirement already satisfied: pyzmq>=17 in /opt/anaconda3/lib/python3.8/site-packages (from notebook->jupyter->rumbledb) (20.0.0)\n",
      "Requirement already satisfied: terminado>=0.8.3 in /opt/anaconda3/lib/python3.8/site-packages (from notebook->jupyter->rumbledb) (0.9.4)\n",
      "Requirement already satisfied: prometheus-client in /opt/anaconda3/lib/python3.8/site-packages (from notebook->jupyter->rumbledb) (0.10.1)\n",
      "Requirement already satisfied: Send2Trash>=1.5.0 in /opt/anaconda3/lib/python3.8/site-packages (from notebook->jupyter->rumbledb) (1.5.0)\n",
      "Requirement already satisfied: jinja2 in /opt/anaconda3/lib/python3.8/site-packages (from notebook->jupyter->rumbledb) (2.11.3)\n",
      "Requirement already satisfied: python-dateutil>=2.1 in /opt/anaconda3/lib/python3.8/site-packages (from jupyter-client->ipykernel->jupyter->rumbledb) (2.8.2)\n",
      "Requirement already satisfied: cffi>=1.0.0 in /opt/anaconda3/lib/python3.8/site-packages (from argon2-cffi->notebook->jupyter->rumbledb) (1.14.5)\n",
      "Requirement already satisfied: pycparser in /opt/anaconda3/lib/python3.8/site-packages (from cffi>=1.0.0->argon2-cffi->notebook->jupyter->rumbledb) (2.20)\n",
      "Requirement already satisfied: MarkupSafe>=0.23 in /opt/anaconda3/lib/python3.8/site-packages (from jinja2->notebook->jupyter->rumbledb) (1.1.1)\n",
      "Requirement already satisfied: entrypoints>=0.2.2 in /opt/anaconda3/lib/python3.8/site-packages (from nbconvert->jupyter->rumbledb) (0.3)\n",
      "Requirement already satisfied: bleach in /opt/anaconda3/lib/python3.8/site-packages (from nbconvert->jupyter->rumbledb) (3.3.0)\n",
      "Requirement already satisfied: mistune<2,>=0.8.1 in /opt/anaconda3/lib/python3.8/site-packages (from nbconvert->jupyter->rumbledb) (0.8.4)\n",
      "Requirement already satisfied: defusedxml in /opt/anaconda3/lib/python3.8/site-packages (from nbconvert->jupyter->rumbledb) (0.7.1)\n",
      "Requirement already satisfied: testpath in /opt/anaconda3/lib/python3.8/site-packages (from nbconvert->jupyter->rumbledb) (0.4.4)\n",
      "Requirement already satisfied: nbclient<0.6.0,>=0.5.0 in /opt/anaconda3/lib/python3.8/site-packages (from nbconvert->jupyter->rumbledb) (0.5.3)\n",
      "Requirement already satisfied: jupyterlab-pygments in /opt/anaconda3/lib/python3.8/site-packages (from nbconvert->jupyter->rumbledb) (0.1.2)\n",
      "Requirement already satisfied: pandocfilters>=1.4.1 in /opt/anaconda3/lib/python3.8/site-packages (from nbconvert->jupyter->rumbledb) (1.4.3)\n",
      "Requirement already satisfied: async-generator in /opt/anaconda3/lib/python3.8/site-packages (from nbclient<0.6.0,>=0.5.0->nbconvert->jupyter->rumbledb) (1.10)\n",
      "Requirement already satisfied: nest-asyncio in /opt/anaconda3/lib/python3.8/site-packages (from nbclient<0.6.0,>=0.5.0->nbconvert->jupyter->rumbledb) (1.5.1)\n",
      "Requirement already satisfied: webencodings in /opt/anaconda3/lib/python3.8/site-packages (from bleach->nbconvert->jupyter->rumbledb) (0.5.1)\n",
      "Requirement already satisfied: packaging in /opt/anaconda3/lib/python3.8/site-packages (from bleach->nbconvert->jupyter->rumbledb) (20.9)\n",
      "Requirement already satisfied: pyparsing>=2.0.2 in /opt/anaconda3/lib/python3.8/site-packages (from packaging->bleach->nbconvert->jupyter->rumbledb) (2.4.7)\n",
      "Requirement already satisfied: qtpy in /opt/anaconda3/lib/python3.8/site-packages (from qtconsole->jupyter->rumbledb) (1.9.0)\n",
      "Requirement already satisfied: chardet<5,>=3.0.2 in /opt/anaconda3/lib/python3.8/site-packages (from requests->rumbledb) (4.0.0)\n",
      "Requirement already satisfied: idna<3,>=2.5 in /opt/anaconda3/lib/python3.8/site-packages (from requests->rumbledb) (2.10)\n",
      "Requirement already satisfied: certifi>=2017.4.17 in /opt/anaconda3/lib/python3.8/site-packages (from requests->rumbledb) (2020.12.5)\n",
      "Requirement already satisfied: urllib3<1.27,>=1.21.1 in /opt/anaconda3/lib/python3.8/site-packages (from requests->rumbledb) (1.26.4)\n"
     ]
    },
    {
     "name": "stdout",
     "output_type": "stream",
     "text": [
      "env: RUMBLEDB_SERVER=http://localhost:9090/jsoniq\n"
     ]
    }
   ],
   "source": [
    "!pip install rumbledb\n",
    "%load_ext rumbledb\n",
    "%env RUMBLEDB_SERVER=http://localhost:9090/jsoniq"
   ]
  },
  {
   "cell_type": "markdown",
   "metadata": {
    "id": "C6lJq6kJ2HoB"
   },
   "source": [
    "Now we are all set! You can now start reading and executing the JSONiq queries in this notebook as you go, and you can even edit them!"
   ]
  },
  {
   "cell_type": "markdown",
   "metadata": {
    "id": "F892l0gs5bmV"
   },
   "source": [
    "# 3. JSONiq"
   ]
  },
  {
   "cell_type": "markdown",
   "metadata": {
    "id": "5_NuBtRy4gIp"
   },
   "source": [
    "## JSON\n",
    "\n",
    "As explained on the [official JSON Web site](http://www.json.org/), JSON is a lightweight data-interchange format designed for humans as well as for computers. It supports as values:\n",
    "- objects (string-to-value maps)\n",
    "- arrays (ordered sequences of values)\n",
    "- strings\n",
    "- numbers\n",
    "- booleans (true, false)\n",
    "- null\n",
    "\n",
    "JSONiq provides declarative querying and updating capabilities on JSON data.\n",
    "\n",
    "## Elevator Pitch\n",
    "\n",
    "JSONiq is based on XQuery, which is a W3C standard (like XML and HTML). XQuery is a very powerful declarative language that originally manipulates XML data, but it turns out that it is also a very good fit for manipulating JSON natively.\n",
    "JSONiq, since it extends XQuery, is a very powerful general-purpose declarative programming language. Our experience is that, for the same task, you will probably write about 80% less code compared to imperative languages like JavaScript, Python or Ruby. Additionally, you get the benefits of strong type checking without actually having to write type declarations.\n",
    "Here is an appetizer before we start the tutorial from scratch.\n"
   ]
  },
  {
   "cell_type": "code",
   "execution_count": 3,
   "metadata": {
    "colab": {
     "base_uri": "https://localhost:8080/"
    },
    "id": "mx4djkAV3zom",
    "outputId": "3a2cad17-fb4c-4f8a-c9e1-3eedfb15c2ed"
   },
   "outputs": [
    {
     "name": "stdout",
     "output_type": "stream",
     "text": [
      "Took: 0.06418585777282715 ms\n",
      "[{\"nb\": 1, \"state\": \"MA\", \"sold\": \"broiler\"}, {\"nb\": 1, \"state\": \"MA\", \"sold\": \"socks\"}, {\"nb\": 2, \"state\": \"MA\", \"sold\": \"toaster\"}, {\"nb\": 2, \"state\": \"MA\", \"sold\": \"toaster\"}, {\"nb\": 2, \"state\": \"MA\", \"sold\": \"socks\"}, {\"nb\": 3, \"state\": \"CA\", \"sold\": \"toaster\"}, {\"nb\": 3, \"state\": \"CA\", \"sold\": \"blender\"}, {\"nb\": 3, \"state\": \"CA\", \"sold\": \"blender\"}, {\"nb\": 3, \"state\": \"CA\", \"sold\": \"shirt\"}]\n"
     ]
    }
   ],
   "source": [
    "%%jsoniq\n",
    "\n",
    "let $stores :=\n",
    "[\n",
    "  { \"store number\" : 1, \"state\" : \"MA\" },\n",
    "  { \"store number\" : 2, \"state\" : \"MA\" },\n",
    "  { \"store number\" : 3, \"state\" : \"CA\" },\n",
    "  { \"store number\" : 4, \"state\" : \"CA\" }\n",
    "]\n",
    "let $sales := [\n",
    "   { \"product\" : \"broiler\", \"store number\" : 1, \"quantity\" : 20  },\n",
    "   { \"product\" : \"toaster\", \"store number\" : 2, \"quantity\" : 100 },\n",
    "   { \"product\" : \"toaster\", \"store number\" : 2, \"quantity\" : 50 },\n",
    "   { \"product\" : \"toaster\", \"store number\" : 3, \"quantity\" : 50 },\n",
    "   { \"product\" : \"blender\", \"store number\" : 3, \"quantity\" : 100 },\n",
    "   { \"product\" : \"blender\", \"store number\" : 3, \"quantity\" : 150 },\n",
    "   { \"product\" : \"socks\", \"store number\" : 1, \"quantity\" : 500 },\n",
    "   { \"product\" : \"socks\", \"store number\" : 2, \"quantity\" : 10 },\n",
    "   { \"product\" : \"shirt\", \"store number\" : 3, \"quantity\" : 10 }\n",
    "]\n",
    "let $join :=\n",
    "  for $store in $stores[], $sale in $sales[]\n",
    "  where $store.\"store number\" = $sale.\"store number\"\n",
    "  return {\n",
    "    \"nb\" : $store.\"store number\",\n",
    "    \"state\" : $store.state,\n",
    "    \"sold\" : $sale.product\n",
    "  }\n",
    "return [$join]"
   ]
  },
  {
   "cell_type": "markdown",
   "metadata": {
    "id": "_L-2AVNj4xu9"
   },
   "source": [
    "## And here you go\n",
    "\n",
    "### Actually, you already knew some JSONiq\n",
    "\n",
    "The first thing you need to know is that a well-formed JSON document is a JSONiq expression as well.\n",
    "This means that you can copy-and-paste any JSON document into a query. The following are JSONiq queries that are \"idempotent\" (they just output themselves):"
   ]
  },
  {
   "cell_type": "code",
   "execution_count": 4,
   "metadata": {
    "colab": {
     "base_uri": "https://localhost:8080/"
    },
    "id": "CHCFKAio30Ri",
    "outputId": "fb0cea84-4649-43a9-8354-434115363038"
   },
   "outputs": [
    {
     "name": "stdout",
     "output_type": "stream",
     "text": [
      "Took: 0.018178224563598633 ms\n",
      "{\"pi\": 3.14, \"sq2\": 1.4}\n"
     ]
    }
   ],
   "source": [
    "%%jsoniq\n",
    "{ \"pi\" : 3.14, \"sq2\" : 1.4 }"
   ]
  },
  {
   "cell_type": "code",
   "execution_count": 5,
   "metadata": {
    "colab": {
     "base_uri": "https://localhost:8080/"
    },
    "id": "_JmeeMZl45Ns",
    "outputId": "d191845d-3a72-4312-ffc5-d1349efdcdd1"
   },
   "outputs": [
    {
     "name": "stdout",
     "output_type": "stream",
     "text": [
      "Took: 0.01673293113708496 ms\n",
      "[2, 3, 5, 7, 11, 13]\n"
     ]
    }
   ],
   "source": [
    "%%jsoniq\n",
    "[ 2, 3, 5, 7, 11, 13 ]"
   ]
  },
  {
   "cell_type": "code",
   "execution_count": 6,
   "metadata": {
    "colab": {
     "base_uri": "https://localhost:8080/"
    },
    "id": "HkvoBs9M46NF",
    "outputId": "516b8c65-c0d2-4119-ed0d-c0c45f861391"
   },
   "outputs": [
    {
     "name": "stdout",
     "output_type": "stream",
     "text": [
      "Took: 0.018063068389892578 ms\n",
      "{\"operations\": [{\"binary\": [\"and\", \"or\"]}, {\"unary\": [\"not\"]}], \"bits\": [0, 1]}\n"
     ]
    }
   ],
   "source": [
    "%%jsoniq\n",
    "{\n",
    "      \"operations\" : [\n",
    "        { \"binary\" : [ \"and\", \"or\"] },\n",
    "        { \"unary\" : [\"not\"] }\n",
    "      ],\n",
    "      \"bits\" : [\n",
    "        0, 1\n",
    "      ]\n",
    "    }"
   ]
  },
  {
   "cell_type": "code",
   "execution_count": 7,
   "metadata": {
    "colab": {
     "base_uri": "https://localhost:8080/"
    },
    "id": "AHtMILv349g5",
    "outputId": "d1a7f9da-573d-4838-b130-b4d3fc88d9d1"
   },
   "outputs": [
    {
     "name": "stdout",
     "output_type": "stream",
     "text": [
      "Took: 0.017025232315063477 ms\n",
      "[{\"Question\": \"Ultimate\"}, [\"Life\", \"the universe\", \"and everything\"]]\n"
     ]
    }
   ],
   "source": [
    "%%jsoniq\n",
    "[ { \"Question\" : \"Ultimate\" }, [\"Life\", \"the universe\", \"and everything\"] ]"
   ]
  },
  {
   "cell_type": "markdown",
   "metadata": {
    "id": "TsX2S4IG5CZ-"
   },
   "source": [
    "\n",
    "This works with objects, arrays (even nested), strings, numbers, booleans, null.\n",
    "\n",
    "It also works the other way round: if your query outputs an object or an array, you can use it as a JSON document. JSONiq is a declarative language. This means that you only need to say what you want - the compiler will take care of the how.\n",
    "\n",
    "In the above queries, you are basically saying: I want to output this JSON content, and here it is."
   ]
  },
  {
   "cell_type": "markdown",
   "metadata": {
    "id": "YyaQW8HIhrKW"
   },
   "source": [
    "## JSONiq basics\n",
    "\n",
    "### The real JSONiq Hello, World!\n",
    "\n",
    "Wondering what a hello world program looks like in JSONiq? Here it is:"
   ]
  },
  {
   "cell_type": "code",
   "execution_count": 8,
   "metadata": {
    "colab": {
     "base_uri": "https://localhost:8080/"
    },
    "id": "m2-VyECPhrKW",
    "outputId": "8240399c-f4e2-4093-9bab-730483682202"
   },
   "outputs": [
    {
     "name": "stdout",
     "output_type": "stream",
     "text": [
      "Took: 0.014234781265258789 ms\n",
      "\"Hello, World!\"\n"
     ]
    }
   ],
   "source": [
    "%%jsoniq\n",
    "\"Hello, World!\""
   ]
  },
  {
   "cell_type": "markdown",
   "metadata": {
    "id": "Uy48JTprhrKW"
   },
   "source": [
    "Not surprisingly, it outputs the string \"Hello, World!\".\n",
    "\n",
    "### Numbers and arithmetic operations\n",
    "\n",
    "Okay, so, now, you might be thinking: \"What is the use of this language if it just outputs what I put in?\" Of course, JSONiq can more than that. And still in a declarative way. Here is how it works with numbers:"
   ]
  },
  {
   "cell_type": "code",
   "execution_count": 9,
   "metadata": {
    "colab": {
     "base_uri": "https://localhost:8080/"
    },
    "id": "3wBwni49hrKW",
    "outputId": "701bc69a-df71-4d98-ad24-58846f19d1e7"
   },
   "outputs": [
    {
     "name": "stdout",
     "output_type": "stream",
     "text": [
      "Took: 0.01718902587890625 ms\n",
      "4\n"
     ]
    }
   ],
   "source": [
    "%%jsoniq\n",
    "2 + 2"
   ]
  },
  {
   "cell_type": "code",
   "execution_count": 10,
   "metadata": {
    "colab": {
     "base_uri": "https://localhost:8080/"
    },
    "id": "CWOO__4khrKW",
    "outputId": "eb96f30a-13aa-4bd7-aad6-aa26bef5d563"
   },
   "outputs": [
    {
     "name": "stdout",
     "output_type": "stream",
     "text": [
      "Took: 0.017850160598754883 ms\n",
      "42\n"
     ]
    }
   ],
   "source": [
    "%%jsoniq\n",
    " (38 + 2) div 2 + 11 * 2\n"
   ]
  },
  {
   "cell_type": "markdown",
   "metadata": {
    "id": "5FZceBJWhrKW"
   },
   "source": [
    "(mind the division operator which is the \"div\" keyword. The slash operator has different semantics).\n",
    "\n",
    "Like JSON, JSONiq works with decimals and doubles:"
   ]
  },
  {
   "cell_type": "code",
   "execution_count": 11,
   "metadata": {
    "colab": {
     "base_uri": "https://localhost:8080/"
    },
    "id": "KlAPfbwbhrKW",
    "outputId": "1fc65cbe-66a4-4e18-9753-23b8c064c98e"
   },
   "outputs": [
    {
     "name": "stdout",
     "output_type": "stream",
     "text": [
      "Took: 0.01671600341796875 ms\n",
      "2.52924e+25\n"
     ]
    }
   ],
   "source": [
    "%%jsoniq\n",
    " 6.022e23 * 42"
   ]
  },
  {
   "cell_type": "markdown",
   "metadata": {
    "id": "MmFfvP9lhrKW"
   },
   "source": [
    "### Logical operations\n",
    "\n",
    "JSONiq supports boolean operations."
   ]
  },
  {
   "cell_type": "code",
   "execution_count": 12,
   "metadata": {
    "colab": {
     "base_uri": "https://localhost:8080/"
    },
    "id": "yClsI5LehrKW",
    "outputId": "a0c08cb6-460b-42a7-bbea-d1f607c9e851"
   },
   "outputs": [
    {
     "name": "stdout",
     "output_type": "stream",
     "text": [
      "Took: 0.016801118850708008 ms\n",
      "false\n"
     ]
    }
   ],
   "source": [
    "%%jsoniq\n",
    "true and false"
   ]
  },
  {
   "cell_type": "code",
   "execution_count": 13,
   "metadata": {
    "colab": {
     "base_uri": "https://localhost:8080/"
    },
    "id": "KVQgXpgzhrKW",
    "outputId": "2e86627f-fa71-4558-c8d8-e35dfa21a310"
   },
   "outputs": [
    {
     "name": "stdout",
     "output_type": "stream",
     "text": [
      "Took: 0.0166168212890625 ms\n",
      "true\n"
     ]
    }
   ],
   "source": [
    "%%jsoniq\n",
    "(true or false) and (false or true)"
   ]
  },
  {
   "cell_type": "markdown",
   "metadata": {
    "id": "VDIvgk5khrKW"
   },
   "source": [
    "The unary not is also available:"
   ]
  },
  {
   "cell_type": "code",
   "execution_count": 14,
   "metadata": {
    "cell_status": {
     "execute_time": {
      "duration": 243.537109375,
      "end_time": 1557235032261.665
     }
    },
    "colab": {
     "base_uri": "https://localhost:8080/"
    },
    "id": "djGZSV0MhrKW",
    "outputId": "a3ce0220-eacc-4ef5-fc6e-14c68ba15081"
   },
   "outputs": [
    {
     "name": "stdout",
     "output_type": "stream",
     "text": [
      "Took: 0.017134666442871094 ms\n",
      "false\n"
     ]
    }
   ],
   "source": [
    "%%jsoniq\n",
    "not true"
   ]
  },
  {
   "cell_type": "markdown",
   "metadata": {
    "id": "eELMD0pqhrKW"
   },
   "source": [
    "### Strings\n",
    "\n",
    "JSONiq is capable of manipulating strings as well, using functions:\n"
   ]
  },
  {
   "cell_type": "code",
   "execution_count": 15,
   "metadata": {
    "cell_status": {
     "execute_time": {
      "duration": 21398.401123046875,
      "end_time": 1557212587338.105
     }
    },
    "colab": {
     "base_uri": "https://localhost:8080/"
    },
    "id": "6YwugMo5hrKW",
    "outputId": "0a9324ee-459a-40bf-f124-7bbf1c672f66"
   },
   "outputs": [
    {
     "name": "stdout",
     "output_type": "stream",
     "text": [
      "Took: 0.01720905303955078 ms\n",
      "\"Hello Captain Kirk\"\n"
     ]
    }
   ],
   "source": [
    "%%jsoniq\n",
    "concat(\"Hello \", \"Captain \", \"Kirk\")"
   ]
  },
  {
   "cell_type": "code",
   "execution_count": 16,
   "metadata": {
    "cell_status": {
     "execute_time": {
      "duration": 752.509033203125,
      "end_time": 1557234001018.501
     }
    },
    "colab": {
     "base_uri": "https://localhost:8080/"
    },
    "id": "lGrKFlHVhrKW",
    "outputId": "d87b2eb5-cacb-4dc4-bc0f-8248f8a0d590"
   },
   "outputs": [
    {
     "name": "stdout",
     "output_type": "stream",
     "text": [
      "Took: 0.01688098907470703 ms\n",
      "\"Spock\"\n"
     ]
    }
   ],
   "source": [
    "%%jsoniq\n",
    "substring(\"Mister Spock\", 8, 5)"
   ]
  },
  {
   "cell_type": "markdown",
   "metadata": {
    "id": "ZBusMnoShrKW"
   },
   "source": [
    "JSONiq comes up with a rich string function library out of the box, inherited from its base language. These functions are listed [here](https://www.w3.org/TR/xpath-functions-30/) (actually, you will find many more for numbers, dates, etc).\n"
   ]
  },
  {
   "cell_type": "markdown",
   "metadata": {
    "cell_status": {
     "execute_time": {
      "duration": 17337.39599609375,
      "end_time": 1557230774662.657
     }
    },
    "id": "FIA6t1cbhrKW"
   },
   "source": [
    "\n",
    "### Sequences\n",
    "\n",
    "Until now, we have only been working with single values (an object, an array, a number, a string, a boolean). JSONiq supports sequences of values. You can build a sequence using commas:\n"
   ]
  },
  {
   "cell_type": "code",
   "execution_count": 17,
   "metadata": {
    "colab": {
     "base_uri": "https://localhost:8080/"
    },
    "id": "30E1G-s5hrKW",
    "outputId": "6dfb54e8-6dcd-4e2e-f96d-1af10b3c2e70"
   },
   "outputs": [
    {
     "name": "stdout",
     "output_type": "stream",
     "text": [
      "Took: 0.016695737838745117 ms\n",
      "1\n",
      "2\n",
      "3\n",
      "4\n",
      "5\n",
      "6\n",
      "7\n",
      "8\n",
      "9\n",
      "10\n"
     ]
    }
   ],
   "source": [
    "%%jsoniq\n",
    " (1, 2, 3, 4, 5, 6, 7, 8, 9, 10)"
   ]
  },
  {
   "cell_type": "code",
   "execution_count": 18,
   "metadata": {
    "cell_status": {
     "execute_time": {
      "duration": 222241.63500976562,
      "end_time": 1557387411306.792
     }
    },
    "colab": {
     "base_uri": "https://localhost:8080/"
    },
    "id": "FzbtJmhKhrKW",
    "outputId": "4aed1541-ca55-44d1-d82a-b4018abf842f"
   },
   "outputs": [
    {
     "name": "stdout",
     "output_type": "stream",
     "text": [
      "Took: 0.016308069229125977 ms\n",
      "1\n",
      "true\n",
      "42\n",
      "\"Life\"\n"
     ]
    }
   ],
   "source": [
    "%%jsoniq\n",
    "1, true, 4.2e1, \"Life\""
   ]
  },
  {
   "cell_type": "markdown",
   "metadata": {
    "id": "X_rMosG5hrKW"
   },
   "source": [
    "The \"to\" operator is very convenient, too:"
   ]
  },
  {
   "cell_type": "code",
   "execution_count": 19,
   "metadata": {
    "cell_status": {
     "execute_time": {
      "duration": 39579.559814453125,
      "end_time": 1557387951481.842
     }
    },
    "colab": {
     "base_uri": "https://localhost:8080/"
    },
    "id": "IoBx9SdShrKW",
    "outputId": "2bc9365b-9eec-4d2e-ef87-028b462858ee"
   },
   "outputs": [
    {
     "name": "stdout",
     "output_type": "stream",
     "text": [
      "Took: 0.017055034637451172 ms\n",
      "1\n",
      "2\n",
      "3\n",
      "4\n",
      "5\n",
      "6\n",
      "7\n",
      "8\n",
      "9\n",
      "10\n",
      "11\n",
      "12\n",
      "13\n",
      "14\n",
      "15\n",
      "16\n",
      "17\n",
      "18\n",
      "19\n",
      "20\n",
      "21\n",
      "22\n",
      "23\n",
      "24\n",
      "25\n",
      "26\n",
      "27\n",
      "28\n",
      "29\n",
      "30\n",
      "31\n",
      "32\n",
      "33\n",
      "34\n",
      "35\n",
      "36\n",
      "37\n",
      "38\n",
      "39\n",
      "40\n",
      "41\n",
      "42\n",
      "43\n",
      "44\n",
      "45\n",
      "46\n",
      "47\n",
      "48\n",
      "49\n",
      "50\n",
      "51\n",
      "52\n",
      "53\n",
      "54\n",
      "55\n",
      "56\n",
      "57\n",
      "58\n",
      "59\n",
      "60\n",
      "61\n",
      "62\n",
      "63\n",
      "64\n",
      "65\n",
      "66\n",
      "67\n",
      "68\n",
      "69\n",
      "70\n",
      "71\n",
      "72\n",
      "73\n",
      "74\n",
      "75\n",
      "76\n",
      "77\n",
      "78\n",
      "79\n",
      "80\n",
      "81\n",
      "82\n",
      "83\n",
      "84\n",
      "85\n",
      "86\n",
      "87\n",
      "88\n",
      "89\n",
      "90\n",
      "91\n",
      "92\n",
      "93\n",
      "94\n",
      "95\n",
      "96\n",
      "97\n",
      "98\n",
      "99\n",
      "100\n"
     ]
    }
   ],
   "source": [
    "%%jsoniq\n",
    " (1 to 100)"
   ]
  },
  {
   "cell_type": "markdown",
   "metadata": {
    "id": "v0cwsmaMhrKW"
   },
   "source": [
    "Some functions even work on sequences:"
   ]
  },
  {
   "cell_type": "code",
   "execution_count": 20,
   "metadata": {
    "cell_status": {
     "execute_time": {
      "duration": 27601.31787109375,
      "end_time": 1557171455208.987
     }
    },
    "colab": {
     "base_uri": "https://localhost:8080/"
    },
    "id": "GRY2tHEQhrKX",
    "outputId": "5f311e43-149a-475f-ab75-d0ab1bda141e"
   },
   "outputs": [
    {
     "name": "stdout",
     "output_type": "stream",
     "text": [
      "Took: 0.017038822174072266 ms\n",
      "5050\n"
     ]
    }
   ],
   "source": [
    "%%jsoniq\n",
    "sum(1 to 100)"
   ]
  },
  {
   "cell_type": "code",
   "execution_count": 21,
   "metadata": {
    "cell_status": {
     "execute_time": {
      "duration": 55527.44091796875,
      "end_time": 1557229508578.007
     }
    },
    "colab": {
     "base_uri": "https://localhost:8080/"
    },
    "id": "khUaAhjjhrKX",
    "outputId": "e11a688a-0289-4258-dff7-f7bf6581af0e"
   },
   "outputs": [
    {
     "name": "stdout",
     "output_type": "stream",
     "text": [
      "Took: 0.01677703857421875 ms\n",
      "\"These-are-some-words\"\n"
     ]
    }
   ],
   "source": [
    "%%jsoniq\n",
    "string-join((\"These\", \"are\", \"some\", \"words\"), \"-\")"
   ]
  },
  {
   "cell_type": "code",
   "execution_count": 22,
   "metadata": {
    "cell_status": {
     "execute_time": {
      "duration": 13343.739013671875,
      "end_time": 1557224627704.526
     }
    },
    "colab": {
     "base_uri": "https://localhost:8080/"
    },
    "id": "93Jz2DaFhrKX",
    "outputId": "12524661-04f4-4024-9a39-ee46952e55ea"
   },
   "outputs": [
    {
     "name": "stdout",
     "output_type": "stream",
     "text": [
      "Took: 0.01714777946472168 ms\n",
      "11\n"
     ]
    }
   ],
   "source": [
    "%%jsoniq\n",
    "count(10 to 20)"
   ]
  },
  {
   "cell_type": "code",
   "execution_count": 23,
   "metadata": {
    "cell_status": {
     "execute_time": {
      "duration": 19340.81201171875,
      "end_time": 1557220260002.04
     }
    },
    "colab": {
     "base_uri": "https://localhost:8080/"
    },
    "id": "3FDtCtVChrKX",
    "outputId": "00a87695-4616-4754-f039-957e9d6abed2"
   },
   "outputs": [
    {
     "name": "stdout",
     "output_type": "stream",
     "text": [
      "Took: 0.016518831253051758 ms\n",
      "50.5\n"
     ]
    }
   ],
   "source": [
    "%%jsoniq\n",
    "avg(1 to 100)"
   ]
  },
  {
   "cell_type": "markdown",
   "metadata": {
    "id": "hG7zwtfWhrKX"
   },
   "source": [
    "Unlike arrays, sequences are flat. The sequence (3) is identical to the integer 3, and (1, (2, 3)) is identical to (1, 2, 3)."
   ]
  },
  {
   "cell_type": "markdown",
   "metadata": {
    "cell_status": {
     "execute_time": {
      "duration": 433204.9020996094,
      "end_time": 1557221766692.589
     }
    },
    "id": "t1Y_5iuBhrKX",
    "scrolled": false
   },
   "source": [
    "## A bit more in depth\n",
    "\n",
    "### Variables\n",
    "\n",
    "You can bind a sequence of values to a (dollar-prefixed) variable, like so:"
   ]
  },
  {
   "cell_type": "code",
   "execution_count": 24,
   "metadata": {
    "colab": {
     "base_uri": "https://localhost:8080/"
    },
    "id": "IQZBFJlMhrKX",
    "outputId": "48e0fae3-e6dc-470f-9994-ebd1935413d5"
   },
   "outputs": [
    {
     "name": "stdout",
     "output_type": "stream",
     "text": [
      "Took: 0.0174407958984375 ms\n",
      "\"Bearing 3 1 4 Mark 5. Engage!\"\n"
     ]
    }
   ],
   "source": [
    "%%jsoniq\n",
    "let $x := \"Bearing 3 1 4 Mark 5. \"\n",
    "return concat($x, \"Engage!\")"
   ]
  },
  {
   "cell_type": "code",
   "execution_count": 25,
   "metadata": {
    "colab": {
     "base_uri": "https://localhost:8080/"
    },
    "id": "-Zh0x645hrKX",
    "outputId": "4c28f554-c9ca-4340-c349-05a10b1b85c8"
   },
   "outputs": [
    {
     "name": "stdout",
     "output_type": "stream",
     "text": [
      "Took: 0.017529010772705078 ms\n",
      "\"Kirk and Picard and Sisko\"\n"
     ]
    }
   ],
   "source": [
    "%%jsoniq\n",
    "let $x := (\"Kirk\", \"Picard\", \"Sisko\")\n",
    "return string-join($x, \" and \")"
   ]
  },
  {
   "cell_type": "markdown",
   "metadata": {
    "id": "8zkA2HFAhrKX"
   },
   "source": [
    "You can bind as many variables as you want:"
   ]
  },
  {
   "cell_type": "code",
   "execution_count": 26,
   "metadata": {
    "colab": {
     "base_uri": "https://localhost:8080/"
    },
    "id": "RQifv3ezhrKX",
    "outputId": "5fba50d8-5bf1-43ac-ce33-eab339ddbf01"
   },
   "outputs": [
    {
     "name": "stdout",
     "output_type": "stream",
     "text": [
      "Took: 0.017329692840576172 ms\n",
      "1\n",
      "2\n",
      "3\n"
     ]
    }
   ],
   "source": [
    "%%jsoniq\n",
    "let $x := 1\n",
    "let $y := $x * 2\n",
    "let $z := $y + $x\n",
    "return ($x, $y, $z)"
   ]
  },
  {
   "cell_type": "markdown",
   "metadata": {
    "id": "OLuNB3rbhrKX"
   },
   "source": [
    "and even reuse the same name to hide formerly declared variables:"
   ]
  },
  {
   "cell_type": "code",
   "execution_count": 27,
   "metadata": {
    "colab": {
     "base_uri": "https://localhost:8080/"
    },
    "id": "itMBTXAGhrKX",
    "outputId": "a25d9255-5b1a-4b2c-d687-c63ab6fc9375"
   },
   "outputs": [
    {
     "name": "stdout",
     "output_type": "stream",
     "text": [
      "Took: 0.016882896423339844 ms\n",
      "6\n"
     ]
    }
   ],
   "source": [
    "%%jsoniq\n",
    "let $x := 1\n",
    "let $x := $x + 2\n",
    "let $x := $x + 3\n",
    "return $x"
   ]
  },
  {
   "cell_type": "markdown",
   "metadata": {
    "id": "U13Yla0ghrKX"
   },
   "source": [
    "### Iteration\n",
    "\n",
    "In a way very similar to let, you can iterate over a sequence of values with the \"for\" keyword. Instead of binding the entire sequence of the variable, it will bind each value of the sequence in turn to this variable."
   ]
  },
  {
   "cell_type": "code",
   "execution_count": 28,
   "metadata": {
    "colab": {
     "base_uri": "https://localhost:8080/"
    },
    "id": "6p-sWqTbhrKX",
    "outputId": "f25f6777-06a9-4f92-d36d-259828410813"
   },
   "outputs": [
    {
     "name": "stdout",
     "output_type": "stream",
     "text": [
      "Took: 0.01795482635498047 ms\n",
      "2\n",
      "4\n",
      "6\n",
      "8\n",
      "10\n",
      "12\n",
      "14\n",
      "16\n",
      "18\n",
      "20\n"
     ]
    }
   ],
   "source": [
    "%%jsoniq\n",
    "for $i in 1 to 10\n",
    "return $i * 2"
   ]
  },
  {
   "cell_type": "markdown",
   "metadata": {
    "id": "NlEgcpIGhrKX"
   },
   "source": [
    "More interestingly, you can combine fors and lets like so:"
   ]
  },
  {
   "cell_type": "code",
   "execution_count": 29,
   "metadata": {
    "colab": {
     "base_uri": "https://localhost:8080/"
    },
    "id": "Ml_bcBOQhrKX",
    "outputId": "6f5cdb95-da52-4c21-d533-061471947ddd"
   },
   "outputs": [
    {
     "name": "stdout",
     "output_type": "stream",
     "text": [
      "Took: 0.018014907836914062 ms\n",
      "2\n",
      "4\n",
      "6\n",
      "8\n",
      "10\n",
      "12\n",
      "14\n",
      "16\n",
      "18\n",
      "20\n"
     ]
    }
   ],
   "source": [
    "%%jsoniq\n",
    "let $sequence := 1 to 10\n",
    "for $value in $sequence\n",
    "let $square := $value * 2\n",
    "return $square"
   ]
  },
  {
   "cell_type": "markdown",
   "metadata": {
    "id": "wP-22ufxhrKX"
   },
   "source": [
    "and even filter out some values:"
   ]
  },
  {
   "cell_type": "code",
   "execution_count": 30,
   "metadata": {
    "colab": {
     "base_uri": "https://localhost:8080/"
    },
    "id": "ERlSrAa7hrKX",
    "outputId": "de0fa418-52ac-4e66-d14d-06d2dc1fc764"
   },
   "outputs": [
    {
     "name": "stdout",
     "output_type": "stream",
     "text": [
      "Took: 0.018146991729736328 ms\n",
      "2\n",
      "4\n",
      "6\n",
      "8\n"
     ]
    }
   ],
   "source": [
    "%%jsoniq\n",
    "let $sequence := 1 to 10\n",
    "for $value in $sequence\n",
    "let $square := $value * 2\n",
    "where $square < 10\n",
    "return $square"
   ]
  },
  {
   "cell_type": "markdown",
   "metadata": {
    "id": "SmCGI8DkhrKX"
   },
   "source": [
    "Note that you can only iterate over sequences, not arrays. To iterate over an array, you can obtain the sequence of its values with the [] operator, like so:\n"
   ]
  },
  {
   "cell_type": "code",
   "execution_count": 31,
   "metadata": {
    "colab": {
     "base_uri": "https://localhost:8080/"
    },
    "id": "ntMrbesIhrKX",
    "outputId": "43de2799-bea4-4fc0-d12a-a1307142f327"
   },
   "outputs": [
    {
     "name": "stdout",
     "output_type": "stream",
     "text": [
      "Took: 0.016294002532958984 ms\n",
      "1\n",
      "2\n",
      "3\n"
     ]
    }
   ],
   "source": [
    "%%jsoniq\n",
    "[1, 2, 3][]"
   ]
  },
  {
   "cell_type": "markdown",
   "metadata": {
    "id": "kEJLBHoghrKX"
   },
   "source": [
    "### Conditions\n",
    "\n",
    "You can make the output depend on a condition with an if-then-else construct:"
   ]
  },
  {
   "cell_type": "code",
   "execution_count": 32,
   "metadata": {
    "colab": {
     "base_uri": "https://localhost:8080/"
    },
    "id": "gwq7TT5bhrKX",
    "outputId": "5f7f6c0e-f8c5-4c5e-8318-364c8a5d99c6"
   },
   "outputs": [
    {
     "name": "stdout",
     "output_type": "stream",
     "text": [
      "Took: 0.018146753311157227 ms\n",
      "1\n",
      "2\n",
      "3\n",
      "4\n",
      "-5\n",
      "-6\n",
      "-7\n",
      "-8\n",
      "-9\n",
      "-10\n"
     ]
    }
   ],
   "source": [
    "%%jsoniq\n",
    "for $x in 1 to 10\n",
    "return if ($x < 5) then $x\n",
    "                   else -$x"
   ]
  },
  {
   "cell_type": "markdown",
   "metadata": {
    "id": "gItSAnHAhrKX"
   },
   "source": [
    "Note that the else clause is required - however, it can be the empty sequence () which is often when you need if only the then clause is relevant to you."
   ]
  },
  {
   "cell_type": "markdown",
   "metadata": {
    "id": "bkJkimFphrKX"
   },
   "source": [
    "### Composability of Expressions\n",
    "\n",
    "Now that you know of a couple of elementary JSONiq expressions, you can combine them in more elaborate expressions. For example, you can put any sequence of values in an array:"
   ]
  },
  {
   "cell_type": "code",
   "execution_count": 33,
   "metadata": {
    "colab": {
     "base_uri": "https://localhost:8080/"
    },
    "id": "-j-CBM7OhrKX",
    "outputId": "fea11cf0-d137-43f9-ccac-ccf9b6f85591"
   },
   "outputs": [
    {
     "name": "stdout",
     "output_type": "stream",
     "text": [
      "Took: 0.01707601547241211 ms\n",
      "[1, 2, 3, 4, 5, 6, 7, 8, 9, 10]\n"
     ]
    }
   ],
   "source": [
    "%%jsoniq\n",
    "[ 1 to 10 ]"
   ]
  },
  {
   "cell_type": "markdown",
   "metadata": {
    "id": "bItRSk5mhrKY"
   },
   "source": [
    "Or you can dynamically compute the value of object pairs (or their key):"
   ]
  },
  {
   "cell_type": "code",
   "execution_count": 34,
   "metadata": {
    "colab": {
     "base_uri": "https://localhost:8080/"
    },
    "id": "dh4HMny2hrKY",
    "outputId": "0c49c543-727a-4bea-bf68-efda10523f2c"
   },
   "outputs": [
    {
     "name": "stdout",
     "output_type": "stream",
     "text": [
      "Took: 0.017391204833984375 ms\n",
      "{\"Greeting\": \"Hello, Mister Spock\", \"Farewell\": \"Live long and prosper\"}\n"
     ]
    }
   ],
   "source": [
    "%%jsoniq\n",
    "{\n",
    "      \"Greeting\" : (let $d := \"Mister Spock\"\n",
    "                    return concat(\"Hello, \", $d)),\n",
    "      \"Farewell\" : string-join((\"Live\", \"long\", \"and\", \"prosper\"),\n",
    "                               \" \")\n",
    "}"
   ]
  },
  {
   "cell_type": "markdown",
   "metadata": {
    "id": "TWReZYhohrKY"
   },
   "source": [
    "You can dynamically generate object singletons (with a single pair):\n"
   ]
  },
  {
   "cell_type": "code",
   "execution_count": 35,
   "metadata": {
    "colab": {
     "base_uri": "https://localhost:8080/"
    },
    "id": "QHDNi1QjhrKY",
    "outputId": "610be9b1-602c-4f2e-f7c3-9e2fb3661656"
   },
   "outputs": [
    {
     "name": "stdout",
     "output_type": "stream",
     "text": [
      "Took: 0.01676797866821289 ms\n",
      "{\"Integer 2\": 4}\n"
     ]
    }
   ],
   "source": [
    "%%jsoniq\n",
    "{ concat(\"Integer \", 2) : 2 * 2 }"
   ]
  },
  {
   "cell_type": "markdown",
   "metadata": {
    "id": "sPptIS_4hrKY"
   },
   "source": [
    "and then merge lots of them into a new object with the {| |} notation:"
   ]
  },
  {
   "cell_type": "code",
   "execution_count": 36,
   "metadata": {
    "colab": {
     "base_uri": "https://localhost:8080/"
    },
    "id": "KEw2x-1jhrKY",
    "outputId": "a904a920-a640-4ca8-9210-b6ed363de203"
   },
   "outputs": [
    {
     "name": "stdout",
     "output_type": "stream",
     "text": [
      "Took: 0.019245147705078125 ms\n",
      "{\"Square of 1\": 1, \"Square of 2\": 4, \"Square of 3\": 9, \"Square of 4\": 16, \"Square of 5\": 25, \"Square of 6\": 36, \"Square of 7\": 49, \"Square of 8\": 64, \"Square of 9\": 81, \"Square of 10\": 100}\n"
     ]
    }
   ],
   "source": [
    "%%jsoniq\n",
    "{|\n",
    "    for $i in 1 to 10\n",
    "    return { concat(\"Square of \", $i) : $i * $i }\n",
    "|}"
   ]
  },
  {
   "cell_type": "markdown",
   "metadata": {
    "id": "Zj9AgqsBhrKY"
   },
   "source": [
    "## JSON Navigation\n",
    "\n",
    "Up to now, you have learnt how to compose expressions so as to do some computations and to build objects and arrays. It also works the other way round: if you have some JSON data, you can access it and navigate.\n",
    "All you need to know is: JSONiq views\n",
    "an array as an ordered list of values,\n",
    "an object as a set of name/value pairs\n"
   ]
  },
  {
   "cell_type": "markdown",
   "metadata": {
    "id": "4NMMWdnShrKY"
   },
   "source": [
    "### Objects\n",
    "\n",
    "You can use the dot operator to retrieve the value associated with a key. Quotes are optional, except if the key has special characters such as spaces. It will return the value associated thereto:"
   ]
  },
  {
   "cell_type": "code",
   "execution_count": 37,
   "metadata": {
    "colab": {
     "base_uri": "https://localhost:8080/"
    },
    "id": "VFfwP0nfhrKY",
    "outputId": "a9ce97bf-b2a8-48dc-9a95-ead2621e6e65"
   },
   "outputs": [
    {
     "name": "stdout",
     "output_type": "stream",
     "text": [
      "Took: 0.017333984375 ms\n",
      "\"Sarah\"\n"
     ]
    }
   ],
   "source": [
    "%%jsoniq\n",
    "let $person := {\n",
    "    \"first name\" : \"Sarah\",\n",
    "    \"age\" : 13,\n",
    "    \"gender\" : \"female\",\n",
    "    \"friends\" : [ \"Jim\", \"Mary\", \"Jennifer\"]\n",
    "}\n",
    "return $person.\"first name\""
   ]
  },
  {
   "cell_type": "markdown",
   "metadata": {
    "id": "PkxiFID7hrKY"
   },
   "source": [
    "You can also ask for all keys in an object:"
   ]
  },
  {
   "cell_type": "code",
   "execution_count": 38,
   "metadata": {
    "colab": {
     "base_uri": "https://localhost:8080/"
    },
    "id": "8T2OCFUghrKY",
    "outputId": "b8ea74a3-7bde-4267-a5be-a50cdf60a0cf"
   },
   "outputs": [
    {
     "name": "stdout",
     "output_type": "stream",
     "text": [
      "Took: 0.01740121841430664 ms\n",
      "{\"keys\": [\"name\", \"age\", \"gender\", \"friends\"]}\n"
     ]
    }
   ],
   "source": [
    "%%jsoniq\n",
    "let $person := {\n",
    "    \"name\" : \"Sarah\",\n",
    "    \"age\" : 13,\n",
    "    \"gender\" : \"female\",\n",
    "    \"friends\" : [ \"Jim\", \"Mary\", \"Jennifer\"]\n",
    "}\n",
    "return { \"keys\" : [ keys($person)] }"
   ]
  },
  {
   "cell_type": "markdown",
   "metadata": {
    "id": "oim6bAQyhrKY"
   },
   "source": [
    "### Arrays\n",
    "\n",
    "The [[]] operator retrieves the entry at the given position:"
   ]
  },
  {
   "cell_type": "code",
   "execution_count": 39,
   "metadata": {
    "colab": {
     "base_uri": "https://localhost:8080/"
    },
    "id": "P14wlsn2hrKY",
    "outputId": "25e256e0-44b7-40c1-e58f-cd052957bad7"
   },
   "outputs": [
    {
     "name": "stdout",
     "output_type": "stream",
     "text": [
      "Took: 0.017881155014038086 ms\n",
      "\"Mary\"\n"
     ]
    }
   ],
   "source": [
    "%%jsoniq\n",
    "let $friends := [ \"Jim\", \"Mary\", \"Jennifer\"]\n",
    "return $friends[[1+1]]"
   ]
  },
  {
   "cell_type": "markdown",
   "metadata": {
    "id": "drILINuehrKY"
   },
   "source": [
    "It is also possible to get the size of an array:"
   ]
  },
  {
   "cell_type": "code",
   "execution_count": 40,
   "metadata": {
    "colab": {
     "base_uri": "https://localhost:8080/"
    },
    "id": "GPTzsEWuhrKY",
    "outputId": "a388685f-2c52-474a-d1d3-54e21b56da7a"
   },
   "outputs": [
    {
     "name": "stdout",
     "output_type": "stream",
     "text": [
      "Took: 0.017472028732299805 ms\n",
      "{\"how many friends\": 3}\n"
     ]
    }
   ],
   "source": [
    "%%jsoniq\n",
    "let $person := {\n",
    "    \"name\" : \"Sarah\",\n",
    "    \"age\" : 13,\n",
    "    \"gender\" : \"female\",\n",
    "    \"friends\" : [ \"Jim\", \"Mary\", \"Jennifer\"]\n",
    "}\n",
    "return { \"how many friends\" : size($person.friends) }"
   ]
  },
  {
   "cell_type": "markdown",
   "metadata": {
    "id": "HnVfQuPYhrKY"
   },
   "source": [
    "Finally, the [] operator returns all elements in an array, as a sequence:"
   ]
  },
  {
   "cell_type": "code",
   "execution_count": 41,
   "metadata": {
    "colab": {
     "base_uri": "https://localhost:8080/"
    },
    "id": "cnr5WXjohrKY",
    "outputId": "b6ac5240-9c48-44e6-9114-6274931ff5f7"
   },
   "outputs": [
    {
     "name": "stdout",
     "output_type": "stream",
     "text": [
      "Took: 0.016943931579589844 ms\n",
      "\"Jim\"\n",
      "\"Mary\"\n",
      "\"Jennifer\"\n"
     ]
    }
   ],
   "source": [
    "%%jsoniq\n",
    "let $person := {\n",
    "    \"name\" : \"Sarah\",\n",
    "    \"age\" : 13,\n",
    "    \"gender\" : \"female\",\n",
    "    \"friends\" : [ \"Jim\", \"Mary\", \"Jennifer\"]\n",
    "}\n",
    "return $person.friends[]"
   ]
  },
  {
   "cell_type": "markdown",
   "metadata": {
    "id": "kyzBECFMhrKY"
   },
   "source": [
    "### Relational Algebra\n",
    "\n",
    "Do you remember SQL's SELECT FROM WHERE statements? JSONiq inherits selection, projection and join capability from XQuery, too."
   ]
  },
  {
   "cell_type": "code",
   "execution_count": 42,
   "metadata": {
    "colab": {
     "base_uri": "https://localhost:8080/"
    },
    "id": "nqHxqtoYhrKY",
    "outputId": "6546f3ee-fd42-428f-91b4-c2619c79c8ee"
   },
   "outputs": [
    {
     "name": "stdout",
     "output_type": "stream",
     "text": [
      "Took: 0.020859241485595703 ms\n",
      "[{\"nb\": 1, \"state\": \"MA\", \"sold\": \"broiler\"}, {\"nb\": 1, \"state\": \"MA\", \"sold\": \"socks\"}, {\"nb\": 2, \"state\": \"MA\", \"sold\": \"toaster\"}, {\"nb\": 2, \"state\": \"MA\", \"sold\": \"toaster\"}, {\"nb\": 2, \"state\": \"MA\", \"sold\": \"socks\"}, {\"nb\": 3, \"state\": \"CA\", \"sold\": \"toaster\"}, {\"nb\": 3, \"state\": \"CA\", \"sold\": \"blender\"}, {\"nb\": 3, \"state\": \"CA\", \"sold\": \"blender\"}, {\"nb\": 3, \"state\": \"CA\", \"sold\": \"shirt\"}]\n"
     ]
    }
   ],
   "source": [
    "%%jsoniq\n",
    "let $stores :=\n",
    "[\n",
    "    { \"store number\" : 1, \"state\" : \"MA\" },\n",
    "    { \"store number\" : 2, \"state\" : \"MA\" },\n",
    "    { \"store number\" : 3, \"state\" : \"CA\" },\n",
    "    { \"store number\" : 4, \"state\" : \"CA\" }\n",
    "]\n",
    "let $sales := [\n",
    "    { \"product\" : \"broiler\", \"store number\" : 1, \"quantity\" : 20  },\n",
    "    { \"product\" : \"toaster\", \"store number\" : 2, \"quantity\" : 100 },\n",
    "    { \"product\" : \"toaster\", \"store number\" : 2, \"quantity\" : 50 },\n",
    "    { \"product\" : \"toaster\", \"store number\" : 3, \"quantity\" : 50 },\n",
    "    { \"product\" : \"blender\", \"store number\" : 3, \"quantity\" : 100 },\n",
    "    { \"product\" : \"blender\", \"store number\" : 3, \"quantity\" : 150 },\n",
    "    { \"product\" : \"socks\", \"store number\" : 1, \"quantity\" : 500 },\n",
    "    { \"product\" : \"socks\", \"store number\" : 2, \"quantity\" : 10 },\n",
    "    { \"product\" : \"shirt\", \"store number\" : 3, \"quantity\" : 10 }\n",
    "]\n",
    "let $join :=\n",
    "    for $store in $stores[], $sale in $sales[]\n",
    "    where $store.\"store number\" = $sale.\"store number\"\n",
    "    return {\n",
    "        \"nb\" : $store.\"store number\",\n",
    "        \"state\" : $store.state,\n",
    "        \"sold\" : $sale.product\n",
    "    }\n",
    "return [$join]"
   ]
  },
  {
   "cell_type": "markdown",
   "metadata": {
    "id": "Bj5MkqjYhrKY"
   },
   "source": [
    "### Access datasets\n",
    "\n",
    "Rumble can read input from many file systems and many file formats. If you are using our backend, you can only use json-doc() with any URI pointing to a JSON file and navigate it as you see fit. "
   ]
  },
  {
   "cell_type": "code",
   "execution_count": null,
   "metadata": {
    "colab": {
     "base_uri": "https://localhost:8080/"
    },
    "id": "IvKabTMohrKY",
    "outputId": "97c9b90b-80ce-4377-fef3-44f28247d79b"
   },
   "outputs": [],
   "source": [
    "%%jsoniq\n",
    "json-doc(\"Put any HTTP URL pointing to a JSON document here!\").foo[[1]].bar.foobar[]"
   ]
  },
  {
   "cell_type": "markdown",
   "metadata": {
    "id": "4ryDS6RGhrKY"
   },
   "source": [
    "If you are using your own Rumble server on your cluster, you can also use any other function and scheme."
   ]
  },
  {
   "cell_type": "code",
   "execution_count": null,
   "metadata": {
    "colab": {
     "base_uri": "https://localhost:8080/"
    },
    "id": "P100xHh4hrKY",
    "outputId": "fb2a4098-fe35-44ae-b763-fe3fcd8f3746"
   },
   "outputs": [],
   "source": [
    "%%jsoniq\n",
    "json-file(\"put the path to a JSON lines file here. This will only work against your own Rumble backend and Spark cluster, though.\")"
   ]
  },
  {
   "cell_type": "markdown",
   "metadata": {
    "cell_status": {
     "execute_time": {
      "duration": 44.55712890625,
      "end_time": 1557044256642.663
     }
    },
    "collapsed": true,
    "id": "YzHCdZ2Ld-kt"
   },
   "source": [
    "# 4. The Great Language Game\n",
    "\n",
    "This week you will be using again the [language confusion dataset](https://quietlyamused.org/blog/2014/03/12/language-confusion/). You will write queries with Rumble.\n",
    "\n",
    "Download and decompress the dataset in the same folder as `rumbledb-1.21.0.jar` with the following:\n",
    "```\n",
    "wget https://cloud.inf.ethz.ch/s/a8FoHew6dHKGYKK/download/confusion20140302.tbz2\n",
    "tar -jxvf confusion20140302.tbz2\n",
    "```\n",
    "or, if `wget` is not found,\n",
    "```\n",
    "curl -O https://cloud.inf.ethz.ch/s/a8FoHew6dHKGYKK/download/confusion20140302.tbz2\n",
    "tar -jxvf confusion20140302.tbz2\n",
    "```"
   ]
  },
  {
   "cell_type": "markdown",
   "metadata": {
    "id": "rUS6Y9IqDS4Y"
   },
   "source": [
    "Now, you should have a folder with a (large) json file inside."
   ]
  },
  {
   "cell_type": "markdown",
   "metadata": {},
   "source": [
    "## 4.0 Check the data"
   ]
  },
  {
   "cell_type": "markdown",
   "metadata": {
    "id": "er5XQjCVd-kt"
   },
   "source": [
    "We provide you with two datasets, you can already check that you get the correct number of records. The full dataset should contain 16511224 records. We also provided you with a second small dataset to test your queries faster, it contains 100000 records."
   ]
  },
  {
   "cell_type": "code",
   "execution_count": null,
   "metadata": {},
   "outputs": [],
   "source": [
    "%%jsoniq\n",
    "count(for $i in json-file(\"confusion-2014-03-02/confusion-2014-03-02.json\")\n",
    "return $i)"
   ]
  },
  {
   "cell_type": "code",
   "execution_count": 44,
   "metadata": {},
   "outputs": [
    {
     "name": "stdout",
     "output_type": "stream",
     "text": [
      "Took: 10.62374496459961 ms\n",
      "100000\n"
     ]
    }
   ],
   "source": [
    "%%jsoniq\n",
    "count(for $i in json-file(\"confusion-100000.json\")\n",
    "return $i)"
   ]
  },
  {
   "cell_type": "markdown",
   "metadata": {},
   "source": [
    "Print one record"
   ]
  },
  {
   "cell_type": "code",
   "execution_count": 45,
   "metadata": {},
   "outputs": [
    {
     "name": "stdout",
     "output_type": "stream",
     "text": [
      "Took: 0.05994009971618652 ms\n",
      "{\"choices\": [\"Maori\", \"Mandarin\", \"Norwegian\", \"Tongan\"], \"country\": \"AU\", \"date\": \"2013-08-19\", \"guess\": \"Norwegian\", \"sample\": \"48f9c924e0d98c959d8a6f1862b3ce9a\", \"target\": \"Norwegian\"}\n"
     ]
    }
   ],
   "source": [
    "%%jsoniq\n",
    "json-file(\"confusion-100000.json\")[1]"
   ]
  },
  {
   "cell_type": "markdown",
   "metadata": {},
   "source": [
    "List the keys"
   ]
  },
  {
   "cell_type": "code",
   "execution_count": 46,
   "metadata": {},
   "outputs": [
    {
     "name": "stdout",
     "output_type": "stream",
     "text": [
      "Took: 0.28394508361816406 ms\n",
      "\"country\"\n",
      "\"choices\"\n",
      "\"date\"\n",
      "\"sample\"\n",
      "\"guess\"\n",
      "\"target\"\n"
     ]
    }
   ],
   "source": [
    "%%jsoniq\n",
    "keys(json-file(\"confusion-100000.json\"))"
   ]
  },
  {
   "cell_type": "markdown",
   "metadata": {
    "id": "3Pcf7FL7Aetl"
   },
   "source": [
    "## 4.1 Query the data"
   ]
  },
  {
   "cell_type": "markdown",
   "metadata": {
    "id": "er5XQjCVd-kt"
   },
   "source": [
    "You can read data from a json file with `json-file`. For example, the following query will read and print the entries in the confusion dataset:\n",
    "\n",
    "\n"
   ]
  },
  {
   "cell_type": "code",
   "execution_count": 47,
   "metadata": {
    "colab": {
     "base_uri": "https://localhost:8080/"
    },
    "id": "nPHu0ODR9vAE",
    "outputId": "155b6dae-f100-4551-b1c7-0101b86c69b0"
   },
   "outputs": [
    {
     "name": "stdout",
     "output_type": "stream",
     "text": [
      "Took: 0.32622504234313965 ms\n",
      "\"Warning! The output sequence contains 100000 items but its materialization was capped at 200 items. This value can be configured with the result-size parameter in the query string of the HTTP request.\"\n",
      "{\"choices\": [\"Maori\", \"Mandarin\", \"Norwegian\", \"Tongan\"], \"country\": \"AU\", \"date\": \"2013-08-19\", \"guess\": \"Norwegian\", \"sample\": \"48f9c924e0d98c959d8a6f1862b3ce9a\", \"target\": \"Norwegian\"}\n",
      "{\"choices\": [\"Danish\", \"Dinka\", \"Khmer\", \"Lao\"], \"country\": \"AU\", \"date\": \"2013-08-19\", \"guess\": \"Dinka\", \"sample\": \"af5e8f27cef9e689a070b8814dcc02c3\", \"target\": \"Dinka\"}\n",
      "{\"choices\": [\"German\", \"Hungarian\", \"Samoan\", \"Turkish\"], \"country\": \"AU\", \"date\": \"2013-08-19\", \"guess\": \"Turkish\", \"sample\": \"509c36eb58dbce009ccf93f375358d53\", \"target\": \"Samoan\"}\n",
      "{\"choices\": [\"Danish\", \"Korean\", \"Latvian\", \"Somali\"], \"country\": \"AU\", \"date\": \"2013-08-19\", \"guess\": \"Latvian\", \"sample\": \"a505ab771ae7c32744ad31b3051b8ee9\", \"target\": \"Somali\"}\n",
      "{\"choices\": [\"Bangla\", \"Dinka\", \"Italian\", \"Japanese\"], \"country\": \"AU\", \"date\": \"2013-08-19\", \"guess\": \"Japanese\", \"sample\": \"3569611136ea04bab18a0cd605ced358\", \"target\": \"Japanese\"}\n",
      "{\"choices\": [\"Hindi\", \"Lao\", \"Maltese\", \"Turkish\"], \"country\": \"AU\", \"date\": \"2013-08-19\", \"guess\": \"Maltese\", \"sample\": \"af0e25c7637fb0dcdc56fac6d49aa55e\", \"target\": \"Turkish\"}\n",
      "{\"choices\": [\"Burmese\", \"Danish\", \"French\", \"Swedish\"], \"country\": \"AU\", \"date\": \"2013-08-19\", \"guess\": \"French\", \"sample\": \"92f9e1c17e6df988780527341fdb471d\", \"target\": \"French\"}\n",
      "{\"choices\": [\"German\", \"Serbian\", \"Swedish\", \"Vietnamese\"], \"country\": \"AU\", \"date\": \"2013-08-19\", \"guess\": \"German\", \"sample\": \"e77d97b712adffc39e531e20237a5589\", \"target\": \"German\"}\n",
      "{\"choices\": [\"Amharic\", \"Czech\", \"Sinhalese\", \"Spanish\"], \"country\": \"AU\", \"date\": \"2013-08-19\", \"guess\": \"Spanish\", \"sample\": \"dc3ace49393de518e87d4f8d3ae8d9db\", \"target\": \"Spanish\"}\n",
      "{\"choices\": [\"Estonian\", \"Japanese\", \"Lao\", \"Romanian\"], \"country\": \"AU\", \"date\": \"2013-08-19\", \"guess\": \"Romanian\", \"sample\": \"903fc45cba5245f21deaaca3966f825b\", \"target\": \"Romanian\"}\n",
      "{\"choices\": [\"Burmese\", \"Cantonese\", \"Serbian\", \"Ukrainian\"], \"country\": \"AU\", \"date\": \"2013-08-19\", \"guess\": \"Cantonese\", \"sample\": \"203628f42619d301e642b3553b7a684a\", \"target\": \"Cantonese\"}\n",
      "{\"choices\": [\"Amharic\", \"Dinka\", \"Indonesian\", \"Thai\"], \"country\": \"AU\", \"date\": \"2013-08-19\", \"guess\": \"Amharic\", \"sample\": \"cd3dffdb83f221e09710cbfbcaffdb31\", \"target\": \"Dinka\"}\n",
      "{\"choices\": [\"Assyrian\", \"Finnish\", \"Norwegian\", \"Turkish\"], \"country\": \"AU\", \"date\": \"2013-08-19\", \"guess\": \"Assyrian\", \"sample\": \"16ac545260ae198b7a3d882e06e5f261\", \"target\": \"Assyrian\"}\n",
      "{\"choices\": [\"Hebrew\", \"Hindi\", \"Ukrainian\", \"Yiddish\"], \"country\": \"AU\", \"date\": \"2013-08-19\", \"guess\": \"Hebrew\", \"sample\": \"1dc9a1bf90e4e788906dc716dc18d878\", \"target\": \"Hebrew\"}\n",
      "{\"choices\": [\"Cantonese\", \"Kurdish\", \"Maltese\", \"Somali\"], \"country\": \"AU\", \"date\": \"2013-08-19\", \"guess\": \"Kurdish\", \"sample\": \"9f849ff225f0d94a52c186924e225231\", \"target\": \"Kurdish\"}\n",
      "{\"choices\": [\"Assyrian\", \"Dari\", \"Italian\", \"Khmer\"], \"country\": \"AU\", \"date\": \"2013-08-19\", \"guess\": \"Italian\", \"sample\": \"88f3e5120091cffdf8abeb92b5da90a2\", \"target\": \"Italian\"}\n",
      "{\"choices\": [\"Tagalog\", \"Japanese\", \"Maltese\", \"Tamil\"], \"country\": \"AU\", \"date\": \"2013-08-19\", \"guess\": \"Maltese\", \"sample\": \"589feca2e2009ad2e63458f17568cd13\", \"target\": \"Maltese\"}\n",
      "{\"choices\": [\"Italian\", \"Kannada\", \"Mandarin\", \"Serbian\"], \"country\": \"AU\", \"date\": \"2013-08-19\", \"guess\": \"Kannada\", \"sample\": \"c11a7723bd3fcd00e33e90c90a3492e5\", \"target\": \"Kannada\"}\n",
      "{\"choices\": [\"Amharic\", \"Dinka\", \"Mandarin\", \"Yiddish\"], \"country\": \"AU\", \"date\": \"2013-08-19\", \"guess\": \"Dinka\", \"sample\": \"cd3dffdb83f221e09710cbfbcaffdb31\", \"target\": \"Dinka\"}\n",
      "{\"choices\": [\"Assyrian\", \"Dinka\", \"Estonian\", \"German\"], \"country\": \"AU\", \"date\": \"2013-08-19\", \"guess\": \"German\", \"sample\": \"78213fa858b9a45d83121a8bf71712d1\", \"target\": \"German\"}\n",
      "{\"choices\": [\"Arabic\", \"Hebrew\", \"Hungarian\", \"Lao\"], \"country\": \"AU\", \"date\": \"2013-08-19\", \"guess\": \"Hebrew\", \"sample\": \"1dc9a1bf90e4e788906dc716dc18d878\", \"target\": \"Hebrew\"}\n",
      "{\"choices\": [\"Albanian\", \"Maori\", \"Croatian\", \"Indonesian\"], \"country\": \"AU\", \"date\": \"2013-08-19\", \"guess\": \"Croatian\", \"sample\": \"00b85faa8b878a14f8781be334deb137\", \"target\": \"Albanian\"}\n",
      "{\"choices\": [\"Assyrian\", \"Tagalog\", \"Lao\", \"Tongan\"], \"country\": \"AU\", \"date\": \"2013-08-19\", \"guess\": \"Lao\", \"sample\": \"4cf041f244960196b98c7d6ae8c79ed3\", \"target\": \"Lao\"}\n",
      "{\"choices\": [\"Hungarian\", \"Swedish\", \"Thai\", \"Turkish\"], \"country\": \"AU\", \"date\": \"2013-08-19\", \"guess\": \"Hungarian\", \"sample\": \"af0e25c7637fb0dcdc56fac6d49aa55e\", \"target\": \"Turkish\"}\n",
      "{\"choices\": [\"Bosnian\", \"Khmer\", \"Swahili\", \"Turkish\"], \"country\": \"AU\", \"date\": \"2013-08-19\", \"guess\": \"Khmer\", \"sample\": \"ac1275769d8aaf8758f95409271f8a2f\", \"target\": \"Swahili\"}\n",
      "{\"choices\": [\"Czech\", \"Japanese\", \"Tamil\", \"Vietnamese\"], \"country\": \"AU\", \"date\": \"2013-08-19\", \"guess\": \"Vietnamese\", \"sample\": \"8ea6892d1ddca321adc07b05176e3605\", \"target\": \"Vietnamese\"}\n",
      "{\"choices\": [\"Dari\", \"Hebrew\", \"Kurdish\", \"Portuguese\"], \"country\": \"AU\", \"date\": \"2013-08-19\", \"guess\": \"Portuguese\", \"sample\": \"5fd851c9e87a6b9b9da9eb2ab0de6686\", \"target\": \"Portuguese\"}\n",
      "{\"choices\": [\"Amharic\", \"Greek\", \"Nepali\", \"Ukrainian\"], \"country\": \"AU\", \"date\": \"2013-08-19\", \"guess\": \"Nepali\", \"sample\": \"faa86f6efaf2ee67f95239685d26fd88\", \"target\": \"Nepali\"}\n",
      "{\"choices\": [\"Bulgarian\", \"Indonesian\", \"Malayalam\", \"Russian\"], \"country\": \"AU\", \"date\": \"2013-08-19\", \"guess\": \"Malayalam\", \"sample\": \"ff8fcb796b7fdc540dd567c144024f82\", \"target\": \"Indonesian\"}\n",
      "{\"choices\": [\"Finnish\", \"Kurdish\", \"Turkish\", \"Yiddish\"], \"country\": \"AU\", \"date\": \"2013-08-19\", \"guess\": \"Finnish\", \"sample\": \"4a3dfa40ed621940a0a38408956b86e0\", \"target\": \"Finnish\"}\n",
      "{\"choices\": [\"German\", \"Hindi\", \"Somali\", \"Tamil\"], \"country\": \"AU\", \"date\": \"2013-08-19\", \"guess\": \"German\", \"sample\": \"78213fa858b9a45d83121a8bf71712d1\", \"target\": \"German\"}\n",
      "{\"choices\": [\"Fijian\", \"Greek\", \"Mandarin\", \"Vietnamese\"], \"country\": \"AU\", \"date\": \"2013-08-19\", \"guess\": \"Greek\", \"sample\": \"f53c7596c141ee6d5d2b3ab90361f802\", \"target\": \"Fijian\"}\n",
      "{\"choices\": [\"Burmese\", \"Danish\", \"French\", \"Kurdish\"], \"country\": \"AU\", \"date\": \"2013-08-19\", \"guess\": \"Burmese\", \"sample\": \"878d3d845ccb0859aa05e80e1d35730f\", \"target\": \"Burmese\"}\n",
      "{\"choices\": [\"Khmer\", \"Sinhalese\", \"Swahili\", \"Turkish\"], \"country\": \"AU\", \"date\": \"2013-08-19\", \"guess\": \"Turkish\", \"sample\": \"714795c596ef0639a385fe620d2c42ab\", \"target\": \"Khmer\"}\n",
      "{\"choices\": [\"Arabic\", \"Dinka\", \"Fijian\", \"Thai\"], \"country\": \"AU\", \"date\": \"2013-08-19\", \"guess\": \"Fijian\", \"sample\": \"192e7c59bb734ee762a323219846295b\", \"target\": \"Dinka\"}\n",
      "{\"choices\": [\"Hebrew\", \"Malay\", \"Swahili\", \"Swedish\"], \"country\": \"AU\", \"date\": \"2013-08-19\", \"guess\": \"Swahili\", \"sample\": \"1b959fe55794f6d4e1ea038bfe336759\", \"target\": \"Swahili\"}\n",
      "{\"choices\": [\"Indonesian\", \"Kannada\", \"Norwegian\", \"Polish\"], \"country\": \"AU\", \"date\": \"2013-08-19\", \"guess\": \"Norwegian\", \"sample\": \"f1aac78bec424c4d6c716553719b0b70\", \"target\": \"Polish\"}\n",
      "{\"choices\": [\"Burmese\", \"Cantonese\", \"Dutch\", \"Swedish\"], \"country\": \"AU\", \"date\": \"2013-08-19\", \"guess\": \"Swedish\", \"sample\": \"5cd22cbf16be1a93d304d589431c3ec3\", \"target\": \"Dutch\"}\n",
      "{\"choices\": [\"Albanian\", \"Bulgarian\", \"Japanese\", \"Ukrainian\"], \"country\": \"AU\", \"date\": \"2013-08-19\", \"guess\": \"Ukrainian\", \"sample\": \"efcd813daec1c836d9f030b30caa07ce\", \"target\": \"Albanian\"}\n",
      "{\"choices\": [\"Dinka\", \"Hebrew\", \"Hindi\", \"Vietnamese\"], \"country\": \"AU\", \"date\": \"2013-08-19\", \"guess\": \"Hebrew\", \"sample\": \"157085744728e35079622c71804cf722\", \"target\": \"Hebrew\"}\n",
      "{\"choices\": [\"Dinka\", \"Nepali\", \"Norwegian\", \"Slovenian\"], \"country\": \"AU\", \"date\": \"2013-08-19\", \"guess\": \"Slovenian\", \"sample\": \"208e1606aa365f3ed573adc7111f58e9\", \"target\": \"Norwegian\"}\n",
      "{\"choices\": [\"Lao\", \"Nepali\", \"Russian\", \"Tongan\"], \"country\": \"AU\", \"date\": \"2013-08-19\", \"guess\": \"Russian\", \"sample\": \"8a59d48e99e8a1df7e366c4648095e27\", \"target\": \"Russian\"}\n",
      "{\"choices\": [\"Albanian\", \"Bulgarian\", \"Russian\", \"Ukrainian\"], \"country\": \"AU\", \"date\": \"2013-08-19\", \"guess\": \"Bulgarian\", \"sample\": \"00b85faa8b878a14f8781be334deb137\", \"target\": \"Albanian\"}\n",
      "{\"choices\": [\"Dinka\", \"Mandarin\", \"Slovenian\", \"Turkish\"], \"country\": \"AU\", \"date\": \"2013-08-19\", \"guess\": \"Turkish\", \"sample\": \"cd3dffdb83f221e09710cbfbcaffdb31\", \"target\": \"Dinka\"}\n",
      "{\"choices\": [\"Maori\", \"French\", \"Maltese\", \"Vietnamese\"], \"country\": \"AU\", \"date\": \"2013-08-19\", \"guess\": \"Maltese\", \"sample\": \"36d2f4e9173e2d4cad8b8594310c856b\", \"target\": \"Maltese\"}\n",
      "{\"choices\": [\"Amharic\", \"Estonian\", \"Hebrew\", \"Urdu\"], \"country\": \"AU\", \"date\": \"2013-08-19\", \"guess\": \"Urdu\", \"sample\": \"5af9790de5ecef3853d6d89f8e75916c\", \"target\": \"Estonian\"}\n",
      "{\"choices\": [\"Dinka\", \"Finnish\", \"Gujarati\", \"Portuguese\"], \"country\": \"AU\", \"date\": \"2013-08-19\", \"guess\": \"Portuguese\", \"sample\": \"5fd851c9e87a6b9b9da9eb2ab0de6686\", \"target\": \"Portuguese\"}\n",
      "{\"choices\": [\"Bosnian\", \"Indonesian\", \"Romanian\", \"Serbian\"], \"country\": \"AU\", \"date\": \"2013-08-19\", \"guess\": \"Serbian\", \"sample\": \"ec4d6dad1be487091ec2b1b63820e329\", \"target\": \"Serbian\"}\n",
      "{\"choices\": [\"Amharic\", \"Arabic\", \"Dinka\", \"Samoan\"], \"country\": \"AU\", \"date\": \"2013-08-19\", \"guess\": \"Dinka\", \"sample\": \"509c36eb58dbce009ccf93f375358d53\", \"target\": \"Samoan\"}\n",
      "{\"choices\": [\"French\", \"Japanese\", \"Russian\", \"Ukrainian\"], \"country\": \"AU\", \"date\": \"2013-08-19\", \"guess\": \"Japanese\", \"sample\": \"3569611136ea04bab18a0cd605ced358\", \"target\": \"Japanese\"}\n",
      "{\"choices\": [\"Bulgarian\", \"Tagalog\", \"Greek\", \"Turkish\"], \"country\": \"AU\", \"date\": \"2013-08-19\", \"guess\": \"Tagalog\", \"sample\": \"34df5eca0db3967da23f8a210337c9d6\", \"target\": \"Tagalog\"}\n",
      "{\"choices\": [\"Khmer\", \"Latvian\", \"Serbian\", \"Vietnamese\"], \"country\": \"AU\", \"date\": \"2013-08-19\", \"guess\": \"Serbian\", \"sample\": \"ec4d6dad1be487091ec2b1b63820e329\", \"target\": \"Serbian\"}\n",
      "{\"choices\": [\"Bulgarian\", \"Macedonian\", \"Russian\", \"Samoan\"], \"country\": \"AU\", \"date\": \"2013-08-19\", \"guess\": \"Bulgarian\", \"sample\": \"ff5b5a0d34c77d2e2027dad7e4deb094\", \"target\": \"Russian\"}\n",
      "{\"choices\": [\"Bosnian\", \"Polish\", \"Sinhalese\", \"Slovenian\"], \"country\": \"AU\", \"date\": \"2013-08-19\", \"guess\": \"Polish\", \"sample\": \"f2f07eb5c50e64c627f66566b3c7cc4a\", \"target\": \"Slovenian\"}\n",
      "{\"choices\": [\"Danish\", \"Dinka\", \"Hebrew\", \"Nepali\"], \"country\": \"AU\", \"date\": \"2013-08-19\", \"guess\": \"Nepali\", \"sample\": \"192e7c59bb734ee762a323219846295b\", \"target\": \"Dinka\"}\n",
      "{\"choices\": [\"Dutch\", \"Italian\", \"Latvian\", \"Portuguese\"], \"country\": \"AU\", \"date\": \"2013-08-19\", \"guess\": \"Latvian\", \"sample\": \"5aea2b93784263ae4b5a2524ddebebb2\", \"target\": \"Latvian\"}\n",
      "{\"choices\": [\"Czech\", \"Estonian\", \"Hungarian\", \"Slovak\"], \"country\": \"AU\", \"date\": \"2013-08-19\", \"guess\": \"Hungarian\", \"sample\": \"56626a14b479e47d5eb9568161dad285\", \"target\": \"Czech\"}\n",
      "{\"choices\": [\"Croatian\", \"Hebrew\", \"Malay\", \"Nepali\"], \"country\": \"AU\", \"date\": \"2013-08-19\", \"guess\": \"Nepali\", \"sample\": \"faa86f6efaf2ee67f95239685d26fd88\", \"target\": \"Nepali\"}\n",
      "{\"choices\": [\"Kannada\", \"Korean\", \"Nepali\", \"Urdu\"], \"country\": \"AU\", \"date\": \"2013-08-19\", \"guess\": \"Urdu\", \"sample\": \"3520fdcdf2658685928fc37e72ab2134\", \"target\": \"Urdu\"}\n",
      "{\"choices\": [\"Assyrian\", \"Czech\", \"German\", \"Hungarian\"], \"country\": \"AU\", \"date\": \"2013-08-19\", \"guess\": \"Assyrian\", \"sample\": \"a7d34c215264677c8385e90fa5363ec1\", \"target\": \"Assyrian\"}\n",
      "{\"choices\": [\"Tagalog\", \"Greek\", \"Swahili\", \"Tigrinya\"], \"country\": \"AU\", \"date\": \"2013-08-19\", \"guess\": \"Swahili\", \"sample\": \"3ec316c78773bb826dd924926f5c0d07\", \"target\": \"Tigrinya\"}\n",
      "{\"choices\": [\"Estonian\", \"Malay\", \"Russian\", \"Tamil\"], \"country\": \"AU\", \"date\": \"2013-08-19\", \"guess\": \"Tamil\", \"sample\": \"cc305dcad696147e28c6f36615aa0952\", \"target\": \"Tamil\"}\n",
      "{\"choices\": [\"Danish\", \"Hebrew\", \"Korean\", \"Kurdish\"], \"country\": \"AU\", \"date\": \"2013-08-19\", \"guess\": \"Danish\", \"sample\": \"5fdcb0979e1c546ea05d7bd780bd4bc3\", \"target\": \"Danish\"}\n",
      "{\"choices\": [\"Burmese\", \"Danish\", \"Romanian\", \"Ukrainian\"], \"country\": \"AU\", \"date\": \"2013-08-19\", \"guess\": \"Burmese\", \"sample\": \"31cba304794d1828c93d7b3c63aa840a\", \"target\": \"Burmese\"}\n",
      "{\"choices\": [\"German\", \"Maltese\", \"Polish\", \"Sinhalese\"], \"country\": \"AU\", \"date\": \"2013-08-19\", \"guess\": \"Maltese\", \"sample\": \"36d2f4e9173e2d4cad8b8594310c856b\", \"target\": \"Maltese\"}\n",
      "{\"choices\": [\"Burmese\", \"Czech\", \"French\", \"Maltese\"], \"country\": \"AU\", \"date\": \"2013-08-19\", \"guess\": \"Maltese\", \"sample\": \"589feca2e2009ad2e63458f17568cd13\", \"target\": \"Maltese\"}\n",
      "{\"choices\": [\"Albanian\", \"Bangla\", \"Dutch\", \"Mandarin\"], \"country\": \"AU\", \"date\": \"2013-08-19\", \"guess\": \"Dutch\", \"sample\": \"bf0f1eec2e9f147aba20ea9b3e9564bb\", \"target\": \"Dutch\"}\n",
      "{\"choices\": [\"Czech\", \"Estonian\", \"Maltese\", \"Mandarin\"], \"country\": \"AU\", \"date\": \"2013-08-19\", \"guess\": \"Mandarin\", \"sample\": \"01f51995ae86ff85e899d40768ab81a8\", \"target\": \"Mandarin\"}\n",
      "{\"choices\": [\"Estonian\", \"Fijian\", \"Khmer\", \"Urdu\"], \"country\": \"AU\", \"date\": \"2013-08-19\", \"guess\": \"Estonian\", \"sample\": \"b7e986bd3a0d5fd1db661e3bedf36111\", \"target\": \"Estonian\"}\n",
      "{\"choices\": [\"Armenian\", \"Dutch\", \"Serbian\", \"Yiddish\"], \"country\": \"AU\", \"date\": \"2013-08-19\", \"guess\": \"Serbian\", \"sample\": \"d34689ff8c3532426256b0963d7df2bb\", \"target\": \"Armenian\"}\n",
      "{\"choices\": [\"French\", \"Indonesian\", \"Macedonian\", \"Romanian\"], \"country\": \"AU\", \"date\": \"2013-08-19\", \"guess\": \"Indonesian\", \"sample\": \"ff8fcb796b7fdc540dd567c144024f82\", \"target\": \"Indonesian\"}\n",
      "{\"choices\": [\"Latvian\", \"Mandarin\", \"Sinhalese\", \"Urdu\"], \"country\": \"AU\", \"date\": \"2013-08-19\", \"guess\": \"Sinhalese\", \"sample\": \"755de9092b301614712fae5e1d2d47d3\", \"target\": \"Sinhalese\"}\n",
      "{\"choices\": [\"Assyrian\", \"Bangla\", \"Danish\", \"Yiddish\"], \"country\": \"AU\", \"date\": \"2013-08-19\", \"guess\": \"Bangla\", \"sample\": \"b2132278200e1e601b6814a15fdabcc1\", \"target\": \"Bangla\"}\n",
      "{\"choices\": [\"Albanian\", \"Dinka\", \"Spanish\", \"Thai\"], \"country\": \"AU\", \"date\": \"2013-08-19\", \"guess\": \"Spanish\", \"sample\": \"c8f4f097079404bf9a0e94d604efd1d5\", \"target\": \"Spanish\"}\n",
      "{\"choices\": [\"Estonian\", \"Tagalog\", \"Italian\", \"Malayalam\"], \"country\": \"AU\", \"date\": \"2013-08-19\", \"guess\": \"Italian\", \"sample\": \"88f3e5120091cffdf8abeb92b5da90a2\", \"target\": \"Italian\"}\n",
      "{\"choices\": [\"Arabic\", \"Bulgarian\", \"Latvian\", \"Urdu\"], \"country\": \"AU\", \"date\": \"2013-08-19\", \"guess\": \"Arabic\", \"sample\": \"8903e496bf04c3a85a70e1dc5e0da5f1\", \"target\": \"Arabic\"}\n",
      "{\"choices\": [\"Armenian\", \"Punjabi\", \"Serbian\", \"Tongan\"], \"country\": \"AU\", \"date\": \"2013-08-19\", \"guess\": \"Punjabi\", \"sample\": \"10ff356faf50696b30f8a58b9dd919b2\", \"target\": \"Punjabi\"}\n",
      "{\"choices\": [\"Arabic\", \"Bulgarian\", \"Hindi\", \"Spanish\"], \"country\": \"AU\", \"date\": \"2013-08-19\", \"guess\": \"Hindi\", \"sample\": \"568bfed6715c43735f95faef578d7cd5\", \"target\": \"Hindi\"}\n",
      "{\"choices\": [\"Assyrian\", \"Dari\", \"Kannada\", \"Tamil\"], \"country\": \"AU\", \"date\": \"2013-08-19\", \"guess\": \"Dari\", \"sample\": \"cad47cd466a2d8c25fa7a21c15cbb3cf\", \"target\": \"Dari\"}\n",
      "{\"choices\": [\"Armenian\", \"Danish\", \"Khmer\", \"Tongan\"], \"country\": \"AU\", \"date\": \"2013-08-19\", \"guess\": \"Tongan\", \"sample\": \"838cfe7f928e1a41710e01b3ee12088f\", \"target\": \"Tongan\"}\n",
      "{\"choices\": [\"Dinka\", \"Italian\", \"Khmer\", \"Samoan\"], \"country\": \"AU\", \"date\": \"2013-08-19\", \"guess\": \"Khmer\", \"sample\": \"714795c596ef0639a385fe620d2c42ab\", \"target\": \"Khmer\"}\n",
      "{\"choices\": [\"Amharic\", \"Fijian\", \"Hindi\", \"Romanian\"], \"country\": \"AU\", \"date\": \"2013-08-19\", \"guess\": \"Romanian\", \"sample\": \"903fc45cba5245f21deaaca3966f825b\", \"target\": \"Romanian\"}\n",
      "{\"choices\": [\"Bosnian\", \"Cantonese\", \"Greek\", \"Malay\"], \"country\": \"AU\", \"date\": \"2013-08-19\", \"guess\": \"Malay\", \"sample\": \"610d45322ed5aa122cf9b4a79d603781\", \"target\": \"Malay\"}\n",
      "{\"choices\": [\"Bangla\", \"Burmese\", \"Dari\", \"Portuguese\"], \"country\": \"AU\", \"date\": \"2013-08-19\", \"guess\": \"Bangla\", \"sample\": \"b2132278200e1e601b6814a15fdabcc1\", \"target\": \"Bangla\"}\n",
      "{\"choices\": [\"Albanian\", \"Croatian\", \"Hindi\", \"Maltese\"], \"country\": \"AU\", \"date\": \"2013-08-19\", \"guess\": \"Hindi\", \"sample\": \"9dac641f173f2a225501e8e50fc4e66e\", \"target\": \"Hindi\"}\n",
      "{\"choices\": [\"Romanian\", \"Tamil\", \"Tongan\", \"Turkish\"], \"country\": \"AU\", \"date\": \"2013-08-19\", \"guess\": \"Romanian\", \"sample\": \"6560ff4ce0b53a1b0bad2e7734f52381\", \"target\": \"Romanian\"}\n",
      "{\"choices\": [\"French\", \"Lao\", \"Malay\", \"Portuguese\"], \"country\": \"AU\", \"date\": \"2013-08-19\", \"guess\": \"Lao\", \"sample\": \"4cf041f244960196b98c7d6ae8c79ed3\", \"target\": \"Lao\"}\n",
      "{\"choices\": [\"Hungarian\", \"Japanese\", \"Slovenian\", \"Vietnamese\"], \"country\": \"AU\", \"date\": \"2013-08-19\", \"guess\": \"Vietnamese\", \"sample\": \"8ea6892d1ddca321adc07b05176e3605\", \"target\": \"Vietnamese\"}\n",
      "{\"choices\": [\"Tagalog\", \"Lao\", \"Slovak\", \"Ukrainian\"], \"country\": \"AU\", \"date\": \"2013-08-19\", \"guess\": \"Tagalog\", \"sample\": \"34df5eca0db3967da23f8a210337c9d6\", \"target\": \"Tagalog\"}\n",
      "{\"choices\": [\"Danish\", \"Hungarian\", \"Korean\", \"Samoan\"], \"country\": \"AU\", \"date\": \"2013-08-19\", \"guess\": \"Hungarian\", \"sample\": \"5fdcb0979e1c546ea05d7bd780bd4bc3\", \"target\": \"Danish\"}\n",
      "{\"choices\": [\"Greek\", \"Korean\", \"Polish\", \"Slovenian\"], \"country\": \"AU\", \"date\": \"2013-08-19\", \"guess\": \"Polish\", \"sample\": \"f2f07eb5c50e64c627f66566b3c7cc4a\", \"target\": \"Slovenian\"}\n",
      "{\"choices\": [\"Arabic\", \"Bosnian\", \"Kannada\", \"Thai\"], \"country\": \"AU\", \"date\": \"2013-08-19\", \"guess\": \"Kannada\", \"sample\": \"cf08af2ccb8382aa6c624095ec4f93fb\", \"target\": \"Kannada\"}\n",
      "{\"choices\": [\"Maori\", \"Dari\", \"Korean\", \"Spanish\"], \"country\": \"AU\", \"date\": \"2013-08-19\", \"guess\": \"Spanish\", \"sample\": \"c8f4f097079404bf9a0e94d604efd1d5\", \"target\": \"Spanish\"}\n",
      "{\"choices\": [\"Armenian\", \"Hebrew\", \"Italian\", \"Urdu\"], \"country\": \"AU\", \"date\": \"2013-08-19\", \"guess\": \"Urdu\", \"sample\": \"b46fa4a310d337db8f055083c68ba863\", \"target\": \"Armenian\"}\n",
      "{\"choices\": [\"Assyrian\", \"Tagalog\", \"Tongan\", \"Urdu\"], \"country\": \"AU\", \"date\": \"2013-08-19\", \"guess\": \"Tagalog\", \"sample\": \"6ba74243165c6e7fb5255890b18f8807\", \"target\": \"Tongan\"}\n",
      "{\"choices\": [\"Korean\", \"Nepali\", \"Farsi\", \"Tongan\"], \"country\": \"AU\", \"date\": \"2013-08-19\", \"guess\": \"Farsi\", \"sample\": \"d7a4029f42521d56af05c9f947a516c1\", \"target\": \"Farsi\"}\n",
      "{\"choices\": [\"Croatian\", \"Indonesian\", \"Italian\", \"Japanese\"], \"country\": \"AU\", \"date\": \"2013-08-19\", \"guess\": \"Indonesian\", \"sample\": \"ff8fcb796b7fdc540dd567c144024f82\", \"target\": \"Indonesian\"}\n",
      "{\"choices\": [\"Japanese\", \"Malayalam\", \"Slovak\", \"Vietnamese\"], \"country\": \"AU\", \"date\": \"2013-08-19\", \"guess\": \"Japanese\", \"sample\": \"3569611136ea04bab18a0cd605ced358\", \"target\": \"Japanese\"}\n",
      "{\"choices\": [\"Arabic\", \"Dutch\", \"Spanish\", \"Yiddish\"], \"country\": \"AU\", \"date\": \"2013-08-19\", \"guess\": \"Spanish\", \"sample\": \"dc3ace49393de518e87d4f8d3ae8d9db\", \"target\": \"Spanish\"}\n",
      "{\"choices\": [\"Assyrian\", \"Khmer\", \"Lao\", \"Punjabi\"], \"country\": \"AU\", \"date\": \"2013-08-19\", \"guess\": \"Khmer\", \"sample\": \"b5aa4ea31e44899dc4d58d4a35e05504\", \"target\": \"Lao\"}\n",
      "{\"choices\": [\"Czech\", \"Indonesian\", \"Kurdish\", \"Spanish\"], \"country\": \"AU\", \"date\": \"2013-08-19\", \"guess\": \"Spanish\", \"sample\": \"dc3ace49393de518e87d4f8d3ae8d9db\", \"target\": \"Spanish\"}\n",
      "{\"choices\": [\"Burmese\", \"Fijian\", \"Kurdish\", \"Maltese\"], \"country\": \"AU\", \"date\": \"2013-08-19\", \"guess\": \"Burmese\", \"sample\": \"f53c7596c141ee6d5d2b3ab90361f802\", \"target\": \"Fijian\"}\n",
      "{\"choices\": [\"Czech\", \"Korean\", \"Lao\", \"Ukrainian\"], \"country\": \"AU\", \"date\": \"2013-08-19\", \"guess\": \"Ukrainian\", \"sample\": \"6d86f6da48a5d151593317f64da0421f\", \"target\": \"Ukrainian\"}\n",
      "{\"choices\": [\"Indonesian\", \"Macedonian\", \"Swedish\", \"Vietnamese\"], \"country\": \"AU\", \"date\": \"2013-08-19\", \"guess\": \"Indonesian\", \"sample\": \"ff8fcb796b7fdc540dd567c144024f82\", \"target\": \"Indonesian\"}\n",
      "{\"choices\": [\"Korean\", \"Latvian\", \"Farsi\", \"Urdu\"], \"country\": \"AU\", \"date\": \"2013-08-19\", \"guess\": \"Farsi\", \"sample\": \"3520fdcdf2658685928fc37e72ab2134\", \"target\": \"Urdu\"}\n",
      "{\"choices\": [\"Greek\", \"Italian\", \"Samoan\", \"Slovenian\"], \"country\": \"AU\", \"date\": \"2013-08-19\", \"guess\": \"Italian\", \"sample\": \"0f43daadf6a1ce6d769fa0daa630b5f6\", \"target\": \"Greek\"}\n",
      "{\"choices\": [\"Kannada\", \"Mandarin\", \"Somali\", \"Spanish\"], \"country\": \"AU\", \"date\": \"2013-08-19\", \"guess\": \"Mandarin\", \"sample\": \"01f51995ae86ff85e899d40768ab81a8\", \"target\": \"Mandarin\"}\n",
      "{\"choices\": [\"Hindi\", \"Romanian\", \"Tigrinya\", \"Vietnamese\"], \"country\": \"AU\", \"date\": \"2013-08-19\", \"guess\": \"Vietnamese\", \"sample\": \"3aab36435babaea46064d7f173bb0ba3\", \"target\": \"Vietnamese\"}\n",
      "{\"choices\": [\"Bangla\", \"Maori\", \"Indonesian\", \"Polish\"], \"country\": \"AU\", \"date\": \"2013-08-19\", \"guess\": \"Polish\", \"sample\": \"1e94210c21a6af48b9c418a7d6380a1c\", \"target\": \"Maori\"}\n",
      "{\"choices\": [\"Dari\", \"German\", \"Hebrew\", \"Italian\"], \"country\": \"AU\", \"date\": \"2013-08-19\", \"guess\": \"Hebrew\", \"sample\": \"830854fd9c28424c604eaef2e97e61b3\", \"target\": \"Hebrew\"}\n",
      "{\"choices\": [\"Bosnian\", \"Gujarati\", \"Spanish\", \"Vietnamese\"], \"country\": \"AU\", \"date\": \"2013-08-19\", \"guess\": \"Vietnamese\", \"sample\": \"3aab36435babaea46064d7f173bb0ba3\", \"target\": \"Vietnamese\"}\n",
      "{\"choices\": [\"Arabic\", \"Estonian\", \"Greek\", \"Russian\"], \"country\": \"AU\", \"date\": \"2013-08-19\", \"guess\": \"Russian\", \"sample\": \"8a59d48e99e8a1df7e366c4648095e27\", \"target\": \"Russian\"}\n",
      "{\"choices\": [\"Amharic\", \"Bangla\", \"Hindi\", \"Punjabi\"], \"country\": \"AU\", \"date\": \"2013-08-19\", \"guess\": \"Punjabi\", \"sample\": \"9dac641f173f2a225501e8e50fc4e66e\", \"target\": \"Hindi\"}\n",
      "{\"choices\": [\"Assyrian\", \"Tagalog\", \"Spanish\", \"Swedish\"], \"country\": \"AU\", \"date\": \"2013-08-19\", \"guess\": \"Spanish\", \"sample\": \"c8f4f097079404bf9a0e94d604efd1d5\", \"target\": \"Spanish\"}\n",
      "{\"choices\": [\"Estonian\", \"Hebrew\", \"Malayalam\", \"Swahili\"], \"country\": \"AU\", \"date\": \"2013-08-19\", \"guess\": \"Hebrew\", \"sample\": \"830854fd9c28424c604eaef2e97e61b3\", \"target\": \"Hebrew\"}\n",
      "{\"choices\": [\"Arabic\", \"Croatian\", \"Malay\", \"Serbian\"], \"country\": \"AU\", \"date\": \"2013-08-19\", \"guess\": \"Arabic\", \"sample\": \"8903e496bf04c3a85a70e1dc5e0da5f1\", \"target\": \"Arabic\"}\n",
      "{\"choices\": [\"Dinka\", \"German\", \"Hungarian\", \"Kurdish\"], \"country\": \"AU\", \"date\": \"2013-08-19\", \"guess\": \"German\", \"sample\": \"78213fa858b9a45d83121a8bf71712d1\", \"target\": \"German\"}\n",
      "{\"choices\": [\"Latvian\", \"Maltese\", \"Thai\", \"Urdu\"], \"country\": \"AU\", \"date\": \"2013-08-19\", \"guess\": \"Urdu\", \"sample\": \"36d2f4e9173e2d4cad8b8594310c856b\", \"target\": \"Maltese\"}\n",
      "{\"choices\": [\"Gujarati\", \"Sinhalese\", \"Slovenian\", \"Turkish\"], \"country\": \"AU\", \"date\": \"2013-08-19\", \"guess\": \"Gujarati\", \"sample\": \"16d80eee6659268a90460422dd2a2896\", \"target\": \"Gujarati\"}\n",
      "{\"choices\": [\"Maori\", \"Finnish\", \"Urdu\", \"Yiddish\"], \"country\": \"AU\", \"date\": \"2013-08-19\", \"guess\": \"Urdu\", \"sample\": \"491ce6f2acb4a588a4e6ff3570d429a5\", \"target\": \"Yiddish\"}\n",
      "{\"choices\": [\"Assyrian\", \"Bosnian\", \"Mandarin\", \"Yiddish\"], \"country\": \"AU\", \"date\": \"2013-08-19\", \"guess\": \"Mandarin\", \"sample\": \"fc3712715ddc748286256eb7a64f25ab\", \"target\": \"Mandarin\"}\n",
      "{\"choices\": [\"Italian\", \"Macedonian\", \"Punjabi\", \"Spanish\"], \"country\": \"AU\", \"date\": \"2013-08-19\", \"guess\": \"Spanish\", \"sample\": \"d8d9dfa02ff280d107d54fd8f19ab5bb\", \"target\": \"Spanish\"}\n",
      "{\"choices\": [\"Maori\", \"Danish\", \"Hebrew\", \"Punjabi\"], \"country\": \"AU\", \"date\": \"2013-08-19\", \"guess\": \"Danish\", \"sample\": \"5fdcb0979e1c546ea05d7bd780bd4bc3\", \"target\": \"Danish\"}\n",
      "{\"choices\": [\"Khmer\", \"Macedonian\", \"Serbian\", \"Ukrainian\"], \"country\": \"AU\", \"date\": \"2013-08-19\", \"guess\": \"Serbian\", \"sample\": \"968e9c700742f65c43ad3cb99209e787\", \"target\": \"Macedonian\"}\n",
      "{\"choices\": [\"Arabic\", \"Bangla\", \"Danish\", \"Greek\"], \"country\": \"AU\", \"date\": \"2013-08-19\", \"guess\": \"Greek\", \"sample\": \"17527de743e8a5b5c339fb8ff117f65b\", \"target\": \"Greek\"}\n",
      "{\"choices\": [\"Maori\", \"Gujarati\", \"Punjabi\", \"Sinhalese\"], \"country\": \"AU\", \"date\": \"2013-08-19\", \"guess\": \"Sinhalese\", \"sample\": \"755de9092b301614712fae5e1d2d47d3\", \"target\": \"Sinhalese\"}\n",
      "{\"choices\": [\"Bosnian\", \"Hungarian\", \"Japanese\", \"Maltese\"], \"country\": \"AU\", \"date\": \"2013-08-19\", \"guess\": \"Bosnian\", \"sample\": \"589feca2e2009ad2e63458f17568cd13\", \"target\": \"Maltese\"}\n",
      "{\"choices\": [\"Greek\", \"Gujarati\", \"Mandarin\", \"Slovenian\"], \"country\": \"AU\", \"date\": \"2013-08-19\", \"guess\": \"Mandarin\", \"sample\": \"01f51995ae86ff85e899d40768ab81a8\", \"target\": \"Mandarin\"}\n",
      "{\"choices\": [\"Czech\", \"Somali\", \"Tamil\", \"Turkish\"], \"country\": \"AU\", \"date\": \"2013-08-19\", \"guess\": \"Tamil\", \"sample\": \"cc305dcad696147e28c6f36615aa0952\", \"target\": \"Tamil\"}\n",
      "{\"choices\": [\"Bosnian\", \"Latvian\", \"Portuguese\", \"Sinhalese\"], \"country\": \"AU\", \"date\": \"2013-08-19\", \"guess\": \"Portuguese\", \"sample\": \"439672210d1feb96e012590ff2a73590\", \"target\": \"Portuguese\"}\n",
      "{\"choices\": [\"Italian\", \"Lao\", \"Farsi\", \"Tongan\"], \"country\": \"AU\", \"date\": \"2013-08-19\", \"guess\": \"Tongan\", \"sample\": \"838cfe7f928e1a41710e01b3ee12088f\", \"target\": \"Tongan\"}\n",
      "{\"choices\": [\"Albanian\", \"German\", \"Slovenian\", \"Swahili\"], \"country\": \"AU\", \"date\": \"2013-08-19\", \"guess\": \"Slovenian\", \"sample\": \"efcd813daec1c836d9f030b30caa07ce\", \"target\": \"Albanian\"}\n",
      "{\"choices\": [\"Gujarati\", \"Hebrew\", \"Somali\", \"Yiddish\"], \"country\": \"AU\", \"date\": \"2013-08-19\", \"guess\": \"Gujarati\", \"sample\": \"16d80eee6659268a90460422dd2a2896\", \"target\": \"Gujarati\"}\n",
      "{\"choices\": [\"Czech\", \"Farsi\", \"Russian\", \"Swedish\"], \"country\": \"AU\", \"date\": \"2013-08-19\", \"guess\": \"Czech\", \"sample\": \"dfe8192c1bbd80b44ea4409d9889dc90\", \"target\": \"Swedish\"}\n",
      "{\"choices\": [\"Hindi\", \"Kannada\", \"Farsi\", \"Turkish\"], \"country\": \"AU\", \"date\": \"2013-08-19\", \"guess\": \"Kannada\", \"sample\": \"70154ea13cf1c633cfe62d44919a347c\", \"target\": \"Farsi\"}\n",
      "{\"choices\": [\"Bangla\", \"Estonian\", \"Italian\", \"Khmer\"], \"country\": \"AU\", \"date\": \"2013-08-19\", \"guess\": \"Khmer\", \"sample\": \"714795c596ef0639a385fe620d2c42ab\", \"target\": \"Khmer\"}\n",
      "{\"choices\": [\"Danish\", \"German\", \"Russian\", \"Turkish\"], \"country\": \"AU\", \"date\": \"2013-08-19\", \"guess\": \"German\", \"sample\": \"5fdcb0979e1c546ea05d7bd780bd4bc3\", \"target\": \"Danish\"}\n",
      "{\"choices\": [\"Assyrian\", \"Korean\", \"Serbian\", \"Somali\"], \"country\": \"AU\", \"date\": \"2013-08-19\", \"guess\": \"Korean\", \"sample\": \"ec371adb75ab6c7431adae3ef8fc9fc9\", \"target\": \"Korean\"}\n",
      "{\"choices\": [\"Cantonese\", \"Fijian\", \"Slovak\", \"Somali\"], \"country\": \"AU\", \"date\": \"2013-08-19\", \"guess\": \"Fijian\", \"sample\": \"93b8857d01978401e679f0bde0a7b5b0\", \"target\": \"Fijian\"}\n",
      "{\"choices\": [\"Tagalog\", \"Maltese\", \"Portuguese\", \"Sinhalese\"], \"country\": \"AU\", \"date\": \"2013-08-19\", \"guess\": \"Portuguese\", \"sample\": \"439672210d1feb96e012590ff2a73590\", \"target\": \"Portuguese\"}\n",
      "{\"choices\": [\"Bulgarian\", \"French\", \"Japanese\", \"Punjabi\"], \"country\": \"AU\", \"date\": \"2013-08-19\", \"guess\": \"Japanese\", \"sample\": \"3569611136ea04bab18a0cd605ced358\", \"target\": \"Japanese\"}\n",
      "{\"choices\": [\"Bangla\", \"Khmer\", \"Kurdish\", \"Latvian\"], \"country\": \"AU\", \"date\": \"2013-08-19\", \"guess\": \"Khmer\", \"sample\": \"84f7df7508e423234fd1adec4f84e528\", \"target\": \"Khmer\"}\n",
      "{\"choices\": [\"Dutch\", \"Estonian\", \"Hungarian\", \"Swedish\"], \"country\": \"AU\", \"date\": \"2013-08-19\", \"guess\": \"Estonian\", \"sample\": \"bf0f1eec2e9f147aba20ea9b3e9564bb\", \"target\": \"Dutch\"}\n",
      "{\"choices\": [\"Dinka\", \"Hungarian\", \"Spanish\", \"Thai\"], \"country\": \"AU\", \"date\": \"2013-08-19\", \"guess\": \"Spanish\", \"sample\": \"dc3ace49393de518e87d4f8d3ae8d9db\", \"target\": \"Spanish\"}\n",
      "{\"choices\": [\"Bangla\", \"Cantonese\", \"Malay\", \"Somali\"], \"country\": \"AU\", \"date\": \"2013-08-19\", \"guess\": \"Cantonese\", \"sample\": \"78e21624c41e6efc3ac790735180615d\", \"target\": \"Cantonese\"}\n",
      "{\"choices\": [\"Cantonese\", \"Latvian\", \"Tamil\", \"Turkish\"], \"country\": \"AU\", \"date\": \"2013-08-19\", \"guess\": \"Turkish\", \"sample\": \"447bcafdbe5d7d69e0db72ab5bfa043a\", \"target\": \"Latvian\"}\n",
      "{\"choices\": [\"Assyrian\", \"Bulgarian\", \"Indonesian\", \"Khmer\"], \"country\": \"AU\", \"date\": \"2013-08-19\", \"guess\": \"Bulgarian\", \"sample\": \"69a5c674fe40942aaae4d10c9df46ee0\", \"target\": \"Bulgarian\"}\n",
      "{\"choices\": [\"Italian\", \"Korean\", \"Latvian\", \"Polish\"], \"country\": \"AU\", \"date\": \"2013-08-19\", \"guess\": \"Polish\", \"sample\": \"98890a26d68bcf75f6087566971f126f\", \"target\": \"Polish\"}\n",
      "{\"choices\": [\"Amharic\", \"Maltese\", \"Farsi\", \"Slovak\"], \"country\": \"AU\", \"date\": \"2013-08-19\", \"guess\": \"Farsi\", \"sample\": \"2c5efbd7364036976ec403a9ee36f614\", \"target\": \"Slovak\"}\n",
      "{\"choices\": [\"Bulgarian\", \"Maori\", \"Latvian\", \"Russian\"], \"country\": \"AU\", \"date\": \"2013-08-19\", \"guess\": \"Latvian\", \"sample\": \"447bcafdbe5d7d69e0db72ab5bfa043a\", \"target\": \"Latvian\"}\n",
      "{\"choices\": [\"Albanian\", \"Amharic\", \"Malay\", \"Tongan\"], \"country\": \"AU\", \"date\": \"2013-08-19\", \"guess\": \"Malay\", \"sample\": \"6650448a5456ba88ea0971f2265f2bc7\", \"target\": \"Malay\"}\n",
      "{\"choices\": [\"Dinka\", \"Khmer\", \"Polish\", \"Urdu\"], \"country\": \"AU\", \"date\": \"2013-08-19\", \"guess\": \"Khmer\", \"sample\": \"84f7df7508e423234fd1adec4f84e528\", \"target\": \"Khmer\"}\n",
      "{\"choices\": [\"Armenian\", \"Dinka\", \"Farsi\", \"Portuguese\"], \"country\": \"AU\", \"date\": \"2013-08-19\", \"guess\": \"Farsi\", \"sample\": \"e4588d7c735b9a87d93ada6d24a7bd53\", \"target\": \"Armenian\"}\n",
      "{\"choices\": [\"Tagalog\", \"French\", \"Hebrew\", \"Romanian\"], \"country\": \"AU\", \"date\": \"2013-08-19\", \"guess\": \"Romanian\", \"sample\": \"6560ff4ce0b53a1b0bad2e7734f52381\", \"target\": \"Romanian\"}\n",
      "{\"choices\": [\"Burmese\", \"Dinka\", \"Greek\", \"Indonesian\"], \"country\": \"AU\", \"date\": \"2013-08-19\", \"guess\": \"Burmese\", \"sample\": \"192e7c59bb734ee762a323219846295b\", \"target\": \"Dinka\"}\n",
      "{\"choices\": [\"Cantonese\", \"Gujarati\", \"Italian\", \"Sinhalese\"], \"country\": \"AU\", \"date\": \"2013-08-19\", \"guess\": \"Gujarati\", \"sample\": \"56ecf19cff578aa76b81edb580ff343f\", \"target\": \"Gujarati\"}\n",
      "{\"choices\": [\"Armenian\", \"Finnish\", \"Italian\", \"Mandarin\"], \"country\": \"AU\", \"date\": \"2013-08-19\", \"guess\": \"Mandarin\", \"sample\": \"fc3712715ddc748286256eb7a64f25ab\", \"target\": \"Mandarin\"}\n",
      "{\"choices\": [\"Japanese\", \"Sinhalese\", \"Swahili\", \"Vietnamese\"], \"country\": \"AU\", \"date\": \"2013-08-19\", \"guess\": \"Japanese\", \"sample\": \"3569611136ea04bab18a0cd605ced358\", \"target\": \"Japanese\"}\n",
      "{\"choices\": [\"Dinka\", \"Samoan\", \"Somali\", \"Tongan\"], \"country\": \"AU\", \"date\": \"2013-08-19\", \"guess\": \"Tongan\", \"sample\": \"838cfe7f928e1a41710e01b3ee12088f\", \"target\": \"Tongan\"}\n",
      "{\"choices\": [\"Bulgarian\", \"Mandarin\", \"Nepali\", \"Tamil\"], \"country\": \"AU\", \"date\": \"2013-08-19\", \"guess\": \"Nepali\", \"sample\": \"faa86f6efaf2ee67f95239685d26fd88\", \"target\": \"Nepali\"}\n",
      "{\"choices\": [\"Maori\", \"Estonian\", \"Nepali\", \"Portuguese\"], \"country\": \"AU\", \"date\": \"2013-08-19\", \"guess\": \"Estonian\", \"sample\": \"1e94210c21a6af48b9c418a7d6380a1c\", \"target\": \"Maori\"}\n",
      "{\"choices\": [\"Danish\", \"Latvian\", \"Norwegian\", \"Sinhalese\"], \"country\": \"AU\", \"date\": \"2013-08-19\", \"guess\": \"Latvian\", \"sample\": \"c4d4db8bf910cf4350fc87b3f3667976\", \"target\": \"Sinhalese\"}\n",
      "{\"choices\": [\"Indonesian\", \"Nepali\", \"Sinhalese\", \"Turkish\"], \"country\": \"AU\", \"date\": \"2013-08-19\", \"guess\": \"Nepali\", \"sample\": \"e178a0abbbb171d9b785d8350a45f203\", \"target\": \"Nepali\"}\n",
      "{\"choices\": [\"Dutch\", \"Hindi\", \"Lao\", \"Norwegian\"], \"country\": \"AU\", \"date\": \"2013-08-20\", \"guess\": \"Norwegian\", \"sample\": \"48f9c924e0d98c959d8a6f1862b3ce9a\", \"target\": \"Norwegian\"}\n",
      "{\"choices\": [\"Finnish\", \"Hebrew\", \"Malay\", \"Urdu\"], \"country\": \"AU\", \"date\": \"2013-08-20\", \"guess\": \"Hebrew\", \"sample\": \"1dc9a1bf90e4e788906dc716dc18d878\", \"target\": \"Hebrew\"}\n",
      "{\"choices\": [\"Dutch\", \"Finnish\", \"Ukrainian\", \"Yiddish\"], \"country\": \"AU\", \"date\": \"2013-08-20\", \"guess\": \"Ukrainian\", \"sample\": \"064ca74dff16ce8dade4a7acdc0def8a\", \"target\": \"Ukrainian\"}\n",
      "{\"choices\": [\"Arabic\", \"Korean\", \"Punjabi\", \"Vietnamese\"], \"country\": \"AU\", \"date\": \"2013-08-20\", \"guess\": \"Vietnamese\", \"sample\": \"8ea6892d1ddca321adc07b05176e3605\", \"target\": \"Vietnamese\"}\n",
      "{\"choices\": [\"Dutch\", \"French\", \"Kannada\", \"Serbian\"], \"country\": \"AU\", \"date\": \"2013-08-20\", \"guess\": \"Dutch\", \"sample\": \"bf0f1eec2e9f147aba20ea9b3e9564bb\", \"target\": \"Dutch\"}\n",
      "{\"choices\": [\"Cantonese\", \"Polish\", \"Portuguese\", \"Punjabi\"], \"country\": \"AU\", \"date\": \"2013-08-20\", \"guess\": \"Portuguese\", \"sample\": \"5fd851c9e87a6b9b9da9eb2ab0de6686\", \"target\": \"Portuguese\"}\n",
      "{\"choices\": [\"Dari\", \"Serbian\", \"Sinhalese\", \"Vietnamese\"], \"country\": \"AU\", \"date\": \"2013-08-20\", \"guess\": \"Dari\", \"sample\": \"0d5b697ebb326b5043ce7fa60a7b968d\", \"target\": \"Serbian\"}\n",
      "{\"choices\": [\"French\", \"Kannada\", \"Nepali\", \"Sinhalese\"], \"country\": \"AU\", \"date\": \"2013-08-20\", \"guess\": \"Nepali\", \"sample\": \"e178a0abbbb171d9b785d8350a45f203\", \"target\": \"Nepali\"}\n",
      "{\"choices\": [\"Amharic\", \"Czech\", \"Korean\", \"Macedonian\"], \"country\": \"AU\", \"date\": \"2013-08-20\", \"guess\": \"Czech\", \"sample\": \"9769bab1b0b25eb730c704ef42a3e7a6\", \"target\": \"Czech\"}\n",
      "{\"choices\": [\"Kannada\", \"Kurdish\", \"Latvian\", \"Tongan\"], \"country\": \"AU\", \"date\": \"2013-08-20\", \"guess\": \"Kurdish\", \"sample\": \"8df0a7cae5bb52d889fdbab7def4b5aa\", \"target\": \"Kurdish\"}\n",
      "{\"choices\": [\"Maori\", \"Czech\", \"Kurdish\", \"Tongan\"], \"country\": \"AU\", \"date\": \"2013-08-20\", \"guess\": \"Czech\", \"sample\": \"1787b5c79a00b3513ce76847bc1f5b75\", \"target\": \"Czech\"}\n",
      "{\"choices\": [\"Tagalog\", \"French\", \"Latvian\", \"Slovenian\"], \"country\": \"AU\", \"date\": \"2013-08-20\", \"guess\": \"Latvian\", \"sample\": \"447bcafdbe5d7d69e0db72ab5bfa043a\", \"target\": \"Latvian\"}\n",
      "{\"choices\": [\"Lao\", \"Maltese\", \"Swedish\", \"Ukrainian\"], \"country\": \"AU\", \"date\": \"2013-08-20\", \"guess\": \"Swedish\", \"sample\": \"dfe8192c1bbd80b44ea4409d9889dc90\", \"target\": \"Swedish\"}\n",
      "{\"choices\": [\"Assyrian\", \"Burmese\", \"Khmer\", \"Russian\"], \"country\": \"AU\", \"date\": \"2013-08-20\", \"guess\": \"Khmer\", \"sample\": \"31cba304794d1828c93d7b3c63aa840a\", \"target\": \"Burmese\"}\n",
      "{\"choices\": [\"Japanese\", \"Malay\", \"Maltese\", \"Ukrainian\"], \"country\": \"AU\", \"date\": \"2013-08-20\", \"guess\": \"Malay\", \"sample\": \"3569611136ea04bab18a0cd605ced358\", \"target\": \"Japanese\"}\n",
      "{\"choices\": [\"Amharic\", \"Maori\", \"German\", \"Kannada\"], \"country\": \"AU\", \"date\": \"2013-08-20\", \"guess\": \"Amharic\", \"sample\": \"1e94210c21a6af48b9c418a7d6380a1c\", \"target\": \"Maori\"}\n",
      "{\"choices\": [\"Finnish\", \"Somali\", \"Turkish\", \"Urdu\"], \"country\": \"AU\", \"date\": \"2013-08-20\", \"guess\": \"Turkish\", \"sample\": \"752c4c30d475748a342c68ebfba24d1e\", \"target\": \"Turkish\"}\n",
      "{\"choices\": [\"Burmese\", \"Czech\", \"Fijian\", \"Somali\"], \"country\": \"AU\", \"date\": \"2013-08-20\", \"guess\": \"Somali\", \"sample\": \"93b8857d01978401e679f0bde0a7b5b0\", \"target\": \"Fijian\"}\n",
      "{\"choices\": [\"Gujarati\", \"Norwegian\", \"Sinhalese\", \"Tamil\"], \"country\": \"AU\", \"date\": \"2013-08-20\", \"guess\": \"Tamil\", \"sample\": \"755de9092b301614712fae5e1d2d47d3\", \"target\": \"Sinhalese\"}\n",
      "{\"choices\": [\"Cantonese\", \"Dari\", \"Nepali\", \"Spanish\"], \"country\": \"AU\", \"date\": \"2013-08-20\", \"guess\": \"Nepali\", \"sample\": \"da6ed723fe60684a231c3e22a42610a7\", \"target\": \"Cantonese\"}\n",
      "{\"choices\": [\"Arabic\", \"Cantonese\", \"Maltese\", \"Samoan\"], \"country\": \"AU\", \"date\": \"2013-08-20\", \"guess\": \"Arabic\", \"sample\": \"83c6ffcb085ce9c18c0e2aff00dda865\", \"target\": \"Arabic\"}\n",
      "{\"choices\": [\"Amharic\", \"Cantonese\", \"Fijian\", \"Kurdish\"], \"country\": \"AU\", \"date\": \"2013-08-20\", \"guess\": \"Amharic\", \"sample\": \"50a52cc16828c9cd27b9c26c75974e6d\", \"target\": \"Amharic\"}\n",
      "{\"choices\": [\"Tagalog\", \"Hebrew\", \"Hungarian\", \"Latvian\"], \"country\": \"AU\", \"date\": \"2013-08-20\", \"guess\": \"Hungarian\", \"sample\": \"5e609abac81edbf76a58bc1d2a850f12\", \"target\": \"Latvian\"}\n",
      "{\"choices\": [\"Tagalog\", \"Gujarati\", \"Portuguese\", \"Sinhalese\"], \"country\": \"AU\", \"date\": \"2013-08-20\", \"guess\": \"Gujarati\", \"sample\": \"650061b92e1bf9fc20bc9757f333ddbb\", \"target\": \"Sinhalese\"}\n",
      "{\"choices\": [\"Gujarati\", \"Latvian\", \"Russian\", \"Tamil\"], \"country\": \"AU\", \"date\": \"2013-08-20\", \"guess\": \"Gujarati\", \"sample\": \"447bcafdbe5d7d69e0db72ab5bfa043a\", \"target\": \"Latvian\"}\n",
      "{\"choices\": [\"Dari\", \"Tagalog\", \"Slovenian\", \"Spanish\"], \"country\": \"AU\", \"date\": \"2013-08-20\", \"guess\": \"Spanish\", \"sample\": \"dc3ace49393de518e87d4f8d3ae8d9db\", \"target\": \"Spanish\"}\n",
      "{\"choices\": [\"Czech\", \"Dinka\", \"Farsi\", \"Somali\"], \"country\": \"AU\", \"date\": \"2013-08-20\", \"guess\": \"Farsi\", \"sample\": \"c73ee42a45debb00fbcc86eb29682757\", \"target\": \"Farsi\"}\n",
      "{\"choices\": [\"Bosnian\", \"Estonian\", \"Kurdish\", \"Nepali\"], \"country\": \"AU\", \"date\": \"2013-08-20\", \"guess\": \"Nepali\", \"sample\": \"faa86f6efaf2ee67f95239685d26fd88\", \"target\": \"Nepali\"}\n",
      "{\"choices\": [\"Assyrian\", \"Bangla\", \"Nepali\", \"Tamil\"], \"country\": \"AU\", \"date\": \"2013-08-20\", \"guess\": \"Tamil\", \"sample\": \"cc305dcad696147e28c6f36615aa0952\", \"target\": \"Tamil\"}\n",
      "{\"choices\": [\"Armenian\", \"Dutch\", \"Estonian\", \"Ukrainian\"], \"country\": \"AU\", \"date\": \"2013-08-20\", \"guess\": \"Estonian\", \"sample\": \"064ca74dff16ce8dade4a7acdc0def8a\", \"target\": \"Ukrainian\"}\n",
      "{\"choices\": [\"Estonian\", \"Khmer\", \"Latvian\", \"Thai\"], \"country\": \"AU\", \"date\": \"2013-08-20\", \"guess\": \"Khmer\", \"sample\": \"714795c596ef0639a385fe620d2c42ab\", \"target\": \"Khmer\"}\n",
      "{\"choices\": [\"Mandarin\", \"Polish\", \"Portuguese\", \"Romanian\"], \"country\": \"AU\", \"date\": \"2013-08-20\", \"guess\": \"Portuguese\", \"sample\": \"6560ff4ce0b53a1b0bad2e7734f52381\", \"target\": \"Romanian\"}\n",
      "{\"choices\": [\"Croatian\", \"Dinka\", \"French\", \"Hungarian\"], \"country\": \"AU\", \"date\": \"2013-08-20\", \"guess\": \"French\", \"sample\": \"92f9e1c17e6df988780527341fdb471d\", \"target\": \"French\"}\n",
      "{\"choices\": [\"Khmer\", \"Maltese\", \"Norwegian\", \"Swedish\"], \"country\": \"AU\", \"date\": \"2013-08-20\", \"guess\": \"Maltese\", \"sample\": \"589feca2e2009ad2e63458f17568cd13\", \"target\": \"Maltese\"}\n",
      "{\"choices\": [\"Fijian\", \"Hebrew\", \"Samoan\", \"Ukrainian\"], \"country\": \"AU\", \"date\": \"2013-08-20\", \"guess\": \"Hebrew\", \"sample\": \"1dc9a1bf90e4e788906dc716dc18d878\", \"target\": \"Hebrew\"}\n",
      "{\"choices\": [\"Dinka\", \"Norwegian\", \"Sinhalese\", \"Urdu\"], \"country\": \"AU\", \"date\": \"2013-08-20\", \"guess\": \"Sinhalese\", \"sample\": \"192e7c59bb734ee762a323219846295b\", \"target\": \"Dinka\"}\n",
      "{\"choices\": [\"Bosnian\", \"Latvian\", \"Spanish\", \"Vietnamese\"], \"country\": \"AU\", \"date\": \"2013-08-20\", \"guess\": \"Spanish\", \"sample\": \"421df072ac5abde4883d50b1fc789b14\", \"target\": \"Bosnian\"}\n"
     ]
    }
   ],
   "source": [
    "%%jsoniq\n",
    "for $i in json-file(\"confusion-100000.json\")\n",
    "return $i"
   ]
  },
  {
   "cell_type": "markdown",
   "metadata": {
    "id": "a1ovg4Ga9xVp"
   },
   "source": [
    "After the results of your query are printed, Rumble will report the execution runtime in milliseconds:\n",
    "```\n",
    "Took: 62.02618598937988 ms\n",
    "```\n",
    "\n",
    "In the `json-file` method you can optionally specify the number of partitions, which may allow your query to be parallelized and executed faster. This offers great advantage on cluster, but is not much faster locally. For example:\n"
   ]
  },
  {
   "cell_type": "code",
   "execution_count": 48,
   "metadata": {
    "colab": {
     "base_uri": "https://localhost:8080/"
    },
    "id": "8G7eI0UE93BH",
    "outputId": "ae02d63f-9909-47e7-e5a9-de54ea7fac1f"
   },
   "outputs": [
    {
     "name": "stdout",
     "output_type": "stream",
     "text": [
      "Took: 0.24030184745788574 ms\n",
      "\"Warning! The output sequence contains 100000 items but its materialization was capped at 200 items. This value can be configured with the result-size parameter in the query string of the HTTP request.\"\n",
      "{\"choices\": [\"Maori\", \"Mandarin\", \"Norwegian\", \"Tongan\"], \"country\": \"AU\", \"date\": \"2013-08-19\", \"guess\": \"Norwegian\", \"sample\": \"48f9c924e0d98c959d8a6f1862b3ce9a\", \"target\": \"Norwegian\"}\n",
      "{\"choices\": [\"Danish\", \"Dinka\", \"Khmer\", \"Lao\"], \"country\": \"AU\", \"date\": \"2013-08-19\", \"guess\": \"Dinka\", \"sample\": \"af5e8f27cef9e689a070b8814dcc02c3\", \"target\": \"Dinka\"}\n",
      "{\"choices\": [\"German\", \"Hungarian\", \"Samoan\", \"Turkish\"], \"country\": \"AU\", \"date\": \"2013-08-19\", \"guess\": \"Turkish\", \"sample\": \"509c36eb58dbce009ccf93f375358d53\", \"target\": \"Samoan\"}\n",
      "{\"choices\": [\"Danish\", \"Korean\", \"Latvian\", \"Somali\"], \"country\": \"AU\", \"date\": \"2013-08-19\", \"guess\": \"Latvian\", \"sample\": \"a505ab771ae7c32744ad31b3051b8ee9\", \"target\": \"Somali\"}\n",
      "{\"choices\": [\"Bangla\", \"Dinka\", \"Italian\", \"Japanese\"], \"country\": \"AU\", \"date\": \"2013-08-19\", \"guess\": \"Japanese\", \"sample\": \"3569611136ea04bab18a0cd605ced358\", \"target\": \"Japanese\"}\n",
      "{\"choices\": [\"Hindi\", \"Lao\", \"Maltese\", \"Turkish\"], \"country\": \"AU\", \"date\": \"2013-08-19\", \"guess\": \"Maltese\", \"sample\": \"af0e25c7637fb0dcdc56fac6d49aa55e\", \"target\": \"Turkish\"}\n",
      "{\"choices\": [\"Burmese\", \"Danish\", \"French\", \"Swedish\"], \"country\": \"AU\", \"date\": \"2013-08-19\", \"guess\": \"French\", \"sample\": \"92f9e1c17e6df988780527341fdb471d\", \"target\": \"French\"}\n",
      "{\"choices\": [\"German\", \"Serbian\", \"Swedish\", \"Vietnamese\"], \"country\": \"AU\", \"date\": \"2013-08-19\", \"guess\": \"German\", \"sample\": \"e77d97b712adffc39e531e20237a5589\", \"target\": \"German\"}\n",
      "{\"choices\": [\"Amharic\", \"Czech\", \"Sinhalese\", \"Spanish\"], \"country\": \"AU\", \"date\": \"2013-08-19\", \"guess\": \"Spanish\", \"sample\": \"dc3ace49393de518e87d4f8d3ae8d9db\", \"target\": \"Spanish\"}\n",
      "{\"choices\": [\"Estonian\", \"Japanese\", \"Lao\", \"Romanian\"], \"country\": \"AU\", \"date\": \"2013-08-19\", \"guess\": \"Romanian\", \"sample\": \"903fc45cba5245f21deaaca3966f825b\", \"target\": \"Romanian\"}\n",
      "{\"choices\": [\"Burmese\", \"Cantonese\", \"Serbian\", \"Ukrainian\"], \"country\": \"AU\", \"date\": \"2013-08-19\", \"guess\": \"Cantonese\", \"sample\": \"203628f42619d301e642b3553b7a684a\", \"target\": \"Cantonese\"}\n",
      "{\"choices\": [\"Amharic\", \"Dinka\", \"Indonesian\", \"Thai\"], \"country\": \"AU\", \"date\": \"2013-08-19\", \"guess\": \"Amharic\", \"sample\": \"cd3dffdb83f221e09710cbfbcaffdb31\", \"target\": \"Dinka\"}\n",
      "{\"choices\": [\"Assyrian\", \"Finnish\", \"Norwegian\", \"Turkish\"], \"country\": \"AU\", \"date\": \"2013-08-19\", \"guess\": \"Assyrian\", \"sample\": \"16ac545260ae198b7a3d882e06e5f261\", \"target\": \"Assyrian\"}\n",
      "{\"choices\": [\"Hebrew\", \"Hindi\", \"Ukrainian\", \"Yiddish\"], \"country\": \"AU\", \"date\": \"2013-08-19\", \"guess\": \"Hebrew\", \"sample\": \"1dc9a1bf90e4e788906dc716dc18d878\", \"target\": \"Hebrew\"}\n",
      "{\"choices\": [\"Cantonese\", \"Kurdish\", \"Maltese\", \"Somali\"], \"country\": \"AU\", \"date\": \"2013-08-19\", \"guess\": \"Kurdish\", \"sample\": \"9f849ff225f0d94a52c186924e225231\", \"target\": \"Kurdish\"}\n",
      "{\"choices\": [\"Assyrian\", \"Dari\", \"Italian\", \"Khmer\"], \"country\": \"AU\", \"date\": \"2013-08-19\", \"guess\": \"Italian\", \"sample\": \"88f3e5120091cffdf8abeb92b5da90a2\", \"target\": \"Italian\"}\n",
      "{\"choices\": [\"Tagalog\", \"Japanese\", \"Maltese\", \"Tamil\"], \"country\": \"AU\", \"date\": \"2013-08-19\", \"guess\": \"Maltese\", \"sample\": \"589feca2e2009ad2e63458f17568cd13\", \"target\": \"Maltese\"}\n",
      "{\"choices\": [\"Italian\", \"Kannada\", \"Mandarin\", \"Serbian\"], \"country\": \"AU\", \"date\": \"2013-08-19\", \"guess\": \"Kannada\", \"sample\": \"c11a7723bd3fcd00e33e90c90a3492e5\", \"target\": \"Kannada\"}\n",
      "{\"choices\": [\"Amharic\", \"Dinka\", \"Mandarin\", \"Yiddish\"], \"country\": \"AU\", \"date\": \"2013-08-19\", \"guess\": \"Dinka\", \"sample\": \"cd3dffdb83f221e09710cbfbcaffdb31\", \"target\": \"Dinka\"}\n",
      "{\"choices\": [\"Assyrian\", \"Dinka\", \"Estonian\", \"German\"], \"country\": \"AU\", \"date\": \"2013-08-19\", \"guess\": \"German\", \"sample\": \"78213fa858b9a45d83121a8bf71712d1\", \"target\": \"German\"}\n",
      "{\"choices\": [\"Arabic\", \"Hebrew\", \"Hungarian\", \"Lao\"], \"country\": \"AU\", \"date\": \"2013-08-19\", \"guess\": \"Hebrew\", \"sample\": \"1dc9a1bf90e4e788906dc716dc18d878\", \"target\": \"Hebrew\"}\n",
      "{\"choices\": [\"Albanian\", \"Maori\", \"Croatian\", \"Indonesian\"], \"country\": \"AU\", \"date\": \"2013-08-19\", \"guess\": \"Croatian\", \"sample\": \"00b85faa8b878a14f8781be334deb137\", \"target\": \"Albanian\"}\n",
      "{\"choices\": [\"Assyrian\", \"Tagalog\", \"Lao\", \"Tongan\"], \"country\": \"AU\", \"date\": \"2013-08-19\", \"guess\": \"Lao\", \"sample\": \"4cf041f244960196b98c7d6ae8c79ed3\", \"target\": \"Lao\"}\n",
      "{\"choices\": [\"Hungarian\", \"Swedish\", \"Thai\", \"Turkish\"], \"country\": \"AU\", \"date\": \"2013-08-19\", \"guess\": \"Hungarian\", \"sample\": \"af0e25c7637fb0dcdc56fac6d49aa55e\", \"target\": \"Turkish\"}\n",
      "{\"choices\": [\"Bosnian\", \"Khmer\", \"Swahili\", \"Turkish\"], \"country\": \"AU\", \"date\": \"2013-08-19\", \"guess\": \"Khmer\", \"sample\": \"ac1275769d8aaf8758f95409271f8a2f\", \"target\": \"Swahili\"}\n",
      "{\"choices\": [\"Czech\", \"Japanese\", \"Tamil\", \"Vietnamese\"], \"country\": \"AU\", \"date\": \"2013-08-19\", \"guess\": \"Vietnamese\", \"sample\": \"8ea6892d1ddca321adc07b05176e3605\", \"target\": \"Vietnamese\"}\n",
      "{\"choices\": [\"Dari\", \"Hebrew\", \"Kurdish\", \"Portuguese\"], \"country\": \"AU\", \"date\": \"2013-08-19\", \"guess\": \"Portuguese\", \"sample\": \"5fd851c9e87a6b9b9da9eb2ab0de6686\", \"target\": \"Portuguese\"}\n",
      "{\"choices\": [\"Amharic\", \"Greek\", \"Nepali\", \"Ukrainian\"], \"country\": \"AU\", \"date\": \"2013-08-19\", \"guess\": \"Nepali\", \"sample\": \"faa86f6efaf2ee67f95239685d26fd88\", \"target\": \"Nepali\"}\n",
      "{\"choices\": [\"Bulgarian\", \"Indonesian\", \"Malayalam\", \"Russian\"], \"country\": \"AU\", \"date\": \"2013-08-19\", \"guess\": \"Malayalam\", \"sample\": \"ff8fcb796b7fdc540dd567c144024f82\", \"target\": \"Indonesian\"}\n",
      "{\"choices\": [\"Finnish\", \"Kurdish\", \"Turkish\", \"Yiddish\"], \"country\": \"AU\", \"date\": \"2013-08-19\", \"guess\": \"Finnish\", \"sample\": \"4a3dfa40ed621940a0a38408956b86e0\", \"target\": \"Finnish\"}\n",
      "{\"choices\": [\"German\", \"Hindi\", \"Somali\", \"Tamil\"], \"country\": \"AU\", \"date\": \"2013-08-19\", \"guess\": \"German\", \"sample\": \"78213fa858b9a45d83121a8bf71712d1\", \"target\": \"German\"}\n",
      "{\"choices\": [\"Fijian\", \"Greek\", \"Mandarin\", \"Vietnamese\"], \"country\": \"AU\", \"date\": \"2013-08-19\", \"guess\": \"Greek\", \"sample\": \"f53c7596c141ee6d5d2b3ab90361f802\", \"target\": \"Fijian\"}\n",
      "{\"choices\": [\"Burmese\", \"Danish\", \"French\", \"Kurdish\"], \"country\": \"AU\", \"date\": \"2013-08-19\", \"guess\": \"Burmese\", \"sample\": \"878d3d845ccb0859aa05e80e1d35730f\", \"target\": \"Burmese\"}\n",
      "{\"choices\": [\"Khmer\", \"Sinhalese\", \"Swahili\", \"Turkish\"], \"country\": \"AU\", \"date\": \"2013-08-19\", \"guess\": \"Turkish\", \"sample\": \"714795c596ef0639a385fe620d2c42ab\", \"target\": \"Khmer\"}\n",
      "{\"choices\": [\"Arabic\", \"Dinka\", \"Fijian\", \"Thai\"], \"country\": \"AU\", \"date\": \"2013-08-19\", \"guess\": \"Fijian\", \"sample\": \"192e7c59bb734ee762a323219846295b\", \"target\": \"Dinka\"}\n",
      "{\"choices\": [\"Hebrew\", \"Malay\", \"Swahili\", \"Swedish\"], \"country\": \"AU\", \"date\": \"2013-08-19\", \"guess\": \"Swahili\", \"sample\": \"1b959fe55794f6d4e1ea038bfe336759\", \"target\": \"Swahili\"}\n",
      "{\"choices\": [\"Indonesian\", \"Kannada\", \"Norwegian\", \"Polish\"], \"country\": \"AU\", \"date\": \"2013-08-19\", \"guess\": \"Norwegian\", \"sample\": \"f1aac78bec424c4d6c716553719b0b70\", \"target\": \"Polish\"}\n",
      "{\"choices\": [\"Burmese\", \"Cantonese\", \"Dutch\", \"Swedish\"], \"country\": \"AU\", \"date\": \"2013-08-19\", \"guess\": \"Swedish\", \"sample\": \"5cd22cbf16be1a93d304d589431c3ec3\", \"target\": \"Dutch\"}\n",
      "{\"choices\": [\"Albanian\", \"Bulgarian\", \"Japanese\", \"Ukrainian\"], \"country\": \"AU\", \"date\": \"2013-08-19\", \"guess\": \"Ukrainian\", \"sample\": \"efcd813daec1c836d9f030b30caa07ce\", \"target\": \"Albanian\"}\n",
      "{\"choices\": [\"Dinka\", \"Hebrew\", \"Hindi\", \"Vietnamese\"], \"country\": \"AU\", \"date\": \"2013-08-19\", \"guess\": \"Hebrew\", \"sample\": \"157085744728e35079622c71804cf722\", \"target\": \"Hebrew\"}\n",
      "{\"choices\": [\"Dinka\", \"Nepali\", \"Norwegian\", \"Slovenian\"], \"country\": \"AU\", \"date\": \"2013-08-19\", \"guess\": \"Slovenian\", \"sample\": \"208e1606aa365f3ed573adc7111f58e9\", \"target\": \"Norwegian\"}\n",
      "{\"choices\": [\"Lao\", \"Nepali\", \"Russian\", \"Tongan\"], \"country\": \"AU\", \"date\": \"2013-08-19\", \"guess\": \"Russian\", \"sample\": \"8a59d48e99e8a1df7e366c4648095e27\", \"target\": \"Russian\"}\n",
      "{\"choices\": [\"Albanian\", \"Bulgarian\", \"Russian\", \"Ukrainian\"], \"country\": \"AU\", \"date\": \"2013-08-19\", \"guess\": \"Bulgarian\", \"sample\": \"00b85faa8b878a14f8781be334deb137\", \"target\": \"Albanian\"}\n",
      "{\"choices\": [\"Dinka\", \"Mandarin\", \"Slovenian\", \"Turkish\"], \"country\": \"AU\", \"date\": \"2013-08-19\", \"guess\": \"Turkish\", \"sample\": \"cd3dffdb83f221e09710cbfbcaffdb31\", \"target\": \"Dinka\"}\n",
      "{\"choices\": [\"Maori\", \"French\", \"Maltese\", \"Vietnamese\"], \"country\": \"AU\", \"date\": \"2013-08-19\", \"guess\": \"Maltese\", \"sample\": \"36d2f4e9173e2d4cad8b8594310c856b\", \"target\": \"Maltese\"}\n",
      "{\"choices\": [\"Amharic\", \"Estonian\", \"Hebrew\", \"Urdu\"], \"country\": \"AU\", \"date\": \"2013-08-19\", \"guess\": \"Urdu\", \"sample\": \"5af9790de5ecef3853d6d89f8e75916c\", \"target\": \"Estonian\"}\n",
      "{\"choices\": [\"Dinka\", \"Finnish\", \"Gujarati\", \"Portuguese\"], \"country\": \"AU\", \"date\": \"2013-08-19\", \"guess\": \"Portuguese\", \"sample\": \"5fd851c9e87a6b9b9da9eb2ab0de6686\", \"target\": \"Portuguese\"}\n",
      "{\"choices\": [\"Bosnian\", \"Indonesian\", \"Romanian\", \"Serbian\"], \"country\": \"AU\", \"date\": \"2013-08-19\", \"guess\": \"Serbian\", \"sample\": \"ec4d6dad1be487091ec2b1b63820e329\", \"target\": \"Serbian\"}\n",
      "{\"choices\": [\"Amharic\", \"Arabic\", \"Dinka\", \"Samoan\"], \"country\": \"AU\", \"date\": \"2013-08-19\", \"guess\": \"Dinka\", \"sample\": \"509c36eb58dbce009ccf93f375358d53\", \"target\": \"Samoan\"}\n",
      "{\"choices\": [\"French\", \"Japanese\", \"Russian\", \"Ukrainian\"], \"country\": \"AU\", \"date\": \"2013-08-19\", \"guess\": \"Japanese\", \"sample\": \"3569611136ea04bab18a0cd605ced358\", \"target\": \"Japanese\"}\n",
      "{\"choices\": [\"Bulgarian\", \"Tagalog\", \"Greek\", \"Turkish\"], \"country\": \"AU\", \"date\": \"2013-08-19\", \"guess\": \"Tagalog\", \"sample\": \"34df5eca0db3967da23f8a210337c9d6\", \"target\": \"Tagalog\"}\n",
      "{\"choices\": [\"Khmer\", \"Latvian\", \"Serbian\", \"Vietnamese\"], \"country\": \"AU\", \"date\": \"2013-08-19\", \"guess\": \"Serbian\", \"sample\": \"ec4d6dad1be487091ec2b1b63820e329\", \"target\": \"Serbian\"}\n",
      "{\"choices\": [\"Bulgarian\", \"Macedonian\", \"Russian\", \"Samoan\"], \"country\": \"AU\", \"date\": \"2013-08-19\", \"guess\": \"Bulgarian\", \"sample\": \"ff5b5a0d34c77d2e2027dad7e4deb094\", \"target\": \"Russian\"}\n",
      "{\"choices\": [\"Bosnian\", \"Polish\", \"Sinhalese\", \"Slovenian\"], \"country\": \"AU\", \"date\": \"2013-08-19\", \"guess\": \"Polish\", \"sample\": \"f2f07eb5c50e64c627f66566b3c7cc4a\", \"target\": \"Slovenian\"}\n",
      "{\"choices\": [\"Danish\", \"Dinka\", \"Hebrew\", \"Nepali\"], \"country\": \"AU\", \"date\": \"2013-08-19\", \"guess\": \"Nepali\", \"sample\": \"192e7c59bb734ee762a323219846295b\", \"target\": \"Dinka\"}\n",
      "{\"choices\": [\"Dutch\", \"Italian\", \"Latvian\", \"Portuguese\"], \"country\": \"AU\", \"date\": \"2013-08-19\", \"guess\": \"Latvian\", \"sample\": \"5aea2b93784263ae4b5a2524ddebebb2\", \"target\": \"Latvian\"}\n",
      "{\"choices\": [\"Czech\", \"Estonian\", \"Hungarian\", \"Slovak\"], \"country\": \"AU\", \"date\": \"2013-08-19\", \"guess\": \"Hungarian\", \"sample\": \"56626a14b479e47d5eb9568161dad285\", \"target\": \"Czech\"}\n",
      "{\"choices\": [\"Croatian\", \"Hebrew\", \"Malay\", \"Nepali\"], \"country\": \"AU\", \"date\": \"2013-08-19\", \"guess\": \"Nepali\", \"sample\": \"faa86f6efaf2ee67f95239685d26fd88\", \"target\": \"Nepali\"}\n",
      "{\"choices\": [\"Kannada\", \"Korean\", \"Nepali\", \"Urdu\"], \"country\": \"AU\", \"date\": \"2013-08-19\", \"guess\": \"Urdu\", \"sample\": \"3520fdcdf2658685928fc37e72ab2134\", \"target\": \"Urdu\"}\n",
      "{\"choices\": [\"Assyrian\", \"Czech\", \"German\", \"Hungarian\"], \"country\": \"AU\", \"date\": \"2013-08-19\", \"guess\": \"Assyrian\", \"sample\": \"a7d34c215264677c8385e90fa5363ec1\", \"target\": \"Assyrian\"}\n",
      "{\"choices\": [\"Tagalog\", \"Greek\", \"Swahili\", \"Tigrinya\"], \"country\": \"AU\", \"date\": \"2013-08-19\", \"guess\": \"Swahili\", \"sample\": \"3ec316c78773bb826dd924926f5c0d07\", \"target\": \"Tigrinya\"}\n",
      "{\"choices\": [\"Estonian\", \"Malay\", \"Russian\", \"Tamil\"], \"country\": \"AU\", \"date\": \"2013-08-19\", \"guess\": \"Tamil\", \"sample\": \"cc305dcad696147e28c6f36615aa0952\", \"target\": \"Tamil\"}\n",
      "{\"choices\": [\"Danish\", \"Hebrew\", \"Korean\", \"Kurdish\"], \"country\": \"AU\", \"date\": \"2013-08-19\", \"guess\": \"Danish\", \"sample\": \"5fdcb0979e1c546ea05d7bd780bd4bc3\", \"target\": \"Danish\"}\n",
      "{\"choices\": [\"Burmese\", \"Danish\", \"Romanian\", \"Ukrainian\"], \"country\": \"AU\", \"date\": \"2013-08-19\", \"guess\": \"Burmese\", \"sample\": \"31cba304794d1828c93d7b3c63aa840a\", \"target\": \"Burmese\"}\n",
      "{\"choices\": [\"German\", \"Maltese\", \"Polish\", \"Sinhalese\"], \"country\": \"AU\", \"date\": \"2013-08-19\", \"guess\": \"Maltese\", \"sample\": \"36d2f4e9173e2d4cad8b8594310c856b\", \"target\": \"Maltese\"}\n",
      "{\"choices\": [\"Burmese\", \"Czech\", \"French\", \"Maltese\"], \"country\": \"AU\", \"date\": \"2013-08-19\", \"guess\": \"Maltese\", \"sample\": \"589feca2e2009ad2e63458f17568cd13\", \"target\": \"Maltese\"}\n",
      "{\"choices\": [\"Albanian\", \"Bangla\", \"Dutch\", \"Mandarin\"], \"country\": \"AU\", \"date\": \"2013-08-19\", \"guess\": \"Dutch\", \"sample\": \"bf0f1eec2e9f147aba20ea9b3e9564bb\", \"target\": \"Dutch\"}\n",
      "{\"choices\": [\"Czech\", \"Estonian\", \"Maltese\", \"Mandarin\"], \"country\": \"AU\", \"date\": \"2013-08-19\", \"guess\": \"Mandarin\", \"sample\": \"01f51995ae86ff85e899d40768ab81a8\", \"target\": \"Mandarin\"}\n",
      "{\"choices\": [\"Estonian\", \"Fijian\", \"Khmer\", \"Urdu\"], \"country\": \"AU\", \"date\": \"2013-08-19\", \"guess\": \"Estonian\", \"sample\": \"b7e986bd3a0d5fd1db661e3bedf36111\", \"target\": \"Estonian\"}\n",
      "{\"choices\": [\"Armenian\", \"Dutch\", \"Serbian\", \"Yiddish\"], \"country\": \"AU\", \"date\": \"2013-08-19\", \"guess\": \"Serbian\", \"sample\": \"d34689ff8c3532426256b0963d7df2bb\", \"target\": \"Armenian\"}\n",
      "{\"choices\": [\"French\", \"Indonesian\", \"Macedonian\", \"Romanian\"], \"country\": \"AU\", \"date\": \"2013-08-19\", \"guess\": \"Indonesian\", \"sample\": \"ff8fcb796b7fdc540dd567c144024f82\", \"target\": \"Indonesian\"}\n",
      "{\"choices\": [\"Latvian\", \"Mandarin\", \"Sinhalese\", \"Urdu\"], \"country\": \"AU\", \"date\": \"2013-08-19\", \"guess\": \"Sinhalese\", \"sample\": \"755de9092b301614712fae5e1d2d47d3\", \"target\": \"Sinhalese\"}\n",
      "{\"choices\": [\"Assyrian\", \"Bangla\", \"Danish\", \"Yiddish\"], \"country\": \"AU\", \"date\": \"2013-08-19\", \"guess\": \"Bangla\", \"sample\": \"b2132278200e1e601b6814a15fdabcc1\", \"target\": \"Bangla\"}\n",
      "{\"choices\": [\"Albanian\", \"Dinka\", \"Spanish\", \"Thai\"], \"country\": \"AU\", \"date\": \"2013-08-19\", \"guess\": \"Spanish\", \"sample\": \"c8f4f097079404bf9a0e94d604efd1d5\", \"target\": \"Spanish\"}\n",
      "{\"choices\": [\"Estonian\", \"Tagalog\", \"Italian\", \"Malayalam\"], \"country\": \"AU\", \"date\": \"2013-08-19\", \"guess\": \"Italian\", \"sample\": \"88f3e5120091cffdf8abeb92b5da90a2\", \"target\": \"Italian\"}\n",
      "{\"choices\": [\"Arabic\", \"Bulgarian\", \"Latvian\", \"Urdu\"], \"country\": \"AU\", \"date\": \"2013-08-19\", \"guess\": \"Arabic\", \"sample\": \"8903e496bf04c3a85a70e1dc5e0da5f1\", \"target\": \"Arabic\"}\n",
      "{\"choices\": [\"Armenian\", \"Punjabi\", \"Serbian\", \"Tongan\"], \"country\": \"AU\", \"date\": \"2013-08-19\", \"guess\": \"Punjabi\", \"sample\": \"10ff356faf50696b30f8a58b9dd919b2\", \"target\": \"Punjabi\"}\n",
      "{\"choices\": [\"Arabic\", \"Bulgarian\", \"Hindi\", \"Spanish\"], \"country\": \"AU\", \"date\": \"2013-08-19\", \"guess\": \"Hindi\", \"sample\": \"568bfed6715c43735f95faef578d7cd5\", \"target\": \"Hindi\"}\n",
      "{\"choices\": [\"Assyrian\", \"Dari\", \"Kannada\", \"Tamil\"], \"country\": \"AU\", \"date\": \"2013-08-19\", \"guess\": \"Dari\", \"sample\": \"cad47cd466a2d8c25fa7a21c15cbb3cf\", \"target\": \"Dari\"}\n",
      "{\"choices\": [\"Armenian\", \"Danish\", \"Khmer\", \"Tongan\"], \"country\": \"AU\", \"date\": \"2013-08-19\", \"guess\": \"Tongan\", \"sample\": \"838cfe7f928e1a41710e01b3ee12088f\", \"target\": \"Tongan\"}\n",
      "{\"choices\": [\"Dinka\", \"Italian\", \"Khmer\", \"Samoan\"], \"country\": \"AU\", \"date\": \"2013-08-19\", \"guess\": \"Khmer\", \"sample\": \"714795c596ef0639a385fe620d2c42ab\", \"target\": \"Khmer\"}\n",
      "{\"choices\": [\"Amharic\", \"Fijian\", \"Hindi\", \"Romanian\"], \"country\": \"AU\", \"date\": \"2013-08-19\", \"guess\": \"Romanian\", \"sample\": \"903fc45cba5245f21deaaca3966f825b\", \"target\": \"Romanian\"}\n",
      "{\"choices\": [\"Bosnian\", \"Cantonese\", \"Greek\", \"Malay\"], \"country\": \"AU\", \"date\": \"2013-08-19\", \"guess\": \"Malay\", \"sample\": \"610d45322ed5aa122cf9b4a79d603781\", \"target\": \"Malay\"}\n",
      "{\"choices\": [\"Bangla\", \"Burmese\", \"Dari\", \"Portuguese\"], \"country\": \"AU\", \"date\": \"2013-08-19\", \"guess\": \"Bangla\", \"sample\": \"b2132278200e1e601b6814a15fdabcc1\", \"target\": \"Bangla\"}\n",
      "{\"choices\": [\"Albanian\", \"Croatian\", \"Hindi\", \"Maltese\"], \"country\": \"AU\", \"date\": \"2013-08-19\", \"guess\": \"Hindi\", \"sample\": \"9dac641f173f2a225501e8e50fc4e66e\", \"target\": \"Hindi\"}\n",
      "{\"choices\": [\"Romanian\", \"Tamil\", \"Tongan\", \"Turkish\"], \"country\": \"AU\", \"date\": \"2013-08-19\", \"guess\": \"Romanian\", \"sample\": \"6560ff4ce0b53a1b0bad2e7734f52381\", \"target\": \"Romanian\"}\n",
      "{\"choices\": [\"French\", \"Lao\", \"Malay\", \"Portuguese\"], \"country\": \"AU\", \"date\": \"2013-08-19\", \"guess\": \"Lao\", \"sample\": \"4cf041f244960196b98c7d6ae8c79ed3\", \"target\": \"Lao\"}\n",
      "{\"choices\": [\"Hungarian\", \"Japanese\", \"Slovenian\", \"Vietnamese\"], \"country\": \"AU\", \"date\": \"2013-08-19\", \"guess\": \"Vietnamese\", \"sample\": \"8ea6892d1ddca321adc07b05176e3605\", \"target\": \"Vietnamese\"}\n",
      "{\"choices\": [\"Tagalog\", \"Lao\", \"Slovak\", \"Ukrainian\"], \"country\": \"AU\", \"date\": \"2013-08-19\", \"guess\": \"Tagalog\", \"sample\": \"34df5eca0db3967da23f8a210337c9d6\", \"target\": \"Tagalog\"}\n",
      "{\"choices\": [\"Danish\", \"Hungarian\", \"Korean\", \"Samoan\"], \"country\": \"AU\", \"date\": \"2013-08-19\", \"guess\": \"Hungarian\", \"sample\": \"5fdcb0979e1c546ea05d7bd780bd4bc3\", \"target\": \"Danish\"}\n",
      "{\"choices\": [\"Greek\", \"Korean\", \"Polish\", \"Slovenian\"], \"country\": \"AU\", \"date\": \"2013-08-19\", \"guess\": \"Polish\", \"sample\": \"f2f07eb5c50e64c627f66566b3c7cc4a\", \"target\": \"Slovenian\"}\n",
      "{\"choices\": [\"Arabic\", \"Bosnian\", \"Kannada\", \"Thai\"], \"country\": \"AU\", \"date\": \"2013-08-19\", \"guess\": \"Kannada\", \"sample\": \"cf08af2ccb8382aa6c624095ec4f93fb\", \"target\": \"Kannada\"}\n",
      "{\"choices\": [\"Maori\", \"Dari\", \"Korean\", \"Spanish\"], \"country\": \"AU\", \"date\": \"2013-08-19\", \"guess\": \"Spanish\", \"sample\": \"c8f4f097079404bf9a0e94d604efd1d5\", \"target\": \"Spanish\"}\n",
      "{\"choices\": [\"Armenian\", \"Hebrew\", \"Italian\", \"Urdu\"], \"country\": \"AU\", \"date\": \"2013-08-19\", \"guess\": \"Urdu\", \"sample\": \"b46fa4a310d337db8f055083c68ba863\", \"target\": \"Armenian\"}\n",
      "{\"choices\": [\"Assyrian\", \"Tagalog\", \"Tongan\", \"Urdu\"], \"country\": \"AU\", \"date\": \"2013-08-19\", \"guess\": \"Tagalog\", \"sample\": \"6ba74243165c6e7fb5255890b18f8807\", \"target\": \"Tongan\"}\n",
      "{\"choices\": [\"Korean\", \"Nepali\", \"Farsi\", \"Tongan\"], \"country\": \"AU\", \"date\": \"2013-08-19\", \"guess\": \"Farsi\", \"sample\": \"d7a4029f42521d56af05c9f947a516c1\", \"target\": \"Farsi\"}\n",
      "{\"choices\": [\"Croatian\", \"Indonesian\", \"Italian\", \"Japanese\"], \"country\": \"AU\", \"date\": \"2013-08-19\", \"guess\": \"Indonesian\", \"sample\": \"ff8fcb796b7fdc540dd567c144024f82\", \"target\": \"Indonesian\"}\n",
      "{\"choices\": [\"Japanese\", \"Malayalam\", \"Slovak\", \"Vietnamese\"], \"country\": \"AU\", \"date\": \"2013-08-19\", \"guess\": \"Japanese\", \"sample\": \"3569611136ea04bab18a0cd605ced358\", \"target\": \"Japanese\"}\n",
      "{\"choices\": [\"Arabic\", \"Dutch\", \"Spanish\", \"Yiddish\"], \"country\": \"AU\", \"date\": \"2013-08-19\", \"guess\": \"Spanish\", \"sample\": \"dc3ace49393de518e87d4f8d3ae8d9db\", \"target\": \"Spanish\"}\n",
      "{\"choices\": [\"Assyrian\", \"Khmer\", \"Lao\", \"Punjabi\"], \"country\": \"AU\", \"date\": \"2013-08-19\", \"guess\": \"Khmer\", \"sample\": \"b5aa4ea31e44899dc4d58d4a35e05504\", \"target\": \"Lao\"}\n",
      "{\"choices\": [\"Czech\", \"Indonesian\", \"Kurdish\", \"Spanish\"], \"country\": \"AU\", \"date\": \"2013-08-19\", \"guess\": \"Spanish\", \"sample\": \"dc3ace49393de518e87d4f8d3ae8d9db\", \"target\": \"Spanish\"}\n",
      "{\"choices\": [\"Burmese\", \"Fijian\", \"Kurdish\", \"Maltese\"], \"country\": \"AU\", \"date\": \"2013-08-19\", \"guess\": \"Burmese\", \"sample\": \"f53c7596c141ee6d5d2b3ab90361f802\", \"target\": \"Fijian\"}\n",
      "{\"choices\": [\"Czech\", \"Korean\", \"Lao\", \"Ukrainian\"], \"country\": \"AU\", \"date\": \"2013-08-19\", \"guess\": \"Ukrainian\", \"sample\": \"6d86f6da48a5d151593317f64da0421f\", \"target\": \"Ukrainian\"}\n",
      "{\"choices\": [\"Indonesian\", \"Macedonian\", \"Swedish\", \"Vietnamese\"], \"country\": \"AU\", \"date\": \"2013-08-19\", \"guess\": \"Indonesian\", \"sample\": \"ff8fcb796b7fdc540dd567c144024f82\", \"target\": \"Indonesian\"}\n",
      "{\"choices\": [\"Korean\", \"Latvian\", \"Farsi\", \"Urdu\"], \"country\": \"AU\", \"date\": \"2013-08-19\", \"guess\": \"Farsi\", \"sample\": \"3520fdcdf2658685928fc37e72ab2134\", \"target\": \"Urdu\"}\n",
      "{\"choices\": [\"Greek\", \"Italian\", \"Samoan\", \"Slovenian\"], \"country\": \"AU\", \"date\": \"2013-08-19\", \"guess\": \"Italian\", \"sample\": \"0f43daadf6a1ce6d769fa0daa630b5f6\", \"target\": \"Greek\"}\n",
      "{\"choices\": [\"Kannada\", \"Mandarin\", \"Somali\", \"Spanish\"], \"country\": \"AU\", \"date\": \"2013-08-19\", \"guess\": \"Mandarin\", \"sample\": \"01f51995ae86ff85e899d40768ab81a8\", \"target\": \"Mandarin\"}\n",
      "{\"choices\": [\"Hindi\", \"Romanian\", \"Tigrinya\", \"Vietnamese\"], \"country\": \"AU\", \"date\": \"2013-08-19\", \"guess\": \"Vietnamese\", \"sample\": \"3aab36435babaea46064d7f173bb0ba3\", \"target\": \"Vietnamese\"}\n",
      "{\"choices\": [\"Bangla\", \"Maori\", \"Indonesian\", \"Polish\"], \"country\": \"AU\", \"date\": \"2013-08-19\", \"guess\": \"Polish\", \"sample\": \"1e94210c21a6af48b9c418a7d6380a1c\", \"target\": \"Maori\"}\n",
      "{\"choices\": [\"Dari\", \"German\", \"Hebrew\", \"Italian\"], \"country\": \"AU\", \"date\": \"2013-08-19\", \"guess\": \"Hebrew\", \"sample\": \"830854fd9c28424c604eaef2e97e61b3\", \"target\": \"Hebrew\"}\n",
      "{\"choices\": [\"Bosnian\", \"Gujarati\", \"Spanish\", \"Vietnamese\"], \"country\": \"AU\", \"date\": \"2013-08-19\", \"guess\": \"Vietnamese\", \"sample\": \"3aab36435babaea46064d7f173bb0ba3\", \"target\": \"Vietnamese\"}\n",
      "{\"choices\": [\"Arabic\", \"Estonian\", \"Greek\", \"Russian\"], \"country\": \"AU\", \"date\": \"2013-08-19\", \"guess\": \"Russian\", \"sample\": \"8a59d48e99e8a1df7e366c4648095e27\", \"target\": \"Russian\"}\n",
      "{\"choices\": [\"Amharic\", \"Bangla\", \"Hindi\", \"Punjabi\"], \"country\": \"AU\", \"date\": \"2013-08-19\", \"guess\": \"Punjabi\", \"sample\": \"9dac641f173f2a225501e8e50fc4e66e\", \"target\": \"Hindi\"}\n",
      "{\"choices\": [\"Assyrian\", \"Tagalog\", \"Spanish\", \"Swedish\"], \"country\": \"AU\", \"date\": \"2013-08-19\", \"guess\": \"Spanish\", \"sample\": \"c8f4f097079404bf9a0e94d604efd1d5\", \"target\": \"Spanish\"}\n",
      "{\"choices\": [\"Estonian\", \"Hebrew\", \"Malayalam\", \"Swahili\"], \"country\": \"AU\", \"date\": \"2013-08-19\", \"guess\": \"Hebrew\", \"sample\": \"830854fd9c28424c604eaef2e97e61b3\", \"target\": \"Hebrew\"}\n",
      "{\"choices\": [\"Arabic\", \"Croatian\", \"Malay\", \"Serbian\"], \"country\": \"AU\", \"date\": \"2013-08-19\", \"guess\": \"Arabic\", \"sample\": \"8903e496bf04c3a85a70e1dc5e0da5f1\", \"target\": \"Arabic\"}\n",
      "{\"choices\": [\"Dinka\", \"German\", \"Hungarian\", \"Kurdish\"], \"country\": \"AU\", \"date\": \"2013-08-19\", \"guess\": \"German\", \"sample\": \"78213fa858b9a45d83121a8bf71712d1\", \"target\": \"German\"}\n",
      "{\"choices\": [\"Latvian\", \"Maltese\", \"Thai\", \"Urdu\"], \"country\": \"AU\", \"date\": \"2013-08-19\", \"guess\": \"Urdu\", \"sample\": \"36d2f4e9173e2d4cad8b8594310c856b\", \"target\": \"Maltese\"}\n",
      "{\"choices\": [\"Gujarati\", \"Sinhalese\", \"Slovenian\", \"Turkish\"], \"country\": \"AU\", \"date\": \"2013-08-19\", \"guess\": \"Gujarati\", \"sample\": \"16d80eee6659268a90460422dd2a2896\", \"target\": \"Gujarati\"}\n",
      "{\"choices\": [\"Maori\", \"Finnish\", \"Urdu\", \"Yiddish\"], \"country\": \"AU\", \"date\": \"2013-08-19\", \"guess\": \"Urdu\", \"sample\": \"491ce6f2acb4a588a4e6ff3570d429a5\", \"target\": \"Yiddish\"}\n",
      "{\"choices\": [\"Assyrian\", \"Bosnian\", \"Mandarin\", \"Yiddish\"], \"country\": \"AU\", \"date\": \"2013-08-19\", \"guess\": \"Mandarin\", \"sample\": \"fc3712715ddc748286256eb7a64f25ab\", \"target\": \"Mandarin\"}\n",
      "{\"choices\": [\"Italian\", \"Macedonian\", \"Punjabi\", \"Spanish\"], \"country\": \"AU\", \"date\": \"2013-08-19\", \"guess\": \"Spanish\", \"sample\": \"d8d9dfa02ff280d107d54fd8f19ab5bb\", \"target\": \"Spanish\"}\n",
      "{\"choices\": [\"Maori\", \"Danish\", \"Hebrew\", \"Punjabi\"], \"country\": \"AU\", \"date\": \"2013-08-19\", \"guess\": \"Danish\", \"sample\": \"5fdcb0979e1c546ea05d7bd780bd4bc3\", \"target\": \"Danish\"}\n",
      "{\"choices\": [\"Khmer\", \"Macedonian\", \"Serbian\", \"Ukrainian\"], \"country\": \"AU\", \"date\": \"2013-08-19\", \"guess\": \"Serbian\", \"sample\": \"968e9c700742f65c43ad3cb99209e787\", \"target\": \"Macedonian\"}\n",
      "{\"choices\": [\"Arabic\", \"Bangla\", \"Danish\", \"Greek\"], \"country\": \"AU\", \"date\": \"2013-08-19\", \"guess\": \"Greek\", \"sample\": \"17527de743e8a5b5c339fb8ff117f65b\", \"target\": \"Greek\"}\n",
      "{\"choices\": [\"Maori\", \"Gujarati\", \"Punjabi\", \"Sinhalese\"], \"country\": \"AU\", \"date\": \"2013-08-19\", \"guess\": \"Sinhalese\", \"sample\": \"755de9092b301614712fae5e1d2d47d3\", \"target\": \"Sinhalese\"}\n",
      "{\"choices\": [\"Bosnian\", \"Hungarian\", \"Japanese\", \"Maltese\"], \"country\": \"AU\", \"date\": \"2013-08-19\", \"guess\": \"Bosnian\", \"sample\": \"589feca2e2009ad2e63458f17568cd13\", \"target\": \"Maltese\"}\n",
      "{\"choices\": [\"Greek\", \"Gujarati\", \"Mandarin\", \"Slovenian\"], \"country\": \"AU\", \"date\": \"2013-08-19\", \"guess\": \"Mandarin\", \"sample\": \"01f51995ae86ff85e899d40768ab81a8\", \"target\": \"Mandarin\"}\n",
      "{\"choices\": [\"Czech\", \"Somali\", \"Tamil\", \"Turkish\"], \"country\": \"AU\", \"date\": \"2013-08-19\", \"guess\": \"Tamil\", \"sample\": \"cc305dcad696147e28c6f36615aa0952\", \"target\": \"Tamil\"}\n",
      "{\"choices\": [\"Bosnian\", \"Latvian\", \"Portuguese\", \"Sinhalese\"], \"country\": \"AU\", \"date\": \"2013-08-19\", \"guess\": \"Portuguese\", \"sample\": \"439672210d1feb96e012590ff2a73590\", \"target\": \"Portuguese\"}\n",
      "{\"choices\": [\"Italian\", \"Lao\", \"Farsi\", \"Tongan\"], \"country\": \"AU\", \"date\": \"2013-08-19\", \"guess\": \"Tongan\", \"sample\": \"838cfe7f928e1a41710e01b3ee12088f\", \"target\": \"Tongan\"}\n",
      "{\"choices\": [\"Albanian\", \"German\", \"Slovenian\", \"Swahili\"], \"country\": \"AU\", \"date\": \"2013-08-19\", \"guess\": \"Slovenian\", \"sample\": \"efcd813daec1c836d9f030b30caa07ce\", \"target\": \"Albanian\"}\n",
      "{\"choices\": [\"Gujarati\", \"Hebrew\", \"Somali\", \"Yiddish\"], \"country\": \"AU\", \"date\": \"2013-08-19\", \"guess\": \"Gujarati\", \"sample\": \"16d80eee6659268a90460422dd2a2896\", \"target\": \"Gujarati\"}\n",
      "{\"choices\": [\"Czech\", \"Farsi\", \"Russian\", \"Swedish\"], \"country\": \"AU\", \"date\": \"2013-08-19\", \"guess\": \"Czech\", \"sample\": \"dfe8192c1bbd80b44ea4409d9889dc90\", \"target\": \"Swedish\"}\n",
      "{\"choices\": [\"Hindi\", \"Kannada\", \"Farsi\", \"Turkish\"], \"country\": \"AU\", \"date\": \"2013-08-19\", \"guess\": \"Kannada\", \"sample\": \"70154ea13cf1c633cfe62d44919a347c\", \"target\": \"Farsi\"}\n",
      "{\"choices\": [\"Bangla\", \"Estonian\", \"Italian\", \"Khmer\"], \"country\": \"AU\", \"date\": \"2013-08-19\", \"guess\": \"Khmer\", \"sample\": \"714795c596ef0639a385fe620d2c42ab\", \"target\": \"Khmer\"}\n",
      "{\"choices\": [\"Danish\", \"German\", \"Russian\", \"Turkish\"], \"country\": \"AU\", \"date\": \"2013-08-19\", \"guess\": \"German\", \"sample\": \"5fdcb0979e1c546ea05d7bd780bd4bc3\", \"target\": \"Danish\"}\n",
      "{\"choices\": [\"Assyrian\", \"Korean\", \"Serbian\", \"Somali\"], \"country\": \"AU\", \"date\": \"2013-08-19\", \"guess\": \"Korean\", \"sample\": \"ec371adb75ab6c7431adae3ef8fc9fc9\", \"target\": \"Korean\"}\n",
      "{\"choices\": [\"Cantonese\", \"Fijian\", \"Slovak\", \"Somali\"], \"country\": \"AU\", \"date\": \"2013-08-19\", \"guess\": \"Fijian\", \"sample\": \"93b8857d01978401e679f0bde0a7b5b0\", \"target\": \"Fijian\"}\n",
      "{\"choices\": [\"Tagalog\", \"Maltese\", \"Portuguese\", \"Sinhalese\"], \"country\": \"AU\", \"date\": \"2013-08-19\", \"guess\": \"Portuguese\", \"sample\": \"439672210d1feb96e012590ff2a73590\", \"target\": \"Portuguese\"}\n",
      "{\"choices\": [\"Bulgarian\", \"French\", \"Japanese\", \"Punjabi\"], \"country\": \"AU\", \"date\": \"2013-08-19\", \"guess\": \"Japanese\", \"sample\": \"3569611136ea04bab18a0cd605ced358\", \"target\": \"Japanese\"}\n",
      "{\"choices\": [\"Bangla\", \"Khmer\", \"Kurdish\", \"Latvian\"], \"country\": \"AU\", \"date\": \"2013-08-19\", \"guess\": \"Khmer\", \"sample\": \"84f7df7508e423234fd1adec4f84e528\", \"target\": \"Khmer\"}\n",
      "{\"choices\": [\"Dutch\", \"Estonian\", \"Hungarian\", \"Swedish\"], \"country\": \"AU\", \"date\": \"2013-08-19\", \"guess\": \"Estonian\", \"sample\": \"bf0f1eec2e9f147aba20ea9b3e9564bb\", \"target\": \"Dutch\"}\n",
      "{\"choices\": [\"Dinka\", \"Hungarian\", \"Spanish\", \"Thai\"], \"country\": \"AU\", \"date\": \"2013-08-19\", \"guess\": \"Spanish\", \"sample\": \"dc3ace49393de518e87d4f8d3ae8d9db\", \"target\": \"Spanish\"}\n",
      "{\"choices\": [\"Bangla\", \"Cantonese\", \"Malay\", \"Somali\"], \"country\": \"AU\", \"date\": \"2013-08-19\", \"guess\": \"Cantonese\", \"sample\": \"78e21624c41e6efc3ac790735180615d\", \"target\": \"Cantonese\"}\n",
      "{\"choices\": [\"Cantonese\", \"Latvian\", \"Tamil\", \"Turkish\"], \"country\": \"AU\", \"date\": \"2013-08-19\", \"guess\": \"Turkish\", \"sample\": \"447bcafdbe5d7d69e0db72ab5bfa043a\", \"target\": \"Latvian\"}\n",
      "{\"choices\": [\"Assyrian\", \"Bulgarian\", \"Indonesian\", \"Khmer\"], \"country\": \"AU\", \"date\": \"2013-08-19\", \"guess\": \"Bulgarian\", \"sample\": \"69a5c674fe40942aaae4d10c9df46ee0\", \"target\": \"Bulgarian\"}\n",
      "{\"choices\": [\"Italian\", \"Korean\", \"Latvian\", \"Polish\"], \"country\": \"AU\", \"date\": \"2013-08-19\", \"guess\": \"Polish\", \"sample\": \"98890a26d68bcf75f6087566971f126f\", \"target\": \"Polish\"}\n",
      "{\"choices\": [\"Amharic\", \"Maltese\", \"Farsi\", \"Slovak\"], \"country\": \"AU\", \"date\": \"2013-08-19\", \"guess\": \"Farsi\", \"sample\": \"2c5efbd7364036976ec403a9ee36f614\", \"target\": \"Slovak\"}\n",
      "{\"choices\": [\"Bulgarian\", \"Maori\", \"Latvian\", \"Russian\"], \"country\": \"AU\", \"date\": \"2013-08-19\", \"guess\": \"Latvian\", \"sample\": \"447bcafdbe5d7d69e0db72ab5bfa043a\", \"target\": \"Latvian\"}\n",
      "{\"choices\": [\"Albanian\", \"Amharic\", \"Malay\", \"Tongan\"], \"country\": \"AU\", \"date\": \"2013-08-19\", \"guess\": \"Malay\", \"sample\": \"6650448a5456ba88ea0971f2265f2bc7\", \"target\": \"Malay\"}\n",
      "{\"choices\": [\"Dinka\", \"Khmer\", \"Polish\", \"Urdu\"], \"country\": \"AU\", \"date\": \"2013-08-19\", \"guess\": \"Khmer\", \"sample\": \"84f7df7508e423234fd1adec4f84e528\", \"target\": \"Khmer\"}\n",
      "{\"choices\": [\"Armenian\", \"Dinka\", \"Farsi\", \"Portuguese\"], \"country\": \"AU\", \"date\": \"2013-08-19\", \"guess\": \"Farsi\", \"sample\": \"e4588d7c735b9a87d93ada6d24a7bd53\", \"target\": \"Armenian\"}\n",
      "{\"choices\": [\"Tagalog\", \"French\", \"Hebrew\", \"Romanian\"], \"country\": \"AU\", \"date\": \"2013-08-19\", \"guess\": \"Romanian\", \"sample\": \"6560ff4ce0b53a1b0bad2e7734f52381\", \"target\": \"Romanian\"}\n",
      "{\"choices\": [\"Burmese\", \"Dinka\", \"Greek\", \"Indonesian\"], \"country\": \"AU\", \"date\": \"2013-08-19\", \"guess\": \"Burmese\", \"sample\": \"192e7c59bb734ee762a323219846295b\", \"target\": \"Dinka\"}\n",
      "{\"choices\": [\"Cantonese\", \"Gujarati\", \"Italian\", \"Sinhalese\"], \"country\": \"AU\", \"date\": \"2013-08-19\", \"guess\": \"Gujarati\", \"sample\": \"56ecf19cff578aa76b81edb580ff343f\", \"target\": \"Gujarati\"}\n",
      "{\"choices\": [\"Armenian\", \"Finnish\", \"Italian\", \"Mandarin\"], \"country\": \"AU\", \"date\": \"2013-08-19\", \"guess\": \"Mandarin\", \"sample\": \"fc3712715ddc748286256eb7a64f25ab\", \"target\": \"Mandarin\"}\n",
      "{\"choices\": [\"Japanese\", \"Sinhalese\", \"Swahili\", \"Vietnamese\"], \"country\": \"AU\", \"date\": \"2013-08-19\", \"guess\": \"Japanese\", \"sample\": \"3569611136ea04bab18a0cd605ced358\", \"target\": \"Japanese\"}\n",
      "{\"choices\": [\"Dinka\", \"Samoan\", \"Somali\", \"Tongan\"], \"country\": \"AU\", \"date\": \"2013-08-19\", \"guess\": \"Tongan\", \"sample\": \"838cfe7f928e1a41710e01b3ee12088f\", \"target\": \"Tongan\"}\n",
      "{\"choices\": [\"Bulgarian\", \"Mandarin\", \"Nepali\", \"Tamil\"], \"country\": \"AU\", \"date\": \"2013-08-19\", \"guess\": \"Nepali\", \"sample\": \"faa86f6efaf2ee67f95239685d26fd88\", \"target\": \"Nepali\"}\n",
      "{\"choices\": [\"Maori\", \"Estonian\", \"Nepali\", \"Portuguese\"], \"country\": \"AU\", \"date\": \"2013-08-19\", \"guess\": \"Estonian\", \"sample\": \"1e94210c21a6af48b9c418a7d6380a1c\", \"target\": \"Maori\"}\n",
      "{\"choices\": [\"Danish\", \"Latvian\", \"Norwegian\", \"Sinhalese\"], \"country\": \"AU\", \"date\": \"2013-08-19\", \"guess\": \"Latvian\", \"sample\": \"c4d4db8bf910cf4350fc87b3f3667976\", \"target\": \"Sinhalese\"}\n",
      "{\"choices\": [\"Indonesian\", \"Nepali\", \"Sinhalese\", \"Turkish\"], \"country\": \"AU\", \"date\": \"2013-08-19\", \"guess\": \"Nepali\", \"sample\": \"e178a0abbbb171d9b785d8350a45f203\", \"target\": \"Nepali\"}\n",
      "{\"choices\": [\"Dutch\", \"Hindi\", \"Lao\", \"Norwegian\"], \"country\": \"AU\", \"date\": \"2013-08-20\", \"guess\": \"Norwegian\", \"sample\": \"48f9c924e0d98c959d8a6f1862b3ce9a\", \"target\": \"Norwegian\"}\n",
      "{\"choices\": [\"Finnish\", \"Hebrew\", \"Malay\", \"Urdu\"], \"country\": \"AU\", \"date\": \"2013-08-20\", \"guess\": \"Hebrew\", \"sample\": \"1dc9a1bf90e4e788906dc716dc18d878\", \"target\": \"Hebrew\"}\n",
      "{\"choices\": [\"Dutch\", \"Finnish\", \"Ukrainian\", \"Yiddish\"], \"country\": \"AU\", \"date\": \"2013-08-20\", \"guess\": \"Ukrainian\", \"sample\": \"064ca74dff16ce8dade4a7acdc0def8a\", \"target\": \"Ukrainian\"}\n",
      "{\"choices\": [\"Arabic\", \"Korean\", \"Punjabi\", \"Vietnamese\"], \"country\": \"AU\", \"date\": \"2013-08-20\", \"guess\": \"Vietnamese\", \"sample\": \"8ea6892d1ddca321adc07b05176e3605\", \"target\": \"Vietnamese\"}\n",
      "{\"choices\": [\"Dutch\", \"French\", \"Kannada\", \"Serbian\"], \"country\": \"AU\", \"date\": \"2013-08-20\", \"guess\": \"Dutch\", \"sample\": \"bf0f1eec2e9f147aba20ea9b3e9564bb\", \"target\": \"Dutch\"}\n",
      "{\"choices\": [\"Cantonese\", \"Polish\", \"Portuguese\", \"Punjabi\"], \"country\": \"AU\", \"date\": \"2013-08-20\", \"guess\": \"Portuguese\", \"sample\": \"5fd851c9e87a6b9b9da9eb2ab0de6686\", \"target\": \"Portuguese\"}\n",
      "{\"choices\": [\"Dari\", \"Serbian\", \"Sinhalese\", \"Vietnamese\"], \"country\": \"AU\", \"date\": \"2013-08-20\", \"guess\": \"Dari\", \"sample\": \"0d5b697ebb326b5043ce7fa60a7b968d\", \"target\": \"Serbian\"}\n",
      "{\"choices\": [\"French\", \"Kannada\", \"Nepali\", \"Sinhalese\"], \"country\": \"AU\", \"date\": \"2013-08-20\", \"guess\": \"Nepali\", \"sample\": \"e178a0abbbb171d9b785d8350a45f203\", \"target\": \"Nepali\"}\n",
      "{\"choices\": [\"Amharic\", \"Czech\", \"Korean\", \"Macedonian\"], \"country\": \"AU\", \"date\": \"2013-08-20\", \"guess\": \"Czech\", \"sample\": \"9769bab1b0b25eb730c704ef42a3e7a6\", \"target\": \"Czech\"}\n",
      "{\"choices\": [\"Kannada\", \"Kurdish\", \"Latvian\", \"Tongan\"], \"country\": \"AU\", \"date\": \"2013-08-20\", \"guess\": \"Kurdish\", \"sample\": \"8df0a7cae5bb52d889fdbab7def4b5aa\", \"target\": \"Kurdish\"}\n",
      "{\"choices\": [\"Maori\", \"Czech\", \"Kurdish\", \"Tongan\"], \"country\": \"AU\", \"date\": \"2013-08-20\", \"guess\": \"Czech\", \"sample\": \"1787b5c79a00b3513ce76847bc1f5b75\", \"target\": \"Czech\"}\n",
      "{\"choices\": [\"Tagalog\", \"French\", \"Latvian\", \"Slovenian\"], \"country\": \"AU\", \"date\": \"2013-08-20\", \"guess\": \"Latvian\", \"sample\": \"447bcafdbe5d7d69e0db72ab5bfa043a\", \"target\": \"Latvian\"}\n",
      "{\"choices\": [\"Lao\", \"Maltese\", \"Swedish\", \"Ukrainian\"], \"country\": \"AU\", \"date\": \"2013-08-20\", \"guess\": \"Swedish\", \"sample\": \"dfe8192c1bbd80b44ea4409d9889dc90\", \"target\": \"Swedish\"}\n",
      "{\"choices\": [\"Assyrian\", \"Burmese\", \"Khmer\", \"Russian\"], \"country\": \"AU\", \"date\": \"2013-08-20\", \"guess\": \"Khmer\", \"sample\": \"31cba304794d1828c93d7b3c63aa840a\", \"target\": \"Burmese\"}\n",
      "{\"choices\": [\"Japanese\", \"Malay\", \"Maltese\", \"Ukrainian\"], \"country\": \"AU\", \"date\": \"2013-08-20\", \"guess\": \"Malay\", \"sample\": \"3569611136ea04bab18a0cd605ced358\", \"target\": \"Japanese\"}\n",
      "{\"choices\": [\"Amharic\", \"Maori\", \"German\", \"Kannada\"], \"country\": \"AU\", \"date\": \"2013-08-20\", \"guess\": \"Amharic\", \"sample\": \"1e94210c21a6af48b9c418a7d6380a1c\", \"target\": \"Maori\"}\n",
      "{\"choices\": [\"Finnish\", \"Somali\", \"Turkish\", \"Urdu\"], \"country\": \"AU\", \"date\": \"2013-08-20\", \"guess\": \"Turkish\", \"sample\": \"752c4c30d475748a342c68ebfba24d1e\", \"target\": \"Turkish\"}\n",
      "{\"choices\": [\"Burmese\", \"Czech\", \"Fijian\", \"Somali\"], \"country\": \"AU\", \"date\": \"2013-08-20\", \"guess\": \"Somali\", \"sample\": \"93b8857d01978401e679f0bde0a7b5b0\", \"target\": \"Fijian\"}\n",
      "{\"choices\": [\"Gujarati\", \"Norwegian\", \"Sinhalese\", \"Tamil\"], \"country\": \"AU\", \"date\": \"2013-08-20\", \"guess\": \"Tamil\", \"sample\": \"755de9092b301614712fae5e1d2d47d3\", \"target\": \"Sinhalese\"}\n",
      "{\"choices\": [\"Cantonese\", \"Dari\", \"Nepali\", \"Spanish\"], \"country\": \"AU\", \"date\": \"2013-08-20\", \"guess\": \"Nepali\", \"sample\": \"da6ed723fe60684a231c3e22a42610a7\", \"target\": \"Cantonese\"}\n",
      "{\"choices\": [\"Arabic\", \"Cantonese\", \"Maltese\", \"Samoan\"], \"country\": \"AU\", \"date\": \"2013-08-20\", \"guess\": \"Arabic\", \"sample\": \"83c6ffcb085ce9c18c0e2aff00dda865\", \"target\": \"Arabic\"}\n",
      "{\"choices\": [\"Amharic\", \"Cantonese\", \"Fijian\", \"Kurdish\"], \"country\": \"AU\", \"date\": \"2013-08-20\", \"guess\": \"Amharic\", \"sample\": \"50a52cc16828c9cd27b9c26c75974e6d\", \"target\": \"Amharic\"}\n",
      "{\"choices\": [\"Tagalog\", \"Hebrew\", \"Hungarian\", \"Latvian\"], \"country\": \"AU\", \"date\": \"2013-08-20\", \"guess\": \"Hungarian\", \"sample\": \"5e609abac81edbf76a58bc1d2a850f12\", \"target\": \"Latvian\"}\n",
      "{\"choices\": [\"Tagalog\", \"Gujarati\", \"Portuguese\", \"Sinhalese\"], \"country\": \"AU\", \"date\": \"2013-08-20\", \"guess\": \"Gujarati\", \"sample\": \"650061b92e1bf9fc20bc9757f333ddbb\", \"target\": \"Sinhalese\"}\n",
      "{\"choices\": [\"Gujarati\", \"Latvian\", \"Russian\", \"Tamil\"], \"country\": \"AU\", \"date\": \"2013-08-20\", \"guess\": \"Gujarati\", \"sample\": \"447bcafdbe5d7d69e0db72ab5bfa043a\", \"target\": \"Latvian\"}\n",
      "{\"choices\": [\"Dari\", \"Tagalog\", \"Slovenian\", \"Spanish\"], \"country\": \"AU\", \"date\": \"2013-08-20\", \"guess\": \"Spanish\", \"sample\": \"dc3ace49393de518e87d4f8d3ae8d9db\", \"target\": \"Spanish\"}\n",
      "{\"choices\": [\"Czech\", \"Dinka\", \"Farsi\", \"Somali\"], \"country\": \"AU\", \"date\": \"2013-08-20\", \"guess\": \"Farsi\", \"sample\": \"c73ee42a45debb00fbcc86eb29682757\", \"target\": \"Farsi\"}\n",
      "{\"choices\": [\"Bosnian\", \"Estonian\", \"Kurdish\", \"Nepali\"], \"country\": \"AU\", \"date\": \"2013-08-20\", \"guess\": \"Nepali\", \"sample\": \"faa86f6efaf2ee67f95239685d26fd88\", \"target\": \"Nepali\"}\n",
      "{\"choices\": [\"Assyrian\", \"Bangla\", \"Nepali\", \"Tamil\"], \"country\": \"AU\", \"date\": \"2013-08-20\", \"guess\": \"Tamil\", \"sample\": \"cc305dcad696147e28c6f36615aa0952\", \"target\": \"Tamil\"}\n",
      "{\"choices\": [\"Armenian\", \"Dutch\", \"Estonian\", \"Ukrainian\"], \"country\": \"AU\", \"date\": \"2013-08-20\", \"guess\": \"Estonian\", \"sample\": \"064ca74dff16ce8dade4a7acdc0def8a\", \"target\": \"Ukrainian\"}\n",
      "{\"choices\": [\"Estonian\", \"Khmer\", \"Latvian\", \"Thai\"], \"country\": \"AU\", \"date\": \"2013-08-20\", \"guess\": \"Khmer\", \"sample\": \"714795c596ef0639a385fe620d2c42ab\", \"target\": \"Khmer\"}\n",
      "{\"choices\": [\"Mandarin\", \"Polish\", \"Portuguese\", \"Romanian\"], \"country\": \"AU\", \"date\": \"2013-08-20\", \"guess\": \"Portuguese\", \"sample\": \"6560ff4ce0b53a1b0bad2e7734f52381\", \"target\": \"Romanian\"}\n",
      "{\"choices\": [\"Croatian\", \"Dinka\", \"French\", \"Hungarian\"], \"country\": \"AU\", \"date\": \"2013-08-20\", \"guess\": \"French\", \"sample\": \"92f9e1c17e6df988780527341fdb471d\", \"target\": \"French\"}\n",
      "{\"choices\": [\"Khmer\", \"Maltese\", \"Norwegian\", \"Swedish\"], \"country\": \"AU\", \"date\": \"2013-08-20\", \"guess\": \"Maltese\", \"sample\": \"589feca2e2009ad2e63458f17568cd13\", \"target\": \"Maltese\"}\n",
      "{\"choices\": [\"Fijian\", \"Hebrew\", \"Samoan\", \"Ukrainian\"], \"country\": \"AU\", \"date\": \"2013-08-20\", \"guess\": \"Hebrew\", \"sample\": \"1dc9a1bf90e4e788906dc716dc18d878\", \"target\": \"Hebrew\"}\n",
      "{\"choices\": [\"Dinka\", \"Norwegian\", \"Sinhalese\", \"Urdu\"], \"country\": \"AU\", \"date\": \"2013-08-20\", \"guess\": \"Sinhalese\", \"sample\": \"192e7c59bb734ee762a323219846295b\", \"target\": \"Dinka\"}\n",
      "{\"choices\": [\"Bosnian\", \"Latvian\", \"Spanish\", \"Vietnamese\"], \"country\": \"AU\", \"date\": \"2013-08-20\", \"guess\": \"Spanish\", \"sample\": \"421df072ac5abde4883d50b1fc789b14\", \"target\": \"Bosnian\"}\n"
     ]
    }
   ],
   "source": [
    "%%jsoniq\n",
    "for $i in json-file(\"confusion-100000.json\", 10)\n",
    "return $i"
   ]
  },
  {
   "cell_type": "markdown",
   "metadata": {
    "id": "oDF2EAwwAwTM"
   },
   "source": [
    "## 4.2 SQL to Rumble"
   ]
  },
  {
   "cell_type": "markdown",
   "metadata": {
    "id": "W2ppgHl4d-kt"
   },
   "source": [
    "The following examples, show how SQL queries can be converted to JSONiq queries. Assume that the dataset is accessible with SQL through the table \"entries\".\n",
    "\n",
    "\n",
    "\n"
   ]
  },
  {
   "cell_type": "markdown",
   "metadata": {
    "id": "P8q9Rwq8IzPn"
   },
   "source": [
    "### 4.2.1 Get all games played from Switzerland\n",
    "\n",
    "\n",
    "```sql\n",
    "SELECT *\n",
    "FROM entries\n",
    "WHERE country == \"CH\"\n",
    "```\n"
   ]
  },
  {
   "cell_type": "code",
   "execution_count": 49,
   "metadata": {
    "id": "A3ZQK0gVHkoI"
   },
   "outputs": [
    {
     "name": "stdout",
     "output_type": "stream",
     "text": [
      "Took: 0.48194098472595215 ms\n",
      "\"Warning! The output sequence contains 308 items but its materialization was capped at 200 items. This value can be configured with the result-size parameter in the query string of the HTTP request.\"\n",
      "{\"choices\": [\"Amharic\", \"Dari\"], \"country\": \"CH\", \"date\": \"2013-09-01\", \"guess\": \"Amharic\", \"sample\": \"9b1340b8343bb267783e1bfb2dc55bf1\", \"target\": \"Amharic\"}\n",
      "{\"choices\": [\"Burmese\", \"Korean\"], \"country\": \"CH\", \"date\": \"2013-09-01\", \"guess\": \"Korean\", \"sample\": \"0f8e6818d2be77b75712bc9ea4e87171\", \"target\": \"Korean\"}\n",
      "{\"choices\": [\"Farsi\", \"Thai\"], \"country\": \"CH\", \"date\": \"2013-09-01\", \"guess\": \"Thai\", \"sample\": \"74b5340a230b1e0c1d45787bc4280b05\", \"target\": \"Thai\"}\n",
      "{\"choices\": [\"Finnish\", \"German\", \"Hungarian\"], \"country\": \"CH\", \"date\": \"2013-09-01\", \"guess\": \"Finnish\", \"sample\": \"cb1a1c1c93ab6e802560855ca5f015f7\", \"target\": \"Hungarian\"}\n",
      "{\"choices\": [\"Czech\", \"Japanese\", \"Russian\"], \"country\": \"CH\", \"date\": \"2013-09-01\", \"guess\": \"Russian\", \"sample\": \"b7df3f9d67cef259fbcaa5abcad9d774\", \"target\": \"Russian\"}\n",
      "{\"choices\": [\"Albanian\", \"Punjabi\", \"Swahili\"], \"country\": \"CH\", \"date\": \"2013-09-01\", \"guess\": \"Punjabi\", \"sample\": \"d720bf82f29b3f6d835a4f7dcb9c2dcb\", \"target\": \"Swahili\"}\n",
      "{\"choices\": [\"Croatian\", \"Danish\", \"Swedish\"], \"country\": \"CH\", \"date\": \"2013-09-01\", \"guess\": \"Swedish\", \"sample\": \"2ca0534b652c09262b71bced44b4afd7\", \"target\": \"Danish\"}\n",
      "{\"choices\": [\"Cantonese\", \"Italian\"], \"country\": \"CH\", \"date\": \"2013-09-02\", \"guess\": \"Cantonese\", \"sample\": \"203628f42619d301e642b3553b7a684a\", \"target\": \"Cantonese\"}\n",
      "{\"choices\": [\"Burmese\", \"Danish\"], \"country\": \"CH\", \"date\": \"2013-09-02\", \"guess\": \"Danish\", \"sample\": \"2a7c43c1d50df8ab3d92f0bcacc637f9\", \"target\": \"Danish\"}\n",
      "{\"choices\": [\"Lao\", \"Spanish\"], \"country\": \"CH\", \"date\": \"2013-09-02\", \"guess\": \"Lao\", \"sample\": \"b5aa4ea31e44899dc4d58d4a35e05504\", \"target\": \"Lao\"}\n",
      "{\"choices\": [\"Arabic\", \"Punjabi\", \"Sinhalese\"], \"country\": \"CH\", \"date\": \"2013-09-02\", \"guess\": \"Arabic\", \"sample\": \"755de9092b301614712fae5e1d2d47d3\", \"target\": \"Sinhalese\"}\n",
      "{\"choices\": [\"Gujarati\", \"Swahili\", \"Ukrainian\"], \"country\": \"CH\", \"date\": \"2013-09-02\", \"guess\": \"Ukrainian\", \"sample\": \"064ca74dff16ce8dade4a7acdc0def8a\", \"target\": \"Ukrainian\"}\n",
      "{\"choices\": [\"Bangla\", \"Italian\", \"Tagalog\"], \"country\": \"CH\", \"date\": \"2013-09-02\", \"guess\": \"Bangla\", \"sample\": \"2097edfb7d3a9b59fffad5ddc8aea4d4\", \"target\": \"Bangla\"}\n",
      "{\"choices\": [\"Amharic\", \"Hebrew\", \"Tigrinya\"], \"country\": \"CH\", \"date\": \"2013-09-02\", \"guess\": \"Hebrew\", \"sample\": \"1dc9a1bf90e4e788906dc716dc18d878\", \"target\": \"Hebrew\"}\n",
      "{\"choices\": [\"Armenian\", \"Burmese\", \"Dinka\", \"Dutch\"], \"country\": \"CH\", \"date\": \"2013-09-02\", \"guess\": \"Dutch\", \"sample\": \"65bf2aceadf2520f36a5e548a0471fcf\", \"target\": \"Dutch\"}\n",
      "{\"choices\": [\"Albanian\", \"Dinka\", \"Italian\", \"Kannada\"], \"country\": \"CH\", \"date\": \"2013-09-02\", \"guess\": \"Italian\", \"sample\": \"efcd813daec1c836d9f030b30caa07ce\", \"target\": \"Albanian\"}\n",
      "{\"choices\": [\"Dari\", \"Norwegian\", \"Serbian\", \"Urdu\"], \"country\": \"CH\", \"date\": \"2013-09-02\", \"guess\": \"Norwegian\", \"sample\": \"ac81d9c1d39252811bf5d9fcfddc2231\", \"target\": \"Serbian\"}\n",
      "{\"choices\": [\"Nepali\", \"Turkish\"], \"country\": \"CH\", \"date\": \"2013-09-02\", \"guess\": \"Turkish\", \"sample\": \"d8a4ee3f4b430af016b2dc5902fccd75\", \"target\": \"Nepali\"}\n",
      "{\"choices\": [\"Lao\", \"Tamil\"], \"country\": \"CH\", \"date\": \"2013-09-02\", \"guess\": \"Lao\", \"sample\": \"4cf041f244960196b98c7d6ae8c79ed3\", \"target\": \"Lao\"}\n",
      "{\"choices\": [\"Burmese\", \"Finnish\"], \"country\": \"CH\", \"date\": \"2013-09-02\", \"guess\": \"Finnish\", \"sample\": \"65b5bf9df0f8ec61111d20c6b48db671\", \"target\": \"Finnish\"}\n",
      "{\"choices\": [\"Amharic\", \"Greek\"], \"country\": \"CH\", \"date\": \"2013-09-02\", \"guess\": \"Greek\", \"sample\": \"4d83917583d5f4b47486f508bb2b8e7e\", \"target\": \"Amharic\"}\n",
      "{\"choices\": [\"Hindi\", \"Mandarin\"], \"country\": \"CH\", \"date\": \"2013-09-02\", \"guess\": \"Mandarin\", \"sample\": \"d741b71a302261bdd5571023ee8e5131\", \"target\": \"Mandarin\"}\n",
      "{\"choices\": [\"Cantonese\", \"Maltese\"], \"country\": \"CH\", \"date\": \"2013-09-02\", \"guess\": \"Maltese\", \"sample\": \"da6ed723fe60684a231c3e22a42610a7\", \"target\": \"Cantonese\"}\n",
      "{\"choices\": [\"Bulgarian\", \"Indonesian\"], \"country\": \"CH\", \"date\": \"2013-09-02\", \"guess\": \"Bulgarian\", \"sample\": \"69a5c674fe40942aaae4d10c9df46ee0\", \"target\": \"Bulgarian\"}\n",
      "{\"choices\": [\"Bosnian\", \"Dutch\", \"Lao\"], \"country\": \"CH\", \"date\": \"2013-09-02\", \"guess\": \"Lao\", \"sample\": \"4cf041f244960196b98c7d6ae8c79ed3\", \"target\": \"Lao\"}\n",
      "{\"choices\": [\"Fijian\", \"Malay\"], \"country\": \"CH\", \"date\": \"2013-09-02\", \"guess\": \"Malay\", \"sample\": \"f53c7596c141ee6d5d2b3ab90361f802\", \"target\": \"Fijian\"}\n",
      "{\"choices\": [\"Korean\", \"Maltese\", \"Sinhalese\"], \"country\": \"CH\", \"date\": \"2013-09-02\", \"guess\": \"Korean\", \"sample\": \"ec371adb75ab6c7431adae3ef8fc9fc9\", \"target\": \"Korean\"}\n",
      "{\"choices\": [\"Arabic\", \"Dutch\", \"Ukrainian\"], \"country\": \"CH\", \"date\": \"2013-09-02\", \"guess\": \"Ukrainian\", \"sample\": \"590cc524a179707e101ac84848523c4a\", \"target\": \"Ukrainian\"}\n",
      "{\"choices\": [\"Farsi\", \"French\", \"Tagalog\", \"Turkish\"], \"country\": \"CH\", \"date\": \"2013-09-02\", \"guess\": \"French\", \"sample\": \"a892b7fd27c34fc81b65c0bb93113846\", \"target\": \"French\"}\n",
      "{\"choices\": [\"Indonesian\", \"Maori\", \"Serbian\", \"Swahili\"], \"country\": \"CH\", \"date\": \"2013-09-02\", \"guess\": \"Maori\", \"sample\": \"90ae678a85eac78bc4b4f52809a7c09d\", \"target\": \"Maori\"}\n",
      "{\"choices\": [\"Italian\", \"Mandarin\", \"Samoan\", \"Tamil\"], \"country\": \"CH\", \"date\": \"2013-09-02\", \"guess\": \"Samoan\", \"sample\": \"cd9592f5c1899461ee5defa7423458b6\", \"target\": \"Samoan\"}\n",
      "{\"choices\": [\"Danish\", \"Hungarian\", \"Norwegian\", \"Slovenian\", \"Swedish\"], \"country\": \"CH\", \"date\": \"2013-09-02\", \"guess\": \"Hungarian\", \"sample\": \"f2f07eb5c50e64c627f66566b3c7cc4a\", \"target\": \"Slovenian\"}\n",
      "{\"choices\": [\"Czech\", \"French\"], \"country\": \"CH\", \"date\": \"2013-09-02\", \"guess\": \"French\", \"sample\": \"9b2e27d1ff24961daaa87fa439a00c06\", \"target\": \"French\"}\n",
      "{\"choices\": [\"Amharic\", \"Korean\"], \"country\": \"CH\", \"date\": \"2013-09-02\", \"guess\": \"Korean\", \"sample\": \"871c938ad3b1243f42eec04057930d7e\", \"target\": \"Korean\"}\n",
      "{\"choices\": [\"Fijian\", \"Khmer\"], \"country\": \"CH\", \"date\": \"2013-09-02\", \"guess\": \"Khmer\", \"sample\": \"714795c596ef0639a385fe620d2c42ab\", \"target\": \"Khmer\"}\n",
      "{\"choices\": [\"Croatian\", \"Turkish\"], \"country\": \"CH\", \"date\": \"2013-09-02\", \"guess\": \"Turkish\", \"sample\": \"ee702400fc1f020752ba3381a1b3cf9b\", \"target\": \"Turkish\"}\n",
      "{\"choices\": [\"Amharic\", \"Czech\"], \"country\": \"CH\", \"date\": \"2013-09-02\", \"guess\": \"Czech\", \"sample\": \"9769bab1b0b25eb730c704ef42a3e7a6\", \"target\": \"Czech\"}\n",
      "{\"choices\": [\"Croatian\", \"Slovak\", \"Thai\"], \"country\": \"CH\", \"date\": \"2013-09-02\", \"guess\": \"Slovak\", \"sample\": \"2c5efbd7364036976ec403a9ee36f614\", \"target\": \"Slovak\"}\n",
      "{\"choices\": [\"French\", \"Latvian\", \"Slovenian\"], \"country\": \"CH\", \"date\": \"2013-09-02\", \"guess\": \"Latvian\", \"sample\": \"539d72aa7f2e6971b2e927c5816cd7a7\", \"target\": \"Slovenian\"}\n",
      "{\"choices\": [\"Korean\", \"Maori\", \"Somali\"], \"country\": \"CH\", \"date\": \"2013-09-02\", \"guess\": \"Somali\", \"sample\": \"e0d71c2632a4fe69b42a49c8aeeec811\", \"target\": \"Maori\"}\n",
      "{\"choices\": [\"Bangla\", \"Estonian\", \"Hindi\"], \"country\": \"CH\", \"date\": \"2013-09-02\", \"guess\": \"Estonian\", \"sample\": \"b7e986bd3a0d5fd1db661e3bedf36111\", \"target\": \"Estonian\"}\n",
      "{\"choices\": [\"Indonesian\", \"Maltese\"], \"country\": \"CH\", \"date\": \"2013-09-02\", \"guess\": \"Indonesian\", \"sample\": \"36d2f4e9173e2d4cad8b8594310c856b\", \"target\": \"Maltese\"}\n",
      "{\"choices\": [\"Assyrian\", \"Italian\", \"Malayalam\"], \"country\": \"CH\", \"date\": \"2013-09-02\", \"guess\": \"Assyrian\", \"sample\": \"ccebbc271377f7173e39564c74901f7c\", \"target\": \"Assyrian\"}\n",
      "{\"choices\": [\"Arabic\", \"Assyrian\", \"Khmer\", \"Yiddish\"], \"country\": \"CH\", \"date\": \"2013-09-02\", \"guess\": \"Arabic\", \"sample\": \"16ac545260ae198b7a3d882e06e5f261\", \"target\": \"Assyrian\"}\n",
      "{\"choices\": [\"Kannada\", \"Portuguese\"], \"country\": \"CH\", \"date\": \"2013-09-02\", \"guess\": \"Kannada\", \"sample\": \"1d7fea3522c8607f5ec4168b2a5cd206\", \"target\": \"Portuguese\"}\n",
      "{\"choices\": [\"Finnish\", \"Serbian\", \"Tagalog\", \"Vietnamese\"], \"country\": \"CH\", \"date\": \"2013-09-02\", \"guess\": \"Serbian\", \"sample\": \"ac81d9c1d39252811bf5d9fcfddc2231\", \"target\": \"Serbian\"}\n",
      "{\"choices\": [\"Khmer\", \"Somali\"], \"country\": \"CH\", \"date\": \"2013-09-02\", \"guess\": \"Khmer\", \"sample\": \"ee5ffba9c5cf1d6a1e2d95b0220c06d4\", \"target\": \"Somali\"}\n",
      "{\"choices\": [\"Kurdish\", \"Latvian\", \"Malayalam\", \"Slovak\"], \"country\": \"CH\", \"date\": \"2013-09-02\", \"guess\": \"Latvian\", \"sample\": \"447bcafdbe5d7d69e0db72ab5bfa043a\", \"target\": \"Latvian\"}\n",
      "{\"choices\": [\"Norwegian\", \"Spanish\"], \"country\": \"CH\", \"date\": \"2013-09-02\", \"guess\": \"Spanish\", \"sample\": \"dc3ace49393de518e87d4f8d3ae8d9db\", \"target\": \"Spanish\"}\n",
      "{\"choices\": [\"Danish\", \"Russian\"], \"country\": \"CH\", \"date\": \"2013-09-02\", \"guess\": \"Danish\", \"sample\": \"2ca0534b652c09262b71bced44b4afd7\", \"target\": \"Danish\"}\n",
      "{\"choices\": [\"Albanian\", \"Latvian\", \"Russian\", \"Turkish\"], \"country\": \"CH\", \"date\": \"2013-09-02\", \"guess\": \"Russian\", \"sample\": \"b7df3f9d67cef259fbcaa5abcad9d774\", \"target\": \"Russian\"}\n",
      "{\"choices\": [\"Farsi\", \"Portuguese\"], \"country\": \"CH\", \"date\": \"2013-09-02\", \"guess\": \"Portuguese\", \"sample\": \"1d7fea3522c8607f5ec4168b2a5cd206\", \"target\": \"Portuguese\"}\n",
      "{\"choices\": [\"Burmese\", \"Czech\", \"Finnish\", \"Somali\", \"Tagalog\"], \"country\": \"CH\", \"date\": \"2013-09-02\", \"guess\": \"Czech\", \"sample\": \"1787b5c79a00b3513ce76847bc1f5b75\", \"target\": \"Czech\"}\n",
      "{\"choices\": [\"Dari\", \"Russian\", \"Serbian\"], \"country\": \"CH\", \"date\": \"2013-09-02\", \"guess\": \"Russian\", \"sample\": \"b7df3f9d67cef259fbcaa5abcad9d774\", \"target\": \"Russian\"}\n",
      "{\"choices\": [\"Albanian\", \"Burmese\", \"Czech\", \"French\", \"Malayalam\"], \"country\": \"CH\", \"date\": \"2013-09-02\", \"guess\": \"Burmese\", \"sample\": \"30839a9f51bf6fb209b527cc42a35899\", \"target\": \"Burmese\"}\n",
      "{\"choices\": [\"Dari\", \"Slovenian\", \"Yiddish\"], \"country\": \"CH\", \"date\": \"2013-09-02\", \"guess\": \"Dari\", \"sample\": \"33f2084165c0cca6303b45440623c88c\", \"target\": \"Dari\"}\n",
      "{\"choices\": [\"Burmese\", \"Farsi\", \"Khmer\"], \"country\": \"CH\", \"date\": \"2013-09-02\", \"guess\": \"Khmer\", \"sample\": \"84f7df7508e423234fd1adec4f84e528\", \"target\": \"Khmer\"}\n",
      "{\"choices\": [\"Assyrian\", \"Estonian\", \"Norwegian\", \"Tigrinya\", \"Ukrainian\"], \"country\": \"CH\", \"date\": \"2013-09-02\", \"guess\": \"Assyrian\", \"sample\": \"3ec316c78773bb826dd924926f5c0d07\", \"target\": \"Tigrinya\"}\n",
      "{\"choices\": [\"Croatian\", \"Hindi\", \"Spanish\", \"Tagalog\"], \"country\": \"CH\", \"date\": \"2013-09-02\", \"guess\": \"Spanish\", \"sample\": \"c57afc7ca3b4a454bf53dbca84bb4523\", \"target\": \"Spanish\"}\n",
      "{\"choices\": [\"Macedonian\", \"Maltese\", \"Polish\", \"Swahili\"], \"country\": \"CH\", \"date\": \"2013-09-02\", \"guess\": \"Polish\", \"sample\": \"98890a26d68bcf75f6087566971f126f\", \"target\": \"Polish\"}\n",
      "{\"choices\": [\"Estonian\", \"Kurdish\", \"Maltese\", \"Nepali\"], \"country\": \"CH\", \"date\": \"2013-09-02\", \"guess\": \"Estonian\", \"sample\": \"b8e22e10dbc944d7aaa9c00414c70be8\", \"target\": \"Estonian\"}\n",
      "{\"choices\": [\"Finnish\", \"Italian\"], \"country\": \"CH\", \"date\": \"2013-09-02\", \"guess\": \"Italian\", \"sample\": \"88f3e5120091cffdf8abeb92b5da90a2\", \"target\": \"Italian\"}\n",
      "{\"choices\": [\"Arabic\", \"Hebrew\", \"Russian\", \"Slovenian\", \"Swedish\"], \"country\": \"CH\", \"date\": \"2013-09-02\", \"guess\": \"Hebrew\", \"sample\": \"157085744728e35079622c71804cf722\", \"target\": \"Hebrew\"}\n",
      "{\"choices\": [\"Czech\", \"Tagalog\"], \"country\": \"CH\", \"date\": \"2013-09-02\", \"guess\": \"Czech\", \"sample\": \"56626a14b479e47d5eb9568161dad285\", \"target\": \"Czech\"}\n",
      "{\"choices\": [\"Bosnian\", \"Finnish\", \"Japanese\", \"Korean\", \"Tamil\"], \"country\": \"CH\", \"date\": \"2013-09-02\", \"guess\": \"Finnish\", \"sample\": \"4a3dfa40ed621940a0a38408956b86e0\", \"target\": \"Finnish\"}\n",
      "{\"choices\": [\"Portuguese\", \"Vietnamese\"], \"country\": \"CH\", \"date\": \"2013-09-02\", \"guess\": \"Portuguese\", \"sample\": \"439672210d1feb96e012590ff2a73590\", \"target\": \"Portuguese\"}\n",
      "{\"choices\": [\"Croatian\", \"Estonian\", \"Indonesian\", \"Malay\", \"Spanish\"], \"country\": \"CH\", \"date\": \"2013-09-02\", \"guess\": \"Estonian\", \"sample\": \"bd3eefed0e12797c6e2b45b8db8d88d9\", \"target\": \"Croatian\"}\n",
      "{\"choices\": [\"Danish\", \"Hungarian\", \"Indonesian\"], \"country\": \"CH\", \"date\": \"2013-09-02\", \"guess\": \"Danish\", \"sample\": \"2a7c43c1d50df8ab3d92f0bcacc637f9\", \"target\": \"Danish\"}\n",
      "{\"choices\": [\"Bangla\", \"Hungarian\", \"Norwegian\", \"Thai\", \"Tigrinya\"], \"country\": \"CH\", \"date\": \"2013-09-02\", \"guess\": \"Thai\", \"sample\": \"a1fcc86068b72ed9d9f1c0b291d7819d\", \"target\": \"Tigrinya\"}\n",
      "{\"choices\": [\"Bangla\", \"Kannada\", \"Portuguese\"], \"country\": \"CH\", \"date\": \"2013-09-02\", \"guess\": \"Portuguese\", \"sample\": \"5fd851c9e87a6b9b9da9eb2ab0de6686\", \"target\": \"Portuguese\"}\n",
      "{\"choices\": [\"Indonesian\", \"Khmer\", \"Malayalam\"], \"country\": \"CH\", \"date\": \"2013-09-02\", \"guess\": \"Khmer\", \"sample\": \"96c0ad21acaedd52f652903794afb6f4\", \"target\": \"Indonesian\"}\n",
      "{\"choices\": [\"Bosnian\", \"Macedonian\", \"Swahili\", \"Tamil\", \"Tongan\"], \"country\": \"CH\", \"date\": \"2013-09-02\", \"guess\": \"Macedonian\", \"sample\": \"421df072ac5abde4883d50b1fc789b14\", \"target\": \"Bosnian\"}\n",
      "{\"choices\": [\"Danish\", \"Spanish\", \"Tigrinya\"], \"country\": \"CH\", \"date\": \"2013-09-02\", \"guess\": \"Danish\", \"sample\": \"2ca0534b652c09262b71bced44b4afd7\", \"target\": \"Danish\"}\n",
      "{\"choices\": [\"Hindi\", \"Khmer\"], \"country\": \"CH\", \"date\": \"2013-09-02\", \"guess\": \"Hindi\", \"sample\": \"9dac641f173f2a225501e8e50fc4e66e\", \"target\": \"Hindi\"}\n",
      "{\"choices\": [\"Czech\", \"Danish\", \"Dinka\", \"Thai\"], \"country\": \"CH\", \"date\": \"2013-09-02\", \"guess\": \"Dinka\", \"sample\": \"cd3dffdb83f221e09710cbfbcaffdb31\", \"target\": \"Dinka\"}\n",
      "{\"choices\": [\"German\", \"Spanish\"], \"country\": \"CH\", \"date\": \"2013-09-02\", \"guess\": \"German\", \"sample\": \"1f8b9a59cd75fc429db54dceb6e0594b\", \"target\": \"German\"}\n",
      "{\"choices\": [\"Czech\", \"Tamil\"], \"country\": \"CH\", \"date\": \"2013-09-02\", \"guess\": \"Tamil\", \"sample\": \"cc305dcad696147e28c6f36615aa0952\", \"target\": \"Tamil\"}\n",
      "{\"choices\": [\"Hungarian\", \"Kurdish\", \"Tongan\"], \"country\": \"CH\", \"date\": \"2013-09-02\", \"guess\": \"Tongan\", \"sample\": \"7efab6f0c61694ba6e8aa72843d1bf15\", \"target\": \"Hungarian\"}\n",
      "{\"choices\": [\"Korean\", \"Latvian\", \"Russian\", \"Tamil\"], \"country\": \"CH\", \"date\": \"2013-09-02\", \"guess\": \"Latvian\", \"sample\": \"5aea2b93784263ae4b5a2524ddebebb2\", \"target\": \"Latvian\"}\n",
      "{\"choices\": [\"Korean\", \"Sinhalese\", \"Somali\"], \"country\": \"CH\", \"date\": \"2013-09-02\", \"guess\": \"Korean\", \"sample\": \"871c938ad3b1243f42eec04057930d7e\", \"target\": \"Korean\"}\n",
      "{\"choices\": [\"Kannada\", \"Nepali\", \"Swedish\", \"Yiddish\"], \"country\": \"CH\", \"date\": \"2013-09-02\", \"guess\": \"Yiddish\", \"sample\": \"07468dc58acd4228a618bcdafed773f9\", \"target\": \"Yiddish\"}\n",
      "{\"choices\": [\"Assyrian\", \"Kannada\", \"Korean\", \"Malayalam\", \"Spanish\"], \"country\": \"CH\", \"date\": \"2013-09-02\", \"guess\": \"Korean\", \"sample\": \"0f8e6818d2be77b75712bc9ea4e87171\", \"target\": \"Korean\"}\n",
      "{\"choices\": [\"Gujarati\", \"Lao\", \"Portuguese\"], \"country\": \"CH\", \"date\": \"2013-09-02\", \"guess\": \"Gujarati\", \"sample\": \"b5aa4ea31e44899dc4d58d4a35e05504\", \"target\": \"Lao\"}\n",
      "{\"choices\": [\"Bangla\", \"Dutch\", \"Macedonian\"], \"country\": \"CH\", \"date\": \"2013-09-02\", \"guess\": \"Bangla\", \"sample\": \"ca0d5c366b1eeb2115054e6a8518f778\", \"target\": \"Bangla\"}\n",
      "{\"choices\": [\"Bulgarian\", \"Korean\", \"Kurdish\", \"Malay\", \"Swedish\"], \"country\": \"CH\", \"date\": \"2013-09-02\", \"guess\": \"Malay\", \"sample\": \"610d45322ed5aa122cf9b4a79d603781\", \"target\": \"Malay\"}\n",
      "{\"choices\": [\"Spanish\", \"Swedish\", \"Tongan\"], \"country\": \"CH\", \"date\": \"2013-09-02\", \"guess\": \"Swedish\", \"sample\": \"bd17f93a45c823198b790b7ba99975dd\", \"target\": \"Swedish\"}\n",
      "{\"choices\": [\"Farsi\", \"Khmer\", \"Slovenian\", \"Tagalog\"], \"country\": \"CH\", \"date\": \"2013-09-02\", \"guess\": \"Tagalog\", \"sample\": \"70154ea13cf1c633cfe62d44919a347c\", \"target\": \"Farsi\"}\n",
      "{\"choices\": [\"Dari\", \"Kannada\", \"Serbian\", \"Tagalog\", \"Tongan\"], \"country\": \"CH\", \"date\": \"2013-09-02\", \"guess\": \"Tagalog\", \"sample\": \"0c951f12af48b7ead6a3549707695906\", \"target\": \"Tagalog\"}\n",
      "{\"choices\": [\"Bulgarian\", \"Cantonese\"], \"country\": \"CH\", \"date\": \"2013-09-02\", \"guess\": \"Bulgarian\", \"sample\": \"8102c4494405873dd7b8258a97396351\", \"target\": \"Bulgarian\"}\n",
      "{\"choices\": [\"Arabic\", \"Estonian\", \"Finnish\", \"Maltese\", \"Ukrainian\", \"Yiddish\"], \"country\": \"CH\", \"date\": \"2013-09-02\", \"guess\": \"Finnish\", \"sample\": \"76e16d2ed298968ff397294b18f04831\", \"target\": \"Finnish\"}\n",
      "{\"choices\": [\"Mandarin\", \"Urdu\"], \"country\": \"CH\", \"date\": \"2013-09-02\", \"guess\": \"Urdu\", \"sample\": \"b01dde8ca2fcec5196a9b37d656d6e74\", \"target\": \"Urdu\"}\n",
      "{\"choices\": [\"Japanese\", \"Vietnamese\"], \"country\": \"CH\", \"date\": \"2013-09-02\", \"guess\": \"Vietnamese\", \"sample\": \"8ea6892d1ddca321adc07b05176e3605\", \"target\": \"Vietnamese\"}\n",
      "{\"choices\": [\"Burmese\", \"Hebrew\", \"Punjabi\"], \"country\": \"CH\", \"date\": \"2013-09-02\", \"guess\": \"Hebrew\", \"sample\": \"1dc9a1bf90e4e788906dc716dc18d878\", \"target\": \"Hebrew\"}\n",
      "{\"choices\": [\"Dutch\", \"Slovenian\", \"Urdu\"], \"country\": \"CH\", \"date\": \"2013-09-02\", \"guess\": \"Slovenian\", \"sample\": \"4a691f8bf52b406ccc65a95899de7bd2\", \"target\": \"Slovenian\"}\n",
      "{\"choices\": [\"Assyrian\", \"Romanian\", \"Vietnamese\"], \"country\": \"CH\", \"date\": \"2013-09-02\", \"guess\": \"Romanian\", \"sample\": \"903fc45cba5245f21deaaca3966f825b\", \"target\": \"Romanian\"}\n",
      "{\"choices\": [\"Croatian\", \"Danish\", \"German\", \"Lao\"], \"country\": \"CH\", \"date\": \"2013-09-02\", \"guess\": \"Croatian\", \"sample\": \"a0d2070edd63b46a3e71b4fb7ffe5375\", \"target\": \"Croatian\"}\n",
      "{\"choices\": [\"Hebrew\", \"Latvian\", \"Maori\", \"Portuguese\", \"Swedish\", \"Urdu\"], \"country\": \"CH\", \"date\": \"2013-09-02\", \"guess\": \"Latvian\", \"sample\": \"447bcafdbe5d7d69e0db72ab5bfa043a\", \"target\": \"Latvian\"}\n",
      "{\"choices\": [\"Burmese\", \"Estonian\", \"Swedish\", \"Yiddish\"], \"country\": \"CH\", \"date\": \"2013-09-02\", \"guess\": \"Yiddish\", \"sample\": \"491ce6f2acb4a588a4e6ff3570d429a5\", \"target\": \"Yiddish\"}\n",
      "{\"choices\": [\"Arabic\", \"Croatian\", \"Khmer\", \"Macedonian\", \"Samoan\", \"Tigrinya\"], \"country\": \"CH\", \"date\": \"2013-09-02\", \"guess\": \"Tigrinya\", \"sample\": \"a1fcc86068b72ed9d9f1c0b291d7819d\", \"target\": \"Tigrinya\"}\n",
      "{\"choices\": [\"Korean\", \"Kurdish\", \"Sinhalese\", \"Slovenian\"], \"country\": \"CH\", \"date\": \"2013-09-02\", \"guess\": \"Kurdish\", \"sample\": \"755de9092b301614712fae5e1d2d47d3\", \"target\": \"Sinhalese\"}\n",
      "{\"choices\": [\"Bangla\", \"Dinka\", \"Fijian\", \"Indonesian\", \"Maltese\", \"Portuguese\", \"Punjabi\"], \"country\": \"CH\", \"date\": \"2013-09-02\", \"guess\": \"Dinka\", \"sample\": \"192e7c59bb734ee762a323219846295b\", \"target\": \"Dinka\"}\n",
      "{\"choices\": [\"Hebrew\", \"Kurdish\", \"Nepali\", \"Vietnamese\"], \"country\": \"CH\", \"date\": \"2013-09-02\", \"guess\": \"Kurdish\", \"sample\": \"d8a4ee3f4b430af016b2dc5902fccd75\", \"target\": \"Nepali\"}\n",
      "{\"choices\": [\"Bosnian\", \"Hindi\", \"Serbian\", \"Slovenian\"], \"country\": \"CH\", \"date\": \"2013-09-02\", \"guess\": \"Bosnian\", \"sample\": \"08d1b7f052aa2014d54d699b2466910f\", \"target\": \"Bosnian\"}\n",
      "{\"choices\": [\"Bangla\", \"Finnish\", \"Gujarati\", \"Lao\", \"Somali\", \"Thai\", \"Vietnamese\"], \"country\": \"CH\", \"date\": \"2013-09-02\", \"guess\": \"Somali\", \"sample\": \"a505ab771ae7c32744ad31b3051b8ee9\", \"target\": \"Somali\"}\n",
      "{\"choices\": [\"Albanian\", \"Amharic\", \"French\", \"Greek\", \"Korean\"], \"country\": \"CH\", \"date\": \"2013-09-02\", \"guess\": \"Greek\", \"sample\": \"0f43daadf6a1ce6d769fa0daa630b5f6\", \"target\": \"Greek\"}\n",
      "{\"choices\": [\"Greek\", \"Japanese\", \"Korean\", \"Turkish\", \"Yiddish\"], \"country\": \"CH\", \"date\": \"2013-09-02\", \"guess\": \"Korean\", \"sample\": \"0f8e6818d2be77b75712bc9ea4e87171\", \"target\": \"Korean\"}\n",
      "{\"choices\": [\"Japanese\", \"Khmer\", \"Korean\", \"Portuguese\", \"Swahili\", \"Tagalog\", \"Vietnamese\"], \"country\": \"CH\", \"date\": \"2013-09-02\", \"guess\": \"Tagalog\", \"sample\": \"34df5eca0db3967da23f8a210337c9d6\", \"target\": \"Tagalog\"}\n",
      "{\"choices\": [\"Arabic\", \"Bangla\", \"Korean\", \"Kurdish\", \"Yiddish\"], \"country\": \"CH\", \"date\": \"2013-09-02\", \"guess\": \"Bangla\", \"sample\": \"83c6ffcb085ce9c18c0e2aff00dda865\", \"target\": \"Arabic\"}\n",
      "{\"choices\": [\"Albanian\", \"Bangla\", \"Greek\", \"Mandarin\", \"Spanish\", \"Swedish\", \"Thai\", \"Tongan\"], \"country\": \"CH\", \"date\": \"2013-09-02\", \"guess\": \"Tongan\", \"sample\": \"5a16cc76dc960f980d030d7b3e9f052b\", \"target\": \"Tongan\"}\n",
      "{\"choices\": [\"Burmese\", \"Dari\", \"Finnish\", \"Greek\", \"Malayalam\", \"Maltese\", \"Sinhalese\", \"Turkish\"], \"country\": \"CH\", \"date\": \"2013-09-02\", \"guess\": \"Greek\", \"sample\": \"0f43daadf6a1ce6d769fa0daa630b5f6\", \"target\": \"Greek\"}\n",
      "{\"choices\": [\"Fijian\", \"Gujarati\", \"Indonesian\", \"Khmer\", \"Maltese\", \"Portuguese\", \"Romanian\", \"Slovenian\"], \"country\": \"CH\", \"date\": \"2013-09-02\", \"guess\": \"Gujarati\", \"sample\": \"b8d5d0e85e06b3abe3fe32b6f3f59e50\", \"target\": \"Indonesian\"}\n",
      "{\"choices\": [\"Burmese\", \"Danish\", \"Dinka\", \"Farsi\", \"French\", \"Mandarin\", \"Serbian\", \"Spanish\"], \"country\": \"CH\", \"date\": \"2013-09-02\", \"guess\": \"Danish\", \"sample\": \"2a7c43c1d50df8ab3d92f0bcacc637f9\", \"target\": \"Danish\"}\n",
      "{\"choices\": [\"Albanian\", \"Farsi\", \"Finnish\", \"Greek\", \"Hindi\", \"Italian\", \"Romanian\", \"Russian\", \"Swedish\"], \"country\": \"CH\", \"date\": \"2013-09-02\", \"guess\": \"Finnish\", \"sample\": \"76e16d2ed298968ff397294b18f04831\", \"target\": \"Finnish\"}\n",
      "{\"choices\": [\"Amharic\", \"Bosnian\", \"Croatian\", \"Dari\", \"Greek\", \"Japanese\", \"Korean\", \"Maori\", \"Tagalog\"], \"country\": \"CH\", \"date\": \"2013-09-02\", \"guess\": \"Amharic\", \"sample\": \"cad47cd466a2d8c25fa7a21c15cbb3cf\", \"target\": \"Dari\"}\n",
      "{\"choices\": [\"Korean\", \"Thai\"], \"country\": \"CH\", \"date\": \"2013-09-02\", \"guess\": \"Thai\", \"sample\": \"ec09e573de88d0ace4c1ddd9cb531e90\", \"target\": \"Thai\"}\n",
      "{\"choices\": [\"Bangla\", \"Dutch\"], \"country\": \"CH\", \"date\": \"2013-09-02\", \"guess\": \"Dutch\", \"sample\": \"5cd22cbf16be1a93d304d589431c3ec3\", \"target\": \"Dutch\"}\n",
      "{\"choices\": [\"Gujarati\", \"Japanese\"], \"country\": \"CH\", \"date\": \"2013-09-02\", \"guess\": \"Gujarati\", \"sample\": \"56ecf19cff578aa76b81edb580ff343f\", \"target\": \"Gujarati\"}\n",
      "{\"choices\": [\"Dinka\", \"Latvian\", \"Malayalam\"], \"country\": \"CH\", \"date\": \"2013-09-02\", \"guess\": \"Latvian\", \"sample\": \"5aea2b93784263ae4b5a2524ddebebb2\", \"target\": \"Latvian\"}\n",
      "{\"choices\": [\"French\", \"Hebrew\", \"Hindi\"], \"country\": \"CH\", \"date\": \"2013-09-02\", \"guess\": \"French\", \"sample\": \"a892b7fd27c34fc81b65c0bb93113846\", \"target\": \"French\"}\n",
      "{\"choices\": [\"Dutch\", \"Lao\", \"Thai\"], \"country\": \"CH\", \"date\": \"2013-09-02\", \"guess\": \"Lao\", \"sample\": \"b5aa4ea31e44899dc4d58d4a35e05504\", \"target\": \"Lao\"}\n",
      "{\"choices\": [\"Albanian\", \"Indonesian\", \"Portuguese\", \"Tigrinya\"], \"country\": \"CH\", \"date\": \"2013-09-02\", \"guess\": \"Indonesian\", \"sample\": \"ff8fcb796b7fdc540dd567c144024f82\", \"target\": \"Indonesian\"}\n",
      "{\"choices\": [\"Czech\", \"Italian\", \"Portuguese\", \"Vietnamese\"], \"country\": \"CH\", \"date\": \"2013-09-02\", \"guess\": \"Italian\", \"sample\": \"b64869a674fbf588fa2ace46d717bed6\", \"target\": \"Italian\"}\n",
      "{\"choices\": [\"Finnish\", \"Korean\", \"Tamil\", \"Tongan\"], \"country\": \"CH\", \"date\": \"2013-09-02\", \"guess\": \"Finnish\", \"sample\": \"fba08911805472f37575d2cece186654\", \"target\": \"Tongan\"}\n",
      "{\"choices\": [\"Finnish\", \"Sinhalese\", \"Tagalog\", \"Tongan\"], \"country\": \"CH\", \"date\": \"2013-09-02\", \"guess\": \"Tagalog\", \"sample\": \"34df5eca0db3967da23f8a210337c9d6\", \"target\": \"Tagalog\"}\n",
      "{\"choices\": [\"Danish\", \"Farsi\", \"Hungarian\", \"Latvian\", \"Tagalog\"], \"country\": \"CH\", \"date\": \"2013-09-02\", \"guess\": \"Hungarian\", \"sample\": \"cb1a1c1c93ab6e802560855ca5f015f7\", \"target\": \"Hungarian\"}\n",
      "{\"choices\": [\"Danish\", \"Italian\", \"Japanese\", \"Malay\", \"Romanian\"], \"country\": \"CH\", \"date\": \"2013-09-02\", \"guess\": \"Romanian\", \"sample\": \"0b4ddbcac7e75c14f25fabeaff89a787\", \"target\": \"Romanian\"}\n",
      "{\"choices\": [\"Greek\", \"Hindi\", \"Italian\", \"Malay\", \"Slovenian\"], \"country\": \"CH\", \"date\": \"2013-09-02\", \"guess\": \"Italian\", \"sample\": \"b64869a674fbf588fa2ace46d717bed6\", \"target\": \"Italian\"}\n",
      "{\"choices\": [\"Bosnian\", \"Czech\", \"Finnish\", \"Hebrew\", \"Hungarian\", \"Spanish\"], \"country\": \"CH\", \"date\": \"2013-09-02\", \"guess\": \"Spanish\", \"sample\": \"c8f4f097079404bf9a0e94d604efd1d5\", \"target\": \"Spanish\"}\n",
      "{\"choices\": [\"Bulgarian\", \"Czech\", \"Farsi\", \"Malay\", \"Samoan\", \"Somali\"], \"country\": \"CH\", \"date\": \"2013-09-02\", \"guess\": \"Farsi\", \"sample\": \"610d45322ed5aa122cf9b4a79d603781\", \"target\": \"Malay\"}\n",
      "{\"choices\": [\"Arabic\", \"Assyrian\", \"Farsi\", \"Sinhalese\", \"Slovenian\", \"Thai\"], \"country\": \"CH\", \"date\": \"2013-09-02\", \"guess\": \"Slovenian\", \"sample\": \"f2f07eb5c50e64c627f66566b3c7cc4a\", \"target\": \"Slovenian\"}\n",
      "{\"choices\": [\"Amharic\", \"Danish\", \"Hungarian\", \"Kannada\", \"Serbian\", \"Ukrainian\"], \"country\": \"CH\", \"date\": \"2013-09-02\", \"guess\": \"Kannada\", \"sample\": \"c11a7723bd3fcd00e33e90c90a3492e5\", \"target\": \"Kannada\"}\n",
      "{\"choices\": [\"Cantonese\", \"Czech\", \"Korean\", \"Latvian\", \"Maltese\", \"Mandarin\", \"Vietnamese\"], \"country\": \"CH\", \"date\": \"2013-09-02\", \"guess\": \"Cantonese\", \"sample\": \"3aab36435babaea46064d7f173bb0ba3\", \"target\": \"Vietnamese\"}\n",
      "{\"choices\": [\"Burmese\", \"Dinka\"], \"country\": \"CH\", \"date\": \"2013-09-02\", \"guess\": \"Burmese\", \"sample\": \"cd3dffdb83f221e09710cbfbcaffdb31\", \"target\": \"Dinka\"}\n",
      "{\"choices\": [\"Hebrew\", \"Maori\"], \"country\": \"CH\", \"date\": \"2013-09-02\", \"guess\": \"Hebrew\", \"sample\": \"157085744728e35079622c71804cf722\", \"target\": \"Hebrew\"}\n",
      "{\"choices\": [\"Japanese\", \"Tagalog\"], \"country\": \"CH\", \"date\": \"2013-09-02\", \"guess\": \"Japanese\", \"sample\": \"bae93d7864edf7c70ca869113e45433c\", \"target\": \"Japanese\"}\n",
      "{\"choices\": [\"Czech\", \"Mandarin\"], \"country\": \"CH\", \"date\": \"2013-09-02\", \"guess\": \"Czech\", \"sample\": \"1787b5c79a00b3513ce76847bc1f5b75\", \"target\": \"Czech\"}\n",
      "{\"choices\": [\"Croatian\", \"Latvian\", \"Polish\"], \"country\": \"CH\", \"date\": \"2013-09-02\", \"guess\": \"Polish\", \"sample\": \"5e609abac81edbf76a58bc1d2a850f12\", \"target\": \"Latvian\"}\n",
      "{\"choices\": [\"Albanian\", \"Cantonese\", \"Thai\"], \"country\": \"CH\", \"date\": \"2013-09-02\", \"guess\": \"Cantonese\", \"sample\": \"203628f42619d301e642b3553b7a684a\", \"target\": \"Cantonese\"}\n",
      "{\"choices\": [\"Somali\", \"Swedish\", \"Yiddish\"], \"country\": \"CH\", \"date\": \"2013-09-02\", \"guess\": \"Somali\", \"sample\": \"ee5ffba9c5cf1d6a1e2d95b0220c06d4\", \"target\": \"Somali\"}\n",
      "{\"choices\": [\"Assyrian\", \"Nepali\", \"Samoan\"], \"country\": \"CH\", \"date\": \"2013-09-02\", \"guess\": \"Assyrian\", \"sample\": \"16ac545260ae198b7a3d882e06e5f261\", \"target\": \"Assyrian\"}\n",
      "{\"choices\": [\"Nepali\", \"Punjabi\", \"Tigrinya\", \"Vietnamese\"], \"country\": \"CH\", \"date\": \"2013-09-02\", \"guess\": \"Tigrinya\", \"sample\": \"d8a4ee3f4b430af016b2dc5902fccd75\", \"target\": \"Nepali\"}\n",
      "{\"choices\": [\"Bangla\", \"Burmese\", \"Kurdish\", \"Vietnamese\"], \"country\": \"CH\", \"date\": \"2013-09-02\", \"guess\": \"Kurdish\", \"sample\": \"f54dad4973f899ba8e9e26dcca58d625\", \"target\": \"Kurdish\"}\n",
      "{\"choices\": [\"Indonesian\", \"Malay\", \"Tongan\", \"Urdu\"], \"country\": \"CH\", \"date\": \"2013-09-02\", \"guess\": \"Malay\", \"sample\": \"fba08911805472f37575d2cece186654\", \"target\": \"Tongan\"}\n",
      "{\"choices\": [\"Albanian\", \"Russian\"], \"country\": \"CH\", \"date\": \"2013-09-02\", \"guess\": \"Russian\", \"sample\": \"ff5b5a0d34c77d2e2027dad7e4deb094\", \"target\": \"Russian\"}\n",
      "{\"choices\": [\"Greek\", \"Kurdish\"], \"country\": \"CH\", \"date\": \"2013-09-02\", \"guess\": \"Kurdish\", \"sample\": \"6c50f5972917a1ab11328233ef50db72\", \"target\": \"Kurdish\"}\n",
      "{\"choices\": [\"Hindi\", \"Portuguese\"], \"country\": \"CH\", \"date\": \"2013-09-02\", \"guess\": \"Hindi\", \"sample\": \"9dac641f173f2a225501e8e50fc4e66e\", \"target\": \"Hindi\"}\n",
      "{\"choices\": [\"Assyrian\", \"Italian\", \"Slovenian\"], \"country\": \"CH\", \"date\": \"2013-09-02\", \"guess\": \"Italian\", \"sample\": \"88f3e5120091cffdf8abeb92b5da90a2\", \"target\": \"Italian\"}\n",
      "{\"choices\": [\"Amharic\", \"Danish\", \"Tongan\"], \"country\": \"CH\", \"date\": \"2013-09-02\", \"guess\": \"Danish\", \"sample\": \"2ca0534b652c09262b71bced44b4afd7\", \"target\": \"Danish\"}\n",
      "{\"choices\": [\"Dinka\", \"Hungarian\", \"Macedonian\"], \"country\": \"CH\", \"date\": \"2013-09-02\", \"guess\": \"Dinka\", \"sample\": \"af5e8f27cef9e689a070b8814dcc02c3\", \"target\": \"Dinka\"}\n",
      "{\"choices\": [\"Kurdish\", \"Maltese\", \"Mandarin\", \"Swahili\"], \"country\": \"CH\", \"date\": \"2013-09-02\", \"guess\": \"Maltese\", \"sample\": \"36d2f4e9173e2d4cad8b8594310c856b\", \"target\": \"Maltese\"}\n",
      "{\"choices\": [\"German\", \"Lao\", \"Malayalam\", \"Swedish\"], \"country\": \"CH\", \"date\": \"2013-09-02\", \"guess\": \"Malayalam\", \"sample\": \"b5aa4ea31e44899dc4d58d4a35e05504\", \"target\": \"Lao\"}\n",
      "{\"choices\": [\"Bangla\", \"Estonian\", \"Turkish\", \"Vietnamese\"], \"country\": \"CH\", \"date\": \"2013-09-02\", \"guess\": \"Vietnamese\", \"sample\": \"3aab36435babaea46064d7f173bb0ba3\", \"target\": \"Vietnamese\"}\n",
      "{\"choices\": [\"Dutch\", \"Russian\", \"Swedish\", \"Turkish\"], \"country\": \"CH\", \"date\": \"2013-09-02\", \"guess\": \"Swedish\", \"sample\": \"dfe8192c1bbd80b44ea4409d9889dc90\", \"target\": \"Swedish\"}\n",
      "{\"choices\": [\"Assyrian\", \"Macedonian\", \"Malay\", \"Turkish\", \"Urdu\"], \"country\": \"CH\", \"date\": \"2013-09-02\", \"guess\": \"Turkish\", \"sample\": \"752c4c30d475748a342c68ebfba24d1e\", \"target\": \"Turkish\"}\n",
      "{\"choices\": [\"Bosnian\", \"Cantonese\", \"Hindi\", \"Maori\", \"Punjabi\"], \"country\": \"CH\", \"date\": \"2013-09-02\", \"guess\": \"Punjabi\", \"sample\": \"568bfed6715c43735f95faef578d7cd5\", \"target\": \"Hindi\"}\n",
      "{\"choices\": [\"Dutch\", \"Farsi\", \"Gujarati\", \"Khmer\", \"Yiddish\"], \"country\": \"CH\", \"date\": \"2013-09-02\", \"guess\": \"Gujarati\", \"sample\": \"56ecf19cff578aa76b81edb580ff343f\", \"target\": \"Gujarati\"}\n",
      "{\"choices\": [\"Bangla\", \"Hebrew\", \"Italian\", \"Mandarin\", \"Norwegian\"], \"country\": \"CH\", \"date\": \"2013-09-02\", \"guess\": \"Hebrew\", \"sample\": \"1dc9a1bf90e4e788906dc716dc18d878\", \"target\": \"Hebrew\"}\n",
      "{\"choices\": [\"Arabic\", \"Croatian\", \"Danish\", \"Dutch\", \"French\", \"Slovenian\"], \"country\": \"CH\", \"date\": \"2013-09-02\", \"guess\": \"Dutch\", \"sample\": \"65bf2aceadf2520f36a5e548a0471fcf\", \"target\": \"Dutch\"}\n",
      "{\"choices\": [\"Gujarati\", \"Macedonian\", \"Mandarin\", \"Swedish\", \"Tamil\", \"Urdu\"], \"country\": \"CH\", \"date\": \"2013-09-02\", \"guess\": \"Urdu\", \"sample\": \"16d80eee6659268a90460422dd2a2896\", \"target\": \"Gujarati\"}\n",
      "{\"choices\": [\"Macedonian\", \"Maori\"], \"country\": \"CH\", \"date\": \"2013-09-02\", \"guess\": \"Macedonian\", \"sample\": \"f2b6086f0918df15f3c6a457ce8cc8d4\", \"target\": \"Macedonian\"}\n",
      "{\"choices\": [\"Japanese\", \"Serbian\"], \"country\": \"CH\", \"date\": \"2013-09-02\", \"guess\": \"Serbian\", \"sample\": \"ec4d6dad1be487091ec2b1b63820e329\", \"target\": \"Serbian\"}\n",
      "{\"choices\": [\"Hungarian\", \"Serbian\"], \"country\": \"CH\", \"date\": \"2013-09-02\", \"guess\": \"Hungarian\", \"sample\": \"0d5b697ebb326b5043ce7fa60a7b968d\", \"target\": \"Serbian\"}\n",
      "{\"choices\": [\"Maltese\", \"Spanish\"], \"country\": \"CH\", \"date\": \"2013-09-02\", \"guess\": \"Maltese\", \"sample\": \"589feca2e2009ad2e63458f17568cd13\", \"target\": \"Maltese\"}\n",
      "{\"choices\": [\"Estonian\", \"Indonesian\", \"Tongan\"], \"country\": \"CH\", \"date\": \"2013-09-02\", \"guess\": \"Estonian\", \"sample\": \"b7e986bd3a0d5fd1db661e3bedf36111\", \"target\": \"Estonian\"}\n",
      "{\"choices\": [\"Gujarati\", \"Lao\", \"Serbian\"], \"country\": \"CH\", \"date\": \"2013-09-02\", \"guess\": \"Serbian\", \"sample\": \"ac81d9c1d39252811bf5d9fcfddc2231\", \"target\": \"Serbian\"}\n",
      "{\"choices\": [\"Amharic\", \"Polish\", \"Slovenian\"], \"country\": \"CH\", \"date\": \"2013-09-02\", \"guess\": \"Amharic\", \"sample\": \"5c6664317cc1cc256f11b722835396b7\", \"target\": \"Amharic\"}\n",
      "{\"choices\": [\"Armenian\", \"Latvian\", \"Swedish\", \"Vietnamese\"], \"country\": \"CH\", \"date\": \"2013-09-02\", \"guess\": \"Vietnamese\", \"sample\": \"3aab36435babaea46064d7f173bb0ba3\", \"target\": \"Vietnamese\"}\n",
      "{\"choices\": [\"Assyrian\", \"Danish\", \"Dari\", \"Malayalam\"], \"country\": \"CH\", \"date\": \"2013-09-02\", \"guess\": \"Assyrian\", \"sample\": \"16ac545260ae198b7a3d882e06e5f261\", \"target\": \"Assyrian\"}\n",
      "{\"choices\": [\"Punjabi\", \"Romanian\", \"Serbian\", \"Slovenian\"], \"country\": \"CH\", \"date\": \"2013-09-02\", \"guess\": \"Romanian\", \"sample\": \"4a691f8bf52b406ccc65a95899de7bd2\", \"target\": \"Slovenian\"}\n",
      "{\"choices\": [\"Assyrian\", \"Danish\", \"Maori\", \"Punjabi\"], \"country\": \"CH\", \"date\": \"2013-09-02\", \"guess\": \"Maori\", \"sample\": \"90ae678a85eac78bc4b4f52809a7c09d\", \"target\": \"Maori\"}\n",
      "{\"choices\": [\"Czech\", \"Gujarati\", \"Punjabi\", \"Samoan\", \"Tigrinya\"], \"country\": \"CH\", \"date\": \"2013-09-02\", \"guess\": \"Samoan\", \"sample\": \"05c96880846c583b0dc6e5043eab938d\", \"target\": \"Tigrinya\"}\n",
      "{\"choices\": [\"Croatian\", \"Polish\"], \"country\": \"CH\", \"date\": \"2013-09-02\", \"guess\": \"Polish\", \"sample\": \"f1aac78bec424c4d6c716553719b0b70\", \"target\": \"Polish\"}\n",
      "{\"choices\": [\"Gujarati\", \"Slovak\"], \"country\": \"CH\", \"date\": \"2013-09-03\", \"guess\": \"Slovak\", \"sample\": \"78fbc62aeae4bc4188d2d6a64805d6df\", \"target\": \"Slovak\"}\n",
      "{\"choices\": [\"Fijian\", \"Maori\"], \"country\": \"CH\", \"date\": \"2013-09-03\", \"guess\": \"Maori\", \"sample\": \"aaa12425808ac9d4ce184c453bfc0502\", \"target\": \"Fijian\"}\n",
      "{\"choices\": [\"Bulgarian\", \"Thai\"], \"country\": \"CH\", \"date\": \"2013-09-03\", \"guess\": \"Thai\", \"sample\": \"ec09e573de88d0ace4c1ddd9cb531e90\", \"target\": \"Thai\"}\n",
      "{\"choices\": [\"Bangla\", \"Vietnamese\"], \"country\": \"CH\", \"date\": \"2013-09-03\", \"guess\": \"Vietnamese\", \"sample\": \"a3c1b5cff1d3a77feae50573b7d81881\", \"target\": \"Vietnamese\"}\n",
      "{\"choices\": [\"Estonian\", \"Punjabi\"], \"country\": \"CH\", \"date\": \"2013-09-03\", \"guess\": \"Estonian\", \"sample\": \"10ff356faf50696b30f8a58b9dd919b2\", \"target\": \"Punjabi\"}\n",
      "{\"choices\": [\"Italian\", \"Tagalog\"], \"country\": \"CH\", \"date\": \"2013-09-03\", \"guess\": \"Italian\", \"sample\": \"b64869a674fbf588fa2ace46d717bed6\", \"target\": \"Italian\"}\n",
      "{\"choices\": [\"Polish\", \"Somali\"], \"country\": \"CH\", \"date\": \"2013-09-03\", \"guess\": \"Polish\", \"sample\": \"2268bc4db45078e37d0fd1b2c53eb9c9\", \"target\": \"Polish\"}\n",
      "{\"choices\": [\"Arabic\", \"Dinka\"], \"country\": \"CH\", \"date\": \"2013-09-03\", \"guess\": \"Arabic\", \"sample\": \"8903e496bf04c3a85a70e1dc5e0da5f1\", \"target\": \"Arabic\"}\n",
      "{\"choices\": [\"Greek\", \"Punjabi\", \"Tigrinya\"], \"country\": \"CH\", \"date\": \"2013-09-03\", \"guess\": \"Punjabi\", \"sample\": \"d14f8f8b6933e7d9d68104ec7860db77\", \"target\": \"Punjabi\"}\n",
      "{\"choices\": [\"Bosnian\", \"Dinka\", \"Maltese\"], \"country\": \"CH\", \"date\": \"2013-09-03\", \"guess\": \"Maltese\", \"sample\": \"e36a808605adbe2dbdca9c76e5cbfe7c\", \"target\": \"Bosnian\"}\n",
      "{\"choices\": [\"French\", \"Malay\", \"Serbian\"], \"country\": \"CH\", \"date\": \"2013-09-03\", \"guess\": \"Serbian\", \"sample\": \"ec4d6dad1be487091ec2b1b63820e329\", \"target\": \"Serbian\"}\n",
      "{\"choices\": [\"Korean\", \"Romanian\", \"Vietnamese\"], \"country\": \"CH\", \"date\": \"2013-09-03\", \"guess\": \"Vietnamese\", \"sample\": \"ec371adb75ab6c7431adae3ef8fc9fc9\", \"target\": \"Korean\"}\n",
      "{\"choices\": [\"Tongan\", \"Vietnamese\"], \"country\": \"CH\", \"date\": \"2013-09-03\", \"guess\": \"Tongan\", \"sample\": \"a3c1b5cff1d3a77feae50573b7d81881\", \"target\": \"Vietnamese\"}\n",
      "{\"choices\": [\"Hebrew\", \"Mandarin\"], \"country\": \"CH\", \"date\": \"2013-09-03\", \"guess\": \"Hebrew\", \"sample\": \"1dc9a1bf90e4e788906dc716dc18d878\", \"target\": \"Hebrew\"}\n",
      "{\"choices\": [\"Mandarin\", \"Norwegian\"], \"country\": \"CH\", \"date\": \"2013-09-03\", \"guess\": \"Norwegian\", \"sample\": \"4383d59a89ffd10b8e86d93233e01b5f\", \"target\": \"Norwegian\"}\n",
      "{\"choices\": [\"Albanian\", \"Bulgarian\"], \"country\": \"CH\", \"date\": \"2013-09-03\", \"guess\": \"Albanian\", \"sample\": \"8102c4494405873dd7b8258a97396351\", \"target\": \"Bulgarian\"}\n",
      "{\"choices\": [\"Dari\", \"German\"], \"country\": \"CH\", \"date\": \"2013-09-03\", \"guess\": \"German\", \"sample\": \"e77d97b712adffc39e531e20237a5589\", \"target\": \"German\"}\n",
      "{\"choices\": [\"Danish\", \"Latvian\", \"Urdu\"], \"country\": \"CH\", \"date\": \"2013-09-03\", \"guess\": \"Danish\", \"sample\": \"2ca0534b652c09262b71bced44b4afd7\", \"target\": \"Danish\"}\n",
      "{\"choices\": [\"Dinka\", \"Mandarin\", \"Serbian\"], \"country\": \"CH\", \"date\": \"2013-09-03\", \"guess\": \"Serbian\", \"sample\": \"ec4d6dad1be487091ec2b1b63820e329\", \"target\": \"Serbian\"}\n",
      "{\"choices\": [\"Italian\", \"Portuguese\", \"Slovak\"], \"country\": \"CH\", \"date\": \"2013-09-03\", \"guess\": \"Slovak\", \"sample\": \"1d7fea3522c8607f5ec4168b2a5cd206\", \"target\": \"Portuguese\"}\n",
      "{\"choices\": [\"Russian\", \"Swahili\"], \"country\": \"CH\", \"date\": \"2013-09-03\", \"guess\": \"Russian\", \"sample\": \"8a59d48e99e8a1df7e366c4648095e27\", \"target\": \"Russian\"}\n",
      "{\"choices\": [\"Malay\", \"Slovak\"], \"country\": \"CH\", \"date\": \"2013-09-03\", \"guess\": \"Slovak\", \"sample\": \"78fbc62aeae4bc4188d2d6a64805d6df\", \"target\": \"Slovak\"}\n",
      "{\"choices\": [\"Hebrew\", \"Tamil\"], \"country\": \"CH\", \"date\": \"2013-09-03\", \"guess\": \"Tamil\", \"sample\": \"7c3fca32ce40e9b07e7b69a7d7191d4d\", \"target\": \"Tamil\"}\n",
      "{\"choices\": [\"Maori\", \"Russian\", \"Slovak\"], \"country\": \"CH\", \"date\": \"2013-09-03\", \"guess\": \"Slovak\", \"sample\": \"2c5efbd7364036976ec403a9ee36f614\", \"target\": \"Slovak\"}\n",
      "{\"choices\": [\"Dinka\", \"Polish\", \"Russian\"], \"country\": \"CH\", \"date\": \"2013-09-03\", \"guess\": \"Polish\", \"sample\": \"f1aac78bec424c4d6c716553719b0b70\", \"target\": \"Polish\"}\n",
      "{\"choices\": [\"Hebrew\", \"Nepali\", \"Slovak\"], \"country\": \"CH\", \"date\": \"2013-09-03\", \"guess\": \"Hebrew\", \"sample\": \"1dc9a1bf90e4e788906dc716dc18d878\", \"target\": \"Hebrew\"}\n",
      "{\"choices\": [\"Dinka\", \"Farsi\", \"Portuguese\", \"Urdu\"], \"country\": \"CH\", \"date\": \"2013-09-03\", \"guess\": \"Farsi\", \"sample\": \"439672210d1feb96e012590ff2a73590\", \"target\": \"Portuguese\"}\n",
      "{\"choices\": [\"Bulgarian\", \"Punjabi\", \"Tagalog\"], \"country\": \"CH\", \"date\": \"2013-09-03\", \"guess\": \"Tagalog\", \"sample\": \"10ff356faf50696b30f8a58b9dd919b2\", \"target\": \"Punjabi\"}\n"
     ]
    }
   ],
   "source": [
    "%%jsoniq\n",
    "for $i in json-file(\"confusion-100000.json\", 10)\n",
    "where $i.country eq \"CH\"\n",
    "return $i"
   ]
  },
  {
   "cell_type": "markdown",
   "metadata": {
    "id": "OG0xJS2KHEF3"
   },
   "source": [
    "### 4.2.2 Get all games played from Switzerland, where the correct answer (target) was \"German\"\n",
    "```sql\n",
    "SELECT *\n",
    "FROM entries\n",
    "WHERE country == \"CH\" AND target == \"German\"\n",
    "```\n",
    "\n",
    "\n"
   ]
  },
  {
   "cell_type": "code",
   "execution_count": 50,
   "metadata": {
    "id": "EuN0WVltHrXl"
   },
   "outputs": [
    {
     "name": "stdout",
     "output_type": "stream",
     "text": [
      "Took: 0.3345158100128174 ms\n",
      "{\"choices\": [\"German\", \"Spanish\"], \"country\": \"CH\", \"date\": \"2013-09-02\", \"guess\": \"German\", \"sample\": \"1f8b9a59cd75fc429db54dceb6e0594b\", \"target\": \"German\"}\n",
      "{\"choices\": [\"Dari\", \"German\"], \"country\": \"CH\", \"date\": \"2013-09-03\", \"guess\": \"German\", \"sample\": \"e77d97b712adffc39e531e20237a5589\", \"target\": \"German\"}\n",
      "{\"choices\": [\"Dari\", \"German\", \"Vietnamese\"], \"country\": \"CH\", \"date\": \"2013-09-03\", \"guess\": \"German\", \"sample\": \"78213fa858b9a45d83121a8bf71712d1\", \"target\": \"German\"}\n",
      "{\"choices\": [\"French\", \"German\", \"Norwegian\", \"Thai\"], \"country\": \"CH\", \"date\": \"2013-09-03\", \"guess\": \"German\", \"sample\": \"e77d97b712adffc39e531e20237a5589\", \"target\": \"German\"}\n",
      "{\"choices\": [\"German\", \"Lao\"], \"country\": \"CH\", \"date\": \"2013-09-03\", \"guess\": \"German\", \"sample\": \"e77d97b712adffc39e531e20237a5589\", \"target\": \"German\"}\n"
     ]
    }
   ],
   "source": [
    "%%jsoniq\n",
    "for $i in json-file(\"confusion-100000.json\", 10)\n",
    "where $i.country eq \"CH\" and $i.target eq \"German\"\n",
    "return $i"
   ]
  },
  {
   "cell_type": "markdown",
   "metadata": {
    "id": "jQycXJuCHHJW"
   },
   "source": [
    "### 4.2.3 Get the top 5 games played from Switzerland, where the correct answer (target) was \"German\"\n",
    "```sql\n",
    "SELECT *\n",
    "FROM entries\n",
    "WHERE country == \"CH\" AND target == \"German\"\n",
    "LIMIT 5\n",
    "```\n",
    "\n",
    "\n"
   ]
  },
  {
   "cell_type": "code",
   "execution_count": 51,
   "metadata": {
    "colab": {
     "base_uri": "https://localhost:8080/"
    },
    "id": "6Brsgs6fHwET",
    "outputId": "5bcdfea1-46c3-4147-c603-844d6e465060"
   },
   "outputs": [
    {
     "name": "stdout",
     "output_type": "stream",
     "text": [
      "Took: 0.33393287658691406 ms\n",
      "{\"choices\": [\"German\", \"Spanish\"], \"country\": \"CH\", \"date\": \"2013-09-02\", \"guess\": \"German\", \"sample\": \"1f8b9a59cd75fc429db54dceb6e0594b\", \"target\": \"German\"}\n",
      "{\"choices\": [\"Dari\", \"German\"], \"country\": \"CH\", \"date\": \"2013-09-03\", \"guess\": \"German\", \"sample\": \"e77d97b712adffc39e531e20237a5589\", \"target\": \"German\"}\n",
      "{\"choices\": [\"Dari\", \"German\", \"Vietnamese\"], \"country\": \"CH\", \"date\": \"2013-09-03\", \"guess\": \"German\", \"sample\": \"78213fa858b9a45d83121a8bf71712d1\", \"target\": \"German\"}\n",
      "{\"choices\": [\"French\", \"German\", \"Norwegian\", \"Thai\"], \"country\": \"CH\", \"date\": \"2013-09-03\", \"guess\": \"German\", \"sample\": \"e77d97b712adffc39e531e20237a5589\", \"target\": \"German\"}\n",
      "{\"choices\": [\"German\", \"Lao\"], \"country\": \"CH\", \"date\": \"2013-09-03\", \"guess\": \"German\", \"sample\": \"e77d97b712adffc39e531e20237a5589\", \"target\": \"German\"}\n"
     ]
    }
   ],
   "source": [
    "%%jsoniq\n",
    "let $ch-de_data := for $i in json-file(\"confusion-100000.json\", 10)\n",
    "    where $i.country eq \"CH\" and $i.target eq \"German\"\n",
    "    return $i\n",
    "for $j in $ch-de_data\n",
    "count $c\n",
    "where $c <= 5\n",
    "return $j"
   ]
  },
  {
   "cell_type": "markdown",
   "metadata": {
    "id": "3ivTnfw5HMZz"
   },
   "source": [
    "### 4.2.4 Get all games played from Switzerland, where the correct answer (target) was \"German\", order them by date (ascending), and return the top 5 rows.\n",
    "```sql\n",
    "SELECT *\n",
    "FROM entries\n",
    "WHERE country == \"CH\" AND target == \"German\"\n",
    "ORDER BY date ASC\n",
    "LIMIT 5\n",
    "```\n",
    "\n",
    "\n"
   ]
  },
  {
   "cell_type": "code",
   "execution_count": 52,
   "metadata": {
    "id": "YbI3HF2QH-2x",
    "scrolled": true
   },
   "outputs": [
    {
     "name": "stdout",
     "output_type": "stream",
     "text": [
      "Took: 1.1375679969787598 ms\n",
      "{\"choices\": [\"Maori\", \"Mandarin\", \"Norwegian\", \"Tongan\"], \"country\": \"AU\", \"date\": \"2013-08-19\", \"guess\": \"Norwegian\", \"sample\": \"48f9c924e0d98c959d8a6f1862b3ce9a\", \"target\": \"Norwegian\"}\n",
      "{\"choices\": [\"Danish\", \"Dinka\", \"Khmer\", \"Lao\"], \"country\": \"AU\", \"date\": \"2013-08-19\", \"guess\": \"Dinka\", \"sample\": \"af5e8f27cef9e689a070b8814dcc02c3\", \"target\": \"Dinka\"}\n",
      "{\"choices\": [\"German\", \"Hungarian\", \"Samoan\", \"Turkish\"], \"country\": \"AU\", \"date\": \"2013-08-19\", \"guess\": \"Turkish\", \"sample\": \"509c36eb58dbce009ccf93f375358d53\", \"target\": \"Samoan\"}\n",
      "{\"choices\": [\"Danish\", \"Korean\", \"Latvian\", \"Somali\"], \"country\": \"AU\", \"date\": \"2013-08-19\", \"guess\": \"Latvian\", \"sample\": \"a505ab771ae7c32744ad31b3051b8ee9\", \"target\": \"Somali\"}\n",
      "{\"choices\": [\"Bangla\", \"Dinka\", \"Italian\", \"Japanese\"], \"country\": \"AU\", \"date\": \"2013-08-19\", \"guess\": \"Japanese\", \"sample\": \"3569611136ea04bab18a0cd605ced358\", \"target\": \"Japanese\"}\n"
     ]
    }
   ],
   "source": [
    "%%jsoniq\n",
    "let $ch-de_data := for $i in json-file(\"confusion-100000.json\", 10)\n",
    "    order by $i.date ascending\n",
    "    return $i\n",
    "for $j in $ch-de_data\n",
    "count $c\n",
    "where $c <= 5\n",
    "return $j"
   ]
  },
  {
   "cell_type": "markdown",
   "metadata": {
    "id": "sKmgYw_jHPZ3"
   },
   "source": [
    "### 4.2.5 Get all games played from Switzerland, where the correct answer (target) was \"German\", group them by date, and return for each different date the number of games played.\n",
    "\n",
    "```sql\n",
    "SELECT date, COUNT(*) AS num_games\n",
    "FROM entries\n",
    "WHERE country == \"CH\" AND target == \"German\"\n",
    "GROUP BY date\n",
    "```\n"
   ]
  },
  {
   "cell_type": "code",
   "execution_count": 53,
   "metadata": {
    "id": "19hMluehIDVR"
   },
   "outputs": [
    {
     "name": "stdout",
     "output_type": "stream",
     "text": [
      "Took: 0.3604910373687744 ms\n",
      "{\"date\": \"2013-09-02\", \"num_games\": 1}\n",
      "{\"date\": \"2013-09-03\", \"num_games\": 4}\n"
     ]
    }
   ],
   "source": [
    "%%jsoniq\n",
    "for $i in json-file(\"confusion-100000.json\", 10)\n",
    "where $i.country eq \"CH\" and $i.target eq \"German\"\n",
    "group by $d := $i.date\n",
    "return {\"date\": $d, \"num_games\": count($i)}"
   ]
  },
  {
   "cell_type": "markdown",
   "metadata": {
    "id": "qKzNKYFNHSGW"
   },
   "source": [
    "### 4.2.6 Get all games played from Switzerland, group them by date and target, and return for each different date and target the number of games played.\n",
    "\n",
    "\n",
    "NOTE: Rumble has some reserved keywords, for example `date`. If you try to create a variable `$date`, you may get an error, such as `no viable alternative at input 'date'`.\n",
    "\n",
    "```sql\n",
    "SELECT date, target, COUNT(*) AS num_games\n",
    "FROM entries\n",
    "WHERE country == \"CH\"\n",
    "GROUP BY date, target\n",
    "```\n",
    "\n",
    "\n"
   ]
  },
  {
   "cell_type": "code",
   "execution_count": 54,
   "metadata": {
    "id": "oO8wXP9TIGw1"
   },
   "outputs": [
    {
     "name": "stdout",
     "output_type": "stream",
     "text": [
      "Took: 0.433732271194458 ms\n",
      "{\"date\": \"2013-09-01\", \"target\": \"Amharic\", \"num_games\": 1}\n",
      "{\"date\": \"2013-09-01\", \"target\": \"Danish\", \"num_games\": 1}\n",
      "{\"date\": \"2013-09-01\", \"target\": \"Hungarian\", \"num_games\": 1}\n",
      "{\"date\": \"2013-09-01\", \"target\": \"Korean\", \"num_games\": 1}\n",
      "{\"date\": \"2013-09-01\", \"target\": \"Russian\", \"num_games\": 1}\n",
      "{\"date\": \"2013-09-01\", \"target\": \"Swahili\", \"num_games\": 1}\n",
      "{\"date\": \"2013-09-01\", \"target\": \"Thai\", \"num_games\": 1}\n",
      "{\"date\": \"2013-09-02\", \"target\": \"Albanian\", \"num_games\": 1}\n",
      "{\"date\": \"2013-09-02\", \"target\": \"Amharic\", \"num_games\": 2}\n",
      "{\"date\": \"2013-09-02\", \"target\": \"Arabic\", \"num_games\": 1}\n",
      "{\"date\": \"2013-09-02\", \"target\": \"Assyrian\", \"num_games\": 4}\n",
      "{\"date\": \"2013-09-02\", \"target\": \"Bangla\", \"num_games\": 2}\n",
      "{\"date\": \"2013-09-02\", \"target\": \"Bosnian\", \"num_games\": 2}\n",
      "{\"date\": \"2013-09-02\", \"target\": \"Bulgarian\", \"num_games\": 2}\n",
      "{\"date\": \"2013-09-02\", \"target\": \"Burmese\", \"num_games\": 1}\n",
      "{\"date\": \"2013-09-02\", \"target\": \"Cantonese\", \"num_games\": 3}\n",
      "{\"date\": \"2013-09-02\", \"target\": \"Croatian\", \"num_games\": 2}\n",
      "{\"date\": \"2013-09-02\", \"target\": \"Czech\", \"num_games\": 4}\n",
      "{\"date\": \"2013-09-02\", \"target\": \"Danish\", \"num_games\": 6}\n",
      "{\"date\": \"2013-09-02\", \"target\": \"Dari\", \"num_games\": 2}\n",
      "{\"date\": \"2013-09-02\", \"target\": \"Dinka\", \"num_games\": 4}\n",
      "{\"date\": \"2013-09-02\", \"target\": \"Dutch\", \"num_games\": 3}\n",
      "{\"date\": \"2013-09-02\", \"target\": \"Estonian\", \"num_games\": 3}\n",
      "{\"date\": \"2013-09-02\", \"target\": \"Farsi\", \"num_games\": 1}\n",
      "{\"date\": \"2013-09-02\", \"target\": \"Fijian\", \"num_games\": 1}\n",
      "{\"date\": \"2013-09-02\", \"target\": \"Finnish\", \"num_games\": 4}\n",
      "{\"date\": \"2013-09-02\", \"target\": \"French\", \"num_games\": 3}\n",
      "{\"date\": \"2013-09-02\", \"target\": \"German\", \"num_games\": 1}\n",
      "{\"date\": \"2013-09-02\", \"target\": \"Greek\", \"num_games\": 2}\n",
      "{\"date\": \"2013-09-02\", \"target\": \"Gujarati\", \"num_games\": 3}\n",
      "{\"date\": \"2013-09-02\", \"target\": \"Hebrew\", \"num_games\": 5}\n",
      "{\"date\": \"2013-09-02\", \"target\": \"Hindi\", \"num_games\": 3}\n",
      "{\"date\": \"2013-09-02\", \"target\": \"Hungarian\", \"num_games\": 2}\n",
      "{\"date\": \"2013-09-02\", \"target\": \"Indonesian\", \"num_games\": 3}\n",
      "{\"date\": \"2013-09-02\", \"target\": \"Italian\", \"num_games\": 4}\n",
      "{\"date\": \"2013-09-02\", \"target\": \"Japanese\", \"num_games\": 1}\n",
      "{\"date\": \"2013-09-02\", \"target\": \"Kannada\", \"num_games\": 1}\n",
      "{\"date\": \"2013-09-02\", \"target\": \"Khmer\", \"num_games\": 2}\n",
      "{\"date\": \"2013-09-02\", \"target\": \"Korean\", \"num_games\": 5}\n",
      "{\"date\": \"2013-09-02\", \"target\": \"Kurdish\", \"num_games\": 2}\n",
      "{\"date\": \"2013-09-02\", \"target\": \"Lao\", \"num_games\": 6}\n",
      "{\"date\": \"2013-09-02\", \"target\": \"Latvian\", \"num_games\": 5}\n",
      "{\"date\": \"2013-09-02\", \"target\": \"Macedonian\", \"num_games\": 1}\n",
      "{\"date\": \"2013-09-02\", \"target\": \"Malay\", \"num_games\": 2}\n",
      "{\"date\": \"2013-09-02\", \"target\": \"Maltese\", \"num_games\": 3}\n",
      "{\"date\": \"2013-09-02\", \"target\": \"Mandarin\", \"num_games\": 1}\n",
      "{\"date\": \"2013-09-02\", \"target\": \"Maori\", \"num_games\": 3}\n",
      "{\"date\": \"2013-09-02\", \"target\": \"Nepali\", \"num_games\": 3}\n",
      "{\"date\": \"2013-09-02\", \"target\": \"Polish\", \"num_games\": 2}\n",
      "{\"date\": \"2013-09-02\", \"target\": \"Portuguese\", \"num_games\": 4}\n",
      "{\"date\": \"2013-09-02\", \"target\": \"Romanian\", \"num_games\": 2}\n",
      "{\"date\": \"2013-09-02\", \"target\": \"Russian\", \"num_games\": 3}\n",
      "{\"date\": \"2013-09-02\", \"target\": \"Samoan\", \"num_games\": 1}\n",
      "{\"date\": \"2013-09-02\", \"target\": \"Serbian\", \"num_games\": 5}\n",
      "{\"date\": \"2013-09-02\", \"target\": \"Sinhalese\", \"num_games\": 2}\n",
      "{\"date\": \"2013-09-02\", \"target\": \"Slovak\", \"num_games\": 1}\n",
      "{\"date\": \"2013-09-02\", \"target\": \"Slovenian\", \"num_games\": 5}\n",
      "{\"date\": \"2013-09-02\", \"target\": \"Somali\", \"num_games\": 3}\n",
      "{\"date\": \"2013-09-02\", \"target\": \"Spanish\", \"num_games\": 3}\n",
      "{\"date\": \"2013-09-02\", \"target\": \"Swedish\", \"num_games\": 2}\n",
      "{\"date\": \"2013-09-02\", \"target\": \"Tagalog\", \"num_games\": 3}\n",
      "{\"date\": \"2013-09-02\", \"target\": \"Tamil\", \"num_games\": 1}\n",
      "{\"date\": \"2013-09-02\", \"target\": \"Thai\", \"num_games\": 1}\n",
      "{\"date\": \"2013-09-02\", \"target\": \"Tigrinya\", \"num_games\": 4}\n",
      "{\"date\": \"2013-09-02\", \"target\": \"Tongan\", \"num_games\": 3}\n",
      "{\"date\": \"2013-09-02\", \"target\": \"Turkish\", \"num_games\": 2}\n",
      "{\"date\": \"2013-09-02\", \"target\": \"Ukrainian\", \"num_games\": 2}\n",
      "{\"date\": \"2013-09-02\", \"target\": \"Urdu\", \"num_games\": 1}\n",
      "{\"date\": \"2013-09-02\", \"target\": \"Vietnamese\", \"num_games\": 4}\n",
      "{\"date\": \"2013-09-02\", \"target\": \"Yiddish\", \"num_games\": 2}\n",
      "{\"date\": \"2013-09-03\", \"target\": \"Albanian\", \"num_games\": 2}\n",
      "{\"date\": \"2013-09-03\", \"target\": \"Amharic\", \"num_games\": 1}\n",
      "{\"date\": \"2013-09-03\", \"target\": \"Arabic\", \"num_games\": 2}\n",
      "{\"date\": \"2013-09-03\", \"target\": \"Assyrian\", \"num_games\": 2}\n",
      "{\"date\": \"2013-09-03\", \"target\": \"Bosnian\", \"num_games\": 2}\n",
      "{\"date\": \"2013-09-03\", \"target\": \"Bulgarian\", \"num_games\": 3}\n",
      "{\"date\": \"2013-09-03\", \"target\": \"Burmese\", \"num_games\": 1}\n",
      "{\"date\": \"2013-09-03\", \"target\": \"Cantonese\", \"num_games\": 2}\n",
      "{\"date\": \"2013-09-03\", \"target\": \"Croatian\", \"num_games\": 2}\n",
      "{\"date\": \"2013-09-03\", \"target\": \"Czech\", \"num_games\": 3}\n",
      "{\"date\": \"2013-09-03\", \"target\": \"Danish\", \"num_games\": 3}\n",
      "{\"date\": \"2013-09-03\", \"target\": \"Dari\", \"num_games\": 1}\n",
      "{\"date\": \"2013-09-03\", \"target\": \"Dinka\", \"num_games\": 1}\n",
      "{\"date\": \"2013-09-03\", \"target\": \"Dutch\", \"num_games\": 1}\n",
      "{\"date\": \"2013-09-03\", \"target\": \"Fijian\", \"num_games\": 1}\n",
      "{\"date\": \"2013-09-03\", \"target\": \"Finnish\", \"num_games\": 3}\n",
      "{\"date\": \"2013-09-03\", \"target\": \"French\", \"num_games\": 2}\n",
      "{\"date\": \"2013-09-03\", \"target\": \"German\", \"num_games\": 4}\n",
      "{\"date\": \"2013-09-03\", \"target\": \"Greek\", \"num_games\": 3}\n",
      "{\"date\": \"2013-09-03\", \"target\": \"Gujarati\", \"num_games\": 1}\n",
      "{\"date\": \"2013-09-03\", \"target\": \"Hebrew\", \"num_games\": 4}\n",
      "{\"date\": \"2013-09-03\", \"target\": \"Indonesian\", \"num_games\": 1}\n",
      "{\"date\": \"2013-09-03\", \"target\": \"Italian\", \"num_games\": 6}\n",
      "{\"date\": \"2013-09-03\", \"target\": \"Japanese\", \"num_games\": 3}\n",
      "{\"date\": \"2013-09-03\", \"target\": \"Kannada\", \"num_games\": 1}\n",
      "{\"date\": \"2013-09-03\", \"target\": \"Khmer\", \"num_games\": 1}\n",
      "{\"date\": \"2013-09-03\", \"target\": \"Korean\", \"num_games\": 4}\n",
      "{\"date\": \"2013-09-03\", \"target\": \"Macedonian\", \"num_games\": 3}\n",
      "{\"date\": \"2013-09-03\", \"target\": \"Malay\", \"num_games\": 1}\n",
      "{\"date\": \"2013-09-03\", \"target\": \"Malayalam\", \"num_games\": 1}\n",
      "{\"date\": \"2013-09-03\", \"target\": \"Maltese\", \"num_games\": 1}\n",
      "{\"date\": \"2013-09-03\", \"target\": \"Mandarin\", \"num_games\": 2}\n",
      "{\"date\": \"2013-09-03\", \"target\": \"Maori\", \"num_games\": 1}\n",
      "{\"date\": \"2013-09-03\", \"target\": \"Nepali\", \"num_games\": 1}\n",
      "{\"date\": \"2013-09-03\", \"target\": \"Norwegian\", \"num_games\": 6}\n",
      "{\"date\": \"2013-09-03\", \"target\": \"Polish\", \"num_games\": 2}\n",
      "{\"date\": \"2013-09-03\", \"target\": \"Portuguese\", \"num_games\": 6}\n",
      "{\"date\": \"2013-09-03\", \"target\": \"Punjabi\", \"num_games\": 3}\n",
      "{\"date\": \"2013-09-03\", \"target\": \"Romanian\", \"num_games\": 2}\n",
      "{\"date\": \"2013-09-03\", \"target\": \"Russian\", \"num_games\": 2}\n",
      "{\"date\": \"2013-09-03\", \"target\": \"Samoan\", \"num_games\": 3}\n",
      "{\"date\": \"2013-09-03\", \"target\": \"Serbian\", \"num_games\": 3}\n",
      "{\"date\": \"2013-09-03\", \"target\": \"Sinhalese\", \"num_games\": 1}\n",
      "{\"date\": \"2013-09-03\", \"target\": \"Slovak\", \"num_games\": 3}\n",
      "{\"date\": \"2013-09-03\", \"target\": \"Slovenian\", \"num_games\": 1}\n",
      "{\"date\": \"2013-09-03\", \"target\": \"Spanish\", \"num_games\": 3}\n",
      "{\"date\": \"2013-09-03\", \"target\": \"Swahili\", \"num_games\": 3}\n",
      "{\"date\": \"2013-09-03\", \"target\": \"Swedish\", \"num_games\": 6}\n",
      "{\"date\": \"2013-09-03\", \"target\": \"Tagalog\", \"num_games\": 4}\n",
      "{\"date\": \"2013-09-03\", \"target\": \"Tamil\", \"num_games\": 1}\n",
      "{\"date\": \"2013-09-03\", \"target\": \"Thai\", \"num_games\": 3}\n",
      "{\"date\": \"2013-09-03\", \"target\": \"Tigrinya\", \"num_games\": 2}\n",
      "{\"date\": \"2013-09-03\", \"target\": \"Tongan\", \"num_games\": 2}\n",
      "{\"date\": \"2013-09-03\", \"target\": \"Ukrainian\", \"num_games\": 1}\n",
      "{\"date\": \"2013-09-03\", \"target\": \"Urdu\", \"num_games\": 1}\n",
      "{\"date\": \"2013-09-03\", \"target\": \"Vietnamese\", \"num_games\": 4}\n",
      "{\"date\": \"2013-09-03\", \"target\": \"Yiddish\", \"num_games\": 4}\n"
     ]
    }
   ],
   "source": [
    "%%jsoniq\n",
    "for $i in json-file(\"confusion-100000.json\", 10)\n",
    "where $i.country eq \"CH\"\n",
    "group by $d := $i.date, $target := $i.target\n",
    "return {\"date\": $d, \"target\": $target, \"num_games\": count($i)}\n"
   ]
  },
  {
   "cell_type": "markdown",
   "metadata": {
    "id": "IAjnh_H2HUa1"
   },
   "source": [
    "### 4.2.7 For all games played from Switzerland, return the distinct targets of those games.\n",
    "\n",
    "```sql\n",
    "SELECT DISTINCT(target)\n",
    "FROM entries\n",
    "WHERE country == \"CH\"\n",
    "```\n",
    "\n",
    "\n"
   ]
  },
  {
   "cell_type": "code",
   "execution_count": 55,
   "metadata": {
    "id": "qfS7prkYIMCN"
   },
   "outputs": [
    {
     "name": "stdout",
     "output_type": "stream",
     "text": [
      "Took: 0.31980323791503906 ms\n",
      "\"Serbian\"\n",
      "\"Kannada\"\n",
      "\"Italian\"\n",
      "\"Thai\"\n",
      "\"Bosnian\"\n",
      "\"Malay\"\n",
      "\"Estonian\"\n",
      "\"Punjabi\"\n",
      "\"Malayalam\"\n",
      "\"Samoan\"\n",
      "\"Macedonian\"\n",
      "\"Bangla\"\n",
      "\"Farsi\"\n",
      "\"Vietnamese\"\n",
      "\"Portuguese\"\n",
      "\"Hindi\"\n",
      "\"Korean\"\n",
      "\"German\"\n",
      "\"Swahili\"\n",
      "\"Latvian\"\n",
      "\"Tamil\"\n",
      "\"Bulgarian\"\n",
      "\"Khmer\"\n",
      "\"Gujarati\"\n",
      "\"Croatian\"\n",
      "\"Maltese\"\n",
      "\"Fijian\"\n",
      "\"Czech\"\n",
      "\"Russian\"\n",
      "\"Maori\"\n",
      "\"Yiddish\"\n",
      "\"Greek\"\n",
      "\"Dari\"\n",
      "\"Lao\"\n",
      "\"Indonesian\"\n",
      "\"Dutch\"\n",
      "\"Kurdish\"\n",
      "\"Tagalog\"\n",
      "\"Slovenian\"\n",
      "\"Nepali\"\n",
      "\"Ukrainian\"\n",
      "\"Albanian\"\n",
      "\"Urdu\"\n",
      "\"Sinhalese\"\n",
      "\"Assyrian\"\n",
      "\"Mandarin\"\n",
      "\"Somali\"\n",
      "\"Dinka\"\n",
      "\"Japanese\"\n",
      "\"Polish\"\n",
      "\"Romanian\"\n",
      "\"Arabic\"\n",
      "\"Slovak\"\n",
      "\"French\"\n",
      "\"Spanish\"\n",
      "\"Cantonese\"\n",
      "\"Turkish\"\n",
      "\"Norwegian\"\n",
      "\"Hebrew\"\n",
      "\"Amharic\"\n",
      "\"Finnish\"\n",
      "\"Tongan\"\n",
      "\"Burmese\"\n",
      "\"Swedish\"\n",
      "\"Danish\"\n",
      "\"Hungarian\"\n",
      "\"Tigrinya\"\n"
     ]
    }
   ],
   "source": [
    "%%jsoniq\n",
    "let $targets := for $i in json-file(\"confusion-100000.json\", 10)\n",
    "  where $i.country eq \"CH\"\n",
    "  return $i.target\n",
    "return distinct-values($targets)"
   ]
  },
  {
   "cell_type": "markdown",
   "metadata": {
    "id": "yVvQBpVxHWuz"
   },
   "source": [
    "### 4.2.8 For all games played from Switzerland, get the distinct targets of those games, and return the index of \"German\" in the list of distinct targets.\n",
    "\n",
    "\n"
   ]
  },
  {
   "cell_type": "code",
   "execution_count": 56,
   "metadata": {
    "id": "C9zQLBnwISRB"
   },
   "outputs": [
    {
     "name": "stdout",
     "output_type": "stream",
     "text": [
      "Took: 0.36377811431884766 ms\n",
      "18\n"
     ]
    }
   ],
   "source": [
    "%%jsoniq\n",
    "let $targets := for $i in json-file(\"confusion-100000.json\", 10)\n",
    "    where $i.country eq \"CH\"\n",
    "    return $i.target\n",
    "return index-of(distinct-values($targets), \"German\")\n"
   ]
  },
  {
   "cell_type": "markdown",
   "metadata": {
    "id": "XW8fQM8WHYt7"
   },
   "source": [
    "### 4.2.9 Count the number of games played from Switzerland (without any grouping).\n",
    "\n",
    "\n",
    "NOTE: `distinct-values` and `index-of` work on \"sequences\". The method `json-file` returns a sequence. If you have an array on which you want to apply `distinct-values` and `index-of`, you must first convert it to a sequence. This can be done with `[]`. For example, if you have an array called `arr`, you can find its distinct values with `distinct-values(arr[])`\n",
    "\n",
    "```sql\n",
    "SELECT COUNT(*) AS count\n",
    "FROM entries\n",
    "WHERE country == \"CH\"\n",
    "```\n"
   ]
  },
  {
   "cell_type": "code",
   "execution_count": 57,
   "metadata": {
    "colab": {
     "base_uri": "https://localhost:8080/"
    },
    "id": "0wXZLNPLIayV",
    "outputId": "4c65ffe5-0bac-4efa-bb42-5abefce423c0"
   },
   "outputs": [
    {
     "name": "stdout",
     "output_type": "stream",
     "text": [
      "Took: 0.249891996383667 ms\n",
      "308\n"
     ]
    }
   ],
   "source": [
    "%%jsoniq\n",
    "count(for $i in json-file(\"confusion-100000.json\", 10)\n",
    "    where $i.country eq \"CH\"\n",
    "    return $i\n",
    ")"
   ]
  },
  {
   "cell_type": "markdown",
   "metadata": {
    "id": "s2ljO3Wyd-kt"
   },
   "source": [
    "If in your query you want to join 2 (or more) sequences (results of `json-file` or subqueries), you can do it in the following way:\n",
    "```\n",
    "let $seq1 := ...\n",
    "let $seq2 := ...\n",
    "for $i in $seq1, $j in $seq2\n",
    "where $i.attr1 eq $j.attr2\n",
    "...\n",
    "```"
   ]
  },
  {
   "cell_type": "markdown",
   "metadata": {
    "id": "PE_9pQzhAOyo"
   },
   "source": [
    "## 4.3 More queries"
   ]
  },
  {
   "cell_type": "markdown",
   "metadata": {
    "id": "FxrwoBIxd-kt"
   },
   "source": [
    "Try writing a few more queries:\n",
    "- List all chosen answers to games where the guessed language is correct (=target)."
   ]
  },
  {
   "cell_type": "code",
   "execution_count": 59,
   "metadata": {
    "colab": {
     "base_uri": "https://localhost:8080/"
    },
    "id": "2pFtHHOed-kt",
    "outputId": "0a7e0be5-bef7-4236-a204-7bc222ea096b"
   },
   "outputs": [
    {
     "name": "stdout",
     "output_type": "stream",
     "text": [
      "Took: 10.358082056045532 ms\n",
      "\"Serbian\"\n",
      "\"Kannada\"\n",
      "\"Italian\"\n",
      "\"Thai\"\n",
      "\"Bosnian\"\n",
      "\"Malay\"\n",
      "\"Estonian\"\n",
      "\"Punjabi\"\n",
      "\"Malayalam\"\n",
      "\"Samoan\"\n",
      "\"Macedonian\"\n",
      "\"Bangla\"\n",
      "\"Farsi\"\n",
      "\"Vietnamese\"\n",
      "\"Portuguese\"\n",
      "\"Hindi\"\n",
      "\"Korean\"\n",
      "\"German\"\n",
      "\"Swahili\"\n",
      "\"Latvian\"\n",
      "\"Tamil\"\n",
      "\"Bulgarian\"\n",
      "\"Khmer\"\n",
      "\"Gujarati\"\n",
      "\"Croatian\"\n",
      "\"Maltese\"\n",
      "\"Fijian\"\n",
      "\"Czech\"\n",
      "\"Russian\"\n",
      "\"Maori\"\n",
      "\"Yiddish\"\n",
      "\"Greek\"\n",
      "\"Dari\"\n",
      "\"Lao\"\n",
      "\"Indonesian\"\n",
      "\"Dutch\"\n",
      "\"Kurdish\"\n",
      "\"Tagalog\"\n",
      "\"Armenian\"\n",
      "\"Slovenian\"\n",
      "\"Nepali\"\n",
      "\"Ukrainian\"\n",
      "\"Albanian\"\n",
      "\"Urdu\"\n",
      "\"Sinhalese\"\n",
      "\"Assyrian\"\n",
      "\"Mandarin\"\n",
      "\"Somali\"\n",
      "\"Dinka\"\n",
      "\"Japanese\"\n",
      "\"Polish\"\n",
      "\"Romanian\"\n",
      "\"Arabic\"\n",
      "\"Slovak\"\n",
      "\"French\"\n",
      "\"Spanish\"\n",
      "\"Cantonese\"\n",
      "\"Turkish\"\n",
      "\"Norwegian\"\n",
      "\"Hebrew\"\n",
      "\"Amharic\"\n",
      "\"Finnish\"\n",
      "\"Tongan\"\n",
      "\"Burmese\"\n",
      "\"Swedish\"\n",
      "\"Danish\"\n",
      "\"Hungarian\"\n",
      "\"Tigrinya\"\n"
     ]
    }
   ],
   "source": [
    "%%jsoniq\n",
    "distinct-values(\n",
    "    for $i in json-file(\"confusion-100000.json\", 10)\n",
    "    where $i.target eq $i.guess\n",
    "    return $i.guess\n",
    ")"
   ]
  },
  {
   "cell_type": "markdown",
   "metadata": {
    "id": "n4XpGln4d-ku"
   },
   "source": [
    "- Count the games where the index of the correct answer in the choices array is 2 (as returned by the index-of method)."
   ]
  },
  {
   "cell_type": "code",
   "execution_count": 60,
   "metadata": {
    "colab": {
     "base_uri": "https://localhost:8080/"
    },
    "id": "Ubmh2smkd-ku",
    "outputId": "00388bda-819c-4f50-b5b5-4d560f4ccc2b"
   },
   "outputs": [
    {
     "name": "stdout",
     "output_type": "stream",
     "text": [
      "Took: 0.35243678092956543 ms\n",
      "36509\n"
     ]
    }
   ],
   "source": [
    "%%jsoniq\n",
    "count(\n",
    "    for $i in json-file(\"confusion-100000.json\", 10)\n",
    "    where index-of($i.choices[], $i.target) eq 2\n",
    "    return $i\n",
    ")"
   ]
  },
  {
   "cell_type": "markdown",
   "metadata": {
    "id": "X_-pBCWtd-ku"
   },
   "source": [
    "- Return all games played on September 1st 2013."
   ]
  },
  {
   "cell_type": "code",
   "execution_count": 62,
   "metadata": {
    "colab": {
     "base_uri": "https://localhost:8080/"
    },
    "id": "DX82UVhid-ku",
    "outputId": "bdf21450-5ed4-41a9-af1f-bfd5683f5fff"
   },
   "outputs": [
    {
     "name": "stdout",
     "output_type": "stream",
     "text": [
      "Took: 0.2612450122833252 ms\n",
      "\"Warning! The output sequence contains 257 items but its materialization was capped at 200 items. This value can be configured with the result-size parameter in the query string of the HTTP request.\"\n",
      "{\"choices\": [\"Danish\", \"Portuguese\"], \"country\": \"AU\", \"date\": \"2013-09-01\", \"guess\": \"Portuguese\", \"sample\": \"439672210d1feb96e012590ff2a73590\", \"target\": \"Portuguese\"}\n",
      "{\"choices\": [\"Samoan\", \"Thai\"], \"country\": \"AU\", \"date\": \"2013-09-01\", \"guess\": \"Thai\", \"sample\": \"74b5340a230b1e0c1d45787bc4280b05\", \"target\": \"Thai\"}\n",
      "{\"choices\": [\"Gujarati\", \"Hebrew\"], \"country\": \"AU\", \"date\": \"2013-09-01\", \"guess\": \"Hebrew\", \"sample\": \"830854fd9c28424c604eaef2e97e61b3\", \"target\": \"Hebrew\"}\n",
      "{\"choices\": [\"Bosnian\", \"Burmese\"], \"country\": \"AU\", \"date\": \"2013-09-01\", \"guess\": \"Burmese\", \"sample\": \"31cba304794d1828c93d7b3c63aa840a\", \"target\": \"Burmese\"}\n",
      "{\"choices\": [\"Bangla\", \"Sinhalese\", \"Turkish\"], \"country\": \"AU\", \"date\": \"2013-09-01\", \"guess\": \"Bangla\", \"sample\": \"755de9092b301614712fae5e1d2d47d3\", \"target\": \"Sinhalese\"}\n",
      "{\"choices\": [\"Bosnian\", \"Fijian\", \"Malayalam\"], \"country\": \"AU\", \"date\": \"2013-09-01\", \"guess\": \"Malayalam\", \"sample\": \"73a09a8879e70e8648d7d75d656a5b79\", \"target\": \"Malayalam\"}\n",
      "{\"choices\": [\"Albanian\", \"Spanish\", \"Swedish\"], \"country\": \"AU\", \"date\": \"2013-09-01\", \"guess\": \"Spanish\", \"sample\": \"c57afc7ca3b4a454bf53dbca84bb4523\", \"target\": \"Spanish\"}\n",
      "{\"choices\": [\"Finnish\", \"Lao\", \"Norwegian\"], \"country\": \"AU\", \"date\": \"2013-09-01\", \"guess\": \"Norwegian\", \"sample\": \"208e1606aa365f3ed573adc7111f58e9\", \"target\": \"Norwegian\"}\n",
      "{\"choices\": [\"Indonesian\", \"Latvian\", \"Malayalam\", \"Polish\"], \"country\": \"AU\", \"date\": \"2013-09-01\", \"guess\": \"Polish\", \"sample\": \"447bcafdbe5d7d69e0db72ab5bfa043a\", \"target\": \"Latvian\"}\n",
      "{\"choices\": [\"Estonian\", \"Greek\", \"Somali\", \"Urdu\"], \"country\": \"AU\", \"date\": \"2013-09-01\", \"guess\": \"Greek\", \"sample\": \"17527de743e8a5b5c339fb8ff117f65b\", \"target\": \"Greek\"}\n",
      "{\"choices\": [\"Armenian\", \"Cantonese\", \"Korean\", \"Malay\"], \"country\": \"AU\", \"date\": \"2013-09-01\", \"guess\": \"Cantonese\", \"sample\": \"0f8e6818d2be77b75712bc9ea4e87171\", \"target\": \"Korean\"}\n",
      "{\"choices\": [\"Dinka\", \"Japanese\"], \"country\": \"AU\", \"date\": \"2013-09-01\", \"guess\": \"Japanese\", \"sample\": \"3569611136ea04bab18a0cd605ced358\", \"target\": \"Japanese\"}\n",
      "{\"choices\": [\"Indonesian\", \"Khmer\"], \"country\": \"AU\", \"date\": \"2013-09-01\", \"guess\": \"Indonesian\", \"sample\": \"96c0ad21acaedd52f652903794afb6f4\", \"target\": \"Indonesian\"}\n",
      "{\"choices\": [\"Malayalam\", \"Somali\"], \"country\": \"AU\", \"date\": \"2013-09-01\", \"guess\": \"Somali\", \"sample\": \"a505ab771ae7c32744ad31b3051b8ee9\", \"target\": \"Somali\"}\n",
      "{\"choices\": [\"Danish\", \"Portuguese\", \"Swahili\"], \"country\": \"AU\", \"date\": \"2013-09-01\", \"guess\": \"Portuguese\", \"sample\": \"1d7fea3522c8607f5ec4168b2a5cd206\", \"target\": \"Portuguese\"}\n",
      "{\"choices\": [\"Bangla\", \"Burmese\", \"Somali\"], \"country\": \"AU\", \"date\": \"2013-09-01\", \"guess\": \"Bangla\", \"sample\": \"ca0d5c366b1eeb2115054e6a8518f778\", \"target\": \"Bangla\"}\n",
      "{\"choices\": [\"Malayalam\", \"Portuguese\", \"Slovak\"], \"country\": \"AU\", \"date\": \"2013-09-01\", \"guess\": \"Portuguese\", \"sample\": \"439672210d1feb96e012590ff2a73590\", \"target\": \"Portuguese\"}\n",
      "{\"choices\": [\"Dinka\", \"Hebrew\", \"Sinhalese\", \"Tongan\"], \"country\": \"AU\", \"date\": \"2013-09-01\", \"guess\": \"Hebrew\", \"sample\": \"1dc9a1bf90e4e788906dc716dc18d878\", \"target\": \"Hebrew\"}\n",
      "{\"choices\": [\"Arabic\", \"Finnish\", \"Hungarian\", \"Serbian\"], \"country\": \"AU\", \"date\": \"2013-09-01\", \"guess\": \"Hungarian\", \"sample\": \"5b731188b14839ba28c74399219e956c\", \"target\": \"Hungarian\"}\n",
      "{\"choices\": [\"Burmese\", \"Maori\", \"Punjabi\", \"Tongan\"], \"country\": \"AU\", \"date\": \"2013-09-01\", \"guess\": \"Tongan\", \"sample\": \"90ae678a85eac78bc4b4f52809a7c09d\", \"target\": \"Maori\"}\n",
      "{\"choices\": [\"Bulgarian\", \"Korean\", \"Maori\", \"Portuguese\"], \"country\": \"AU\", \"date\": \"2013-09-01\", \"guess\": \"Portuguese\", \"sample\": \"439672210d1feb96e012590ff2a73590\", \"target\": \"Portuguese\"}\n",
      "{\"choices\": [\"Cantonese\", \"Fijian\", \"German\", \"Spanish\", \"Tagalog\"], \"country\": \"AU\", \"date\": \"2013-09-01\", \"guess\": \"German\", \"sample\": \"1f8b9a59cd75fc429db54dceb6e0594b\", \"target\": \"German\"}\n",
      "{\"choices\": [\"Arabic\", \"Bosnian\", \"Farsi\", \"Hebrew\", \"Polish\"], \"country\": \"AU\", \"date\": \"2013-09-01\", \"guess\": \"Arabic\", \"sample\": \"70154ea13cf1c633cfe62d44919a347c\", \"target\": \"Farsi\"}\n",
      "{\"choices\": [\"Bangla\", \"Kurdish\", \"Russian\", \"Vietnamese\", \"Yiddish\"], \"country\": \"AU\", \"date\": \"2013-09-01\", \"guess\": \"Russian\", \"sample\": \"8a59d48e99e8a1df7e366c4648095e27\", \"target\": \"Russian\"}\n",
      "{\"choices\": [\"Danish\", \"Dinka\", \"Korean\", \"Lao\", \"Macedonian\"], \"country\": \"AU\", \"date\": \"2013-09-01\", \"guess\": \"Korean\", \"sample\": \"0f8e6818d2be77b75712bc9ea4e87171\", \"target\": \"Korean\"}\n",
      "{\"choices\": [\"Armenian\", \"Estonian\", \"Hebrew\", \"Lao\", \"Slovenian\", \"Tagalog\"], \"country\": \"AU\", \"date\": \"2013-09-01\", \"guess\": \"Armenian\", \"sample\": \"34df5eca0db3967da23f8a210337c9d6\", \"target\": \"Tagalog\"}\n",
      "{\"choices\": [\"Maltese\", \"Tagalog\"], \"country\": \"AU\", \"date\": \"2013-09-01\", \"guess\": \"Tagalog\", \"sample\": \"40ec634a4fc7e0990ab69c7cdcd3888f\", \"target\": \"Tagalog\"}\n",
      "{\"choices\": [\"Norwegian\", \"Swahili\"], \"country\": \"AU\", \"date\": \"2013-09-01\", \"guess\": \"Norwegian\", \"sample\": \"4383d59a89ffd10b8e86d93233e01b5f\", \"target\": \"Norwegian\"}\n",
      "{\"choices\": [\"French\", \"Thai\"], \"country\": \"AU\", \"date\": \"2013-09-01\", \"guess\": \"Thai\", \"sample\": \"f9119000c32bd3c091da19ba73b27aa8\", \"target\": \"Thai\"}\n",
      "{\"choices\": [\"Japanese\", \"Macedonian\", \"Tigrinya\"], \"country\": \"AU\", \"date\": \"2013-09-01\", \"guess\": \"Tigrinya\", \"sample\": \"a1fcc86068b72ed9d9f1c0b291d7819d\", \"target\": \"Tigrinya\"}\n",
      "{\"choices\": [\"Korean\", \"Slovak\", \"Ukrainian\"], \"country\": \"AU\", \"date\": \"2013-09-01\", \"guess\": \"Ukrainian\", \"sample\": \"376eba5874889d82dd552e3a9128c6e7\", \"target\": \"Ukrainian\"}\n",
      "{\"choices\": [\"Indonesian\", \"Korean\", \"Maltese\"], \"country\": \"AU\", \"date\": \"2013-09-01\", \"guess\": \"Korean\", \"sample\": \"0f8e6818d2be77b75712bc9ea4e87171\", \"target\": \"Korean\"}\n",
      "{\"choices\": [\"French\", \"Hungarian\", \"Somali\", \"Tagalog\"], \"country\": \"AU\", \"date\": \"2013-09-01\", \"guess\": \"French\", \"sample\": \"99d67cd704a7e25730cc91e215e41ae3\", \"target\": \"French\"}\n",
      "{\"choices\": [\"Bangla\", \"Bulgarian\", \"Dutch\", \"Samoan\"], \"country\": \"AU\", \"date\": \"2013-09-01\", \"guess\": \"Bangla\", \"sample\": \"b2132278200e1e601b6814a15fdabcc1\", \"target\": \"Bangla\"}\n",
      "{\"choices\": [\"Dari\", \"Maltese\", \"Serbian\", \"Tigrinya\"], \"country\": \"AU\", \"date\": \"2013-09-01\", \"guess\": \"Tigrinya\", \"sample\": \"33f2084165c0cca6303b45440623c88c\", \"target\": \"Dari\"}\n",
      "{\"choices\": [\"Kannada\", \"Romanian\", \"Russian\", \"Tongan\"], \"country\": \"AU\", \"date\": \"2013-09-01\", \"guess\": \"Romanian\", \"sample\": \"6560ff4ce0b53a1b0bad2e7734f52381\", \"target\": \"Romanian\"}\n",
      "{\"choices\": [\"Dutch\", \"Samoan\", \"Swedish\", \"Tamil\", \"Tigrinya\"], \"country\": \"AU\", \"date\": \"2013-09-01\", \"guess\": \"Dutch\", \"sample\": \"bf0f1eec2e9f147aba20ea9b3e9564bb\", \"target\": \"Dutch\"}\n",
      "{\"choices\": [\"Albanian\", \"Thai\"], \"country\": \"AU\", \"date\": \"2013-09-01\", \"guess\": \"Albanian\", \"sample\": \"efcd813daec1c836d9f030b30caa07ce\", \"target\": \"Albanian\"}\n",
      "{\"choices\": [\"Amharic\", \"Arabic\"], \"country\": \"AU\", \"date\": \"2013-09-01\", \"guess\": \"Arabic\", \"sample\": \"9b1340b8343bb267783e1bfb2dc55bf1\", \"target\": \"Amharic\"}\n",
      "{\"choices\": [\"Armenian\", \"Czech\"], \"country\": \"AU\", \"date\": \"2013-09-01\", \"guess\": \"Armenian\", \"sample\": \"56626a14b479e47d5eb9568161dad285\", \"target\": \"Czech\"}\n",
      "{\"choices\": [\"Dutch\", \"Estonian\"], \"country\": \"AU\", \"date\": \"2013-09-01\", \"guess\": \"Estonian\", \"sample\": \"65bf2aceadf2520f36a5e548a0471fcf\", \"target\": \"Dutch\"}\n",
      "{\"choices\": [\"Arabic\", \"Estonian\"], \"country\": \"AU\", \"date\": \"2013-09-01\", \"guess\": \"Arabic\", \"sample\": \"cd438a022d83ce4ded75d4f9c6ea7239\", \"target\": \"Arabic\"}\n",
      "{\"choices\": [\"Kurdish\", \"Urdu\"], \"country\": \"AU\", \"date\": \"2013-09-01\", \"guess\": \"Kurdish\", \"sample\": \"6c50f5972917a1ab11328233ef50db72\", \"target\": \"Kurdish\"}\n",
      "{\"choices\": [\"Armenian\", \"Mandarin\"], \"country\": \"AU\", \"date\": \"2013-09-01\", \"guess\": \"Armenian\", \"sample\": \"d34689ff8c3532426256b0963d7df2bb\", \"target\": \"Armenian\"}\n",
      "{\"choices\": [\"Dutch\", \"Malayalam\", \"Mandarin\"], \"country\": \"AU\", \"date\": \"2013-09-01\", \"guess\": \"Mandarin\", \"sample\": \"fc3712715ddc748286256eb7a64f25ab\", \"target\": \"Mandarin\"}\n",
      "{\"choices\": [\"Arabic\", \"Korean\", \"Kurdish\"], \"country\": \"AU\", \"date\": \"2013-09-01\", \"guess\": \"Kurdish\", \"sample\": \"6c50f5972917a1ab11328233ef50db72\", \"target\": \"Kurdish\"}\n",
      "{\"choices\": [\"Armenian\", \"Greek\", \"Maori\"], \"country\": \"AU\", \"date\": \"2013-09-01\", \"guess\": \"Greek\", \"sample\": \"d6f08d099e6f753b96ede3d475d25106\", \"target\": \"Greek\"}\n",
      "{\"choices\": [\"Maori\", \"Portuguese\", \"Swedish\", \"Ukrainian\"], \"country\": \"AU\", \"date\": \"2013-09-01\", \"guess\": \"Ukrainian\", \"sample\": \"376eba5874889d82dd552e3a9128c6e7\", \"target\": \"Ukrainian\"}\n",
      "{\"choices\": [\"Hungarian\", \"Italian\", \"Maori\", \"Ukrainian\"], \"country\": \"AU\", \"date\": \"2013-09-01\", \"guess\": \"Hungarian\", \"sample\": \"5b731188b14839ba28c74399219e956c\", \"target\": \"Hungarian\"}\n",
      "{\"choices\": [\"Estonian\", \"Punjabi\"], \"country\": \"AU\", \"date\": \"2013-09-01\", \"guess\": \"Estonian\", \"sample\": \"b8e22e10dbc944d7aaa9c00414c70be8\", \"target\": \"Estonian\"}\n",
      "{\"choices\": [\"Italian\", \"Korean\"], \"country\": \"AU\", \"date\": \"2013-09-01\", \"guess\": \"Italian\", \"sample\": \"5ba910be0498e57bb2277c41ce4bfdad\", \"target\": \"Italian\"}\n",
      "{\"choices\": [\"Hebrew\", \"Indonesian\", \"Khmer\", \"Malay\"], \"country\": \"AU\", \"date\": \"2013-09-01\", \"guess\": \"Indonesian\", \"sample\": \"84f7df7508e423234fd1adec4f84e528\", \"target\": \"Khmer\"}\n",
      "{\"choices\": [\"French\", \"Norwegian\"], \"country\": \"AU\", \"date\": \"2013-09-01\", \"guess\": \"Norwegian\", \"sample\": \"4383d59a89ffd10b8e86d93233e01b5f\", \"target\": \"Norwegian\"}\n",
      "{\"choices\": [\"Burmese\", \"Lao\", \"Portuguese\"], \"country\": \"AU\", \"date\": \"2013-09-01\", \"guess\": \"Portuguese\", \"sample\": \"5fd851c9e87a6b9b9da9eb2ab0de6686\", \"target\": \"Portuguese\"}\n",
      "{\"choices\": [\"Dari\", \"Lao\", \"Sinhalese\"], \"country\": \"AU\", \"date\": \"2013-09-01\", \"guess\": \"Sinhalese\", \"sample\": \"650061b92e1bf9fc20bc9757f333ddbb\", \"target\": \"Sinhalese\"}\n",
      "{\"choices\": [\"Slovak\", \"Thai\", \"Tongan\"], \"country\": \"AU\", \"date\": \"2013-09-01\", \"guess\": \"Slovak\", \"sample\": \"78fbc62aeae4bc4188d2d6a64805d6df\", \"target\": \"Slovak\"}\n",
      "{\"choices\": [\"French\", \"Gujarati\", \"Khmer\", \"Yiddish\"], \"country\": \"AU\", \"date\": \"2013-09-01\", \"guess\": \"Yiddish\", \"sample\": \"07468dc58acd4228a618bcdafed773f9\", \"target\": \"Yiddish\"}\n",
      "{\"choices\": [\"Assyrian\", \"Croatian\", \"Tamil\", \"Yiddish\"], \"country\": \"AU\", \"date\": \"2013-09-01\", \"guess\": \"Assyrian\", \"sample\": \"a7d34c215264677c8385e90fa5363ec1\", \"target\": \"Assyrian\"}\n",
      "{\"choices\": [\"Farsi\", \"Greek\", \"Slovenian\", \"Tagalog\"], \"country\": \"AU\", \"date\": \"2013-09-01\", \"guess\": \"Tagalog\", \"sample\": \"34df5eca0db3967da23f8a210337c9d6\", \"target\": \"Tagalog\"}\n",
      "{\"choices\": [\"Japanese\", \"Romanian\", \"Slovenian\", \"Tamil\"], \"country\": \"AU\", \"date\": \"2013-09-01\", \"guess\": \"Japanese\", \"sample\": \"0b4ddbcac7e75c14f25fabeaff89a787\", \"target\": \"Romanian\"}\n",
      "{\"choices\": [\"Bangla\", \"Dutch\", \"Gujarati\", \"Samoan\", \"Turkish\"], \"country\": \"AU\", \"date\": \"2013-09-01\", \"guess\": \"Samoan\", \"sample\": \"ca0d5c366b1eeb2115054e6a8518f778\", \"target\": \"Bangla\"}\n",
      "{\"choices\": [\"Estonian\", \"Gujarati\", \"Kurdish\", \"Polish\", \"Slovenian\"], \"country\": \"AU\", \"date\": \"2013-09-01\", \"guess\": \"Polish\", \"sample\": \"b8e22e10dbc944d7aaa9c00414c70be8\", \"target\": \"Estonian\"}\n",
      "{\"choices\": [\"Dinka\", \"Italian\", \"Russian\", \"Tagalog\"], \"country\": \"AU\", \"date\": \"2013-09-01\", \"guess\": \"Tagalog\", \"sample\": \"88f3e5120091cffdf8abeb92b5da90a2\", \"target\": \"Italian\"}\n",
      "{\"choices\": [\"Cantonese\", \"Hungarian\", \"Khmer\", \"Polish\"], \"country\": \"AU\", \"date\": \"2013-09-01\", \"guess\": \"Cantonese\", \"sample\": \"cb1a1c1c93ab6e802560855ca5f015f7\", \"target\": \"Hungarian\"}\n",
      "{\"choices\": [\"Italian\", \"Mandarin\"], \"country\": \"NO\", \"date\": \"2013-09-01\", \"guess\": \"Italian\", \"sample\": \"b64869a674fbf588fa2ace46d717bed6\", \"target\": \"Italian\"}\n",
      "{\"choices\": [\"Finnish\", \"Vietnamese\"], \"country\": \"NO\", \"date\": \"2013-09-01\", \"guess\": \"Vietnamese\", \"sample\": \"8ea6892d1ddca321adc07b05176e3605\", \"target\": \"Vietnamese\"}\n",
      "{\"choices\": [\"Assyrian\", \"Cantonese\"], \"country\": \"NO\", \"date\": \"2013-09-01\", \"guess\": \"Cantonese\", \"sample\": \"78e21624c41e6efc3ac790735180615d\", \"target\": \"Cantonese\"}\n",
      "{\"choices\": [\"Arabic\", \"Lao\", \"Urdu\"], \"country\": \"NO\", \"date\": \"2013-09-01\", \"guess\": \"Arabic\", \"sample\": \"83c6ffcb085ce9c18c0e2aff00dda865\", \"target\": \"Arabic\"}\n",
      "{\"choices\": [\"Hebrew\", \"Norwegian\", \"Sinhalese\"], \"country\": \"NO\", \"date\": \"2013-09-01\", \"guess\": \"Norwegian\", \"sample\": \"208e1606aa365f3ed573adc7111f58e9\", \"target\": \"Norwegian\"}\n",
      "{\"choices\": [\"German\", \"Korean\", \"Russian\"], \"country\": \"NO\", \"date\": \"2013-09-01\", \"guess\": \"Russian\", \"sample\": \"b7df3f9d67cef259fbcaa5abcad9d774\", \"target\": \"Russian\"}\n",
      "{\"choices\": [\"Czech\", \"Estonian\", \"Greek\", \"Norwegian\"], \"country\": \"NO\", \"date\": \"2013-09-01\", \"guess\": \"Greek\", \"sample\": \"d6f08d099e6f753b96ede3d475d25106\", \"target\": \"Greek\"}\n",
      "{\"choices\": [\"Croatian\", \"Danish\", \"Latvian\", \"Polish\"], \"country\": \"NO\", \"date\": \"2013-09-01\", \"guess\": \"Danish\", \"sample\": \"2a7c43c1d50df8ab3d92f0bcacc637f9\", \"target\": \"Danish\"}\n",
      "{\"choices\": [\"French\", \"Polish\", \"Samoan\", \"Yiddish\"], \"country\": \"NO\", \"date\": \"2013-09-01\", \"guess\": \"Polish\", \"sample\": \"f1aac78bec424c4d6c716553719b0b70\", \"target\": \"Polish\"}\n",
      "{\"choices\": [\"Farsi\", \"Lao\", \"Macedonian\", \"Maori\", \"Turkish\"], \"country\": \"NO\", \"date\": \"2013-09-01\", \"guess\": \"Maori\", \"sample\": \"70154ea13cf1c633cfe62d44919a347c\", \"target\": \"Farsi\"}\n",
      "{\"choices\": [\"Dari\", \"Samoan\", \"Spanish\", \"Tongan\", \"Ukrainian\"], \"country\": \"NO\", \"date\": \"2013-09-01\", \"guess\": \"Dari\", \"sample\": \"f8c25418c2675fa8c3278aa7a21678f6\", \"target\": \"Dari\"}\n",
      "{\"choices\": [\"Dutch\", \"Fijian\", \"Italian\", \"Sinhalese\", \"Turkish\"], \"country\": \"NO\", \"date\": \"2013-09-01\", \"guess\": \"Italian\", \"sample\": \"b64869a674fbf588fa2ace46d717bed6\", \"target\": \"Italian\"}\n",
      "{\"choices\": [\"Armenian\", \"Dutch\", \"Romanian\", \"Ukrainian\", \"Vietnamese\"], \"country\": \"NO\", \"date\": \"2013-09-01\", \"guess\": \"Vietnamese\", \"sample\": \"8ea6892d1ddca321adc07b05176e3605\", \"target\": \"Vietnamese\"}\n",
      "{\"choices\": [\"German\", \"Gujarati\", \"Malay\", \"Samoan\", \"Swedish\", \"Tigrinya\"], \"country\": \"NO\", \"date\": \"2013-09-01\", \"guess\": \"Gujarati\", \"sample\": \"a1fcc86068b72ed9d9f1c0b291d7819d\", \"target\": \"Tigrinya\"}\n",
      "{\"choices\": [\"Albanian\", \"Bulgarian\", \"Cantonese\", \"Dinka\", \"Estonian\", \"Sinhalese\"], \"country\": \"NO\", \"date\": \"2013-09-01\", \"guess\": \"Albanian\", \"sample\": \"5af9790de5ecef3853d6d89f8e75916c\", \"target\": \"Estonian\"}\n",
      "{\"choices\": [\"Bosnian\", \"Indonesian\"], \"country\": \"ES\", \"date\": \"2013-09-01\", \"guess\": \"Indonesian\", \"sample\": \"ff8fcb796b7fdc540dd567c144024f82\", \"target\": \"Indonesian\"}\n",
      "{\"choices\": [\"Hungarian\", \"Norwegian\"], \"country\": \"ES\", \"date\": \"2013-09-01\", \"guess\": \"Hungarian\", \"sample\": \"4383d59a89ffd10b8e86d93233e01b5f\", \"target\": \"Norwegian\"}\n",
      "{\"choices\": [\"Macedonian\", \"Urdu\"], \"country\": \"ES\", \"date\": \"2013-09-01\", \"guess\": \"Macedonian\", \"sample\": \"3520fdcdf2658685928fc37e72ab2134\", \"target\": \"Urdu\"}\n",
      "{\"choices\": [\"French\", \"Somali\"], \"country\": \"ES\", \"date\": \"2013-09-01\", \"guess\": \"French\", \"sample\": \"a892b7fd27c34fc81b65c0bb93113846\", \"target\": \"French\"}\n",
      "{\"choices\": [\"Thai\", \"Tongan\"], \"country\": \"ES\", \"date\": \"2013-09-01\", \"guess\": \"Tongan\", \"sample\": \"f9119000c32bd3c091da19ba73b27aa8\", \"target\": \"Thai\"}\n",
      "{\"choices\": [\"Bosnian\", \"Urdu\"], \"country\": \"ES\", \"date\": \"2013-09-01\", \"guess\": \"Bosnian\", \"sample\": \"e36a808605adbe2dbdca9c76e5cbfe7c\", \"target\": \"Bosnian\"}\n",
      "{\"choices\": [\"Danish\", \"Hungarian\"], \"country\": \"ES\", \"date\": \"2013-09-01\", \"guess\": \"Hungarian\", \"sample\": \"5b731188b14839ba28c74399219e956c\", \"target\": \"Hungarian\"}\n",
      "{\"choices\": [\"Farsi\", \"Samoan\"], \"country\": \"ES\", \"date\": \"2013-09-01\", \"guess\": \"Farsi\", \"sample\": \"c73ee42a45debb00fbcc86eb29682757\", \"target\": \"Farsi\"}\n",
      "{\"choices\": [\"Russian\", \"Slovak\", \"Thai\"], \"country\": \"ES\", \"date\": \"2013-09-01\", \"guess\": \"Thai\", \"sample\": \"72432342c45733176c52b0e2f5a48eb6\", \"target\": \"Thai\"}\n",
      "{\"choices\": [\"Malayalam\", \"Thai\", \"Urdu\"], \"country\": \"ES\", \"date\": \"2013-09-01\", \"guess\": \"Malayalam\", \"sample\": \"73a09a8879e70e8648d7d75d656a5b79\", \"target\": \"Malayalam\"}\n",
      "{\"choices\": [\"French\", \"Slovak\", \"Ukrainian\"], \"country\": \"ES\", \"date\": \"2013-09-01\", \"guess\": \"French\", \"sample\": \"a892b7fd27c34fc81b65c0bb93113846\", \"target\": \"French\"}\n",
      "{\"choices\": [\"Arabic\", \"Fijian\", \"Kannada\", \"Portuguese\"], \"country\": \"ES\", \"date\": \"2013-09-01\", \"guess\": \"Fijian\", \"sample\": \"aaa12425808ac9d4ce184c453bfc0502\", \"target\": \"Fijian\"}\n",
      "{\"choices\": [\"Bulgarian\", \"Fijian\", \"Polish\", \"Slovak\"], \"country\": \"ES\", \"date\": \"2013-09-01\", \"guess\": \"Fijian\", \"sample\": \"aaa12425808ac9d4ce184c453bfc0502\", \"target\": \"Fijian\"}\n",
      "{\"choices\": [\"Bosnian\", \"French\", \"Lao\", \"Tamil\"], \"country\": \"ES\", \"date\": \"2013-09-01\", \"guess\": \"French\", \"sample\": \"a892b7fd27c34fc81b65c0bb93113846\", \"target\": \"French\"}\n",
      "{\"choices\": [\"Armenian\", \"Danish\", \"Gujarati\", \"Indonesian\", \"Russian\"], \"country\": \"ES\", \"date\": \"2013-09-01\", \"guess\": \"Gujarati\", \"sample\": \"fb8ba6d7512887c7aa85ce8efa34d94e\", \"target\": \"Gujarati\"}\n",
      "{\"choices\": [\"Amharic\", \"Dari\"], \"country\": \"CH\", \"date\": \"2013-09-01\", \"guess\": \"Amharic\", \"sample\": \"9b1340b8343bb267783e1bfb2dc55bf1\", \"target\": \"Amharic\"}\n",
      "{\"choices\": [\"Albanian\", \"Bangla\", \"Burmese\", \"Malay\", \"Turkish\"], \"country\": \"ES\", \"date\": \"2013-09-01\", \"guess\": \"Burmese\", \"sample\": \"fffe43269856111df6231c0a57812c90\", \"target\": \"Malay\"}\n",
      "{\"choices\": [\"Assyrian\", \"Bosnian\", \"Farsi\", \"Malayalam\", \"Slovak\"], \"country\": \"ES\", \"date\": \"2013-09-01\", \"guess\": \"Assyrian\", \"sample\": \"70154ea13cf1c633cfe62d44919a347c\", \"target\": \"Farsi\"}\n",
      "{\"choices\": [\"Burmese\", \"Korean\"], \"country\": \"CH\", \"date\": \"2013-09-01\", \"guess\": \"Korean\", \"sample\": \"0f8e6818d2be77b75712bc9ea4e87171\", \"target\": \"Korean\"}\n",
      "{\"choices\": [\"Cantonese\", \"Dutch\", \"Kurdish\", \"Maltese\", \"Tongan\"], \"country\": \"ES\", \"date\": \"2013-09-01\", \"guess\": \"Maltese\", \"sample\": \"f54dad4973f899ba8e9e26dcca58d625\", \"target\": \"Kurdish\"}\n",
      "{\"choices\": [\"Farsi\", \"Thai\"], \"country\": \"CH\", \"date\": \"2013-09-01\", \"guess\": \"Thai\", \"sample\": \"74b5340a230b1e0c1d45787bc4280b05\", \"target\": \"Thai\"}\n",
      "{\"choices\": [\"Finnish\", \"German\", \"Hungarian\"], \"country\": \"CH\", \"date\": \"2013-09-01\", \"guess\": \"Finnish\", \"sample\": \"cb1a1c1c93ab6e802560855ca5f015f7\", \"target\": \"Hungarian\"}\n",
      "{\"choices\": [\"Czech\", \"Japanese\", \"Russian\"], \"country\": \"CH\", \"date\": \"2013-09-01\", \"guess\": \"Russian\", \"sample\": \"b7df3f9d67cef259fbcaa5abcad9d774\", \"target\": \"Russian\"}\n",
      "{\"choices\": [\"Albanian\", \"Punjabi\", \"Swahili\"], \"country\": \"CH\", \"date\": \"2013-09-01\", \"guess\": \"Punjabi\", \"sample\": \"d720bf82f29b3f6d835a4f7dcb9c2dcb\", \"target\": \"Swahili\"}\n",
      "{\"choices\": [\"Croatian\", \"Danish\", \"Swedish\"], \"country\": \"CH\", \"date\": \"2013-09-01\", \"guess\": \"Swedish\", \"sample\": \"2ca0534b652c09262b71bced44b4afd7\", \"target\": \"Danish\"}\n",
      "{\"choices\": [\"Czech\", \"Indonesian\"], \"country\": \"US\", \"date\": \"2013-09-01\", \"guess\": \"Czech\", \"sample\": \"19a76f5f531b1fbade0ddb0893747a44\", \"target\": \"Czech\"}\n",
      "{\"choices\": [\"Japanese\", \"Turkish\"], \"country\": \"US\", \"date\": \"2013-09-01\", \"guess\": \"Japanese\", \"sample\": \"bae93d7864edf7c70ca869113e45433c\", \"target\": \"Japanese\"}\n",
      "{\"choices\": [\"Khmer\", \"Macedonian\"], \"country\": \"US\", \"date\": \"2013-09-01\", \"guess\": \"Macedonian\", \"sample\": \"8fbe60533f007a91ae8ff2563a1bd568\", \"target\": \"Macedonian\"}\n",
      "{\"choices\": [\"Bosnian\", \"Maltese\", \"Ukrainian\"], \"country\": \"US\", \"date\": \"2013-09-01\", \"guess\": \"Ukrainian\", \"sample\": \"6d86f6da48a5d151593317f64da0421f\", \"target\": \"Ukrainian\"}\n",
      "{\"choices\": [\"Thai\", \"Tongan\", \"Urdu\"], \"country\": \"US\", \"date\": \"2013-09-01\", \"guess\": \"Urdu\", \"sample\": \"3520fdcdf2658685928fc37e72ab2134\", \"target\": \"Urdu\"}\n",
      "{\"choices\": [\"Gujarati\", \"Hebrew\", \"Somali\"], \"country\": \"US\", \"date\": \"2013-09-01\", \"guess\": \"Hebrew\", \"sample\": \"830854fd9c28424c604eaef2e97e61b3\", \"target\": \"Hebrew\"}\n",
      "{\"choices\": [\"Dutch\", \"Serbian\", \"Slovenian\", \"Tagalog\"], \"country\": \"US\", \"date\": \"2013-09-01\", \"guess\": \"Tagalog\", \"sample\": \"0c951f12af48b7ead6a3549707695906\", \"target\": \"Tagalog\"}\n",
      "{\"choices\": [\"Amharic\", \"Maori\", \"Romanian\", \"Swahili\"], \"country\": \"US\", \"date\": \"2013-09-01\", \"guess\": \"Swahili\", \"sample\": \"ac1275769d8aaf8758f95409271f8a2f\", \"target\": \"Swahili\"}\n",
      "{\"choices\": [\"Bangla\", \"Japanese\", \"Maltese\", \"Mandarin\"], \"country\": \"US\", \"date\": \"2013-09-01\", \"guess\": \"Maltese\", \"sample\": \"589feca2e2009ad2e63458f17568cd13\", \"target\": \"Maltese\"}\n",
      "{\"choices\": [\"Amharic\", \"Burmese\", \"Greek\", \"Swedish\", \"Tigrinya\"], \"country\": \"US\", \"date\": \"2013-09-01\", \"guess\": \"Burmese\", \"sample\": \"878d3d845ccb0859aa05e80e1d35730f\", \"target\": \"Burmese\"}\n",
      "{\"choices\": [\"Danish\", \"Dari\", \"German\", \"Japanese\", \"Polish\"], \"country\": \"US\", \"date\": \"2013-09-01\", \"guess\": \"Japanese\", \"sample\": \"c69832b0076815cd7efef646abc78290\", \"target\": \"Japanese\"}\n",
      "{\"choices\": [\"Greek\", \"Kannada\", \"Malayalam\", \"Swedish\", \"Tigrinya\"], \"country\": \"US\", \"date\": \"2013-09-01\", \"guess\": \"Kannada\", \"sample\": \"3ec316c78773bb826dd924926f5c0d07\", \"target\": \"Tigrinya\"}\n",
      "{\"choices\": [\"Burmese\", \"French\", \"Hindi\", \"Japanese\", \"Korean\"], \"country\": \"US\", \"date\": \"2013-09-01\", \"guess\": \"French\", \"sample\": \"92f9e1c17e6df988780527341fdb471d\", \"target\": \"French\"}\n",
      "{\"choices\": [\"Albanian\", \"Croatian\", \"Farsi\", \"Maltese\", \"Slovenian\", \"Tamil\"], \"country\": \"US\", \"date\": \"2013-09-01\", \"guess\": \"Farsi\", \"sample\": \"36d2f4e9173e2d4cad8b8594310c856b\", \"target\": \"Maltese\"}\n",
      "{\"choices\": [\"Bulgarian\", \"Japanese\", \"Malayalam\", \"Samoan\", \"Ukrainian\", \"Urdu\"], \"country\": \"US\", \"date\": \"2013-09-01\", \"guess\": \"Ukrainian\", \"sample\": \"6d86f6da48a5d151593317f64da0421f\", \"target\": \"Ukrainian\"}\n",
      "{\"choices\": [\"German\", \"Hungarian\", \"Samoan\", \"Slovenian\", \"Swahili\", \"Tagalog\"], \"country\": \"US\", \"date\": \"2013-09-01\", \"guess\": \"Tagalog\", \"sample\": \"0c951f12af48b7ead6a3549707695906\", \"target\": \"Tagalog\"}\n",
      "{\"choices\": [\"Dutch\", \"German\", \"Maltese\", \"Spanish\", \"Tigrinya\", \"Urdu\"], \"country\": \"US\", \"date\": \"2013-09-01\", \"guess\": \"Tigrinya\", \"sample\": \"b01dde8ca2fcec5196a9b37d656d6e74\", \"target\": \"Urdu\"}\n",
      "{\"choices\": [\"Farsi\", \"Punjabi\"], \"country\": \"US\", \"date\": \"2013-09-01\", \"guess\": \"Punjabi\", \"sample\": \"10ff356faf50696b30f8a58b9dd919b2\", \"target\": \"Punjabi\"}\n",
      "{\"choices\": [\"Burmese\", \"Danish\"], \"country\": \"US\", \"date\": \"2013-09-01\", \"guess\": \"Danish\", \"sample\": \"878d3d845ccb0859aa05e80e1d35730f\", \"target\": \"Burmese\"}\n",
      "{\"choices\": [\"Kannada\", \"Tagalog\"], \"country\": \"US\", \"date\": \"2013-09-01\", \"guess\": \"Tagalog\", \"sample\": \"34df5eca0db3967da23f8a210337c9d6\", \"target\": \"Tagalog\"}\n",
      "{\"choices\": [\"Burmese\", \"Samoan\"], \"country\": \"US\", \"date\": \"2013-09-01\", \"guess\": \"Samoan\", \"sample\": \"509c36eb58dbce009ccf93f375358d53\", \"target\": \"Samoan\"}\n",
      "{\"choices\": [\"Gujarati\", \"Hungarian\", \"Tamil\"], \"country\": \"US\", \"date\": \"2013-09-01\", \"guess\": \"Tamil\", \"sample\": \"16d80eee6659268a90460422dd2a2896\", \"target\": \"Gujarati\"}\n",
      "{\"choices\": [\"Dutch\", \"Italian\", \"Tagalog\"], \"country\": \"US\", \"date\": \"2013-09-01\", \"guess\": \"Italian\", \"sample\": \"5ba910be0498e57bb2277c41ce4bfdad\", \"target\": \"Italian\"}\n",
      "{\"choices\": [\"Gujarati\", \"Portuguese\", \"Urdu\"], \"country\": \"US\", \"date\": \"2013-09-01\", \"guess\": \"Urdu\", \"sample\": \"87305c0ff33134149147d8d90d7f090b\", \"target\": \"Urdu\"}\n",
      "{\"choices\": [\"Assyrian\", \"Bulgarian\", \"Latvian\"], \"country\": \"US\", \"date\": \"2013-09-01\", \"guess\": \"Assyrian\", \"sample\": \"447bcafdbe5d7d69e0db72ab5bfa043a\", \"target\": \"Latvian\"}\n",
      "{\"choices\": [\"Macedonian\", \"Somali\"], \"country\": \"ES\", \"date\": \"2013-09-01\", \"guess\": \"Macedonian\", \"sample\": \"f852510abd74316fbde36d5d727a1059\", \"target\": \"Macedonian\"}\n",
      "{\"choices\": [\"Czech\", \"French\"], \"country\": \"ES\", \"date\": \"2013-09-01\", \"guess\": \"Czech\", \"sample\": \"56626a14b479e47d5eb9568161dad285\", \"target\": \"Czech\"}\n",
      "{\"choices\": [\"Burmese\", \"Japanese\"], \"country\": \"ES\", \"date\": \"2013-09-01\", \"guess\": \"Burmese\", \"sample\": \"31cba304794d1828c93d7b3c63aa840a\", \"target\": \"Burmese\"}\n",
      "{\"choices\": [\"Arabic\", \"Punjabi\", \"Swahili\"], \"country\": \"ES\", \"date\": \"2013-09-01\", \"guess\": \"Swahili\", \"sample\": \"1b959fe55794f6d4e1ea038bfe336759\", \"target\": \"Swahili\"}\n",
      "{\"choices\": [\"Cantonese\", \"Kannada\", \"Tamil\"], \"country\": \"ES\", \"date\": \"2013-09-01\", \"guess\": \"Tamil\", \"sample\": \"b4a52082284f9350116abbe439b35a1a\", \"target\": \"Kannada\"}\n",
      "{\"choices\": [\"Dari\", \"Malayalam\", \"Samoan\"], \"country\": \"ES\", \"date\": \"2013-09-01\", \"guess\": \"Malayalam\", \"sample\": \"1332d2299972d2e485cb070d2c4015e0\", \"target\": \"Malayalam\"}\n",
      "{\"choices\": [\"Bulgarian\", \"Romanian\", \"Serbian\"], \"country\": \"ES\", \"date\": \"2013-09-01\", \"guess\": \"Romanian\", \"sample\": \"903fc45cba5245f21deaaca3966f825b\", \"target\": \"Romanian\"}\n",
      "{\"choices\": [\"Hindi\", \"Portuguese\", \"Swahili\", \"Yiddish\"], \"country\": \"ES\", \"date\": \"2013-09-01\", \"guess\": \"Yiddish\", \"sample\": \"491ce6f2acb4a588a4e6ff3570d429a5\", \"target\": \"Yiddish\"}\n",
      "{\"choices\": [\"Estonian\", \"Kannada\", \"Lao\", \"Slovenian\"], \"country\": \"ES\", \"date\": \"2013-09-01\", \"guess\": \"Kannada\", \"sample\": \"5af9790de5ecef3853d6d89f8e75916c\", \"target\": \"Estonian\"}\n",
      "{\"choices\": [\"Bangla\", \"Dutch\", \"Punjabi\", \"Vietnamese\"], \"country\": \"ES\", \"date\": \"2013-09-01\", \"guess\": \"Dutch\", \"sample\": \"bf0f1eec2e9f147aba20ea9b3e9564bb\", \"target\": \"Dutch\"}\n",
      "{\"choices\": [\"Kurdish\", \"Lao\", \"Slovak\", \"Urdu\"], \"country\": \"ES\", \"date\": \"2013-09-01\", \"guess\": \"Urdu\", \"sample\": \"c53434fd97e7082e948590932f0f0bcd\", \"target\": \"Lao\"}\n",
      "{\"choices\": [\"German\", \"Hungarian\"], \"country\": \"GB\", \"date\": \"2013-09-01\", \"guess\": \"Hungarian\", \"sample\": \"5b731188b14839ba28c74399219e956c\", \"target\": \"Hungarian\"}\n",
      "{\"choices\": [\"Finnish\", \"Korean\"], \"country\": \"GB\", \"date\": \"2013-09-01\", \"guess\": \"Korean\", \"sample\": \"ec371adb75ab6c7431adae3ef8fc9fc9\", \"target\": \"Korean\"}\n",
      "{\"choices\": [\"German\", \"Swedish\"], \"country\": \"GB\", \"date\": \"2013-09-01\", \"guess\": \"Swedish\", \"sample\": \"6640b78667f0ab23077e4a0b51568f89\", \"target\": \"Swedish\"}\n",
      "{\"choices\": [\"Bangla\", \"Estonian\", \"Thai\"], \"country\": \"GB\", \"date\": \"2013-09-01\", \"guess\": \"Thai\", \"sample\": \"f9119000c32bd3c091da19ba73b27aa8\", \"target\": \"Thai\"}\n",
      "{\"choices\": [\"Fijian\", \"Gujarati\", \"Tamil\"], \"country\": \"GB\", \"date\": \"2013-09-01\", \"guess\": \"Tamil\", \"sample\": \"56ecf19cff578aa76b81edb580ff343f\", \"target\": \"Gujarati\"}\n",
      "{\"choices\": [\"Indonesian\", \"Portuguese\", \"Slovak\"], \"country\": \"GB\", \"date\": \"2013-09-01\", \"guess\": \"Slovak\", \"sample\": \"a8895626173aa388e5d1d5252563ab72\", \"target\": \"Slovak\"}\n",
      "{\"choices\": [\"Gujarati\", \"Indonesian\", \"Russian\"], \"country\": \"GB\", \"date\": \"2013-09-01\", \"guess\": \"Russian\", \"sample\": \"8a59d48e99e8a1df7e366c4648095e27\", \"target\": \"Russian\"}\n",
      "{\"choices\": [\"Amharic\", \"Cantonese\", \"Indonesian\", \"Portuguese\"], \"country\": \"GB\", \"date\": \"2013-09-01\", \"guess\": \"Portuguese\", \"sample\": \"1d7fea3522c8607f5ec4168b2a5cd206\", \"target\": \"Portuguese\"}\n",
      "{\"choices\": [\"Arabic\", \"French\", \"Sinhalese\", \"Ukrainian\"], \"country\": \"GB\", \"date\": \"2013-09-01\", \"guess\": \"Ukrainian\", \"sample\": \"6d86f6da48a5d151593317f64da0421f\", \"target\": \"Ukrainian\"}\n",
      "{\"choices\": [\"Amharic\", \"Bulgarian\", \"Finnish\", \"Swahili\"], \"country\": \"GB\", \"date\": \"2013-09-01\", \"guess\": \"Bulgarian\", \"sample\": \"d720bf82f29b3f6d835a4f7dcb9c2dcb\", \"target\": \"Swahili\"}\n",
      "{\"choices\": [\"Burmese\", \"Kurdish\"], \"country\": \"FR\", \"date\": \"2013-09-01\", \"guess\": \"Burmese\", \"sample\": \"9f849ff225f0d94a52c186924e225231\", \"target\": \"Kurdish\"}\n",
      "{\"choices\": [\"Norwegian\", \"Slovak\"], \"country\": \"FR\", \"date\": \"2013-09-01\", \"guess\": \"Slovak\", \"sample\": \"a8895626173aa388e5d1d5252563ab72\", \"target\": \"Slovak\"}\n",
      "{\"choices\": [\"Hebrew\", \"Latvian\"], \"country\": \"FR\", \"date\": \"2013-09-01\", \"guess\": \"Latvian\", \"sample\": \"5e609abac81edbf76a58bc1d2a850f12\", \"target\": \"Latvian\"}\n",
      "{\"choices\": [\"Arabic\", \"Cantonese\"], \"country\": \"FR\", \"date\": \"2013-09-01\", \"guess\": \"Arabic\", \"sample\": \"83c6ffcb085ce9c18c0e2aff00dda865\", \"target\": \"Arabic\"}\n",
      "{\"choices\": [\"Amharic\", \"Farsi\", \"Indonesian\"], \"country\": \"FR\", \"date\": \"2013-09-01\", \"guess\": \"Amharic\", \"sample\": \"d7a4029f42521d56af05c9f947a516c1\", \"target\": \"Farsi\"}\n",
      "{\"choices\": [\"Indonesian\", \"Samoan\", \"Urdu\"], \"country\": \"FR\", \"date\": \"2013-09-01\", \"guess\": \"Urdu\", \"sample\": \"b8d5d0e85e06b3abe3fe32b6f3f59e50\", \"target\": \"Indonesian\"}\n",
      "{\"choices\": [\"Czech\", \"Hungarian\", \"Spanish\"], \"country\": \"FR\", \"date\": \"2013-09-01\", \"guess\": \"Hungarian\", \"sample\": \"19a76f5f531b1fbade0ddb0893747a44\", \"target\": \"Czech\"}\n",
      "{\"choices\": [\"Albanian\", \"Samoan\"], \"country\": \"FR\", \"date\": \"2013-09-01\", \"guess\": \"Albanian\", \"sample\": \"13722ceed1eede7ba597ade9b4cb9807\", \"target\": \"Albanian\"}\n",
      "{\"choices\": [\"Italian\", \"Maltese\"], \"country\": \"FR\", \"date\": \"2013-09-01\", \"guess\": \"Italian\", \"sample\": \"b64869a674fbf588fa2ace46d717bed6\", \"target\": \"Italian\"}\n",
      "{\"choices\": [\"Arabic\", \"Korean\"], \"country\": \"FR\", \"date\": \"2013-09-01\", \"guess\": \"Arabic\", \"sample\": \"83c6ffcb085ce9c18c0e2aff00dda865\", \"target\": \"Arabic\"}\n",
      "{\"choices\": [\"Bangla\", \"Dinka\", \"French\"], \"country\": \"FR\", \"date\": \"2013-09-01\", \"guess\": \"Bangla\", \"sample\": \"192e7c59bb734ee762a323219846295b\", \"target\": \"Dinka\"}\n",
      "{\"choices\": [\"Japanese\", \"Somali\", \"Turkish\"], \"country\": \"FR\", \"date\": \"2013-09-01\", \"guess\": \"Japanese\", \"sample\": \"3569611136ea04bab18a0cd605ced358\", \"target\": \"Japanese\"}\n",
      "{\"choices\": [\"Assyrian\", \"Czech\", \"Dinka\"], \"country\": \"FR\", \"date\": \"2013-09-01\", \"guess\": \"Assyrian\", \"sample\": \"a7d34c215264677c8385e90fa5363ec1\", \"target\": \"Assyrian\"}\n",
      "{\"choices\": [\"Hebrew\", \"Macedonian\", \"Slovenian\"], \"country\": \"FR\", \"date\": \"2013-09-01\", \"guess\": \"Slovenian\", \"sample\": \"f852510abd74316fbde36d5d727a1059\", \"target\": \"Macedonian\"}\n",
      "{\"choices\": [\"German\", \"Maori\", \"Punjabi\"], \"country\": \"FR\", \"date\": \"2013-09-01\", \"guess\": \"Punjabi\", \"sample\": \"d14f8f8b6933e7d9d68104ec7860db77\", \"target\": \"Punjabi\"}\n",
      "{\"choices\": [\"Hindi\", \"Kannada\", \"Swedish\", \"Tagalog\"], \"country\": \"FR\", \"date\": \"2013-09-01\", \"guess\": \"Hindi\", \"sample\": \"34df5eca0db3967da23f8a210337c9d6\", \"target\": \"Tagalog\"}\n",
      "{\"choices\": [\"Italian\", \"Khmer\"], \"country\": \"US\", \"date\": \"2013-09-01\", \"guess\": \"Italian\", \"sample\": \"5ba910be0498e57bb2277c41ce4bfdad\", \"target\": \"Italian\"}\n",
      "{\"choices\": [\"Italian\", \"Vietnamese\"], \"country\": \"US\", \"date\": \"2013-09-01\", \"guess\": \"Vietnamese\", \"sample\": \"8ea6892d1ddca321adc07b05176e3605\", \"target\": \"Vietnamese\"}\n",
      "{\"choices\": [\"Dinka\", \"Ukrainian\"], \"country\": \"US\", \"date\": \"2013-09-01\", \"guess\": \"Ukrainian\", \"sample\": \"376eba5874889d82dd552e3a9128c6e7\", \"target\": \"Ukrainian\"}\n",
      "{\"choices\": [\"Burmese\", \"Farsi\", \"Tagalog\"], \"country\": \"US\", \"date\": \"2013-09-01\", \"guess\": \"Burmese\", \"sample\": \"878d3d845ccb0859aa05e80e1d35730f\", \"target\": \"Burmese\"}\n",
      "{\"choices\": [\"Assyrian\", \"Portuguese\", \"Samoan\"], \"country\": \"US\", \"date\": \"2013-09-01\", \"guess\": \"Assyrian\", \"sample\": \"a7d34c215264677c8385e90fa5363ec1\", \"target\": \"Assyrian\"}\n",
      "{\"choices\": [\"Mandarin\", \"Polish\", \"Swahili\"], \"country\": \"US\", \"date\": \"2013-09-01\", \"guess\": \"Polish\", \"sample\": \"f1aac78bec424c4d6c716553719b0b70\", \"target\": \"Polish\"}\n",
      "{\"choices\": [\"Bangla\", \"Greek\", \"Khmer\", \"Urdu\"], \"country\": \"US\", \"date\": \"2013-09-01\", \"guess\": \"Khmer\", \"sample\": \"ca0d5c366b1eeb2115054e6a8518f778\", \"target\": \"Bangla\"}\n",
      "{\"choices\": [\"Estonian\", \"Greek\", \"Maltese\", \"Tigrinya\"], \"country\": \"US\", \"date\": \"2013-09-01\", \"guess\": \"Maltese\", \"sample\": \"a1fcc86068b72ed9d9f1c0b291d7819d\", \"target\": \"Tigrinya\"}\n",
      "{\"choices\": [\"Cantonese\", \"Russian\", \"Swedish\", \"Tamil\"], \"country\": \"US\", \"date\": \"2013-09-01\", \"guess\": \"Cantonese\", \"sample\": \"20bc74e71f509da4c2e15c42e3aab948\", \"target\": \"Cantonese\"}\n",
      "{\"choices\": [\"Khmer\", \"Kurdish\", \"Mandarin\", \"Slovenian\"], \"country\": \"US\", \"date\": \"2013-09-01\", \"guess\": \"Mandarin\", \"sample\": \"01f51995ae86ff85e899d40768ab81a8\", \"target\": \"Mandarin\"}\n",
      "{\"choices\": [\"Albanian\", \"Burmese\", \"Estonian\", \"Korean\"], \"country\": \"US\", \"date\": \"2013-09-01\", \"guess\": \"Korean\", \"sample\": \"871c938ad3b1243f42eec04057930d7e\", \"target\": \"Korean\"}\n",
      "{\"choices\": [\"Danish\", \"Hindi\", \"Indonesian\", \"Macedonian\", \"Maltese\"], \"country\": \"US\", \"date\": \"2013-09-01\", \"guess\": \"Indonesian\", \"sample\": \"96c0ad21acaedd52f652903794afb6f4\", \"target\": \"Indonesian\"}\n",
      "{\"choices\": [\"Bulgarian\", \"French\", \"Italian\", \"Tagalog\", \"Turkish\"], \"country\": \"US\", \"date\": \"2013-09-01\", \"guess\": \"Italian\", \"sample\": \"b64869a674fbf588fa2ace46d717bed6\", \"target\": \"Italian\"}\n",
      "{\"choices\": [\"Dari\", \"Italian\", \"Serbian\", \"Tamil\", \"Thai\"], \"country\": \"US\", \"date\": \"2013-09-01\", \"guess\": \"Italian\", \"sample\": \"b64869a674fbf588fa2ace46d717bed6\", \"target\": \"Italian\"}\n",
      "{\"choices\": [\"Czech\", \"Slovenian\", \"Somali\", \"Swahili\", \"Tigrinya\", \"Tongan\"], \"country\": \"US\", \"date\": \"2013-09-01\", \"guess\": \"Tongan\", \"sample\": \"5a16cc76dc960f980d030d7b3e9f052b\", \"target\": \"Tongan\"}\n",
      "{\"choices\": [\"Armenian\", \"Danish\", \"Maori\", \"Romanian\", \"Russian\", \"Swedish\"], \"country\": \"US\", \"date\": \"2013-09-01\", \"guess\": \"Swedish\", \"sample\": \"bd17f93a45c823198b790b7ba99975dd\", \"target\": \"Swedish\"}\n",
      "{\"choices\": [\"Bangla\", \"German\", \"Italian\", \"Portuguese\", \"Swedish\", \"Ukrainian\"], \"country\": \"US\", \"date\": \"2013-09-01\", \"guess\": \"Bangla\", \"sample\": \"ca0d5c366b1eeb2115054e6a8518f778\", \"target\": \"Bangla\"}\n",
      "{\"choices\": [\"Albanian\", \"Danish\"], \"country\": \"IL\", \"date\": \"2013-09-01\", \"guess\": \"Danish\", \"sample\": \"13722ceed1eede7ba597ade9b4cb9807\", \"target\": \"Albanian\"}\n",
      "{\"choices\": [\"Amharic\", \"Croatian\", \"Danish\", \"German\", \"Indonesian\", \"Russian\", \"Slovak\"], \"country\": \"US\", \"date\": \"2013-09-01\", \"guess\": \"Russian\", \"sample\": \"8a59d48e99e8a1df7e366c4648095e27\", \"target\": \"Russian\"}\n",
      "{\"choices\": [\"Farsi\", \"Samoan\", \"Serbian\", \"Spanish\", \"Tongan\", \"Turkish\", \"Yiddish\"], \"country\": \"US\", \"date\": \"2013-09-01\", \"guess\": \"Tongan\", \"sample\": \"752c4c30d475748a342c68ebfba24d1e\", \"target\": \"Turkish\"}\n",
      "{\"choices\": [\"Norwegian\", \"Tagalog\"], \"country\": \"IL\", \"date\": \"2013-09-01\", \"guess\": \"Norwegian\", \"sample\": \"4383d59a89ffd10b8e86d93233e01b5f\", \"target\": \"Norwegian\"}\n",
      "{\"choices\": [\"Japanese\", \"Mandarin\"], \"country\": \"IL\", \"date\": \"2013-09-01\", \"guess\": \"Mandarin\", \"sample\": \"fc3712715ddc748286256eb7a64f25ab\", \"target\": \"Mandarin\"}\n",
      "{\"choices\": [\"Burmese\", \"Spanish\"], \"country\": \"IL\", \"date\": \"2013-09-01\", \"guess\": \"Spanish\", \"sample\": \"d8d9dfa02ff280d107d54fd8f19ab5bb\", \"target\": \"Spanish\"}\n",
      "{\"choices\": [\"Estonian\", \"Khmer\", \"Macedonian\"], \"country\": \"IL\", \"date\": \"2013-09-01\", \"guess\": \"Khmer\", \"sample\": \"5af9790de5ecef3853d6d89f8e75916c\", \"target\": \"Estonian\"}\n",
      "{\"choices\": [\"French\", \"Hindi\", \"Punjabi\"], \"country\": \"IL\", \"date\": \"2013-09-01\", \"guess\": \"Hindi\", \"sample\": \"10ff356faf50696b30f8a58b9dd919b2\", \"target\": \"Punjabi\"}\n",
      "{\"choices\": [\"Malay\", \"Samoan\"], \"country\": \"IL\", \"date\": \"2013-09-01\", \"guess\": \"Samoan\", \"sample\": \"6650448a5456ba88ea0971f2265f2bc7\", \"target\": \"Malay\"}\n",
      "{\"choices\": [\"Kannada\", \"Serbian\"], \"country\": \"IL\", \"date\": \"2013-09-01\", \"guess\": \"Serbian\", \"sample\": \"ac81d9c1d39252811bf5d9fcfddc2231\", \"target\": \"Serbian\"}\n",
      "{\"choices\": [\"Hungarian\", \"Khmer\"], \"country\": \"IL\", \"date\": \"2013-09-01\", \"guess\": \"Hungarian\", \"sample\": \"5b731188b14839ba28c74399219e956c\", \"target\": \"Hungarian\"}\n",
      "{\"choices\": [\"Italian\", \"Yiddish\"], \"country\": \"IL\", \"date\": \"2013-09-01\", \"guess\": \"Yiddish\", \"sample\": \"e11f43a0851aeb6e693187acb1011d51\", \"target\": \"Yiddish\"}\n",
      "{\"choices\": [\"Burmese\", \"Italian\", \"Tigrinya\"], \"country\": \"IL\", \"date\": \"2013-09-01\", \"guess\": \"Tigrinya\", \"sample\": \"3ec316c78773bb826dd924926f5c0d07\", \"target\": \"Tigrinya\"}\n",
      "{\"choices\": [\"Amharic\", \"Latvian\", \"Tamil\"], \"country\": \"IL\", \"date\": \"2013-09-01\", \"guess\": \"Latvian\", \"sample\": \"5aea2b93784263ae4b5a2524ddebebb2\", \"target\": \"Latvian\"}\n",
      "{\"choices\": [\"Burmese\", \"Croatian\", \"Urdu\"], \"country\": \"IL\", \"date\": \"2013-09-01\", \"guess\": \"Croatian\", \"sample\": \"30839a9f51bf6fb209b527cc42a35899\", \"target\": \"Burmese\"}\n",
      "{\"choices\": [\"Hindi\", \"Portuguese\", \"Ukrainian\"], \"country\": \"IL\", \"date\": \"2013-09-01\", \"guess\": \"Ukrainian\", \"sample\": \"6d86f6da48a5d151593317f64da0421f\", \"target\": \"Ukrainian\"}\n",
      "{\"choices\": [\"Latvian\", \"Punjabi\", \"Somali\", \"Yiddish\"], \"country\": \"IL\", \"date\": \"2013-09-01\", \"guess\": \"Yiddish\", \"sample\": \"0c02a4ff41d9cd2ac7354357b193e2d1\", \"target\": \"Yiddish\"}\n"
     ]
    }
   ],
   "source": [
    "%%jsoniq\n",
    "for $i in json-file(\"confusion-100000.json\", 10)\n",
    "where $i.date eq \"2013-09-01\"\n",
    "return $i"
   ]
  },
  {
   "cell_type": "markdown",
   "metadata": {
    "id": "krkZtmzIFVdZ"
   },
   "source": [
    "# 5. More nestedness\n",
    "## 5.1 Create Nestedness\n",
    "You may remember in the exercise of Spark Dataframes & Spark SQL, we mentioned two methods <font face=\"courier\">collect_set/collect_list</font> for creating arrays. In JSONiq, this kind of things become even simpler because JSONiq natively supports JSON, so we can directly create arrays via adding square brackets (<font face=\"courier\">[]</font>) and even without any group by operations. \n",
    "\n",
    "For example, if we want to know the list of date at which \"Fijian\" was used as the target, we can write a simple JSONiq query:"
   ]
  },
  {
   "cell_type": "code",
   "execution_count": 63,
   "metadata": {
    "id": "xiRw7YmmspKH"
   },
   "outputs": [
    {
     "name": "stdout",
     "output_type": "stream",
     "text": [
      "Took: 0.725506067276001 ms\n",
      "[\"2013-08-19\", \"2013-08-19\", \"2013-08-19\", \"2013-08-20\", \"2013-08-20\", \"2013-08-20\", \"2013-08-20\", \"2013-08-20\", \"2013-08-20\"]\n"
     ]
    }
   ],
   "source": [
    "%%jsoniq\n",
    "let $dateSeq := for $i in json-file(\"confusion-100000.json\", 10)\n",
    "    where $i.target eq \"Fijian\"\n",
    "    return $i.date\n",
    "return [subsequence($dateSeq, 0, 10)]"
   ]
  },
  {
   "cell_type": "markdown",
   "metadata": {
    "id": "osB2WIpFtiQY"
   },
   "source": [
    "The above query is basically a counterpart of a Spark Dataframe query with <font face=\"courier\">collect_list</font>. If we want to imitate the behavior of <font face=\"courier\">collect_set</font>, which means we want the result array to be de-duplicated, we can just resort to <font face=\"courier\">distinct-values</font>:"
   ]
  },
  {
   "cell_type": "code",
   "execution_count": 64,
   "metadata": {
    "id": "Vkan5XiAvK24"
   },
   "outputs": [
    {
     "name": "stdout",
     "output_type": "stream",
     "text": [
      "Took: 0.31827712059020996 ms\n",
      "[\"2013-08-24\", \"2013-08-25\", \"2013-08-26\", \"2013-08-19\", \"2013-08-29\", \"2013-09-01\", \"2013-08-20\", \"2013-08-21\", \"2013-09-02\", \"2013-09-03\", \"2013-08-22\", \"2013-08-23\"]\n"
     ]
    }
   ],
   "source": [
    "%%jsoniq\n",
    "let $dateSeq := for $i in json-file(\"confusion-100000.json\", 10)\n",
    "where $i.target eq \"Fijian\"\n",
    "return $i.date\n",
    "return [distinct-values($dateSeq)]"
   ]
  },
  {
   "cell_type": "markdown",
   "metadata": {
    "id": "5Qc0PoMEvckO"
   },
   "source": [
    "Now what if we want to know for each different language, the de-duplicated list of date at which it was used as a target? We may need group by again. Try to come up with the query on your own. What might be the difference in the query with and without group by?\n",
    "\n",
    "**Note:** Do not hesitate to only use the small provided dataset because the query on the original dataset might take very long and consume a humongous amount of memory. The most important thing is not about the answer, but to come up with proper queries."
   ]
  },
  {
   "cell_type": "code",
   "execution_count": 65,
   "metadata": {
    "id": "2k2OOOFjwLah"
   },
   "outputs": [
    {
     "name": "stdout",
     "output_type": "stream",
     "text": [
      "Took: 1.1370460987091064 ms\n",
      "{\"language\": \"Cantonese\", \"dates\": [\"2013-08-19\", \"2013-08-20\", \"2013-08-21\", \"2013-08-23\", \"2013-08-26\", \"2013-08-29\", \"2013-08-31\", \"2013-09-01\", \"2013-09-02\", \"2013-09-03\"]}\n",
      "{\"language\": \"Sinhalese\", \"dates\": [\"2013-08-19\", \"2013-08-20\", \"2013-08-21\", \"2013-08-22\", \"2013-08-23\", \"2013-08-26\", \"2013-08-28\", \"2013-09-01\", \"2013-09-02\", \"2013-09-03\"]}\n",
      "{\"language\": \"Portuguese\", \"dates\": [\"2013-08-19\", \"2013-08-20\", \"2013-08-21\", \"2013-08-23\", \"2013-08-25\", \"2013-08-26\", \"2013-08-29\", \"2013-09-01\", \"2013-09-02\", \"2013-09-03\"]}\n",
      "{\"language\": \"Swedish\", \"dates\": [\"2013-08-19\", \"2013-08-20\", \"2013-08-21\", \"2013-08-22\", \"2013-08-23\", \"2013-08-25\", \"2013-08-26\", \"2013-08-29\", \"2013-09-01\", \"2013-09-02\", \"2013-09-03\"]}\n",
      "{\"language\": \"Tagalog\", \"dates\": [\"2013-08-19\", \"2013-08-20\", \"2013-08-21\", \"2013-08-22\", \"2013-08-23\", \"2013-08-24\", \"2013-08-25\", \"2013-08-26\", \"2013-08-28\", \"2013-08-29\", \"2013-09-01\", \"2013-09-02\", \"2013-09-03\"]}\n",
      "{\"language\": \"Slovak\", \"dates\": [\"2013-08-19\", \"2013-08-20\", \"2013-08-21\", \"2013-08-22\", \"2013-08-23\", \"2013-08-24\", \"2013-08-26\", \"2013-08-29\", \"2013-08-31\", \"2013-09-01\", \"2013-09-02\", \"2013-09-03\"]}\n",
      "{\"language\": \"Romanian\", \"dates\": [\"2013-08-19\", \"2013-08-20\", \"2013-08-21\", \"2013-08-22\", \"2013-08-23\", \"2013-08-24\", \"2013-08-26\", \"2013-08-29\", \"2013-08-31\", \"2013-09-01\", \"2013-09-02\", \"2013-09-03\"]}\n",
      "{\"language\": \"Ukrainian\", \"dates\": [\"2013-08-19\", \"2013-08-20\", \"2013-08-21\", \"2013-08-22\", \"2013-08-23\", \"2013-08-24\", \"2013-08-26\", \"2013-08-28\", \"2013-08-29\", \"2013-08-31\", \"2013-09-01\", \"2013-09-02\", \"2013-09-03\"]}\n",
      "{\"language\": \"Urdu\", \"dates\": [\"2013-08-19\", \"2013-08-20\", \"2013-08-21\", \"2013-08-22\", \"2013-08-23\", \"2013-08-24\", \"2013-08-26\", \"2013-08-28\", \"2013-08-29\", \"2013-09-01\", \"2013-09-02\", \"2013-09-03\"]}\n",
      "{\"language\": \"Fijian\", \"dates\": [\"2013-08-19\", \"2013-08-20\", \"2013-08-21\", \"2013-08-22\", \"2013-08-23\", \"2013-08-24\", \"2013-08-25\", \"2013-08-26\", \"2013-08-29\", \"2013-09-01\", \"2013-09-02\", \"2013-09-03\"]}\n",
      "{\"language\": \"Yiddish\", \"dates\": [\"2013-08-19\", \"2013-08-20\", \"2013-08-21\", \"2013-08-22\", \"2013-08-23\", \"2013-08-26\", \"2013-08-29\", \"2013-09-01\", \"2013-09-02\", \"2013-09-03\"]}\n",
      "{\"language\": \"Assyrian\", \"dates\": [\"2013-08-19\", \"2013-08-20\", \"2013-08-21\", \"2013-08-22\", \"2013-08-23\", \"2013-08-26\", \"2013-08-28\", \"2013-08-31\", \"2013-09-01\", \"2013-09-02\", \"2013-09-03\"]}\n",
      "{\"language\": \"Malay\", \"dates\": [\"2013-08-19\", \"2013-08-20\", \"2013-08-22\", \"2013-08-23\", \"2013-08-24\", \"2013-08-26\", \"2013-08-28\", \"2013-08-29\", \"2013-08-31\", \"2013-09-01\", \"2013-09-02\", \"2013-09-03\"]}\n",
      "{\"language\": \"Somali\", \"dates\": [\"2013-08-19\", \"2013-08-20\", \"2013-08-21\", \"2013-08-22\", \"2013-08-23\", \"2013-08-24\", \"2013-08-26\", \"2013-09-01\", \"2013-09-02\", \"2013-09-03\"]}\n",
      "{\"language\": \"Mandarin\", \"dates\": [\"2013-08-19\", \"2013-08-20\", \"2013-08-21\", \"2013-08-22\", \"2013-08-23\", \"2013-08-24\", \"2013-08-26\", \"2013-08-31\", \"2013-09-01\", \"2013-09-02\", \"2013-09-03\"]}\n",
      "{\"language\": \"Hungarian\", \"dates\": [\"2013-08-20\", \"2013-08-21\", \"2013-08-23\", \"2013-08-24\", \"2013-08-26\", \"2013-08-28\", \"2013-09-01\", \"2013-09-02\", \"2013-09-03\"]}\n",
      "{\"language\": \"Indonesian\", \"dates\": [\"2013-08-19\", \"2013-08-20\", \"2013-08-21\", \"2013-08-23\", \"2013-08-26\", \"2013-08-29\", \"2013-09-01\", \"2013-09-02\", \"2013-09-03\"]}\n",
      "{\"language\": \"Czech\", \"dates\": [\"2013-08-19\", \"2013-08-20\", \"2013-08-21\", \"2013-08-22\", \"2013-08-23\", \"2013-08-24\", \"2013-08-26\", \"2013-08-29\", \"2013-08-31\", \"2013-09-01\", \"2013-09-02\", \"2013-09-03\"]}\n",
      "{\"language\": \"Macedonian\", \"dates\": [\"2013-08-19\", \"2013-08-20\", \"2013-08-21\", \"2013-08-22\", \"2013-08-23\", \"2013-08-24\", \"2013-08-25\", \"2013-08-26\", \"2013-08-29\", \"2013-09-01\", \"2013-09-02\", \"2013-09-03\"]}\n",
      "{\"language\": \"Samoan\", \"dates\": [\"2013-08-19\", \"2013-08-20\", \"2013-08-21\", \"2013-08-22\", \"2013-08-23\", \"2013-08-25\", \"2013-08-26\", \"2013-08-29\", \"2013-09-01\", \"2013-09-02\", \"2013-09-03\"]}\n",
      "{\"language\": \"Estonian\", \"dates\": [\"2013-08-19\", \"2013-08-20\", \"2013-08-22\", \"2013-08-23\", \"2013-08-24\", \"2013-08-26\", \"2013-08-28\", \"2013-09-01\", \"2013-09-02\", \"2013-09-03\"]}\n",
      "{\"language\": \"German\", \"dates\": [\"2013-08-19\", \"2013-08-20\", \"2013-08-21\", \"2013-08-23\", \"2013-08-24\", \"2013-08-25\", \"2013-08-26\", \"2013-09-01\", \"2013-09-02\", \"2013-09-03\"]}\n",
      "{\"language\": \"Greek\", \"dates\": [\"2013-08-19\", \"2013-08-20\", \"2013-08-24\", \"2013-08-25\", \"2013-08-26\", \"2013-08-29\", \"2013-09-01\", \"2013-09-02\", \"2013-09-03\"]}\n",
      "{\"language\": \"Nepali\", \"dates\": [\"2013-08-19\", \"2013-08-20\", \"2013-08-21\", \"2013-08-22\", \"2013-08-23\", \"2013-08-24\", \"2013-08-26\", \"2013-08-27\", \"2013-08-29\", \"2013-09-01\", \"2013-09-02\", \"2013-09-03\"]}\n",
      "{\"language\": \"Slovenian\", \"dates\": [\"2013-08-19\", \"2013-08-20\", \"2013-08-21\", \"2013-08-22\", \"2013-08-23\", \"2013-08-24\", \"2013-08-26\", \"2013-08-28\", \"2013-08-29\", \"2013-09-02\", \"2013-09-03\"]}\n",
      "{\"language\": \"Kurdish\", \"dates\": [\"2013-08-19\", \"2013-08-20\", \"2013-08-21\", \"2013-08-22\", \"2013-08-23\", \"2013-08-24\", \"2013-08-25\", \"2013-08-26\", \"2013-08-28\", \"2013-08-29\", \"2013-08-31\", \"2013-09-01\", \"2013-09-02\", \"2013-09-03\"]}\n",
      "{\"language\": \"Serbian\", \"dates\": [\"2013-08-19\", \"2013-08-20\", \"2013-08-21\", \"2013-08-22\", \"2013-08-23\", \"2013-08-24\", \"2013-08-26\", \"2013-08-29\", \"2013-08-31\", \"2013-09-01\", \"2013-09-02\", \"2013-09-03\"]}\n",
      "{\"language\": \"Latvian\", \"dates\": [\"2013-08-19\", \"2013-08-20\", \"2013-08-21\", \"2013-08-22\", \"2013-08-23\", \"2013-08-24\", \"2013-08-25\", \"2013-08-26\", \"2013-08-28\", \"2013-08-29\", \"2013-08-31\", \"2013-09-01\", \"2013-09-02\", \"2013-09-03\"]}\n",
      "{\"language\": \"Spanish\", \"dates\": [\"2013-08-19\", \"2013-08-20\", \"2013-08-21\", \"2013-08-23\", \"2013-08-24\", \"2013-08-26\", \"2013-08-28\", \"2013-08-29\", \"2013-08-31\", \"2013-09-01\", \"2013-09-02\", \"2013-09-03\"]}\n",
      "{\"language\": \"Armenian\", \"dates\": [\"2013-08-19\", \"2013-08-20\", \"2013-08-23\", \"2013-08-24\", \"2013-08-26\", \"2013-08-29\", \"2013-09-01\", \"2013-09-02\", \"2013-09-03\"]}\n",
      "{\"language\": \"Finnish\", \"dates\": [\"2013-08-19\", \"2013-08-20\", \"2013-08-21\", \"2013-08-22\", \"2013-08-23\", \"2013-08-24\", \"2013-08-25\", \"2013-08-26\", \"2013-08-28\", \"2013-08-31\", \"2013-09-01\", \"2013-09-02\", \"2013-09-03\"]}\n",
      "{\"language\": \"Kannada\", \"dates\": [\"2013-08-19\", \"2013-08-20\", \"2013-08-21\", \"2013-08-22\", \"2013-08-23\", \"2013-08-24\", \"2013-08-26\", \"2013-08-29\", \"2013-09-01\", \"2013-09-02\", \"2013-09-03\"]}\n",
      "{\"language\": \"Swahili\", \"dates\": [\"2013-08-19\", \"2013-08-20\", \"2013-08-21\", \"2013-08-22\", \"2013-08-23\", \"2013-08-24\", \"2013-08-25\", \"2013-08-26\", \"2013-08-28\", \"2013-08-29\", \"2013-08-31\", \"2013-09-01\", \"2013-09-02\", \"2013-09-03\"]}\n",
      "{\"language\": \"Dari\", \"dates\": [\"2013-08-19\", \"2013-08-20\", \"2013-08-21\", \"2013-08-22\", \"2013-08-23\", \"2013-08-24\", \"2013-08-26\", \"2013-08-28\", \"2013-08-29\", \"2013-09-01\", \"2013-09-02\", \"2013-09-03\"]}\n",
      "{\"language\": \"Lao\", \"dates\": [\"2013-08-19\", \"2013-08-20\", \"2013-08-21\", \"2013-08-22\", \"2013-08-23\", \"2013-08-25\", \"2013-08-26\", \"2013-08-29\", \"2013-08-31\", \"2013-09-01\", \"2013-09-02\", \"2013-09-03\"]}\n",
      "{\"language\": \"Albanian\", \"dates\": [\"2013-08-19\", \"2013-08-20\", \"2013-08-22\", \"2013-08-23\", \"2013-08-24\", \"2013-08-25\", \"2013-08-26\", \"2013-09-01\", \"2013-09-02\", \"2013-09-03\"]}\n",
      "{\"language\": \"Dutch\", \"dates\": [\"2013-08-19\", \"2013-08-20\", \"2013-08-21\", \"2013-08-22\", \"2013-08-23\", \"2013-08-24\", \"2013-08-25\", \"2013-08-26\", \"2013-08-29\", \"2013-08-31\", \"2013-09-01\", \"2013-09-02\", \"2013-09-03\"]}\n",
      "{\"language\": \"Maltese\", \"dates\": [\"2013-08-19\", \"2013-08-20\", \"2013-08-21\", \"2013-08-22\", \"2013-08-23\", \"2013-08-24\", \"2013-08-25\", \"2013-08-26\", \"2013-08-27\", \"2013-09-01\", \"2013-09-02\", \"2013-09-03\"]}\n",
      "{\"language\": \"Bulgarian\", \"dates\": [\"2013-08-19\", \"2013-08-20\", \"2013-08-21\", \"2013-08-22\", \"2013-08-23\", \"2013-08-24\", \"2013-08-26\", \"2013-08-31\", \"2013-09-02\", \"2013-09-03\"]}\n",
      "{\"language\": \"Hindi\", \"dates\": [\"2013-08-19\", \"2013-08-20\", \"2013-08-21\", \"2013-08-23\", \"2013-08-24\", \"2013-08-25\", \"2013-08-26\", \"2013-08-29\", \"2013-08-31\", \"2013-09-02\", \"2013-09-03\"]}\n",
      "{\"language\": \"Dinka\", \"dates\": [\"2013-08-19\", \"2013-08-20\", \"2013-08-21\", \"2013-08-22\", \"2013-08-23\", \"2013-08-26\", \"2013-08-28\", \"2013-08-29\", \"2013-09-01\", \"2013-09-02\", \"2013-09-03\"]}\n",
      "{\"language\": \"Korean\", \"dates\": [\"2013-08-19\", \"2013-08-20\", \"2013-08-22\", \"2013-08-23\", \"2013-08-24\", \"2013-08-25\", \"2013-08-26\", \"2013-08-29\", \"2013-09-01\", \"2013-09-02\", \"2013-09-03\"]}\n",
      "{\"language\": \"Punjabi\", \"dates\": [\"2013-08-19\", \"2013-08-20\", \"2013-08-21\", \"2013-08-22\", \"2013-08-23\", \"2013-08-26\", \"2013-08-29\", \"2013-08-31\", \"2013-09-01\", \"2013-09-02\", \"2013-09-03\"]}\n",
      "{\"language\": \"Danish\", \"dates\": [\"2013-08-19\", \"2013-08-20\", \"2013-08-21\", \"2013-08-22\", \"2013-08-23\", \"2013-08-29\", \"2013-09-01\", \"2013-09-02\", \"2013-09-03\"]}\n",
      "{\"language\": \"Tigrinya\", \"dates\": [\"2013-08-19\", \"2013-08-20\", \"2013-08-22\", \"2013-08-23\", \"2013-08-24\", \"2013-08-25\", \"2013-08-26\", \"2013-08-28\", \"2013-08-29\", \"2013-08-31\", \"2013-09-01\", \"2013-09-02\", \"2013-09-03\"]}\n",
      "{\"language\": \"Italian\", \"dates\": [\"2013-08-19\", \"2013-08-20\", \"2013-08-21\", \"2013-08-23\", \"2013-08-24\", \"2013-08-26\", \"2013-08-28\", \"2013-08-29\", \"2013-08-31\", \"2013-09-01\", \"2013-09-02\", \"2013-09-03\"]}\n",
      "{\"language\": \"Tongan\", \"dates\": [\"2013-08-19\", \"2013-08-20\", \"2013-08-21\", \"2013-08-22\", \"2013-08-23\", \"2013-08-26\", \"2013-09-01\", \"2013-09-02\", \"2013-09-03\"]}\n",
      "{\"language\": \"Maori\", \"dates\": [\"2013-08-19\", \"2013-08-20\", \"2013-08-21\", \"2013-08-22\", \"2013-08-23\", \"2013-08-24\", \"2013-08-26\", \"2013-08-28\", \"2013-09-01\", \"2013-09-02\", \"2013-09-03\"]}\n",
      "{\"language\": \"Khmer\", \"dates\": [\"2013-08-19\", \"2013-08-20\", \"2013-08-21\", \"2013-08-23\", \"2013-08-24\", \"2013-08-26\", \"2013-08-29\", \"2013-09-01\", \"2013-09-02\", \"2013-09-03\"]}\n",
      "{\"language\": \"Farsi\", \"dates\": [\"2013-08-19\", \"2013-08-20\", \"2013-08-21\", \"2013-08-22\", \"2013-08-23\", \"2013-08-26\", \"2013-08-28\", \"2013-09-01\", \"2013-09-02\", \"2013-09-03\"]}\n",
      "{\"language\": \"Turkish\", \"dates\": [\"2013-08-19\", \"2013-08-20\", \"2013-08-21\", \"2013-08-22\", \"2013-08-23\", \"2013-08-24\", \"2013-08-26\", \"2013-08-28\", \"2013-08-29\", \"2013-09-01\", \"2013-09-02\", \"2013-09-03\"]}\n",
      "{\"language\": \"Burmese\", \"dates\": [\"2013-08-19\", \"2013-08-20\", \"2013-08-21\", \"2013-08-22\", \"2013-08-23\", \"2013-08-24\", \"2013-08-26\", \"2013-08-28\", \"2013-08-29\", \"2013-08-31\", \"2013-09-01\", \"2013-09-02\", \"2013-09-03\"]}\n",
      "{\"language\": \"Bangla\", \"dates\": [\"2013-08-19\", \"2013-08-20\", \"2013-08-21\", \"2013-08-22\", \"2013-08-23\", \"2013-08-25\", \"2013-08-26\", \"2013-08-29\", \"2013-09-01\", \"2013-09-02\", \"2013-09-03\"]}\n",
      "{\"language\": \"Hebrew\", \"dates\": [\"2013-08-19\", \"2013-08-20\", \"2013-08-21\", \"2013-08-22\", \"2013-08-23\", \"2013-08-24\", \"2013-08-25\", \"2013-08-26\", \"2013-09-01\", \"2013-09-02\", \"2013-09-03\"]}\n",
      "{\"language\": \"Vietnamese\", \"dates\": [\"2013-08-19\", \"2013-08-20\", \"2013-08-21\", \"2013-08-22\", \"2013-08-23\", \"2013-08-24\", \"2013-08-26\", \"2013-08-28\", \"2013-09-01\", \"2013-09-02\", \"2013-09-03\"]}\n",
      "{\"language\": \"Thai\", \"dates\": [\"2013-08-20\", \"2013-08-21\", \"2013-08-22\", \"2013-08-23\", \"2013-08-24\", \"2013-08-25\", \"2013-08-26\", \"2013-08-28\", \"2013-08-31\", \"2013-09-01\", \"2013-09-02\", \"2013-09-03\"]}\n",
      "{\"language\": \"Malayalam\", \"dates\": [\"2013-08-20\", \"2013-08-23\", \"2013-08-24\", \"2013-08-26\", \"2013-08-31\", \"2013-09-01\", \"2013-09-02\", \"2013-09-03\"]}\n",
      "{\"language\": \"French\", \"dates\": [\"2013-08-19\", \"2013-08-20\", \"2013-08-21\", \"2013-08-22\", \"2013-08-23\", \"2013-08-24\", \"2013-08-29\", \"2013-09-01\", \"2013-09-02\", \"2013-09-03\"]}\n",
      "{\"language\": \"Gujarati\", \"dates\": [\"2013-08-19\", \"2013-08-20\", \"2013-08-21\", \"2013-08-22\", \"2013-08-23\", \"2013-08-24\", \"2013-08-26\", \"2013-08-28\", \"2013-08-29\", \"2013-08-31\", \"2013-09-01\", \"2013-09-02\", \"2013-09-03\"]}\n",
      "{\"language\": \"Russian\", \"dates\": [\"2013-08-19\", \"2013-08-20\", \"2013-08-21\", \"2013-08-23\", \"2013-08-24\", \"2013-08-26\", \"2013-08-28\", \"2013-09-01\", \"2013-09-02\", \"2013-09-03\"]}\n",
      "{\"language\": \"Polish\", \"dates\": [\"2013-08-19\", \"2013-08-20\", \"2013-08-21\", \"2013-08-22\", \"2013-08-23\", \"2013-08-24\", \"2013-08-26\", \"2013-09-01\", \"2013-09-02\", \"2013-09-03\"]}\n",
      "{\"language\": \"Amharic\", \"dates\": [\"2013-08-20\", \"2013-08-21\", \"2013-08-22\", \"2013-08-23\", \"2013-08-25\", \"2013-08-26\", \"2013-08-28\", \"2013-09-01\", \"2013-09-02\", \"2013-09-03\"]}\n",
      "{\"language\": \"Japanese\", \"dates\": [\"2013-08-19\", \"2013-08-20\", \"2013-08-21\", \"2013-08-22\", \"2013-08-23\", \"2013-08-24\", \"2013-08-25\", \"2013-08-26\", \"2013-08-28\", \"2013-08-29\", \"2013-08-31\", \"2013-09-01\", \"2013-09-02\", \"2013-09-03\"]}\n",
      "{\"language\": \"Bosnian\", \"dates\": [\"2013-08-20\", \"2013-08-21\", \"2013-08-22\", \"2013-08-23\", \"2013-08-25\", \"2013-08-26\", \"2013-08-29\", \"2013-08-31\", \"2013-09-01\", \"2013-09-02\", \"2013-09-03\"]}\n",
      "{\"language\": \"Tamil\", \"dates\": [\"2013-08-19\", \"2013-08-20\", \"2013-08-21\", \"2013-08-22\", \"2013-08-23\", \"2013-08-24\", \"2013-08-26\", \"2013-08-28\", \"2013-08-29\", \"2013-08-31\", \"2013-09-02\", \"2013-09-03\"]}\n",
      "{\"language\": \"Norwegian\", \"dates\": [\"2013-08-19\", \"2013-08-20\", \"2013-08-23\", \"2013-08-24\", \"2013-08-26\", \"2013-08-28\", \"2013-08-29\", \"2013-08-31\", \"2013-09-01\", \"2013-09-02\", \"2013-09-03\"]}\n",
      "{\"language\": \"Arabic\", \"dates\": [\"2013-08-19\", \"2013-08-20\", \"2013-08-21\", \"2013-08-22\", \"2013-08-23\", \"2013-08-24\", \"2013-08-25\", \"2013-08-26\", \"2013-09-01\", \"2013-09-02\", \"2013-09-03\"]}\n",
      "{\"language\": \"Croatian\", \"dates\": [\"2013-08-20\", \"2013-08-21\", \"2013-08-23\", \"2013-08-24\", \"2013-08-26\", \"2013-08-31\", \"2013-09-01\", \"2013-09-02\", \"2013-09-03\"]}\n"
     ]
    }
   ],
   "source": [
    "%%jsoniq\n",
    "for $i in json-file(\"confusion-100000.json\", 10) \n",
    "group by $j := $i.target\n",
    "return {\"language\":$j, \"dates\":[distinct-values($i.date)]}"
   ]
  },
  {
   "cell_type": "markdown",
   "metadata": {
    "id": "2CqJOpf2wnHL"
   },
   "source": [
    "The difference is, if there's group by in a query, after group by, the loop variable (\\$i in the above query) will no longer be a single entry, but instead bound to the **sequence** corresponding to each group, which means we can directly apply functions like distinct-values to \\$i.\n",
    "In the query above without group by, \\$i always corresponds to one entry, so there's no point to do things like distinct-values(\\$i.date). This is why we need to get the intermediate result $dataSeq, and then create arrays and apply distinct-values on this whole sequence."
   ]
  },
  {
   "cell_type": "markdown",
   "metadata": {
    "id": "z93zj9pax-5t"
   },
   "source": [
    "Obviously, unlike <font face=\"courier\">collect_set/collect_list</font> which only accept one column and create arrays on that very column, JSONiq can create arrays on arbitrary things. For example, if we want to highlight the information of date, we can create a new dataset that shows the game info for each date:"
   ]
  },
  {
   "cell_type": "code",
   "execution_count": 69,
   "metadata": {
    "id": "msN8hw19ytF9"
   },
   "outputs": [
    {
     "name": "stdout",
     "output_type": "stream",
     "text": [
      "Took: 0.9071149826049805 ms\n",
      "{\"date\": \"2013-08-24\", \"info\": [{\"choices\": [\"Finnish\", \"Korean\", \"Norwegian\", \"Tamil\"], \"country\": \"AU\", \"date\": \"2013-08-24\", \"guess\": \"Tamil\", \"sample\": \"208e1606aa365f3ed573adc7111f58e9\", \"target\": \"Norwegian\"}, {\"choices\": [\"Japanese\", \"Russian\", \"Somali\", \"Spanish\"], \"country\": \"AU\", \"date\": \"2013-08-24\", \"guess\": \"Spanish\", \"sample\": \"c8f4f097079404bf9a0e94d604efd1d5\", \"target\": \"Spanish\"}, {\"choices\": [\"Bosnian\", \"Dari\", \"Dutch\", \"Slovak\"], \"country\": \"AU\", \"date\": \"2013-08-24\", \"guess\": \"Dari\", \"sample\": \"33f2084165c0cca6303b45440623c88c\", \"target\": \"Dari\"}, {\"choices\": [\"Kurdish\", \"Lao\", \"Romanian\", \"Slovak\"], \"country\": \"AU\", \"date\": \"2013-08-24\", \"guess\": \"Romanian\", \"sample\": \"6560ff4ce0b53a1b0bad2e7734f52381\", \"target\": \"Romanian\"}, {\"choices\": [\"Cantonese\", \"Khmer\", \"Mandarin\", \"Russian\"], \"country\": \"AU\", \"date\": \"2013-08-24\", \"guess\": \"Russian\", \"sample\": \"8a59d48e99e8a1df7e366c4648095e27\", \"target\": \"Russian\"}, {\"choices\": [\"Fijian\", \"Finnish\", \"Indonesian\", \"Portuguese\"], \"country\": \"AU\", \"date\": \"2013-08-24\", \"guess\": \"Fijian\", \"sample\": \"aaa12425808ac9d4ce184c453bfc0502\", \"target\": \"Fijian\"}, {\"choices\": [\"Croatian\", \"Fijian\", \"Hindi\", \"Slovak\"], \"country\": \"AU\", \"date\": \"2013-08-24\", \"guess\": \"Croatian\", \"sample\": \"bd3eefed0e12797c6e2b45b8db8d88d9\", \"target\": \"Croatian\"}, {\"choices\": [\"Malay\", \"Norwegian\", \"Tamil\", \"Thai\"], \"country\": \"AU\", \"date\": \"2013-08-24\", \"guess\": \"Norwegian\", \"sample\": \"48f9c924e0d98c959d8a6f1862b3ce9a\", \"target\": \"Norwegian\"}, {\"choices\": [\"Estonian\", \"Greek\", \"Hindi\", \"Khmer\"], \"country\": \"AU\", \"date\": \"2013-08-24\", \"guess\": \"Hindi\", \"sample\": \"9dac641f173f2a225501e8e50fc4e66e\", \"target\": \"Hindi\"}, {\"choices\": [\"Armenian\", \"Bosnian\", \"Spanish\", \"Tigrinya\"], \"country\": \"AU\", \"date\": \"2013-08-24\", \"guess\": \"Spanish\", \"sample\": \"dc3ace49393de518e87d4f8d3ae8d9db\", \"target\": \"Spanish\"}, {\"choices\": [\"Cantonese\", \"Czech\", \"Hungarian\", \"Kannada\"], \"country\": \"AU\", \"date\": \"2013-08-24\", \"guess\": \"Czech\", \"sample\": \"9769bab1b0b25eb730c704ef42a3e7a6\", \"target\": \"Czech\"}, {\"choices\": [\"Czech\", \"Punjabi\", \"Samoan\", \"Somali\"], \"country\": \"AU\", \"date\": \"2013-08-24\", \"guess\": \"Somali\", \"sample\": \"2591d3700224a4729cbe46e53fdbd707\", \"target\": \"Somali\"}, {\"choices\": [\"Japanese\", \"Malay\", \"Polish\", \"Swahili\"], \"country\": \"AU\", \"date\": \"2013-08-24\", \"guess\": \"Swahili\", \"sample\": \"ac1275769d8aaf8758f95409271f8a2f\", \"target\": \"Swahili\"}, {\"choices\": [\"Albanian\", \"Czech\", \"Estonian\", \"Swahili\"], \"country\": \"AU\", \"date\": \"2013-08-24\", \"guess\": \"Estonian\", \"sample\": \"b8e22e10dbc944d7aaa9c00414c70be8\", \"target\": \"Estonian\"}, {\"choices\": [\"Gujarati\", \"Hungarian\", \"Serbian\", \"Yiddish\"], \"country\": \"AU\", \"date\": \"2013-08-24\", \"guess\": \"Hungarian\", \"sample\": \"7efab6f0c61694ba6e8aa72843d1bf15\", \"target\": \"Hungarian\"}, {\"choices\": [\"Czech\", \"Fijian\", \"Hindi\", \"Serbian\"], \"country\": \"AU\", \"date\": \"2013-08-24\", \"guess\": \"Serbian\", \"sample\": \"56626a14b479e47d5eb9568161dad285\", \"target\": \"Czech\"}, {\"choices\": [\"Amharic\", \"Korean\", \"Malay\", \"Ukrainian\"], \"country\": \"AU\", \"date\": \"2013-08-24\", \"guess\": \"Korean\", \"sample\": \"871c938ad3b1243f42eec04057930d7e\", \"target\": \"Korean\"}, {\"choices\": [\"Cantonese\", \"Dari\", \"Gujarati\", \"Somali\"], \"country\": \"AU\", \"date\": \"2013-08-24\", \"guess\": \"Dari\", \"sample\": \"ee5ffba9c5cf1d6a1e2d95b0220c06d4\", \"target\": \"Somali\"}, {\"choices\": [\"Dinka\", \"Tagalog\", \"Serbian\", \"Somali\"], \"country\": \"AU\", \"date\": \"2013-08-24\", \"guess\": \"Tagalog\", \"sample\": \"34df5eca0db3967da23f8a210337c9d6\", \"target\": \"Tagalog\"}, {\"choices\": [\"Arabic\", \"Greek\", \"Macedonian\", \"Sinhalese\"], \"country\": \"AU\", \"date\": \"2013-08-24\", \"guess\": \"Greek\", \"sample\": \"d6f08d099e6f753b96ede3d475d25106\", \"target\": \"Greek\"}, {\"choices\": [\"Latvian\", \"Farsi\", \"Russian\", \"Swahili\"], \"country\": \"AU\", \"date\": \"2013-08-24\", \"guess\": \"Swahili\", \"sample\": \"1b959fe55794f6d4e1ea038bfe336759\", \"target\": \"Swahili\"}, {\"choices\": [\"Amharic\", \"Czech\", \"Dutch\", \"Norwegian\"], \"country\": \"AU\", \"date\": \"2013-08-24\", \"guess\": \"Czech\", \"sample\": \"9769bab1b0b25eb730c704ef42a3e7a6\", \"target\": \"Czech\"}, {\"choices\": [\"Bosnian\", \"Maori\", \"Fijian\", \"Samoan\"], \"country\": \"AU\", \"date\": \"2013-08-24\", \"guess\": \"Samoan\", \"sample\": \"e0d71c2632a4fe69b42a49c8aeeec811\", \"target\": \"Maori\"}, {\"choices\": [\"Arabic\", \"Dinka\", \"Greek\", \"Swahili\"], \"country\": \"AU\", \"date\": \"2013-08-24\", \"guess\": \"Arabic\", \"sample\": \"8903e496bf04c3a85a70e1dc5e0da5f1\", \"target\": \"Arabic\"}, {\"choices\": [\"Hebrew\", \"Korean\", \"Slovak\", \"Spanish\"], \"country\": \"AU\", \"date\": \"2013-08-24\", \"guess\": \"Hebrew\", \"sample\": \"1dc9a1bf90e4e788906dc716dc18d878\", \"target\": \"Hebrew\"}, {\"choices\": [\"Italian\", \"Lao\", \"Norwegian\", \"Thai\"], \"country\": \"AU\", \"date\": \"2013-08-24\", \"guess\": \"Norwegian\", \"sample\": \"48f9c924e0d98c959d8a6f1862b3ce9a\", \"target\": \"Norwegian\"}, {\"choices\": [\"Nepali\", \"Romanian\", \"Tamil\", \"Tongan\"], \"country\": \"AU\", \"date\": \"2013-08-24\", \"guess\": \"Romanian\", \"sample\": \"903fc45cba5245f21deaaca3966f825b\", \"target\": \"Romanian\"}, {\"choices\": [\"Albanian\", \"Assyrian\", \"Norwegian\", \"Romanian\"], \"country\": \"AU\", \"date\": \"2013-08-24\", \"guess\": \"Romanian\", \"sample\": \"fdf23d0a7063ba2fcef4b18eb7d57ad8\", \"target\": \"Albanian\"}, {\"choices\": [\"Amharic\", \"Hebrew\", \"Kurdish\", \"Serbian\"], \"country\": \"AU\", \"date\": \"2013-08-24\", \"guess\": \"Amharic\", \"sample\": \"f54dad4973f899ba8e9e26dcca58d625\", \"target\": \"Kurdish\"}, {\"choices\": [\"Finnish\", \"Khmer\", \"Latvian\", \"Maltese\"], \"country\": \"AU\", \"date\": \"2013-08-24\", \"guess\": \"Finnish\", \"sample\": \"4a3dfa40ed621940a0a38408956b86e0\", \"target\": \"Finnish\"}, {\"choices\": [\"Amharic\", \"Burmese\", \"Maori\", \"Swahili\"], \"country\": \"AU\", \"date\": \"2013-08-24\", \"guess\": \"Maori\", \"sample\": \"90ae678a85eac78bc4b4f52809a7c09d\", \"target\": \"Maori\"}, {\"choices\": [\"Dinka\", \"Tagalog\", \"Spanish\", \"Swedish\"], \"country\": \"AU\", \"date\": \"2013-08-24\", \"guess\": \"Spanish\", \"sample\": \"c57afc7ca3b4a454bf53dbca84bb4523\", \"target\": \"Spanish\"}, {\"choices\": [\"Kurdish\", \"Macedonian\", \"Samoan\", \"Serbian\"], \"country\": \"AU\", \"date\": \"2013-08-24\", \"guess\": \"Serbian\", \"sample\": \"0d5b697ebb326b5043ce7fa60a7b968d\", \"target\": \"Serbian\"}, {\"choices\": [\"Cantonese\", \"Estonian\", \"Lao\", \"Mandarin\"], \"country\": \"AU\", \"date\": \"2013-08-24\", \"guess\": \"Estonian\", \"sample\": \"5af9790de5ecef3853d6d89f8e75916c\", \"target\": \"Estonian\"}, {\"choices\": [\"Gujarati\", \"Hebrew\", \"Hindi\", \"Urdu\"], \"country\": \"AU\", \"date\": \"2013-08-24\", \"guess\": \"Hindi\", \"sample\": \"b04f555ac04b11bbe45f4761978cbe7e\", \"target\": \"Hindi\"}, {\"choices\": [\"Bulgarian\", \"Dutch\", \"Maltese\", \"Sinhalese\"], \"country\": \"AU\", \"date\": \"2013-08-24\", \"guess\": \"Bulgarian\", \"sample\": \"5e54a8dced25ffdc693a3fc3c224e6e6\", \"target\": \"Bulgarian\"}, {\"choices\": [\"Tagalog\", \"Japanese\", \"Somali\", \"Tigrinya\"], \"country\": \"AU\", \"date\": \"2013-08-24\", \"guess\": \"Japanese\", \"sample\": \"c69832b0076815cd7efef646abc78290\", \"target\": \"Japanese\"}, {\"choices\": [\"Burmese\", \"Hungarian\", \"Lao\", \"Latvian\"], \"country\": \"AU\", \"date\": \"2013-08-24\", \"guess\": \"Hungarian\", \"sample\": \"7efab6f0c61694ba6e8aa72843d1bf15\", \"target\": \"Hungarian\"}, {\"choices\": [\"Bosnian\", \"Czech\", \"German\", \"Hungarian\"], \"country\": \"AU\", \"date\": \"2013-08-24\", \"guess\": \"Hungarian\", \"sample\": \"7efab6f0c61694ba6e8aa72843d1bf15\", \"target\": \"Hungarian\"}, {\"choices\": [\"Amharic\", \"Armenian\", \"Swahili\", \"Tamil\"], \"country\": \"AU\", \"date\": \"2013-08-24\", \"guess\": \"Armenian\", \"sample\": \"b46fa4a310d337db8f055083c68ba863\", \"target\": \"Armenian\"}, {\"choices\": [\"Armenian\", \"French\", \"Slovak\", \"Spanish\"], \"country\": \"AU\", \"date\": \"2013-08-24\", \"guess\": \"Spanish\", \"sample\": \"c8f4f097079404bf9a0e94d604efd1d5\", \"target\": \"Spanish\"}, {\"choices\": [\"French\", \"Korean\", \"Latvian\", \"Samoan\"], \"country\": \"AU\", \"date\": \"2013-08-24\", \"guess\": \"French\", \"sample\": \"92f9e1c17e6df988780527341fdb471d\", \"target\": \"French\"}, {\"choices\": [\"Serbian\", \"Swedish\", \"Ukrainian\", \"Urdu\"], \"country\": \"AU\", \"date\": \"2013-08-24\", \"guess\": \"Serbian\", \"sample\": \"6d86f6da48a5d151593317f64da0421f\", \"target\": \"Ukrainian\"}, {\"choices\": [\"Gujarati\", \"Kurdish\", \"Mandarin\", \"Tamil\"], \"country\": \"AU\", \"date\": \"2013-08-24\", \"guess\": \"Tamil\", \"sample\": \"cc305dcad696147e28c6f36615aa0952\", \"target\": \"Tamil\"}, {\"choices\": [\"Albanian\", \"Indonesian\", \"Norwegian\", \"Tigrinya\"], \"country\": \"AU\", \"date\": \"2013-08-24\", \"guess\": \"Tigrinya\", \"sample\": \"3ec316c78773bb826dd924926f5c0d07\", \"target\": \"Tigrinya\"}, {\"choices\": [\"Albanian\", \"Lao\", \"Romanian\", \"Swedish\"], \"country\": \"AU\", \"date\": \"2013-08-24\", \"guess\": \"Albanian\", \"sample\": \"13722ceed1eede7ba597ade9b4cb9807\", \"target\": \"Albanian\"}, {\"choices\": [\"Croatian\", \"Kannada\", \"Maltese\", \"Vietnamese\"], \"country\": \"AU\", \"date\": \"2013-08-24\", \"guess\": \"Maltese\", \"sample\": \"589feca2e2009ad2e63458f17568cd13\", \"target\": \"Maltese\"}, {\"choices\": [\"Estonian\", \"Kurdish\", \"Polish\", \"Vietnamese\"], \"country\": \"AU\", \"date\": \"2013-08-24\", \"guess\": \"Polish\", \"sample\": \"f1aac78bec424c4d6c716553719b0b70\", \"target\": \"Polish\"}, {\"choices\": [\"Finnish\", \"Kannada\", \"Korean\", \"Sinhalese\"], \"country\": \"AU\", \"date\": \"2013-08-24\", \"guess\": \"Kannada\", \"sample\": \"cf08af2ccb8382aa6c624095ec4f93fb\", \"target\": \"Kannada\"}, {\"choices\": [\"German\", \"Hungarian\", \"Kurdish\", \"Mandarin\"], \"country\": \"AU\", \"date\": \"2013-08-24\", \"guess\": \"Kurdish\", \"sample\": \"f54dad4973f899ba8e9e26dcca58d625\", \"target\": \"Kurdish\"}, {\"choices\": [\"Albanian\", \"Japanese\", \"Farsi\", \"Somali\"], \"country\": \"AU\", \"date\": \"2013-08-24\", \"guess\": \"Albanian\", \"sample\": \"efcd813daec1c836d9f030b30caa07ce\", \"target\": \"Albanian\"}, {\"choices\": [\"Arabic\", \"Latvian\", \"Nepali\", \"Punjabi\"], \"country\": \"AU\", \"date\": \"2013-08-24\", \"guess\": \"Punjabi\", \"sample\": \"e178a0abbbb171d9b785d8350a45f203\", \"target\": \"Nepali\"}, {\"choices\": [\"Finnish\", \"Hindi\", \"Italian\", \"Mandarin\"], \"country\": \"AU\", \"date\": \"2013-08-24\", \"guess\": \"Italian\", \"sample\": \"b64869a674fbf588fa2ace46d717bed6\", \"target\": \"Italian\"}, {\"choices\": [\"Maori\", \"Finnish\", \"Lao\", \"Tigrinya\"], \"country\": \"AU\", \"date\": \"2013-08-24\", \"guess\": \"Maori\", \"sample\": \"90ae678a85eac78bc4b4f52809a7c09d\", \"target\": \"Maori\"}, {\"choices\": [\"Bulgarian\", \"Dutch\", \"Greek\", \"Macedonian\"], \"country\": \"AU\", \"date\": \"2013-08-24\", \"guess\": \"Dutch\", \"sample\": \"5cd22cbf16be1a93d304d589431c3ec3\", \"target\": \"Dutch\"}, {\"choices\": [\"Tagalog\", \"Malayalam\", \"Tamil\", \"Urdu\"], \"country\": \"AU\", \"date\": \"2013-08-24\", \"guess\": \"Malayalam\", \"sample\": \"b0acf6983487f846c0830aa88d13d171\", \"target\": \"Malayalam\"}, {\"choices\": [\"Dari\", \"Khmer\", \"Thai\", \"Tigrinya\"], \"country\": \"AU\", \"date\": \"2013-08-24\", \"guess\": \"Tigrinya\", \"sample\": \"3ec316c78773bb826dd924926f5c0d07\", \"target\": \"Tigrinya\"}, {\"choices\": [\"Bangla\", \"Samoan\", \"Swedish\", \"Turkish\"], \"country\": \"AU\", \"date\": \"2013-08-24\", \"guess\": \"Turkish\", \"sample\": \"af0e25c7637fb0dcdc56fac6d49aa55e\", \"target\": \"Turkish\"}, {\"choices\": [\"Dari\", \"Lao\", \"Slovenian\", \"Vietnamese\"], \"country\": \"AU\", \"date\": \"2013-08-24\", \"guess\": \"Slovenian\", \"sample\": \"f2f07eb5c50e64c627f66566b3c7cc4a\", \"target\": \"Slovenian\"}, {\"choices\": [\"German\", \"Hindi\", \"Russian\", \"Tongan\"], \"country\": \"AU\", \"date\": \"2013-08-24\", \"guess\": \"Russian\", \"sample\": \"b7df3f9d67cef259fbcaa5abcad9d774\", \"target\": \"Russian\"}, {\"choices\": [\"Bangla\", \"Burmese\", \"Gujarati\", \"Thai\"], \"country\": \"AU\", \"date\": \"2013-08-24\", \"guess\": \"Thai\", \"sample\": \"f9119000c32bd3c091da19ba73b27aa8\", \"target\": \"Thai\"}, {\"choices\": [\"Dutch\", \"Estonian\", \"Tagalog\", \"Malayalam\"], \"country\": \"AU\", \"date\": \"2013-08-24\", \"guess\": \"Tagalog\", \"sample\": \"34df5eca0db3967da23f8a210337c9d6\", \"target\": \"Tagalog\"}, {\"choices\": [\"Burmese\", \"Japanese\", \"Tongan\", \"Turkish\"], \"country\": \"AU\", \"date\": \"2013-08-24\", \"guess\": \"Japanese\", \"sample\": \"c69832b0076815cd7efef646abc78290\", \"target\": \"Japanese\"}, {\"choices\": [\"Fijian\", \"French\", \"Khmer\", \"Swahili\"], \"country\": \"AU\", \"date\": \"2013-08-24\", \"guess\": \"Swahili\", \"sample\": \"ac1275769d8aaf8758f95409271f8a2f\", \"target\": \"Swahili\"}, {\"choices\": [\"Assyrian\", \"Burmese\", \"Tagalog\", \"Hebrew\"], \"country\": \"AU\", \"date\": \"2013-08-24\", \"guess\": \"Tagalog\", \"sample\": \"34df5eca0db3967da23f8a210337c9d6\", \"target\": \"Tagalog\"}, {\"choices\": [\"Tagalog\", \"Kannada\", \"Latvian\", \"Ukrainian\"], \"country\": \"AU\", \"date\": \"2013-08-24\", \"guess\": \"Tagalog\", \"sample\": \"34df5eca0db3967da23f8a210337c9d6\", \"target\": \"Tagalog\"}, {\"choices\": [\"Hebrew\", \"Norwegian\", \"Slovak\", \"Urdu\"], \"country\": \"AU\", \"date\": \"2013-08-24\", \"guess\": \"Hebrew\", \"sample\": \"157085744728e35079622c71804cf722\", \"target\": \"Hebrew\"}, {\"choices\": [\"Maori\", \"Indonesian\", \"Slovak\", \"Yiddish\"], \"country\": \"AU\", \"date\": \"2013-08-24\", \"guess\": \"Slovak\", \"sample\": \"a8895626173aa388e5d1d5252563ab72\", \"target\": \"Slovak\"}, {\"choices\": [\"Bulgarian\", \"Japanese\", \"Swahili\", \"Tamil\"], \"country\": \"AU\", \"date\": \"2013-08-24\", \"guess\": \"Swahili\", \"sample\": \"ac1275769d8aaf8758f95409271f8a2f\", \"target\": \"Swahili\"}, {\"choices\": [\"Macedonian\", \"Sinhalese\", \"Ukrainian\", \"Vietnamese\"], \"country\": \"AU\", \"date\": \"2013-08-24\", \"guess\": \"Macedonian\", \"sample\": \"f852510abd74316fbde36d5d727a1059\", \"target\": \"Macedonian\"}, {\"choices\": [\"Arabic\", \"Danish\", \"Kannada\", \"Macedonian\"], \"country\": \"AU\", \"date\": \"2013-08-24\", \"guess\": \"Arabic\", \"sample\": \"154ac3670f21586ab168cd376290bcb7\", \"target\": \"Arabic\"}, {\"choices\": [\"Gujarati\", \"Hindi\", \"Italian\", \"Kannada\"], \"country\": \"AU\", \"date\": \"2013-08-24\", \"guess\": \"Hindi\", \"sample\": \"9dac641f173f2a225501e8e50fc4e66e\", \"target\": \"Hindi\"}, {\"choices\": [\"Burmese\", \"Malay\", \"Sinhalese\", \"Urdu\"], \"country\": \"AU\", \"date\": \"2013-08-24\", \"guess\": \"Urdu\", \"sample\": \"3520fdcdf2658685928fc37e72ab2134\", \"target\": \"Urdu\"}, {\"choices\": [\"Arabic\", \"Tagalog\", \"Hindi\", \"Malay\"], \"country\": \"AU\", \"date\": \"2013-08-24\", \"guess\": \"Malay\", \"sample\": \"fffe43269856111df6231c0a57812c90\", \"target\": \"Malay\"}, {\"choices\": [\"Indonesian\", \"Italian\", \"Russian\", \"Thai\"], \"country\": \"AU\", \"date\": \"2013-08-24\", \"guess\": \"Thai\", \"sample\": \"f9119000c32bd3c091da19ba73b27aa8\", \"target\": \"Thai\"}, {\"choices\": [\"Bangla\", \"Cantonese\", \"Korean\", \"Spanish\"], \"country\": \"AU\", \"date\": \"2013-08-24\", \"guess\": \"Spanish\", \"sample\": \"c57afc7ca3b4a454bf53dbca84bb4523\", \"target\": \"Spanish\"}, {\"choices\": [\"German\", \"Khmer\", \"Maltese\", \"Punjabi\"], \"country\": \"AU\", \"date\": \"2013-08-24\", \"guess\": \"German\", \"sample\": \"1f8b9a59cd75fc429db54dceb6e0594b\", \"target\": \"German\"}, {\"choices\": [\"Korean\", \"Malay\", \"Polish\", \"Serbian\"], \"country\": \"AU\", \"date\": \"2013-08-24\", \"guess\": \"Malay\", \"sample\": \"6650448a5456ba88ea0971f2265f2bc7\", \"target\": \"Malay\"}, {\"choices\": [\"German\", \"Latvian\", \"Polish\", \"Slovak\"], \"country\": \"AU\", \"date\": \"2013-08-24\", \"guess\": \"Latvian\", \"sample\": \"447bcafdbe5d7d69e0db72ab5bfa043a\", \"target\": \"Latvian\"}, {\"choices\": [\"Gujarati\", \"Nepali\", \"Tamil\", \"Yiddish\"], \"country\": \"AU\", \"date\": \"2013-08-24\", \"guess\": \"Nepali\", \"sample\": \"7c3fca32ce40e9b07e7b69a7d7191d4d\", \"target\": \"Tamil\"}, {\"choices\": [\"Albanian\", \"Bulgarian\", \"Malayalam\", \"Mandarin\"], \"country\": \"AU\", \"date\": \"2013-08-24\", \"guess\": \"Mandarin\", \"sample\": \"01f51995ae86ff85e899d40768ab81a8\", \"target\": \"Mandarin\"}, {\"choices\": [\"Amharic\", \"Khmer\", \"Malayalam\", \"Vietnamese\"], \"country\": \"AU\", \"date\": \"2013-08-24\", \"guess\": \"Vietnamese\", \"sample\": \"3aab36435babaea46064d7f173bb0ba3\", \"target\": \"Vietnamese\"}, {\"choices\": [\"Bangla\", \"Danish\", \"Greek\", \"Gujarati\"], \"country\": \"AU\", \"date\": \"2013-08-24\", \"guess\": \"Gujarati\", \"sample\": \"16d80eee6659268a90460422dd2a2896\", \"target\": \"Gujarati\"}, {\"choices\": [\"Burmese\", \"Dari\", \"Estonian\", \"Swahili\"], \"country\": \"AU\", \"date\": \"2013-08-24\", \"guess\": \"Burmese\", \"sample\": \"31cba304794d1828c93d7b3c63aa840a\", \"target\": \"Burmese\"}, {\"choices\": [\"Dari\", \"Romanian\", \"Russian\", \"Somali\"], \"country\": \"AU\", \"date\": \"2013-08-24\", \"guess\": \"Somali\", \"sample\": \"2591d3700224a4729cbe46e53fdbd707\", \"target\": \"Somali\"}, {\"choices\": [\"Fijian\", \"Khmer\", \"Mandarin\", \"Tigrinya\"], \"country\": \"AU\", \"date\": \"2013-08-24\", \"guess\": \"Fijian\", \"sample\": \"84f7df7508e423234fd1adec4f84e528\", \"target\": \"Khmer\"}]}\n"
     ]
    }
   ],
   "source": [
    "%%jsoniq\n",
    "let $newDataset := for $i in json-file(\"confusion-100000.json\", 10) \n",
    "  group by $d := $i.date\n",
    "  return {\"date\": $d, \"info\": [$i]}\n",
    "return $newDataset[10]"
   ]
  },
  {
   "cell_type": "markdown",
   "metadata": {
    "id": "Z7NB5Euvy6G-"
   },
   "source": [
    "Now we have a more nested dataset! We can try to redo some of the exercises above with this new dataset. For example, get all games played in Switzerland:"
   ]
  },
  {
   "cell_type": "code",
   "execution_count": 71,
   "metadata": {
    "id": "kA1p9b7szvz1"
   },
   "outputs": [
    {
     "name": "stdout",
     "output_type": "stream",
     "text": [
      "Took: 1.9563770294189453 ms\n",
      "\"Warning! The output sequence contains 308 items but its materialization was capped at 200 items. This value can be configured with the result-size parameter in the query string of the HTTP request.\"\n",
      "{\"choices\": [\"Amharic\", \"Dari\"], \"country\": \"CH\", \"date\": \"2013-09-01\", \"guess\": \"Amharic\", \"sample\": \"9b1340b8343bb267783e1bfb2dc55bf1\", \"target\": \"Amharic\"}\n",
      "{\"choices\": [\"Burmese\", \"Korean\"], \"country\": \"CH\", \"date\": \"2013-09-01\", \"guess\": \"Korean\", \"sample\": \"0f8e6818d2be77b75712bc9ea4e87171\", \"target\": \"Korean\"}\n",
      "{\"choices\": [\"Farsi\", \"Thai\"], \"country\": \"CH\", \"date\": \"2013-09-01\", \"guess\": \"Thai\", \"sample\": \"74b5340a230b1e0c1d45787bc4280b05\", \"target\": \"Thai\"}\n",
      "{\"choices\": [\"Finnish\", \"German\", \"Hungarian\"], \"country\": \"CH\", \"date\": \"2013-09-01\", \"guess\": \"Finnish\", \"sample\": \"cb1a1c1c93ab6e802560855ca5f015f7\", \"target\": \"Hungarian\"}\n",
      "{\"choices\": [\"Czech\", \"Japanese\", \"Russian\"], \"country\": \"CH\", \"date\": \"2013-09-01\", \"guess\": \"Russian\", \"sample\": \"b7df3f9d67cef259fbcaa5abcad9d774\", \"target\": \"Russian\"}\n",
      "{\"choices\": [\"Albanian\", \"Punjabi\", \"Swahili\"], \"country\": \"CH\", \"date\": \"2013-09-01\", \"guess\": \"Punjabi\", \"sample\": \"d720bf82f29b3f6d835a4f7dcb9c2dcb\", \"target\": \"Swahili\"}\n",
      "{\"choices\": [\"Croatian\", \"Danish\", \"Swedish\"], \"country\": \"CH\", \"date\": \"2013-09-01\", \"guess\": \"Swedish\", \"sample\": \"2ca0534b652c09262b71bced44b4afd7\", \"target\": \"Danish\"}\n",
      "{\"choices\": [\"Cantonese\", \"Italian\"], \"country\": \"CH\", \"date\": \"2013-09-02\", \"guess\": \"Cantonese\", \"sample\": \"203628f42619d301e642b3553b7a684a\", \"target\": \"Cantonese\"}\n",
      "{\"choices\": [\"Burmese\", \"Danish\"], \"country\": \"CH\", \"date\": \"2013-09-02\", \"guess\": \"Danish\", \"sample\": \"2a7c43c1d50df8ab3d92f0bcacc637f9\", \"target\": \"Danish\"}\n",
      "{\"choices\": [\"Lao\", \"Spanish\"], \"country\": \"CH\", \"date\": \"2013-09-02\", \"guess\": \"Lao\", \"sample\": \"b5aa4ea31e44899dc4d58d4a35e05504\", \"target\": \"Lao\"}\n",
      "{\"choices\": [\"Arabic\", \"Punjabi\", \"Sinhalese\"], \"country\": \"CH\", \"date\": \"2013-09-02\", \"guess\": \"Arabic\", \"sample\": \"755de9092b301614712fae5e1d2d47d3\", \"target\": \"Sinhalese\"}\n",
      "{\"choices\": [\"Gujarati\", \"Swahili\", \"Ukrainian\"], \"country\": \"CH\", \"date\": \"2013-09-02\", \"guess\": \"Ukrainian\", \"sample\": \"064ca74dff16ce8dade4a7acdc0def8a\", \"target\": \"Ukrainian\"}\n",
      "{\"choices\": [\"Bangla\", \"Italian\", \"Tagalog\"], \"country\": \"CH\", \"date\": \"2013-09-02\", \"guess\": \"Bangla\", \"sample\": \"2097edfb7d3a9b59fffad5ddc8aea4d4\", \"target\": \"Bangla\"}\n",
      "{\"choices\": [\"Amharic\", \"Hebrew\", \"Tigrinya\"], \"country\": \"CH\", \"date\": \"2013-09-02\", \"guess\": \"Hebrew\", \"sample\": \"1dc9a1bf90e4e788906dc716dc18d878\", \"target\": \"Hebrew\"}\n",
      "{\"choices\": [\"Armenian\", \"Burmese\", \"Dinka\", \"Dutch\"], \"country\": \"CH\", \"date\": \"2013-09-02\", \"guess\": \"Dutch\", \"sample\": \"65bf2aceadf2520f36a5e548a0471fcf\", \"target\": \"Dutch\"}\n",
      "{\"choices\": [\"Albanian\", \"Dinka\", \"Italian\", \"Kannada\"], \"country\": \"CH\", \"date\": \"2013-09-02\", \"guess\": \"Italian\", \"sample\": \"efcd813daec1c836d9f030b30caa07ce\", \"target\": \"Albanian\"}\n",
      "{\"choices\": [\"Dari\", \"Norwegian\", \"Serbian\", \"Urdu\"], \"country\": \"CH\", \"date\": \"2013-09-02\", \"guess\": \"Norwegian\", \"sample\": \"ac81d9c1d39252811bf5d9fcfddc2231\", \"target\": \"Serbian\"}\n",
      "{\"choices\": [\"Nepali\", \"Turkish\"], \"country\": \"CH\", \"date\": \"2013-09-02\", \"guess\": \"Turkish\", \"sample\": \"d8a4ee3f4b430af016b2dc5902fccd75\", \"target\": \"Nepali\"}\n",
      "{\"choices\": [\"Lao\", \"Tamil\"], \"country\": \"CH\", \"date\": \"2013-09-02\", \"guess\": \"Lao\", \"sample\": \"4cf041f244960196b98c7d6ae8c79ed3\", \"target\": \"Lao\"}\n",
      "{\"choices\": [\"Burmese\", \"Finnish\"], \"country\": \"CH\", \"date\": \"2013-09-02\", \"guess\": \"Finnish\", \"sample\": \"65b5bf9df0f8ec61111d20c6b48db671\", \"target\": \"Finnish\"}\n",
      "{\"choices\": [\"Amharic\", \"Greek\"], \"country\": \"CH\", \"date\": \"2013-09-02\", \"guess\": \"Greek\", \"sample\": \"4d83917583d5f4b47486f508bb2b8e7e\", \"target\": \"Amharic\"}\n",
      "{\"choices\": [\"Hindi\", \"Mandarin\"], \"country\": \"CH\", \"date\": \"2013-09-02\", \"guess\": \"Mandarin\", \"sample\": \"d741b71a302261bdd5571023ee8e5131\", \"target\": \"Mandarin\"}\n",
      "{\"choices\": [\"Cantonese\", \"Maltese\"], \"country\": \"CH\", \"date\": \"2013-09-02\", \"guess\": \"Maltese\", \"sample\": \"da6ed723fe60684a231c3e22a42610a7\", \"target\": \"Cantonese\"}\n",
      "{\"choices\": [\"Bulgarian\", \"Indonesian\"], \"country\": \"CH\", \"date\": \"2013-09-02\", \"guess\": \"Bulgarian\", \"sample\": \"69a5c674fe40942aaae4d10c9df46ee0\", \"target\": \"Bulgarian\"}\n",
      "{\"choices\": [\"Bosnian\", \"Dutch\", \"Lao\"], \"country\": \"CH\", \"date\": \"2013-09-02\", \"guess\": \"Lao\", \"sample\": \"4cf041f244960196b98c7d6ae8c79ed3\", \"target\": \"Lao\"}\n",
      "{\"choices\": [\"Fijian\", \"Malay\"], \"country\": \"CH\", \"date\": \"2013-09-02\", \"guess\": \"Malay\", \"sample\": \"f53c7596c141ee6d5d2b3ab90361f802\", \"target\": \"Fijian\"}\n",
      "{\"choices\": [\"Korean\", \"Maltese\", \"Sinhalese\"], \"country\": \"CH\", \"date\": \"2013-09-02\", \"guess\": \"Korean\", \"sample\": \"ec371adb75ab6c7431adae3ef8fc9fc9\", \"target\": \"Korean\"}\n",
      "{\"choices\": [\"Arabic\", \"Dutch\", \"Ukrainian\"], \"country\": \"CH\", \"date\": \"2013-09-02\", \"guess\": \"Ukrainian\", \"sample\": \"590cc524a179707e101ac84848523c4a\", \"target\": \"Ukrainian\"}\n",
      "{\"choices\": [\"Farsi\", \"French\", \"Tagalog\", \"Turkish\"], \"country\": \"CH\", \"date\": \"2013-09-02\", \"guess\": \"French\", \"sample\": \"a892b7fd27c34fc81b65c0bb93113846\", \"target\": \"French\"}\n",
      "{\"choices\": [\"Indonesian\", \"Maori\", \"Serbian\", \"Swahili\"], \"country\": \"CH\", \"date\": \"2013-09-02\", \"guess\": \"Maori\", \"sample\": \"90ae678a85eac78bc4b4f52809a7c09d\", \"target\": \"Maori\"}\n",
      "{\"choices\": [\"Italian\", \"Mandarin\", \"Samoan\", \"Tamil\"], \"country\": \"CH\", \"date\": \"2013-09-02\", \"guess\": \"Samoan\", \"sample\": \"cd9592f5c1899461ee5defa7423458b6\", \"target\": \"Samoan\"}\n",
      "{\"choices\": [\"Danish\", \"Hungarian\", \"Norwegian\", \"Slovenian\", \"Swedish\"], \"country\": \"CH\", \"date\": \"2013-09-02\", \"guess\": \"Hungarian\", \"sample\": \"f2f07eb5c50e64c627f66566b3c7cc4a\", \"target\": \"Slovenian\"}\n",
      "{\"choices\": [\"Czech\", \"French\"], \"country\": \"CH\", \"date\": \"2013-09-02\", \"guess\": \"French\", \"sample\": \"9b2e27d1ff24961daaa87fa439a00c06\", \"target\": \"French\"}\n",
      "{\"choices\": [\"Amharic\", \"Korean\"], \"country\": \"CH\", \"date\": \"2013-09-02\", \"guess\": \"Korean\", \"sample\": \"871c938ad3b1243f42eec04057930d7e\", \"target\": \"Korean\"}\n",
      "{\"choices\": [\"Fijian\", \"Khmer\"], \"country\": \"CH\", \"date\": \"2013-09-02\", \"guess\": \"Khmer\", \"sample\": \"714795c596ef0639a385fe620d2c42ab\", \"target\": \"Khmer\"}\n",
      "{\"choices\": [\"Croatian\", \"Turkish\"], \"country\": \"CH\", \"date\": \"2013-09-02\", \"guess\": \"Turkish\", \"sample\": \"ee702400fc1f020752ba3381a1b3cf9b\", \"target\": \"Turkish\"}\n",
      "{\"choices\": [\"Amharic\", \"Czech\"], \"country\": \"CH\", \"date\": \"2013-09-02\", \"guess\": \"Czech\", \"sample\": \"9769bab1b0b25eb730c704ef42a3e7a6\", \"target\": \"Czech\"}\n",
      "{\"choices\": [\"Croatian\", \"Slovak\", \"Thai\"], \"country\": \"CH\", \"date\": \"2013-09-02\", \"guess\": \"Slovak\", \"sample\": \"2c5efbd7364036976ec403a9ee36f614\", \"target\": \"Slovak\"}\n",
      "{\"choices\": [\"French\", \"Latvian\", \"Slovenian\"], \"country\": \"CH\", \"date\": \"2013-09-02\", \"guess\": \"Latvian\", \"sample\": \"539d72aa7f2e6971b2e927c5816cd7a7\", \"target\": \"Slovenian\"}\n",
      "{\"choices\": [\"Korean\", \"Maori\", \"Somali\"], \"country\": \"CH\", \"date\": \"2013-09-02\", \"guess\": \"Somali\", \"sample\": \"e0d71c2632a4fe69b42a49c8aeeec811\", \"target\": \"Maori\"}\n",
      "{\"choices\": [\"Bangla\", \"Estonian\", \"Hindi\"], \"country\": \"CH\", \"date\": \"2013-09-02\", \"guess\": \"Estonian\", \"sample\": \"b7e986bd3a0d5fd1db661e3bedf36111\", \"target\": \"Estonian\"}\n",
      "{\"choices\": [\"Indonesian\", \"Maltese\"], \"country\": \"CH\", \"date\": \"2013-09-02\", \"guess\": \"Indonesian\", \"sample\": \"36d2f4e9173e2d4cad8b8594310c856b\", \"target\": \"Maltese\"}\n",
      "{\"choices\": [\"Assyrian\", \"Italian\", \"Malayalam\"], \"country\": \"CH\", \"date\": \"2013-09-02\", \"guess\": \"Assyrian\", \"sample\": \"ccebbc271377f7173e39564c74901f7c\", \"target\": \"Assyrian\"}\n",
      "{\"choices\": [\"Arabic\", \"Assyrian\", \"Khmer\", \"Yiddish\"], \"country\": \"CH\", \"date\": \"2013-09-02\", \"guess\": \"Arabic\", \"sample\": \"16ac545260ae198b7a3d882e06e5f261\", \"target\": \"Assyrian\"}\n",
      "{\"choices\": [\"Kannada\", \"Portuguese\"], \"country\": \"CH\", \"date\": \"2013-09-02\", \"guess\": \"Kannada\", \"sample\": \"1d7fea3522c8607f5ec4168b2a5cd206\", \"target\": \"Portuguese\"}\n",
      "{\"choices\": [\"Finnish\", \"Serbian\", \"Tagalog\", \"Vietnamese\"], \"country\": \"CH\", \"date\": \"2013-09-02\", \"guess\": \"Serbian\", \"sample\": \"ac81d9c1d39252811bf5d9fcfddc2231\", \"target\": \"Serbian\"}\n",
      "{\"choices\": [\"Khmer\", \"Somali\"], \"country\": \"CH\", \"date\": \"2013-09-02\", \"guess\": \"Khmer\", \"sample\": \"ee5ffba9c5cf1d6a1e2d95b0220c06d4\", \"target\": \"Somali\"}\n",
      "{\"choices\": [\"Kurdish\", \"Latvian\", \"Malayalam\", \"Slovak\"], \"country\": \"CH\", \"date\": \"2013-09-02\", \"guess\": \"Latvian\", \"sample\": \"447bcafdbe5d7d69e0db72ab5bfa043a\", \"target\": \"Latvian\"}\n",
      "{\"choices\": [\"Norwegian\", \"Spanish\"], \"country\": \"CH\", \"date\": \"2013-09-02\", \"guess\": \"Spanish\", \"sample\": \"dc3ace49393de518e87d4f8d3ae8d9db\", \"target\": \"Spanish\"}\n",
      "{\"choices\": [\"Danish\", \"Russian\"], \"country\": \"CH\", \"date\": \"2013-09-02\", \"guess\": \"Danish\", \"sample\": \"2ca0534b652c09262b71bced44b4afd7\", \"target\": \"Danish\"}\n",
      "{\"choices\": [\"Albanian\", \"Latvian\", \"Russian\", \"Turkish\"], \"country\": \"CH\", \"date\": \"2013-09-02\", \"guess\": \"Russian\", \"sample\": \"b7df3f9d67cef259fbcaa5abcad9d774\", \"target\": \"Russian\"}\n",
      "{\"choices\": [\"Farsi\", \"Portuguese\"], \"country\": \"CH\", \"date\": \"2013-09-02\", \"guess\": \"Portuguese\", \"sample\": \"1d7fea3522c8607f5ec4168b2a5cd206\", \"target\": \"Portuguese\"}\n",
      "{\"choices\": [\"Burmese\", \"Czech\", \"Finnish\", \"Somali\", \"Tagalog\"], \"country\": \"CH\", \"date\": \"2013-09-02\", \"guess\": \"Czech\", \"sample\": \"1787b5c79a00b3513ce76847bc1f5b75\", \"target\": \"Czech\"}\n",
      "{\"choices\": [\"Dari\", \"Russian\", \"Serbian\"], \"country\": \"CH\", \"date\": \"2013-09-02\", \"guess\": \"Russian\", \"sample\": \"b7df3f9d67cef259fbcaa5abcad9d774\", \"target\": \"Russian\"}\n",
      "{\"choices\": [\"Albanian\", \"Burmese\", \"Czech\", \"French\", \"Malayalam\"], \"country\": \"CH\", \"date\": \"2013-09-02\", \"guess\": \"Burmese\", \"sample\": \"30839a9f51bf6fb209b527cc42a35899\", \"target\": \"Burmese\"}\n",
      "{\"choices\": [\"Dari\", \"Slovenian\", \"Yiddish\"], \"country\": \"CH\", \"date\": \"2013-09-02\", \"guess\": \"Dari\", \"sample\": \"33f2084165c0cca6303b45440623c88c\", \"target\": \"Dari\"}\n",
      "{\"choices\": [\"Burmese\", \"Farsi\", \"Khmer\"], \"country\": \"CH\", \"date\": \"2013-09-02\", \"guess\": \"Khmer\", \"sample\": \"84f7df7508e423234fd1adec4f84e528\", \"target\": \"Khmer\"}\n",
      "{\"choices\": [\"Assyrian\", \"Estonian\", \"Norwegian\", \"Tigrinya\", \"Ukrainian\"], \"country\": \"CH\", \"date\": \"2013-09-02\", \"guess\": \"Assyrian\", \"sample\": \"3ec316c78773bb826dd924926f5c0d07\", \"target\": \"Tigrinya\"}\n",
      "{\"choices\": [\"Croatian\", \"Hindi\", \"Spanish\", \"Tagalog\"], \"country\": \"CH\", \"date\": \"2013-09-02\", \"guess\": \"Spanish\", \"sample\": \"c57afc7ca3b4a454bf53dbca84bb4523\", \"target\": \"Spanish\"}\n",
      "{\"choices\": [\"Macedonian\", \"Maltese\", \"Polish\", \"Swahili\"], \"country\": \"CH\", \"date\": \"2013-09-02\", \"guess\": \"Polish\", \"sample\": \"98890a26d68bcf75f6087566971f126f\", \"target\": \"Polish\"}\n",
      "{\"choices\": [\"Estonian\", \"Kurdish\", \"Maltese\", \"Nepali\"], \"country\": \"CH\", \"date\": \"2013-09-02\", \"guess\": \"Estonian\", \"sample\": \"b8e22e10dbc944d7aaa9c00414c70be8\", \"target\": \"Estonian\"}\n",
      "{\"choices\": [\"Finnish\", \"Italian\"], \"country\": \"CH\", \"date\": \"2013-09-02\", \"guess\": \"Italian\", \"sample\": \"88f3e5120091cffdf8abeb92b5da90a2\", \"target\": \"Italian\"}\n",
      "{\"choices\": [\"Arabic\", \"Hebrew\", \"Russian\", \"Slovenian\", \"Swedish\"], \"country\": \"CH\", \"date\": \"2013-09-02\", \"guess\": \"Hebrew\", \"sample\": \"157085744728e35079622c71804cf722\", \"target\": \"Hebrew\"}\n",
      "{\"choices\": [\"Czech\", \"Tagalog\"], \"country\": \"CH\", \"date\": \"2013-09-02\", \"guess\": \"Czech\", \"sample\": \"56626a14b479e47d5eb9568161dad285\", \"target\": \"Czech\"}\n",
      "{\"choices\": [\"Bosnian\", \"Finnish\", \"Japanese\", \"Korean\", \"Tamil\"], \"country\": \"CH\", \"date\": \"2013-09-02\", \"guess\": \"Finnish\", \"sample\": \"4a3dfa40ed621940a0a38408956b86e0\", \"target\": \"Finnish\"}\n",
      "{\"choices\": [\"Portuguese\", \"Vietnamese\"], \"country\": \"CH\", \"date\": \"2013-09-02\", \"guess\": \"Portuguese\", \"sample\": \"439672210d1feb96e012590ff2a73590\", \"target\": \"Portuguese\"}\n",
      "{\"choices\": [\"Croatian\", \"Estonian\", \"Indonesian\", \"Malay\", \"Spanish\"], \"country\": \"CH\", \"date\": \"2013-09-02\", \"guess\": \"Estonian\", \"sample\": \"bd3eefed0e12797c6e2b45b8db8d88d9\", \"target\": \"Croatian\"}\n",
      "{\"choices\": [\"Danish\", \"Hungarian\", \"Indonesian\"], \"country\": \"CH\", \"date\": \"2013-09-02\", \"guess\": \"Danish\", \"sample\": \"2a7c43c1d50df8ab3d92f0bcacc637f9\", \"target\": \"Danish\"}\n",
      "{\"choices\": [\"Bangla\", \"Hungarian\", \"Norwegian\", \"Thai\", \"Tigrinya\"], \"country\": \"CH\", \"date\": \"2013-09-02\", \"guess\": \"Thai\", \"sample\": \"a1fcc86068b72ed9d9f1c0b291d7819d\", \"target\": \"Tigrinya\"}\n",
      "{\"choices\": [\"Bangla\", \"Kannada\", \"Portuguese\"], \"country\": \"CH\", \"date\": \"2013-09-02\", \"guess\": \"Portuguese\", \"sample\": \"5fd851c9e87a6b9b9da9eb2ab0de6686\", \"target\": \"Portuguese\"}\n",
      "{\"choices\": [\"Indonesian\", \"Khmer\", \"Malayalam\"], \"country\": \"CH\", \"date\": \"2013-09-02\", \"guess\": \"Khmer\", \"sample\": \"96c0ad21acaedd52f652903794afb6f4\", \"target\": \"Indonesian\"}\n",
      "{\"choices\": [\"Bosnian\", \"Macedonian\", \"Swahili\", \"Tamil\", \"Tongan\"], \"country\": \"CH\", \"date\": \"2013-09-02\", \"guess\": \"Macedonian\", \"sample\": \"421df072ac5abde4883d50b1fc789b14\", \"target\": \"Bosnian\"}\n",
      "{\"choices\": [\"Danish\", \"Spanish\", \"Tigrinya\"], \"country\": \"CH\", \"date\": \"2013-09-02\", \"guess\": \"Danish\", \"sample\": \"2ca0534b652c09262b71bced44b4afd7\", \"target\": \"Danish\"}\n",
      "{\"choices\": [\"Hindi\", \"Khmer\"], \"country\": \"CH\", \"date\": \"2013-09-02\", \"guess\": \"Hindi\", \"sample\": \"9dac641f173f2a225501e8e50fc4e66e\", \"target\": \"Hindi\"}\n",
      "{\"choices\": [\"Czech\", \"Danish\", \"Dinka\", \"Thai\"], \"country\": \"CH\", \"date\": \"2013-09-02\", \"guess\": \"Dinka\", \"sample\": \"cd3dffdb83f221e09710cbfbcaffdb31\", \"target\": \"Dinka\"}\n",
      "{\"choices\": [\"German\", \"Spanish\"], \"country\": \"CH\", \"date\": \"2013-09-02\", \"guess\": \"German\", \"sample\": \"1f8b9a59cd75fc429db54dceb6e0594b\", \"target\": \"German\"}\n",
      "{\"choices\": [\"Czech\", \"Tamil\"], \"country\": \"CH\", \"date\": \"2013-09-02\", \"guess\": \"Tamil\", \"sample\": \"cc305dcad696147e28c6f36615aa0952\", \"target\": \"Tamil\"}\n",
      "{\"choices\": [\"Hungarian\", \"Kurdish\", \"Tongan\"], \"country\": \"CH\", \"date\": \"2013-09-02\", \"guess\": \"Tongan\", \"sample\": \"7efab6f0c61694ba6e8aa72843d1bf15\", \"target\": \"Hungarian\"}\n",
      "{\"choices\": [\"Korean\", \"Latvian\", \"Russian\", \"Tamil\"], \"country\": \"CH\", \"date\": \"2013-09-02\", \"guess\": \"Latvian\", \"sample\": \"5aea2b93784263ae4b5a2524ddebebb2\", \"target\": \"Latvian\"}\n",
      "{\"choices\": [\"Korean\", \"Sinhalese\", \"Somali\"], \"country\": \"CH\", \"date\": \"2013-09-02\", \"guess\": \"Korean\", \"sample\": \"871c938ad3b1243f42eec04057930d7e\", \"target\": \"Korean\"}\n",
      "{\"choices\": [\"Kannada\", \"Nepali\", \"Swedish\", \"Yiddish\"], \"country\": \"CH\", \"date\": \"2013-09-02\", \"guess\": \"Yiddish\", \"sample\": \"07468dc58acd4228a618bcdafed773f9\", \"target\": \"Yiddish\"}\n",
      "{\"choices\": [\"Assyrian\", \"Kannada\", \"Korean\", \"Malayalam\", \"Spanish\"], \"country\": \"CH\", \"date\": \"2013-09-02\", \"guess\": \"Korean\", \"sample\": \"0f8e6818d2be77b75712bc9ea4e87171\", \"target\": \"Korean\"}\n",
      "{\"choices\": [\"Gujarati\", \"Lao\", \"Portuguese\"], \"country\": \"CH\", \"date\": \"2013-09-02\", \"guess\": \"Gujarati\", \"sample\": \"b5aa4ea31e44899dc4d58d4a35e05504\", \"target\": \"Lao\"}\n",
      "{\"choices\": [\"Bangla\", \"Dutch\", \"Macedonian\"], \"country\": \"CH\", \"date\": \"2013-09-02\", \"guess\": \"Bangla\", \"sample\": \"ca0d5c366b1eeb2115054e6a8518f778\", \"target\": \"Bangla\"}\n",
      "{\"choices\": [\"Bulgarian\", \"Korean\", \"Kurdish\", \"Malay\", \"Swedish\"], \"country\": \"CH\", \"date\": \"2013-09-02\", \"guess\": \"Malay\", \"sample\": \"610d45322ed5aa122cf9b4a79d603781\", \"target\": \"Malay\"}\n",
      "{\"choices\": [\"Spanish\", \"Swedish\", \"Tongan\"], \"country\": \"CH\", \"date\": \"2013-09-02\", \"guess\": \"Swedish\", \"sample\": \"bd17f93a45c823198b790b7ba99975dd\", \"target\": \"Swedish\"}\n",
      "{\"choices\": [\"Farsi\", \"Khmer\", \"Slovenian\", \"Tagalog\"], \"country\": \"CH\", \"date\": \"2013-09-02\", \"guess\": \"Tagalog\", \"sample\": \"70154ea13cf1c633cfe62d44919a347c\", \"target\": \"Farsi\"}\n",
      "{\"choices\": [\"Dari\", \"Kannada\", \"Serbian\", \"Tagalog\", \"Tongan\"], \"country\": \"CH\", \"date\": \"2013-09-02\", \"guess\": \"Tagalog\", \"sample\": \"0c951f12af48b7ead6a3549707695906\", \"target\": \"Tagalog\"}\n",
      "{\"choices\": [\"Bulgarian\", \"Cantonese\"], \"country\": \"CH\", \"date\": \"2013-09-02\", \"guess\": \"Bulgarian\", \"sample\": \"8102c4494405873dd7b8258a97396351\", \"target\": \"Bulgarian\"}\n",
      "{\"choices\": [\"Arabic\", \"Estonian\", \"Finnish\", \"Maltese\", \"Ukrainian\", \"Yiddish\"], \"country\": \"CH\", \"date\": \"2013-09-02\", \"guess\": \"Finnish\", \"sample\": \"76e16d2ed298968ff397294b18f04831\", \"target\": \"Finnish\"}\n",
      "{\"choices\": [\"Mandarin\", \"Urdu\"], \"country\": \"CH\", \"date\": \"2013-09-02\", \"guess\": \"Urdu\", \"sample\": \"b01dde8ca2fcec5196a9b37d656d6e74\", \"target\": \"Urdu\"}\n",
      "{\"choices\": [\"Japanese\", \"Vietnamese\"], \"country\": \"CH\", \"date\": \"2013-09-02\", \"guess\": \"Vietnamese\", \"sample\": \"8ea6892d1ddca321adc07b05176e3605\", \"target\": \"Vietnamese\"}\n",
      "{\"choices\": [\"Burmese\", \"Hebrew\", \"Punjabi\"], \"country\": \"CH\", \"date\": \"2013-09-02\", \"guess\": \"Hebrew\", \"sample\": \"1dc9a1bf90e4e788906dc716dc18d878\", \"target\": \"Hebrew\"}\n",
      "{\"choices\": [\"Dutch\", \"Slovenian\", \"Urdu\"], \"country\": \"CH\", \"date\": \"2013-09-02\", \"guess\": \"Slovenian\", \"sample\": \"4a691f8bf52b406ccc65a95899de7bd2\", \"target\": \"Slovenian\"}\n",
      "{\"choices\": [\"Assyrian\", \"Romanian\", \"Vietnamese\"], \"country\": \"CH\", \"date\": \"2013-09-02\", \"guess\": \"Romanian\", \"sample\": \"903fc45cba5245f21deaaca3966f825b\", \"target\": \"Romanian\"}\n",
      "{\"choices\": [\"Croatian\", \"Danish\", \"German\", \"Lao\"], \"country\": \"CH\", \"date\": \"2013-09-02\", \"guess\": \"Croatian\", \"sample\": \"a0d2070edd63b46a3e71b4fb7ffe5375\", \"target\": \"Croatian\"}\n",
      "{\"choices\": [\"Hebrew\", \"Latvian\", \"Maori\", \"Portuguese\", \"Swedish\", \"Urdu\"], \"country\": \"CH\", \"date\": \"2013-09-02\", \"guess\": \"Latvian\", \"sample\": \"447bcafdbe5d7d69e0db72ab5bfa043a\", \"target\": \"Latvian\"}\n",
      "{\"choices\": [\"Burmese\", \"Estonian\", \"Swedish\", \"Yiddish\"], \"country\": \"CH\", \"date\": \"2013-09-02\", \"guess\": \"Yiddish\", \"sample\": \"491ce6f2acb4a588a4e6ff3570d429a5\", \"target\": \"Yiddish\"}\n",
      "{\"choices\": [\"Arabic\", \"Croatian\", \"Khmer\", \"Macedonian\", \"Samoan\", \"Tigrinya\"], \"country\": \"CH\", \"date\": \"2013-09-02\", \"guess\": \"Tigrinya\", \"sample\": \"a1fcc86068b72ed9d9f1c0b291d7819d\", \"target\": \"Tigrinya\"}\n",
      "{\"choices\": [\"Korean\", \"Kurdish\", \"Sinhalese\", \"Slovenian\"], \"country\": \"CH\", \"date\": \"2013-09-02\", \"guess\": \"Kurdish\", \"sample\": \"755de9092b301614712fae5e1d2d47d3\", \"target\": \"Sinhalese\"}\n",
      "{\"choices\": [\"Bangla\", \"Dinka\", \"Fijian\", \"Indonesian\", \"Maltese\", \"Portuguese\", \"Punjabi\"], \"country\": \"CH\", \"date\": \"2013-09-02\", \"guess\": \"Dinka\", \"sample\": \"192e7c59bb734ee762a323219846295b\", \"target\": \"Dinka\"}\n",
      "{\"choices\": [\"Hebrew\", \"Kurdish\", \"Nepali\", \"Vietnamese\"], \"country\": \"CH\", \"date\": \"2013-09-02\", \"guess\": \"Kurdish\", \"sample\": \"d8a4ee3f4b430af016b2dc5902fccd75\", \"target\": \"Nepali\"}\n",
      "{\"choices\": [\"Bosnian\", \"Hindi\", \"Serbian\", \"Slovenian\"], \"country\": \"CH\", \"date\": \"2013-09-02\", \"guess\": \"Bosnian\", \"sample\": \"08d1b7f052aa2014d54d699b2466910f\", \"target\": \"Bosnian\"}\n",
      "{\"choices\": [\"Bangla\", \"Finnish\", \"Gujarati\", \"Lao\", \"Somali\", \"Thai\", \"Vietnamese\"], \"country\": \"CH\", \"date\": \"2013-09-02\", \"guess\": \"Somali\", \"sample\": \"a505ab771ae7c32744ad31b3051b8ee9\", \"target\": \"Somali\"}\n",
      "{\"choices\": [\"Albanian\", \"Amharic\", \"French\", \"Greek\", \"Korean\"], \"country\": \"CH\", \"date\": \"2013-09-02\", \"guess\": \"Greek\", \"sample\": \"0f43daadf6a1ce6d769fa0daa630b5f6\", \"target\": \"Greek\"}\n",
      "{\"choices\": [\"Greek\", \"Japanese\", \"Korean\", \"Turkish\", \"Yiddish\"], \"country\": \"CH\", \"date\": \"2013-09-02\", \"guess\": \"Korean\", \"sample\": \"0f8e6818d2be77b75712bc9ea4e87171\", \"target\": \"Korean\"}\n",
      "{\"choices\": [\"Japanese\", \"Khmer\", \"Korean\", \"Portuguese\", \"Swahili\", \"Tagalog\", \"Vietnamese\"], \"country\": \"CH\", \"date\": \"2013-09-02\", \"guess\": \"Tagalog\", \"sample\": \"34df5eca0db3967da23f8a210337c9d6\", \"target\": \"Tagalog\"}\n",
      "{\"choices\": [\"Arabic\", \"Bangla\", \"Korean\", \"Kurdish\", \"Yiddish\"], \"country\": \"CH\", \"date\": \"2013-09-02\", \"guess\": \"Bangla\", \"sample\": \"83c6ffcb085ce9c18c0e2aff00dda865\", \"target\": \"Arabic\"}\n",
      "{\"choices\": [\"Albanian\", \"Bangla\", \"Greek\", \"Mandarin\", \"Spanish\", \"Swedish\", \"Thai\", \"Tongan\"], \"country\": \"CH\", \"date\": \"2013-09-02\", \"guess\": \"Tongan\", \"sample\": \"5a16cc76dc960f980d030d7b3e9f052b\", \"target\": \"Tongan\"}\n",
      "{\"choices\": [\"Burmese\", \"Dari\", \"Finnish\", \"Greek\", \"Malayalam\", \"Maltese\", \"Sinhalese\", \"Turkish\"], \"country\": \"CH\", \"date\": \"2013-09-02\", \"guess\": \"Greek\", \"sample\": \"0f43daadf6a1ce6d769fa0daa630b5f6\", \"target\": \"Greek\"}\n",
      "{\"choices\": [\"Fijian\", \"Gujarati\", \"Indonesian\", \"Khmer\", \"Maltese\", \"Portuguese\", \"Romanian\", \"Slovenian\"], \"country\": \"CH\", \"date\": \"2013-09-02\", \"guess\": \"Gujarati\", \"sample\": \"b8d5d0e85e06b3abe3fe32b6f3f59e50\", \"target\": \"Indonesian\"}\n",
      "{\"choices\": [\"Burmese\", \"Danish\", \"Dinka\", \"Farsi\", \"French\", \"Mandarin\", \"Serbian\", \"Spanish\"], \"country\": \"CH\", \"date\": \"2013-09-02\", \"guess\": \"Danish\", \"sample\": \"2a7c43c1d50df8ab3d92f0bcacc637f9\", \"target\": \"Danish\"}\n",
      "{\"choices\": [\"Albanian\", \"Farsi\", \"Finnish\", \"Greek\", \"Hindi\", \"Italian\", \"Romanian\", \"Russian\", \"Swedish\"], \"country\": \"CH\", \"date\": \"2013-09-02\", \"guess\": \"Finnish\", \"sample\": \"76e16d2ed298968ff397294b18f04831\", \"target\": \"Finnish\"}\n",
      "{\"choices\": [\"Amharic\", \"Bosnian\", \"Croatian\", \"Dari\", \"Greek\", \"Japanese\", \"Korean\", \"Maori\", \"Tagalog\"], \"country\": \"CH\", \"date\": \"2013-09-02\", \"guess\": \"Amharic\", \"sample\": \"cad47cd466a2d8c25fa7a21c15cbb3cf\", \"target\": \"Dari\"}\n",
      "{\"choices\": [\"Korean\", \"Thai\"], \"country\": \"CH\", \"date\": \"2013-09-02\", \"guess\": \"Thai\", \"sample\": \"ec09e573de88d0ace4c1ddd9cb531e90\", \"target\": \"Thai\"}\n",
      "{\"choices\": [\"Bangla\", \"Dutch\"], \"country\": \"CH\", \"date\": \"2013-09-02\", \"guess\": \"Dutch\", \"sample\": \"5cd22cbf16be1a93d304d589431c3ec3\", \"target\": \"Dutch\"}\n",
      "{\"choices\": [\"Gujarati\", \"Japanese\"], \"country\": \"CH\", \"date\": \"2013-09-02\", \"guess\": \"Gujarati\", \"sample\": \"56ecf19cff578aa76b81edb580ff343f\", \"target\": \"Gujarati\"}\n",
      "{\"choices\": [\"Dinka\", \"Latvian\", \"Malayalam\"], \"country\": \"CH\", \"date\": \"2013-09-02\", \"guess\": \"Latvian\", \"sample\": \"5aea2b93784263ae4b5a2524ddebebb2\", \"target\": \"Latvian\"}\n",
      "{\"choices\": [\"French\", \"Hebrew\", \"Hindi\"], \"country\": \"CH\", \"date\": \"2013-09-02\", \"guess\": \"French\", \"sample\": \"a892b7fd27c34fc81b65c0bb93113846\", \"target\": \"French\"}\n",
      "{\"choices\": [\"Dutch\", \"Lao\", \"Thai\"], \"country\": \"CH\", \"date\": \"2013-09-02\", \"guess\": \"Lao\", \"sample\": \"b5aa4ea31e44899dc4d58d4a35e05504\", \"target\": \"Lao\"}\n",
      "{\"choices\": [\"Albanian\", \"Indonesian\", \"Portuguese\", \"Tigrinya\"], \"country\": \"CH\", \"date\": \"2013-09-02\", \"guess\": \"Indonesian\", \"sample\": \"ff8fcb796b7fdc540dd567c144024f82\", \"target\": \"Indonesian\"}\n",
      "{\"choices\": [\"Czech\", \"Italian\", \"Portuguese\", \"Vietnamese\"], \"country\": \"CH\", \"date\": \"2013-09-02\", \"guess\": \"Italian\", \"sample\": \"b64869a674fbf588fa2ace46d717bed6\", \"target\": \"Italian\"}\n",
      "{\"choices\": [\"Finnish\", \"Korean\", \"Tamil\", \"Tongan\"], \"country\": \"CH\", \"date\": \"2013-09-02\", \"guess\": \"Finnish\", \"sample\": \"fba08911805472f37575d2cece186654\", \"target\": \"Tongan\"}\n",
      "{\"choices\": [\"Finnish\", \"Sinhalese\", \"Tagalog\", \"Tongan\"], \"country\": \"CH\", \"date\": \"2013-09-02\", \"guess\": \"Tagalog\", \"sample\": \"34df5eca0db3967da23f8a210337c9d6\", \"target\": \"Tagalog\"}\n",
      "{\"choices\": [\"Danish\", \"Farsi\", \"Hungarian\", \"Latvian\", \"Tagalog\"], \"country\": \"CH\", \"date\": \"2013-09-02\", \"guess\": \"Hungarian\", \"sample\": \"cb1a1c1c93ab6e802560855ca5f015f7\", \"target\": \"Hungarian\"}\n",
      "{\"choices\": [\"Danish\", \"Italian\", \"Japanese\", \"Malay\", \"Romanian\"], \"country\": \"CH\", \"date\": \"2013-09-02\", \"guess\": \"Romanian\", \"sample\": \"0b4ddbcac7e75c14f25fabeaff89a787\", \"target\": \"Romanian\"}\n",
      "{\"choices\": [\"Greek\", \"Hindi\", \"Italian\", \"Malay\", \"Slovenian\"], \"country\": \"CH\", \"date\": \"2013-09-02\", \"guess\": \"Italian\", \"sample\": \"b64869a674fbf588fa2ace46d717bed6\", \"target\": \"Italian\"}\n",
      "{\"choices\": [\"Bosnian\", \"Czech\", \"Finnish\", \"Hebrew\", \"Hungarian\", \"Spanish\"], \"country\": \"CH\", \"date\": \"2013-09-02\", \"guess\": \"Spanish\", \"sample\": \"c8f4f097079404bf9a0e94d604efd1d5\", \"target\": \"Spanish\"}\n",
      "{\"choices\": [\"Bulgarian\", \"Czech\", \"Farsi\", \"Malay\", \"Samoan\", \"Somali\"], \"country\": \"CH\", \"date\": \"2013-09-02\", \"guess\": \"Farsi\", \"sample\": \"610d45322ed5aa122cf9b4a79d603781\", \"target\": \"Malay\"}\n",
      "{\"choices\": [\"Arabic\", \"Assyrian\", \"Farsi\", \"Sinhalese\", \"Slovenian\", \"Thai\"], \"country\": \"CH\", \"date\": \"2013-09-02\", \"guess\": \"Slovenian\", \"sample\": \"f2f07eb5c50e64c627f66566b3c7cc4a\", \"target\": \"Slovenian\"}\n",
      "{\"choices\": [\"Amharic\", \"Danish\", \"Hungarian\", \"Kannada\", \"Serbian\", \"Ukrainian\"], \"country\": \"CH\", \"date\": \"2013-09-02\", \"guess\": \"Kannada\", \"sample\": \"c11a7723bd3fcd00e33e90c90a3492e5\", \"target\": \"Kannada\"}\n",
      "{\"choices\": [\"Cantonese\", \"Czech\", \"Korean\", \"Latvian\", \"Maltese\", \"Mandarin\", \"Vietnamese\"], \"country\": \"CH\", \"date\": \"2013-09-02\", \"guess\": \"Cantonese\", \"sample\": \"3aab36435babaea46064d7f173bb0ba3\", \"target\": \"Vietnamese\"}\n",
      "{\"choices\": [\"Burmese\", \"Dinka\"], \"country\": \"CH\", \"date\": \"2013-09-02\", \"guess\": \"Burmese\", \"sample\": \"cd3dffdb83f221e09710cbfbcaffdb31\", \"target\": \"Dinka\"}\n",
      "{\"choices\": [\"Hebrew\", \"Maori\"], \"country\": \"CH\", \"date\": \"2013-09-02\", \"guess\": \"Hebrew\", \"sample\": \"157085744728e35079622c71804cf722\", \"target\": \"Hebrew\"}\n",
      "{\"choices\": [\"Japanese\", \"Tagalog\"], \"country\": \"CH\", \"date\": \"2013-09-02\", \"guess\": \"Japanese\", \"sample\": \"bae93d7864edf7c70ca869113e45433c\", \"target\": \"Japanese\"}\n",
      "{\"choices\": [\"Czech\", \"Mandarin\"], \"country\": \"CH\", \"date\": \"2013-09-02\", \"guess\": \"Czech\", \"sample\": \"1787b5c79a00b3513ce76847bc1f5b75\", \"target\": \"Czech\"}\n",
      "{\"choices\": [\"Croatian\", \"Latvian\", \"Polish\"], \"country\": \"CH\", \"date\": \"2013-09-02\", \"guess\": \"Polish\", \"sample\": \"5e609abac81edbf76a58bc1d2a850f12\", \"target\": \"Latvian\"}\n",
      "{\"choices\": [\"Albanian\", \"Cantonese\", \"Thai\"], \"country\": \"CH\", \"date\": \"2013-09-02\", \"guess\": \"Cantonese\", \"sample\": \"203628f42619d301e642b3553b7a684a\", \"target\": \"Cantonese\"}\n",
      "{\"choices\": [\"Somali\", \"Swedish\", \"Yiddish\"], \"country\": \"CH\", \"date\": \"2013-09-02\", \"guess\": \"Somali\", \"sample\": \"ee5ffba9c5cf1d6a1e2d95b0220c06d4\", \"target\": \"Somali\"}\n",
      "{\"choices\": [\"Assyrian\", \"Nepali\", \"Samoan\"], \"country\": \"CH\", \"date\": \"2013-09-02\", \"guess\": \"Assyrian\", \"sample\": \"16ac545260ae198b7a3d882e06e5f261\", \"target\": \"Assyrian\"}\n",
      "{\"choices\": [\"Nepali\", \"Punjabi\", \"Tigrinya\", \"Vietnamese\"], \"country\": \"CH\", \"date\": \"2013-09-02\", \"guess\": \"Tigrinya\", \"sample\": \"d8a4ee3f4b430af016b2dc5902fccd75\", \"target\": \"Nepali\"}\n",
      "{\"choices\": [\"Bangla\", \"Burmese\", \"Kurdish\", \"Vietnamese\"], \"country\": \"CH\", \"date\": \"2013-09-02\", \"guess\": \"Kurdish\", \"sample\": \"f54dad4973f899ba8e9e26dcca58d625\", \"target\": \"Kurdish\"}\n",
      "{\"choices\": [\"Indonesian\", \"Malay\", \"Tongan\", \"Urdu\"], \"country\": \"CH\", \"date\": \"2013-09-02\", \"guess\": \"Malay\", \"sample\": \"fba08911805472f37575d2cece186654\", \"target\": \"Tongan\"}\n",
      "{\"choices\": [\"Albanian\", \"Russian\"], \"country\": \"CH\", \"date\": \"2013-09-02\", \"guess\": \"Russian\", \"sample\": \"ff5b5a0d34c77d2e2027dad7e4deb094\", \"target\": \"Russian\"}\n",
      "{\"choices\": [\"Greek\", \"Kurdish\"], \"country\": \"CH\", \"date\": \"2013-09-02\", \"guess\": \"Kurdish\", \"sample\": \"6c50f5972917a1ab11328233ef50db72\", \"target\": \"Kurdish\"}\n",
      "{\"choices\": [\"Hindi\", \"Portuguese\"], \"country\": \"CH\", \"date\": \"2013-09-02\", \"guess\": \"Hindi\", \"sample\": \"9dac641f173f2a225501e8e50fc4e66e\", \"target\": \"Hindi\"}\n",
      "{\"choices\": [\"Assyrian\", \"Italian\", \"Slovenian\"], \"country\": \"CH\", \"date\": \"2013-09-02\", \"guess\": \"Italian\", \"sample\": \"88f3e5120091cffdf8abeb92b5da90a2\", \"target\": \"Italian\"}\n",
      "{\"choices\": [\"Amharic\", \"Danish\", \"Tongan\"], \"country\": \"CH\", \"date\": \"2013-09-02\", \"guess\": \"Danish\", \"sample\": \"2ca0534b652c09262b71bced44b4afd7\", \"target\": \"Danish\"}\n",
      "{\"choices\": [\"Dinka\", \"Hungarian\", \"Macedonian\"], \"country\": \"CH\", \"date\": \"2013-09-02\", \"guess\": \"Dinka\", \"sample\": \"af5e8f27cef9e689a070b8814dcc02c3\", \"target\": \"Dinka\"}\n",
      "{\"choices\": [\"Kurdish\", \"Maltese\", \"Mandarin\", \"Swahili\"], \"country\": \"CH\", \"date\": \"2013-09-02\", \"guess\": \"Maltese\", \"sample\": \"36d2f4e9173e2d4cad8b8594310c856b\", \"target\": \"Maltese\"}\n",
      "{\"choices\": [\"German\", \"Lao\", \"Malayalam\", \"Swedish\"], \"country\": \"CH\", \"date\": \"2013-09-02\", \"guess\": \"Malayalam\", \"sample\": \"b5aa4ea31e44899dc4d58d4a35e05504\", \"target\": \"Lao\"}\n",
      "{\"choices\": [\"Bangla\", \"Estonian\", \"Turkish\", \"Vietnamese\"], \"country\": \"CH\", \"date\": \"2013-09-02\", \"guess\": \"Vietnamese\", \"sample\": \"3aab36435babaea46064d7f173bb0ba3\", \"target\": \"Vietnamese\"}\n",
      "{\"choices\": [\"Dutch\", \"Russian\", \"Swedish\", \"Turkish\"], \"country\": \"CH\", \"date\": \"2013-09-02\", \"guess\": \"Swedish\", \"sample\": \"dfe8192c1bbd80b44ea4409d9889dc90\", \"target\": \"Swedish\"}\n",
      "{\"choices\": [\"Assyrian\", \"Macedonian\", \"Malay\", \"Turkish\", \"Urdu\"], \"country\": \"CH\", \"date\": \"2013-09-02\", \"guess\": \"Turkish\", \"sample\": \"752c4c30d475748a342c68ebfba24d1e\", \"target\": \"Turkish\"}\n",
      "{\"choices\": [\"Bosnian\", \"Cantonese\", \"Hindi\", \"Maori\", \"Punjabi\"], \"country\": \"CH\", \"date\": \"2013-09-02\", \"guess\": \"Punjabi\", \"sample\": \"568bfed6715c43735f95faef578d7cd5\", \"target\": \"Hindi\"}\n",
      "{\"choices\": [\"Dutch\", \"Farsi\", \"Gujarati\", \"Khmer\", \"Yiddish\"], \"country\": \"CH\", \"date\": \"2013-09-02\", \"guess\": \"Gujarati\", \"sample\": \"56ecf19cff578aa76b81edb580ff343f\", \"target\": \"Gujarati\"}\n",
      "{\"choices\": [\"Bangla\", \"Hebrew\", \"Italian\", \"Mandarin\", \"Norwegian\"], \"country\": \"CH\", \"date\": \"2013-09-02\", \"guess\": \"Hebrew\", \"sample\": \"1dc9a1bf90e4e788906dc716dc18d878\", \"target\": \"Hebrew\"}\n",
      "{\"choices\": [\"Arabic\", \"Croatian\", \"Danish\", \"Dutch\", \"French\", \"Slovenian\"], \"country\": \"CH\", \"date\": \"2013-09-02\", \"guess\": \"Dutch\", \"sample\": \"65bf2aceadf2520f36a5e548a0471fcf\", \"target\": \"Dutch\"}\n",
      "{\"choices\": [\"Gujarati\", \"Macedonian\", \"Mandarin\", \"Swedish\", \"Tamil\", \"Urdu\"], \"country\": \"CH\", \"date\": \"2013-09-02\", \"guess\": \"Urdu\", \"sample\": \"16d80eee6659268a90460422dd2a2896\", \"target\": \"Gujarati\"}\n",
      "{\"choices\": [\"Macedonian\", \"Maori\"], \"country\": \"CH\", \"date\": \"2013-09-02\", \"guess\": \"Macedonian\", \"sample\": \"f2b6086f0918df15f3c6a457ce8cc8d4\", \"target\": \"Macedonian\"}\n",
      "{\"choices\": [\"Japanese\", \"Serbian\"], \"country\": \"CH\", \"date\": \"2013-09-02\", \"guess\": \"Serbian\", \"sample\": \"ec4d6dad1be487091ec2b1b63820e329\", \"target\": \"Serbian\"}\n",
      "{\"choices\": [\"Hungarian\", \"Serbian\"], \"country\": \"CH\", \"date\": \"2013-09-02\", \"guess\": \"Hungarian\", \"sample\": \"0d5b697ebb326b5043ce7fa60a7b968d\", \"target\": \"Serbian\"}\n",
      "{\"choices\": [\"Maltese\", \"Spanish\"], \"country\": \"CH\", \"date\": \"2013-09-02\", \"guess\": \"Maltese\", \"sample\": \"589feca2e2009ad2e63458f17568cd13\", \"target\": \"Maltese\"}\n",
      "{\"choices\": [\"Estonian\", \"Indonesian\", \"Tongan\"], \"country\": \"CH\", \"date\": \"2013-09-02\", \"guess\": \"Estonian\", \"sample\": \"b7e986bd3a0d5fd1db661e3bedf36111\", \"target\": \"Estonian\"}\n",
      "{\"choices\": [\"Gujarati\", \"Lao\", \"Serbian\"], \"country\": \"CH\", \"date\": \"2013-09-02\", \"guess\": \"Serbian\", \"sample\": \"ac81d9c1d39252811bf5d9fcfddc2231\", \"target\": \"Serbian\"}\n",
      "{\"choices\": [\"Amharic\", \"Polish\", \"Slovenian\"], \"country\": \"CH\", \"date\": \"2013-09-02\", \"guess\": \"Amharic\", \"sample\": \"5c6664317cc1cc256f11b722835396b7\", \"target\": \"Amharic\"}\n",
      "{\"choices\": [\"Armenian\", \"Latvian\", \"Swedish\", \"Vietnamese\"], \"country\": \"CH\", \"date\": \"2013-09-02\", \"guess\": \"Vietnamese\", \"sample\": \"3aab36435babaea46064d7f173bb0ba3\", \"target\": \"Vietnamese\"}\n",
      "{\"choices\": [\"Assyrian\", \"Danish\", \"Dari\", \"Malayalam\"], \"country\": \"CH\", \"date\": \"2013-09-02\", \"guess\": \"Assyrian\", \"sample\": \"16ac545260ae198b7a3d882e06e5f261\", \"target\": \"Assyrian\"}\n",
      "{\"choices\": [\"Punjabi\", \"Romanian\", \"Serbian\", \"Slovenian\"], \"country\": \"CH\", \"date\": \"2013-09-02\", \"guess\": \"Romanian\", \"sample\": \"4a691f8bf52b406ccc65a95899de7bd2\", \"target\": \"Slovenian\"}\n",
      "{\"choices\": [\"Assyrian\", \"Danish\", \"Maori\", \"Punjabi\"], \"country\": \"CH\", \"date\": \"2013-09-02\", \"guess\": \"Maori\", \"sample\": \"90ae678a85eac78bc4b4f52809a7c09d\", \"target\": \"Maori\"}\n",
      "{\"choices\": [\"Czech\", \"Gujarati\", \"Punjabi\", \"Samoan\", \"Tigrinya\"], \"country\": \"CH\", \"date\": \"2013-09-02\", \"guess\": \"Samoan\", \"sample\": \"05c96880846c583b0dc6e5043eab938d\", \"target\": \"Tigrinya\"}\n",
      "{\"choices\": [\"Croatian\", \"Polish\"], \"country\": \"CH\", \"date\": \"2013-09-02\", \"guess\": \"Polish\", \"sample\": \"f1aac78bec424c4d6c716553719b0b70\", \"target\": \"Polish\"}\n",
      "{\"choices\": [\"Gujarati\", \"Slovak\"], \"country\": \"CH\", \"date\": \"2013-09-03\", \"guess\": \"Slovak\", \"sample\": \"78fbc62aeae4bc4188d2d6a64805d6df\", \"target\": \"Slovak\"}\n",
      "{\"choices\": [\"Fijian\", \"Maori\"], \"country\": \"CH\", \"date\": \"2013-09-03\", \"guess\": \"Maori\", \"sample\": \"aaa12425808ac9d4ce184c453bfc0502\", \"target\": \"Fijian\"}\n",
      "{\"choices\": [\"Bulgarian\", \"Thai\"], \"country\": \"CH\", \"date\": \"2013-09-03\", \"guess\": \"Thai\", \"sample\": \"ec09e573de88d0ace4c1ddd9cb531e90\", \"target\": \"Thai\"}\n",
      "{\"choices\": [\"Bangla\", \"Vietnamese\"], \"country\": \"CH\", \"date\": \"2013-09-03\", \"guess\": \"Vietnamese\", \"sample\": \"a3c1b5cff1d3a77feae50573b7d81881\", \"target\": \"Vietnamese\"}\n",
      "{\"choices\": [\"Estonian\", \"Punjabi\"], \"country\": \"CH\", \"date\": \"2013-09-03\", \"guess\": \"Estonian\", \"sample\": \"10ff356faf50696b30f8a58b9dd919b2\", \"target\": \"Punjabi\"}\n",
      "{\"choices\": [\"Italian\", \"Tagalog\"], \"country\": \"CH\", \"date\": \"2013-09-03\", \"guess\": \"Italian\", \"sample\": \"b64869a674fbf588fa2ace46d717bed6\", \"target\": \"Italian\"}\n",
      "{\"choices\": [\"Polish\", \"Somali\"], \"country\": \"CH\", \"date\": \"2013-09-03\", \"guess\": \"Polish\", \"sample\": \"2268bc4db45078e37d0fd1b2c53eb9c9\", \"target\": \"Polish\"}\n",
      "{\"choices\": [\"Arabic\", \"Dinka\"], \"country\": \"CH\", \"date\": \"2013-09-03\", \"guess\": \"Arabic\", \"sample\": \"8903e496bf04c3a85a70e1dc5e0da5f1\", \"target\": \"Arabic\"}\n",
      "{\"choices\": [\"Greek\", \"Punjabi\", \"Tigrinya\"], \"country\": \"CH\", \"date\": \"2013-09-03\", \"guess\": \"Punjabi\", \"sample\": \"d14f8f8b6933e7d9d68104ec7860db77\", \"target\": \"Punjabi\"}\n",
      "{\"choices\": [\"Bosnian\", \"Dinka\", \"Maltese\"], \"country\": \"CH\", \"date\": \"2013-09-03\", \"guess\": \"Maltese\", \"sample\": \"e36a808605adbe2dbdca9c76e5cbfe7c\", \"target\": \"Bosnian\"}\n",
      "{\"choices\": [\"French\", \"Malay\", \"Serbian\"], \"country\": \"CH\", \"date\": \"2013-09-03\", \"guess\": \"Serbian\", \"sample\": \"ec4d6dad1be487091ec2b1b63820e329\", \"target\": \"Serbian\"}\n",
      "{\"choices\": [\"Korean\", \"Romanian\", \"Vietnamese\"], \"country\": \"CH\", \"date\": \"2013-09-03\", \"guess\": \"Vietnamese\", \"sample\": \"ec371adb75ab6c7431adae3ef8fc9fc9\", \"target\": \"Korean\"}\n",
      "{\"choices\": [\"Tongan\", \"Vietnamese\"], \"country\": \"CH\", \"date\": \"2013-09-03\", \"guess\": \"Tongan\", \"sample\": \"a3c1b5cff1d3a77feae50573b7d81881\", \"target\": \"Vietnamese\"}\n",
      "{\"choices\": [\"Hebrew\", \"Mandarin\"], \"country\": \"CH\", \"date\": \"2013-09-03\", \"guess\": \"Hebrew\", \"sample\": \"1dc9a1bf90e4e788906dc716dc18d878\", \"target\": \"Hebrew\"}\n",
      "{\"choices\": [\"Mandarin\", \"Norwegian\"], \"country\": \"CH\", \"date\": \"2013-09-03\", \"guess\": \"Norwegian\", \"sample\": \"4383d59a89ffd10b8e86d93233e01b5f\", \"target\": \"Norwegian\"}\n",
      "{\"choices\": [\"Albanian\", \"Bulgarian\"], \"country\": \"CH\", \"date\": \"2013-09-03\", \"guess\": \"Albanian\", \"sample\": \"8102c4494405873dd7b8258a97396351\", \"target\": \"Bulgarian\"}\n",
      "{\"choices\": [\"Dari\", \"German\"], \"country\": \"CH\", \"date\": \"2013-09-03\", \"guess\": \"German\", \"sample\": \"e77d97b712adffc39e531e20237a5589\", \"target\": \"German\"}\n",
      "{\"choices\": [\"Danish\", \"Latvian\", \"Urdu\"], \"country\": \"CH\", \"date\": \"2013-09-03\", \"guess\": \"Danish\", \"sample\": \"2ca0534b652c09262b71bced44b4afd7\", \"target\": \"Danish\"}\n",
      "{\"choices\": [\"Dinka\", \"Mandarin\", \"Serbian\"], \"country\": \"CH\", \"date\": \"2013-09-03\", \"guess\": \"Serbian\", \"sample\": \"ec4d6dad1be487091ec2b1b63820e329\", \"target\": \"Serbian\"}\n",
      "{\"choices\": [\"Italian\", \"Portuguese\", \"Slovak\"], \"country\": \"CH\", \"date\": \"2013-09-03\", \"guess\": \"Slovak\", \"sample\": \"1d7fea3522c8607f5ec4168b2a5cd206\", \"target\": \"Portuguese\"}\n",
      "{\"choices\": [\"Russian\", \"Swahili\"], \"country\": \"CH\", \"date\": \"2013-09-03\", \"guess\": \"Russian\", \"sample\": \"8a59d48e99e8a1df7e366c4648095e27\", \"target\": \"Russian\"}\n",
      "{\"choices\": [\"Malay\", \"Slovak\"], \"country\": \"CH\", \"date\": \"2013-09-03\", \"guess\": \"Slovak\", \"sample\": \"78fbc62aeae4bc4188d2d6a64805d6df\", \"target\": \"Slovak\"}\n",
      "{\"choices\": [\"Hebrew\", \"Tamil\"], \"country\": \"CH\", \"date\": \"2013-09-03\", \"guess\": \"Tamil\", \"sample\": \"7c3fca32ce40e9b07e7b69a7d7191d4d\", \"target\": \"Tamil\"}\n",
      "{\"choices\": [\"Maori\", \"Russian\", \"Slovak\"], \"country\": \"CH\", \"date\": \"2013-09-03\", \"guess\": \"Slovak\", \"sample\": \"2c5efbd7364036976ec403a9ee36f614\", \"target\": \"Slovak\"}\n",
      "{\"choices\": [\"Dinka\", \"Polish\", \"Russian\"], \"country\": \"CH\", \"date\": \"2013-09-03\", \"guess\": \"Polish\", \"sample\": \"f1aac78bec424c4d6c716553719b0b70\", \"target\": \"Polish\"}\n",
      "{\"choices\": [\"Hebrew\", \"Nepali\", \"Slovak\"], \"country\": \"CH\", \"date\": \"2013-09-03\", \"guess\": \"Hebrew\", \"sample\": \"1dc9a1bf90e4e788906dc716dc18d878\", \"target\": \"Hebrew\"}\n",
      "{\"choices\": [\"Dinka\", \"Farsi\", \"Portuguese\", \"Urdu\"], \"country\": \"CH\", \"date\": \"2013-09-03\", \"guess\": \"Farsi\", \"sample\": \"439672210d1feb96e012590ff2a73590\", \"target\": \"Portuguese\"}\n",
      "{\"choices\": [\"Bulgarian\", \"Punjabi\", \"Tagalog\"], \"country\": \"CH\", \"date\": \"2013-09-03\", \"guess\": \"Tagalog\", \"sample\": \"10ff356faf50696b30f8a58b9dd919b2\", \"target\": \"Punjabi\"}\n"
     ]
    }
   ],
   "source": [
    "%%jsoniq\n",
    "let $newDataset := for $i in json-file(\"confusion-100000.json\", 10) \n",
    "                    group by $d := $i.date\n",
    "                    return {\"date\": $d, \"info\": [$i]}\n",
    "for $j in $newDataset.info[]\n",
    "where $j.country eq \"CH\"\n",
    "return $j"
   ]
  },
  {
   "cell_type": "markdown",
   "metadata": {
    "id": "ycJZrdkO5pyO"
   },
   "source": [
    "Try another one: get the count of games played in Switzerland:"
   ]
  },
  {
   "cell_type": "code",
   "execution_count": 72,
   "metadata": {
    "id": "qIAT1Yat5z_D"
   },
   "outputs": [
    {
     "name": "stdout",
     "output_type": "stream",
     "text": [
      "Took: 1.2680590152740479 ms\n",
      "308\n"
     ]
    }
   ],
   "source": [
    "%%jsoniq\n",
    "count(\n",
    "  let $newDataset := for $i in json-file(\"confusion-100000.json\", 10) \n",
    "                    group by $d := $i.date\n",
    "                    return {\"date\": $d, \"info\": [$i]}\n",
    "  for $j in $newDataset.info[]\n",
    "  where $j.country eq \"CH\"\n",
    "  return $j\n",
    ")"
   ]
  },
  {
   "cell_type": "markdown",
   "metadata": {
    "id": "R_kRoeKA6Bja"
   },
   "source": [
    "Feel free to try out more questions on your own!"
   ]
  },
  {
   "cell_type": "markdown",
   "metadata": {
    "id": "hPc8di4W6ICv"
   },
   "source": [
    "## 5.2 Git-archive dataset\n",
    "Now let's get into the mess of the real world. We are going to explore the git-archive dataset to handle some properly messy data, which is very challenging if you use Spark. \n",
    "\n",
    "For getting the dataset, just run:\n",
    "```\n",
    "wget https://polybox.ethz.ch/index.php/s/HVWlvJAXVkQ05cw/download -O git-archive.json\n",
    "```\n",
    "or use curl as done for the great game language dataset.\n",
    "\n",
    "Have a look at what the dataset looks like:"
   ]
  },
  {
   "cell_type": "code",
   "execution_count": 73,
   "metadata": {
    "id": "Y2AvFbjR7FAR"
   },
   "outputs": [
    {
     "name": "stdout",
     "output_type": "stream",
     "text": [
      "Took: 0.15790700912475586 ms\n",
      "{\"id\": \"7045118886\", \"type\": \"PushEvent\", \"actor\": {\"id\": 20090775, \"login\": \"lainrose\", \"display_login\": \"lainrose\", \"gravatar_id\": \"\", \"url\": \"https://api.github.com/users/lainrose\", \"avatar_url\": \"https://avatars.githubusercontent.com/u/20090775?\"}, \"repo\": {\"id\": 115387592, \"name\": \"lainrose/Python-Grammar\", \"url\": \"https://api.github.com/repos/lainrose/Python-Grammar\"}, \"payload\": {\"push_id\": 2226161589, \"size\": 1, \"distinct_size\": 1, \"ref\": \"refs/heads/master\", \"head\": \"27a01fbdbec8e26daa40fc8faa052dd0be23836a\", \"before\": \"d6fce97b8de28a31d021c9a9f7ac939baa14d208\", \"commits\": [{\"sha\": \"27a01fbdbec8e26daa40fc8faa052dd0be23836a\", \"author\": {\"name\": \"lainrose\", \"email\": \"fb4676bf30682e2ece361fd363a69ad11779c42e@Naver.com\"}, \"message\": \"Update Study Contents\", \"distinct\": true, \"url\": \"https://api.github.com/repos/lainrose/Python-Grammar/commits/27a01fbdbec8e26daa40fc8faa052dd0be23836a\"}]}, \"public\": true, \"created_at\": \"2018-01-01T15:00:00Z\"}\n"
     ]
    }
   ],
   "source": [
    "%%jsoniq\n",
    "for $i in json-file(\"git-archive.json\", 10)\n",
    "count $c\n",
    "where $c <= 1\n",
    "return $i"
   ]
  },
  {
   "cell_type": "markdown",
   "metadata": {
    "id": "pAePhGBk7WFT"
   },
   "source": [
    "What a mess, isn't it? Anyway, let's try to write some challenging queries, since you've already mastered those easy ones with the language game dataset...\n",
    "\n",
    "1. What is the number of distinct author names that are part of a push event (i.e., an event with the type PushEvent)?"
   ]
  },
  {
   "cell_type": "code",
   "execution_count": 74,
   "metadata": {
    "id": "SkpuLT5GnxG4"
   },
   "outputs": [
    {
     "name": "stdout",
     "output_type": "stream",
     "text": [
      "Took: 2.363952875137329 ms\n",
      "10134\n"
     ]
    }
   ],
   "source": [
    "%%jsoniq\n",
    "let $seq := for $e in json-file(\"git-archive.json\", 10)\n",
    "where $e.\"type\" eq \"PushEvent\"\n",
    "return $e.payload.commits[].author.name\n",
    "return count(distinct-values($seq))"
   ]
  },
  {
   "cell_type": "markdown",
   "metadata": {
    "id": "WtxTZtFNn9qQ"
   },
   "source": [
    "2. What is the name of the repository with the highest number of push events (i.e., events with the type PushEvent), and how many of these push events occurred in this repository?"
   ]
  },
  {
   "cell_type": "code",
   "execution_count": 75,
   "metadata": {
    "id": "WPZIL-XwoQvO"
   },
   "outputs": [
    {
     "name": "stdout",
     "output_type": "stream",
     "text": [
      "Took: 3.2220840454101562 ms\n",
      "{\"name\": \"shenzhouzd/update\", \"push events received\": 190}\n"
     ]
    }
   ],
   "source": [
    "%%jsoniq\n",
    "for $e in json-file(\"git-archive.json\", 10)\n",
    "where $e.\"type\" eq \"PushEvent\"\n",
    "group by $d := $e.repo.name\n",
    "order by count($e) descending\n",
    "count $c\n",
    "where $c <= 1\n",
    "return {\"name\": $d, \"push events received\": count($e)}"
   ]
  },
  {
   "cell_type": "markdown",
   "metadata": {},
   "source": [
    "## BONUS: Machine Learning in Rumble"
   ]
  },
  {
   "cell_type": "markdown",
   "metadata": {},
   "source": [
    "Not only RumbleDB allows to build the entire data pipeline by querying large messy datasets and clean, structure, normoalize and validate them but now also supports feeding the data into machine learning models to build an all-in-one solution. RumbleDB uses Spark to distribute computations accross a cluster, and for ML it is also based on the SparkML library (https://spark.apache.org/docs/latest/ml-guide.html). Here is a simple example to clusterize data points based on a KMeans model.\n",
    "\n",
    "In the following example we declare a user defined type col-1-2 with an id and two decimal columns. We then write our data in a variable local-data, which we validate against our defined type and then forward the data to a transformer. Finally, we instantiate a K-means estimator to train our data on it."
   ]
  },
  {
   "cell_type": "code",
   "execution_count": 2,
   "metadata": {},
   "outputs": [
    {
     "name": "stdout",
     "output_type": "stream",
     "text": [
      "Took: 0.6516067981719971 ms\n",
      "{\"id\": 0, \"col1\": 0, \"col2\": 3, \"features\": [0, 3], \"prediction\": 0}\n",
      "{\"id\": 1, \"col1\": 2.1, \"col2\": 0.1, \"features\": [2.1, 0.1], \"prediction\": 0}\n",
      "{\"id\": 2, \"col1\": 0.2, \"col2\": 0.2, \"features\": [0.2, 0.2], \"prediction\": 0}\n",
      "{\"id\": 3, \"col1\": 6, \"col2\": 9, \"features\": [6, 9], \"prediction\": 1}\n",
      "{\"id\": 4, \"col1\": 5.1, \"col2\": 9.1, \"features\": [5.1, 9.1], \"prediction\": 1}\n",
      "{\"id\": 5, \"col1\": 9.2, \"col2\": 9.2, \"features\": [9.2, 9.2], \"prediction\": 1}\n"
     ]
    }
   ],
   "source": [
    "%%jsoniq\n",
    "declare type local:col-1-2 as {\n",
    "  \"id\": \"integer\",\n",
    "  \"col1\": \"decimal\",\n",
    "  \"col2\": \"decimal\"\n",
    "};\n",
    "\n",
    "let $vector-assembler := get-transformer(\"VectorAssembler\")(\n",
    "  ?,\n",
    "  { \"inputCols\" : [ \"col1\", \"col2\" ], \"outputCol\" : \"features\" }\n",
    ")\n",
    "\n",
    "let $local-data := (\n",
    "    {\"id\": 0, \"col1\": 0.0, \"col2\": 3.0},\n",
    "    {\"id\": 1, \"col1\": 2.1, \"col2\": 0.1},\n",
    "    {\"id\": 2, \"col1\": 0.2, \"col2\": 0.2},\n",
    "    {\"id\": 3, \"col1\": 6.0, \"col2\": 9.0},\n",
    "    {\"id\": 4, \"col1\": 5.1, \"col2\": 9.1},\n",
    "    {\"id\": 5, \"col1\": 9.2, \"col2\": 9.2}\n",
    ")\n",
    "let $df-data := validate type local:col-1-2* {$local-data }\n",
    "let $df-data := $vector-assembler($df-data)\n",
    "\n",
    "let $est := get-estimator(\"KMeans\")\n",
    "let $tra := $est(\n",
    "    $df-data,\n",
    "    {\"featuresCol\": \"features\"}\n",
    ")\n",
    "\n",
    "for $i in $tra(\n",
    "    $df-data,\n",
    "    {\"featuresCol\": \"features\"}\n",
    ")\n",
    "return $i"
   ]
  },
  {
   "cell_type": "markdown",
   "metadata": {},
   "source": [
    "### Visualize the output"
   ]
  },
  {
   "cell_type": "markdown",
   "metadata": {},
   "source": [
    "Install `pandas` and `matplotlib` if you haven't:\n",
    "`pip install pandas matplotlib`"
   ]
  },
  {
   "cell_type": "code",
   "execution_count": 5,
   "metadata": {},
   "outputs": [
    {
     "name": "stdout",
     "output_type": "stream",
     "text": [
      "   id  col1  col2  prediction\n",
      "0   0   0.0   3.0           0\n",
      "1   1   2.1   0.1           0\n",
      "2   2   0.2   0.2           0\n",
      "3   3   6.0   9.0           1\n",
      "4   4   5.1   9.1           1\n",
      "5   5   9.2   9.2           1\n"
     ]
    },
    {
     "data": {
      "image/png": "[encoded data removed]",
      "text/plain": [
       "<Figure size 432x288 with 2 Axes>"
      ]
     },
     "metadata": {
      "needs_background": "light"
     },
     "output_type": "display_data"
    }
   ],
   "source": [
    "import pandas as pd\n",
    "\n",
    "d = [{\"id\": 0, \"col1\": 0.0, \"col2\": 3.0, \"prediction\": 0},\n",
    "    {\"id\": 1, \"col1\": 2.1, \"col2\": 0.1, \"prediction\": 0},\n",
    "    {\"id\": 2, \"col1\": 0.2, \"col2\": 0.2, \"prediction\": 0},\n",
    "    {\"id\": 3, \"col1\": 6.0, \"col2\": 9.0, \"prediction\": 1},\n",
    "    {\"id\": 4, \"col1\": 5.1, \"col2\": 9.1, \"prediction\": 1},\n",
    "    {\"id\": 5, \"col1\": 9.2, \"col2\": 9.2, \"prediction\": 1}]\n",
    "\n",
    "df = pd.DataFrame(d)\n",
    "print (df)\n",
    "\n",
    "ax1 = df.plot.scatter(x='col1',\n",
    "                      y='col2',\n",
    "                      c='prediction', cmap='winter')"
   ]
  },
  {
   "cell_type": "code",
   "execution_count": null,
   "metadata": {},
   "outputs": [],
   "source": []
  }
 ],
 "metadata": {
  "colab": {
   "collapsed_sections": [
    "Uy48JTprhrKW",
    "eELMD0pqhrKW",
    "3Pcf7FL7Aetl",
    "OG0xJS2KHEF3",
    "jQycXJuCHHJW",
    "3ivTnfw5HMZz",
    "sKmgYw_jHPZ3",
    "IAjnh_H2HUa1",
    "yVvQBpVxHWuz",
    "XW8fQM8WHYt7",
    "PE_9pQzhAOyo"
   ],
   "name": "Exercise12_Rumble_Solutions.ipynb",
   "provenance": [],
   "toc_visible": true
  },
  "kernelspec": {
   "display_name": "Python 3",
   "language": "python",
   "name": "python3"
  },
  "language_info": {
   "codemirror_mode": {
    "name": "ipython",
    "version": 3
   },
   "file_extension": ".py",
   "mimetype": "text/x-python",
   "name": "python",
   "nbconvert_exporter": "python",
   "pygments_lexer": "ipython3",
   "version": "3.8.8"
  },
  "toc": {
   "base_numbering": 1,
   "nav_menu": {},
   "number_sections": true,
   "sideBar": true,
   "skip_h1_title": false,
   "title_cell": "Table of Contents",
   "title_sidebar": "Contents",
   "toc_cell": false,
   "toc_position": {},
   "toc_section_display": true,
   "toc_window_display": false
  }
 },
 "nbformat": 4,
 "nbformat_minor": 1
}
