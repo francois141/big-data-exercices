{
 "cells": [
  {
   "cell_type": "markdown",
   "metadata": {
    "id": "Zo6cemRekqqm"
   },
   "source": [
    "# Big Data for Engineers – Moodle\n",
    "\n",
    "# Spring 2023 -  Week 11 - Rumble\n",
    "\n"
   ]
  },
  {
   "cell_type": "markdown",
   "metadata": {
    "id": "FgAZKWlwkvrk"
   },
   "source": [
    "# Preparation for the moodle exercise in Spark\n"
   ]
  },
  {
   "cell_type": "markdown",
   "metadata": {},
   "source": [
    "## 1. Install Java and Download Rumble\n",
    "Please follow the instructions in Exercise11_Rumble_2023.ipynb."
   ]
  },
  {
   "cell_type": "markdown",
   "metadata": {},
   "source": [
    "## 2. Setup Working Environment\n",
    "1. Go to the folder where this notebook is in: `cd [path to the folder]`\n",
    "2. Start your jupyter notebook: `jupyter notebook`\n",
    "3. Start your own Rumble server: `java -jar rumbledb-1.21.0-standalone.jar --server yes --port 9090`\n",
    "4. Execute the cell below:"
   ]
  },
  {
   "cell_type": "code",
   "execution_count": null,
   "metadata": {},
   "outputs": [],
   "source": [
    "!pip install rumbledb\n",
    "%load_ext rumbledb\n",
    "%env RUMBLEDB_SERVER=http://localhost:9090/jsoniq"
   ]
  },
  {
   "cell_type": "markdown",
   "metadata": {},
   "source": [
    "Verify that jsoniq works."
   ]
  },
  {
   "cell_type": "code",
   "execution_count": null,
   "metadata": {
    "id": "C6lJq6kJ2HoB"
   },
   "outputs": [],
   "source": [
    "%%jsoniq\n",
    "1+1"
   ]
  },
  {
   "cell_type": "markdown",
   "metadata": {
    "cell_status": {
     "execute_time": {
      "duration": 44.55712890625,
      "end_time": 1557044256642.663
     }
    },
    "collapsed": true,
    "id": "YzHCdZ2Ld-kt"
   },
   "source": [
    "## 3. Prepare the Data: The Great Language Game\n",
    "\n",
    "This week you will be using again the [language confusion dataset](https://quietlyamused.org/blog/2014/03/12/language-confusion/). Make sure you use the correct dataset.\n",
    "### Please use the first 80k records of the \"confusion-100000.json\" dataset\n",
    "We can obtain the first 80k records like this: `subsequence(json-file(\"confusion-100000.json\", 10), 1, 80000)`"
   ]
  },
  {
   "cell_type": "code",
   "execution_count": null,
   "metadata": {},
   "outputs": [],
   "source": [
    "%%jsoniq\n",
    "count(subsequence(json-file(\"confusion-100000.json\", 10), 1, 80000))"
   ]
  },
  {
   "cell_type": "markdown",
   "metadata": {},
   "source": [
    "## 4. Instructions\n",
    "You should write __JSONiq__ queries only. \\\n",
    "For each quation, you have to submit the following results to the Moodle quiz:\n",
    "- The query you wrote\n",
    "- The query output __in the required format__ (which you will be graded on)\n",
    "- The time it took you to run it (optional and not graded)\n",
    "\n",
    "The execution time of the queries will be reported by Rumble."
   ]
  },
  {
   "cell_type": "markdown",
   "metadata": {},
   "source": [
    "# Questions"
   ]
  },
  {
   "cell_type": "markdown",
   "metadata": {},
   "source": [
    "## Assignment 1\n",
    "Find all games such that the guessed language is correct (=target), and such that this language is Spanish. What is the length of the resulting sequence?"
   ]
  },
  {
   "cell_type": "code",
   "execution_count": null,
   "metadata": {},
   "outputs": [],
   "source": [
    "%%jsoniq\n"
   ]
  },
  {
   "cell_type": "markdown",
   "metadata": {},
   "source": [
    "## Assignment 2\n",
    "Find the number of all distinct values of the guessed languages (i.e. the guess field). What is the length of the resulting sequence?"
   ]
  },
  {
   "cell_type": "code",
   "execution_count": null,
   "metadata": {},
   "outputs": [],
   "source": [
    "%%jsoniq\n"
   ]
  },
  {
   "cell_type": "markdown",
   "metadata": {},
   "source": [
    "## Assignment 3\n",
    "Return the top three games where the guessed language is incorrect ($\\neq$ target) ordered by country (ascending), then target language (ascending), then date (ascending). What is the sample id of the 3rd item in the list?\n",
    "\n",
    "Enter it without quotes, for example 48f9c924e0d98c959d8a6f1862b3ce9a"
   ]
  },
  {
   "cell_type": "code",
   "execution_count": null,
   "metadata": {},
   "outputs": [],
   "source": [
    "%%jsoniq\n"
   ]
  },
  {
   "cell_type": "markdown",
   "metadata": {},
   "source": [
    "## Assignment 4\n",
    "Aggregate all games by guessed and target language, counting the number of guessing games that were done for each pair (guess, target). How many times has Dutch been mistaken for Norwegian (i.e. Dutch was the true answer)?"
   ]
  },
  {
   "cell_type": "code",
   "execution_count": null,
   "metadata": {},
   "outputs": [],
   "source": [
    "%%jsoniq\n"
   ]
  },
  {
   "cell_type": "markdown",
   "metadata": {},
   "source": [
    "## Assignment 5\n",
    "Among all the games where the guess was correct (=target), what is the percentage of cases where the second choice (among the array of possible answers) was the target?\n",
    "\n",
    "Please write the fraction rounding to 4 decimals (eg. 0.3323)"
   ]
  },
  {
   "cell_type": "code",
   "execution_count": null,
   "metadata": {},
   "outputs": [],
   "source": [
    "%%jsoniq\n"
   ]
  },
  {
   "cell_type": "markdown",
   "metadata": {},
   "source": [
    "## Assignment 6\n",
    "For each target language, compute the percentage of successful guess games (i.e. guess == target) relative to all games for that target language, and display the pairs (target_language, percentage) in descending order of the percentage. What is the third language in this list?"
   ]
  },
  {
   "cell_type": "code",
   "execution_count": null,
   "metadata": {},
   "outputs": [],
   "source": [
    "%%jsoniq\n"
   ]
  },
  {
   "cell_type": "markdown",
   "metadata": {},
   "source": [
    "## Assignment 7\n",
    "How many games in France (country=FR) were played on the last day?"
   ]
  },
  {
   "cell_type": "code",
   "execution_count": null,
   "metadata": {},
   "outputs": [],
   "source": [
    "%%jsoniq\n"
   ]
  },
  {
   "cell_type": "code",
   "execution_count": null,
   "metadata": {},
   "outputs": [],
   "source": []
  }
 ],
 "metadata": {
  "colab": {
   "collapsed_sections": [
    "Uy48JTprhrKW",
    "eELMD0pqhrKW",
    "3Pcf7FL7Aetl",
    "OG0xJS2KHEF3",
    "jQycXJuCHHJW",
    "3ivTnfw5HMZz",
    "sKmgYw_jHPZ3",
    "IAjnh_H2HUa1",
    "yVvQBpVxHWuz",
    "XW8fQM8WHYt7",
    "PE_9pQzhAOyo"
   ],
   "name": "Exercise12_Rumble_Solutions.ipynb",
   "provenance": [],
   "toc_visible": true
  },
  "kernelspec": {
   "display_name": "Python 3",
   "language": "python",
   "name": "python3"
  },
  "language_info": {
   "codemirror_mode": {
    "name": "ipython",
    "version": 3
   },
   "file_extension": ".py",
   "mimetype": "text/x-python",
   "name": "python",
   "nbconvert_exporter": "python",
   "pygments_lexer": "ipython3",
   "version": "3.8.8"
  },
  "toc": {
   "base_numbering": 1,
   "nav_menu": {},
   "number_sections": true,
   "sideBar": true,
   "skip_h1_title": false,
   "title_cell": "Table of Contents",
   "title_sidebar": "Contents",
   "toc_cell": false,
   "toc_position": {},
   "toc_section_display": true,
   "toc_window_display": false
  }
 },
 "nbformat": 4,
 "nbformat_minor": 1
}
